{
 "cells": [
  {
   "cell_type": "markdown",
   "metadata": {},
   "source": [
    "# Weather Forecasting"
   ]
  },
  {
   "cell_type": "markdown",
   "metadata": {},
   "source": [
    "<img src=\"images/weather.jpg\">"
   ]
  },
  {
   "cell_type": "markdown",
   "metadata": {},
   "source": [
    "In this project, I will show how we can do Weather Forecasting with Machine Learning algorithm and compare some frameworks for further classification."
   ]
  },
  {
   "cell_type": "code",
   "execution_count": 1,
   "metadata": {},
   "outputs": [],
   "source": [
    "import numpy as np \n",
    "import pandas as pd \n",
    "\n",
    "import plotly.express as px \n",
    "import plotly.graph_objects as go\n",
    "from plotly.subplots import make_subplots\n",
    "from datetime import datetime # Time Series analysis.\n",
    "\n",
    "import warnings\n",
    "warnings.filterwarnings('ignore')\n",
    "\n",
    "pd.set_option('display.max_column', 100)"
   ]
  },
  {
   "cell_type": "code",
   "execution_count": 4,
   "metadata": {},
   "outputs": [],
   "source": [
    "df = pd.read_csv('data/weather.csv', index_col=0)"
   ]
  },
  {
   "cell_type": "code",
   "execution_count": 5,
   "metadata": {},
   "outputs": [
    {
     "data": {
      "text/html": [
       "<div>\n",
       "<style scoped>\n",
       "    .dataframe tbody tr th:only-of-type {\n",
       "        vertical-align: middle;\n",
       "    }\n",
       "\n",
       "    .dataframe tbody tr th {\n",
       "        vertical-align: top;\n",
       "    }\n",
       "\n",
       "    .dataframe thead th {\n",
       "        text-align: right;\n",
       "    }\n",
       "</style>\n",
       "<table border=\"1\" class=\"dataframe\">\n",
       "  <thead>\n",
       "    <tr style=\"text-align: right;\">\n",
       "      <th></th>\n",
       "      <th>YEAR</th>\n",
       "      <th>JAN</th>\n",
       "      <th>FEB</th>\n",
       "      <th>MAR</th>\n",
       "      <th>APR</th>\n",
       "      <th>MAY</th>\n",
       "      <th>JUN</th>\n",
       "      <th>JUL</th>\n",
       "      <th>AUG</th>\n",
       "      <th>SEP</th>\n",
       "      <th>OCT</th>\n",
       "      <th>NOV</th>\n",
       "      <th>DEC</th>\n",
       "    </tr>\n",
       "  </thead>\n",
       "  <tbody>\n",
       "    <tr>\n",
       "      <th>0</th>\n",
       "      <td>1901</td>\n",
       "      <td>17.99</td>\n",
       "      <td>19.43</td>\n",
       "      <td>23.49</td>\n",
       "      <td>26.41</td>\n",
       "      <td>28.28</td>\n",
       "      <td>28.60</td>\n",
       "      <td>27.49</td>\n",
       "      <td>26.98</td>\n",
       "      <td>26.26</td>\n",
       "      <td>25.08</td>\n",
       "      <td>21.73</td>\n",
       "      <td>18.95</td>\n",
       "    </tr>\n",
       "    <tr>\n",
       "      <th>1</th>\n",
       "      <td>1902</td>\n",
       "      <td>19.00</td>\n",
       "      <td>20.39</td>\n",
       "      <td>24.10</td>\n",
       "      <td>26.54</td>\n",
       "      <td>28.68</td>\n",
       "      <td>28.44</td>\n",
       "      <td>27.29</td>\n",
       "      <td>27.05</td>\n",
       "      <td>25.95</td>\n",
       "      <td>24.37</td>\n",
       "      <td>21.33</td>\n",
       "      <td>18.78</td>\n",
       "    </tr>\n",
       "    <tr>\n",
       "      <th>2</th>\n",
       "      <td>1903</td>\n",
       "      <td>18.32</td>\n",
       "      <td>19.79</td>\n",
       "      <td>22.46</td>\n",
       "      <td>26.03</td>\n",
       "      <td>27.93</td>\n",
       "      <td>28.41</td>\n",
       "      <td>28.04</td>\n",
       "      <td>26.63</td>\n",
       "      <td>26.34</td>\n",
       "      <td>24.57</td>\n",
       "      <td>20.96</td>\n",
       "      <td>18.29</td>\n",
       "    </tr>\n",
       "    <tr>\n",
       "      <th>3</th>\n",
       "      <td>1904</td>\n",
       "      <td>17.77</td>\n",
       "      <td>19.39</td>\n",
       "      <td>22.95</td>\n",
       "      <td>26.73</td>\n",
       "      <td>27.83</td>\n",
       "      <td>27.85</td>\n",
       "      <td>26.84</td>\n",
       "      <td>26.73</td>\n",
       "      <td>25.84</td>\n",
       "      <td>24.36</td>\n",
       "      <td>21.07</td>\n",
       "      <td>18.84</td>\n",
       "    </tr>\n",
       "    <tr>\n",
       "      <th>4</th>\n",
       "      <td>1905</td>\n",
       "      <td>17.40</td>\n",
       "      <td>17.79</td>\n",
       "      <td>21.78</td>\n",
       "      <td>24.84</td>\n",
       "      <td>28.32</td>\n",
       "      <td>28.69</td>\n",
       "      <td>27.67</td>\n",
       "      <td>27.47</td>\n",
       "      <td>26.29</td>\n",
       "      <td>26.16</td>\n",
       "      <td>22.07</td>\n",
       "      <td>18.71</td>\n",
       "    </tr>\n",
       "  </tbody>\n",
       "</table>\n",
       "</div>"
      ],
      "text/plain": [
       "   YEAR    JAN    FEB    MAR    APR    MAY    JUN    JUL    AUG    SEP    OCT  \\\n",
       "0  1901  17.99  19.43  23.49  26.41  28.28  28.60  27.49  26.98  26.26  25.08   \n",
       "1  1902  19.00  20.39  24.10  26.54  28.68  28.44  27.29  27.05  25.95  24.37   \n",
       "2  1903  18.32  19.79  22.46  26.03  27.93  28.41  28.04  26.63  26.34  24.57   \n",
       "3  1904  17.77  19.39  22.95  26.73  27.83  27.85  26.84  26.73  25.84  24.36   \n",
       "4  1905  17.40  17.79  21.78  24.84  28.32  28.69  27.67  27.47  26.29  26.16   \n",
       "\n",
       "     NOV    DEC  \n",
       "0  21.73  18.95  \n",
       "1  21.33  18.78  \n",
       "2  20.96  18.29  \n",
       "3  21.07  18.84  \n",
       "4  22.07  18.71  "
      ]
     },
     "execution_count": 5,
     "metadata": {},
     "output_type": "execute_result"
    }
   ],
   "source": [
    "df.head()"
   ]
  },
  {
   "cell_type": "code",
   "execution_count": 6,
   "metadata": {},
   "outputs": [
    {
     "data": {
      "text/html": [
       "<div>\n",
       "<style scoped>\n",
       "    .dataframe tbody tr th:only-of-type {\n",
       "        vertical-align: middle;\n",
       "    }\n",
       "\n",
       "    .dataframe tbody tr th {\n",
       "        vertical-align: top;\n",
       "    }\n",
       "\n",
       "    .dataframe thead th {\n",
       "        text-align: right;\n",
       "    }\n",
       "</style>\n",
       "<table border=\"1\" class=\"dataframe\">\n",
       "  <thead>\n",
       "    <tr style=\"text-align: right;\">\n",
       "      <th></th>\n",
       "      <th>YEAR</th>\n",
       "      <th>variable</th>\n",
       "      <th>value</th>\n",
       "    </tr>\n",
       "  </thead>\n",
       "  <tbody>\n",
       "    <tr>\n",
       "      <th>0</th>\n",
       "      <td>1901</td>\n",
       "      <td>JAN</td>\n",
       "      <td>17.99</td>\n",
       "    </tr>\n",
       "    <tr>\n",
       "      <th>1</th>\n",
       "      <td>1902</td>\n",
       "      <td>JAN</td>\n",
       "      <td>19.00</td>\n",
       "    </tr>\n",
       "    <tr>\n",
       "      <th>2</th>\n",
       "      <td>1903</td>\n",
       "      <td>JAN</td>\n",
       "      <td>18.32</td>\n",
       "    </tr>\n",
       "    <tr>\n",
       "      <th>3</th>\n",
       "      <td>1904</td>\n",
       "      <td>JAN</td>\n",
       "      <td>17.77</td>\n",
       "    </tr>\n",
       "    <tr>\n",
       "      <th>4</th>\n",
       "      <td>1905</td>\n",
       "      <td>JAN</td>\n",
       "      <td>17.40</td>\n",
       "    </tr>\n",
       "  </tbody>\n",
       "</table>\n",
       "</div>"
      ],
      "text/plain": [
       "   YEAR variable  value\n",
       "0  1901      JAN  17.99\n",
       "1  1902      JAN  19.00\n",
       "2  1903      JAN  18.32\n",
       "3  1904      JAN  17.77\n",
       "4  1905      JAN  17.40"
      ]
     },
     "execution_count": 6,
     "metadata": {},
     "output_type": "execute_result"
    }
   ],
   "source": [
    "df1 = pd.melt(df, id_vars='YEAR', value_vars=df.columns[1:]) ## This will melt the data\n",
    "df1.head() "
   ]
  },
  {
   "cell_type": "code",
   "execution_count": 7,
   "metadata": {},
   "outputs": [
    {
     "data": {
      "text/html": [
       "<div>\n",
       "<style scoped>\n",
       "    .dataframe tbody tr th:only-of-type {\n",
       "        vertical-align: middle;\n",
       "    }\n",
       "\n",
       "    .dataframe tbody tr th {\n",
       "        vertical-align: top;\n",
       "    }\n",
       "\n",
       "    .dataframe thead th {\n",
       "        text-align: right;\n",
       "    }\n",
       "</style>\n",
       "<table border=\"1\" class=\"dataframe\">\n",
       "  <thead>\n",
       "    <tr style=\"text-align: right;\">\n",
       "      <th></th>\n",
       "      <th>YEAR</th>\n",
       "      <th>variable</th>\n",
       "      <th>value</th>\n",
       "      <th>Date</th>\n",
       "    </tr>\n",
       "  </thead>\n",
       "  <tbody>\n",
       "    <tr>\n",
       "      <th>0</th>\n",
       "      <td>1901</td>\n",
       "      <td>JAN</td>\n",
       "      <td>17.99</td>\n",
       "      <td>1901-01-01</td>\n",
       "    </tr>\n",
       "    <tr>\n",
       "      <th>1</th>\n",
       "      <td>1902</td>\n",
       "      <td>JAN</td>\n",
       "      <td>19.00</td>\n",
       "      <td>1902-01-01</td>\n",
       "    </tr>\n",
       "    <tr>\n",
       "      <th>2</th>\n",
       "      <td>1903</td>\n",
       "      <td>JAN</td>\n",
       "      <td>18.32</td>\n",
       "      <td>1903-01-01</td>\n",
       "    </tr>\n",
       "    <tr>\n",
       "      <th>3</th>\n",
       "      <td>1904</td>\n",
       "      <td>JAN</td>\n",
       "      <td>17.77</td>\n",
       "      <td>1904-01-01</td>\n",
       "    </tr>\n",
       "    <tr>\n",
       "      <th>4</th>\n",
       "      <td>1905</td>\n",
       "      <td>JAN</td>\n",
       "      <td>17.40</td>\n",
       "      <td>1905-01-01</td>\n",
       "    </tr>\n",
       "  </tbody>\n",
       "</table>\n",
       "</div>"
      ],
      "text/plain": [
       "   YEAR variable  value       Date\n",
       "0  1901      JAN  17.99 1901-01-01\n",
       "1  1902      JAN  19.00 1902-01-01\n",
       "2  1903      JAN  18.32 1903-01-01\n",
       "3  1904      JAN  17.77 1904-01-01\n",
       "4  1905      JAN  17.40 1905-01-01"
      ]
     },
     "execution_count": 7,
     "metadata": {},
     "output_type": "execute_result"
    }
   ],
   "source": [
    "df1['Date'] = df1['variable'] + ' ' + df1['YEAR'].astype(str)  \n",
    "df1.loc[:,'Date'] = df1['Date'].apply(lambda x : datetime.strptime(x, '%b %Y')) ## Converting String to datetime object\n",
    "df1.head()"
   ]
  },
  {
   "cell_type": "code",
   "execution_count": 10,
   "metadata": {},
   "outputs": [],
   "source": [
    "# !pip install -U kaleido"
   ]
  },
  {
   "cell_type": "code",
   "execution_count": 12,
   "metadata": {},
   "outputs": [
    {
     "data": {
      "image/png": "[encoded data removed]"
     },
     "metadata": {},
     "output_type": "display_data"
    }
   ],
   "source": [
    "df1.columns=['Year', 'Month', 'Temprature', 'Date']\n",
    "df1.sort_values(by='Date', inplace=True) ## To get the time series right.\n",
    "fig = go.Figure(layout = go.Layout(yaxis=dict(range=[0, df1['Temprature'].max()+1])))\n",
    "fig.add_trace(go.Scatter(x=df1['Date'], y=df1['Temprature']), )\n",
    "fig.update_layout(title='Temprature Throught Timeline:',\n",
    "                 xaxis_title='Time', yaxis_title='Temprature in Degrees')\n",
    "fig.update_layout(xaxis=go.layout.XAxis(\n",
    "    rangeselector=dict(\n",
    "        buttons=list([dict(label=\"Whole View\", step=\"all\"),\n",
    "                      dict(count=1,label=\"One Year View\",step=\"year\",stepmode=\"todate\")                      \n",
    "                     ])),\n",
    "        rangeslider=dict(visible=True),type=\"date\")\n",
    ")\n",
    "fig.show('png')"
   ]
  },
  {
   "cell_type": "code",
   "execution_count": 13,
   "metadata": {},
   "outputs": [
    {
     "data": {
      "image/png": "[encoded data removed]"
     },
     "metadata": {},
     "output_type": "display_data"
    }
   ],
   "source": [
    "fig = px.box(df1, 'Month', 'Temprature')\n",
    "fig.update_layout(title='Warmest, Coldest and Median Monthly Tempratue.')\n",
    "fig.show('png')"
   ]
  },
  {
   "cell_type": "code",
   "execution_count": 14,
   "metadata": {},
   "outputs": [
    {
     "data": {
      "image/png": "[encoded data removed]"
     },
     "metadata": {},
     "output_type": "display_data"
    }
   ],
   "source": [
    "from sklearn.cluster import KMeans\n",
    "sse = []\n",
    "target = df1['Temprature'].to_numpy().reshape(-1,1)\n",
    "num_clusters = list(range(1, 10))\n",
    "\n",
    "for k in num_clusters:\n",
    "    km = KMeans(n_clusters=k)\n",
    "    km.fit(target)\n",
    "    sse.append(km.inertia_)\n",
    "\n",
    "fig = go.Figure(data=[\n",
    "    go.Scatter(x = num_clusters, y=sse, mode='lines'),\n",
    "    go.Scatter(x = num_clusters, y=sse, mode='markers')\n",
    "])\n",
    "\n",
    "fig.update_layout(title=\"Evaluation on number of clusters:\",\n",
    "                 xaxis_title = \"Number of Clusters:\",\n",
    "                 yaxis_title = \"Sum of Squared Distance\",\n",
    "                 showlegend=False)\n",
    "fig.show('png')"
   ]
  },
  {
   "cell_type": "code",
   "execution_count": 16,
   "metadata": {},
   "outputs": [
    {
     "data": {
      "image/png": "[encoded data removed]"
     },
     "metadata": {},
     "output_type": "display_data"
    }
   ],
   "source": [
    "km = KMeans(3)\n",
    "km.fit(df1['Temprature'].to_numpy().reshape(-1,1))\n",
    "df1.loc[:,'Temp Labels'] = km.labels_\n",
    "fig = px.scatter(df1, 'Date', 'Temprature', color='Temp Labels')\n",
    "fig.update_layout(title = \"Temprature clusters.\",\n",
    "                 xaxis_title=\"Date\", yaxis_title=\"Temprature\")\n",
    "fig.show('png')"
   ]
  },
  {
   "cell_type": "code",
   "execution_count": 17,
   "metadata": {},
   "outputs": [
    {
     "data": {
      "application/vnd.plotly.v1+json": {
       "config": {
        "plotlyServerURL": "https://plot.ly"
       },
       "data": [
        {
         "alignmentgroup": "True",
         "bingroup": "x",
         "histnorm": "density",
         "hovertemplate": "x=%{x}<br>density=%{y}<extra></extra>",
         "legendgroup": "",
         "marker": {
          "color": "#636efa",
          "pattern": {
           "shape": ""
          }
         },
         "name": "",
         "nbinsx": 200,
         "offsetgroup": "",
         "orientation": "v",
         "showlegend": false,
         "type": "histogram",
         "x": [
          17.99,
          19.43,
          23.49,
          26.41,
          28.28,
          28.6,
          27.49,
          26.98,
          26.26,
          25.08,
          21.73,
          18.95,
          19,
          20.39,
          24.1,
          26.54,
          28.68,
          28.44,
          27.29,
          27.05,
          25.95,
          24.37,
          21.33,
          18.78,
          18.32,
          19.79,
          22.46,
          26.03,
          27.93,
          28.41,
          28.04,
          26.63,
          26.34,
          24.57,
          20.96,
          18.29,
          17.77,
          19.39,
          22.95,
          26.73,
          27.83,
          27.85,
          26.84,
          26.73,
          25.84,
          24.36,
          21.07,
          18.84,
          17.4,
          17.79,
          21.78,
          24.84,
          28.32,
          28.69,
          27.67,
          27.47,
          26.29,
          26.16,
          22.07,
          18.71,
          17.5,
          19.14,
          22.21,
          26.53,
          29.06,
          28.02,
          27.46,
          26.82,
          26.23,
          24.75,
          21.93,
          19.55,
          19.27,
          19.42,
          22.03,
          26.98,
          27.52,
          27.66,
          27.28,
          26.38,
          26.26,
          24.72,
          22.11,
          18.46,
          18.35,
          19.73,
          22.93,
          27.06,
          28.07,
          28.49,
          27.16,
          26.41,
          25.74,
          24.25,
          21.06,
          18.15,
          17.79,
          19.05,
          23.4,
          25.76,
          27.97,
          27.67,
          26.56,
          26.43,
          25.47,
          24.37,
          22.01,
          18.86,
          18.14,
          19.72,
          22.9,
          25.96,
          28.36,
          27.72,
          26.93,
          26.61,
          25.98,
          24.04,
          20.72,
          18.05,
          18.52,
          19.18,
          22.05,
          26,
          28.55,
          28.02,
          27.44,
          27.04,
          26.22,
          24.57,
          21.1,
          18.76,
          18.6,
          20.84,
          22.93,
          26.21,
          28.3,
          28.53,
          27.49,
          26.68,
          25.81,
          24.44,
          21,
          18.44,
          18.2,
          19.98,
          22.15,
          26.61,
          27.95,
          27.91,
          27,
          26.8,
          26.02,
          24.35,
          20.92,
          18.7,
          18.96,
          19.66,
          22.63,
          25.73,
          28.24,
          28.46,
          27.29,
          26.49,
          26.38,
          23.97,
          21.87,
          18.73,
          17.93,
          19,
          22.69,
          26.23,
          29.17,
          28.58,
          27.77,
          27.32,
          26.82,
          25.46,
          22.18,
          18.31,
          18.52,
          19.68,
          24.24,
          26.84,
          28.16,
          27.81,
          27.08,
          26.77,
          26,
          24.6,
          21.03,
          18.17,
          18.16,
          19.94,
          22.46,
          25.29,
          26.97,
          27.41,
          27.15,
          26.64,
          25.79,
          23.85,
          20.8,
          18.39,
          17.25,
          19.58,
          22.64,
          25.26,
          28.27,
          27.58,
          27.74,
          26.97,
          26,
          24.54,
          21.71,
          18.37,
          18.78,
          19.15,
          23.15,
          26.19,
          28.2,
          28.3,
          27.28,
          26.84,
          25.84,
          24.36,
          21.48,
          18.58,
          18.27,
          19.16,
          23.02,
          25.73,
          27.06,
          27.76,
          27.48,
          26.61,
          26.34,
          24.85,
          21.84,
          18.78,
          18.61,
          22.12,
          24.26,
          27.11,
          30.78,
          28.04,
          27.4,
          26.59,
          25.92,
          23.84,
          21.1,
          19.24,
          18.3,
          20.5,
          23.65,
          26.55,
          29.8,
          28.03,
          27.26,
          26.95,
          26.04,
          23.94,
          21.28,
          18.39,
          18.23,
          19.35,
          23.21,
          26.81,
          28.33,
          28.95,
          26.89,
          26.71,
          25.89,
          23.89,
          21.23,
          19.08,
          18.06,
          19.97,
          24.12,
          26.87,
          27.43,
          28.6,
          27.5,
          26.91,
          25.72,
          24.5,
          21.04,
          18.97,
          17.53,
          19.08,
          23.5,
          27.24,
          27.82,
          27.76,
          27.01,
          26.64,
          26.29,
          24.61,
          21.29,
          18.63,
          18.65,
          20.7,
          22.87,
          25.3,
          27.69,
          28.97,
          27.65,
          27.08,
          25.95,
          24.41,
          20.59,
          18.8,
          18.15,
          19.4,
          22.71,
          26.13,
          27.7,
          27.93,
          27.23,
          26.66,
          26.1,
          24.7,
          21.16,
          19.41,
          18.66,
          20.13,
          23.23,
          26.44,
          28.88,
          28.22,
          27.28,
          26.9,
          26.32,
          24.92,
          21.77,
          18.73,
          18.25,
          19,
          24.05,
          26.44,
          28.58,
          28.07,
          27.26,
          26.64,
          26.41,
          24.12,
          21.71,
          18.44,
          17.75,
          18.72,
          23.36,
          25.94,
          28.11,
          27.84,
          27.31,
          26.85,
          26.17,
          24.6,
          21.41,
          19.11,
          19.34,
          19.73,
          23.31,
          27.27,
          28.51,
          28.68,
          26.93,
          27.31,
          26.25,
          24.91,
          21.7,
          19.29,
          18.72,
          19.51,
          23.39,
          26.59,
          27.74,
          28.52,
          27.46,
          26.8,
          26.5,
          24.69,
          21.71,
          18.86,
          17.84,
          20.33,
          23.22,
          25.52,
          27.26,
          27.92,
          27.39,
          26.32,
          25.86,
          24.35,
          21.67,
          19.31,
          17.8,
          20.51,
          22.97,
          26.58,
          28.13,
          28.22,
          27.42,
          26.74,
          26.56,
          24.42,
          21.15,
          19.08,
          17.54,
          21,
          23.39,
          25.15,
          28.88,
          28.45,
          27.18,
          26.37,
          25.85,
          24.42,
          21.49,
          19.03,
          18.06,
          20,
          22.84,
          26.27,
          28.97,
          27.41,
          27.12,
          26.8,
          26.44,
          24.73,
          21.72,
          19.13,
          18.02,
          20.21,
          22.6,
          25.83,
          28.4,
          28.69,
          27,
          27.18,
          26.43,
          23.98,
          21.34,
          18.09,
          18.15,
          18.77,
          23.61,
          26.91,
          28.97,
          27.33,
          27.16,
          26.83,
          26.14,
          24.41,
          20.62,
          18.9,
          18.4,
          19.79,
          21.98,
          25.67,
          28.63,
          28.11,
          27.22,
          26.92,
          26.4,
          24.66,
          21.32,
          19.03,
          18.1,
          19.88,
          22.23,
          25.88,
          28.38,
          28.29,
          27.42,
          26.44,
          26.19,
          24.74,
          22.03,
          18.97,
          18.33,
          20.28,
          24.24,
          27.49,
          28.89,
          28.52,
          27.54,
          27.43,
          26.29,
          25.47,
          21.76,
          19.67,
          18.07,
          20.06,
          23.87,
          26.79,
          28.82,
          28.81,
          27.28,
          26.62,
          26.03,
          24.56,
          21.85,
          18.75,
          18.32,
          19.47,
          23.31,
          25.56,
          27.82,
          27.8,
          27.16,
          26.66,
          26.26,
          24.2,
          21.81,
          19.02,
          18,
          19.07,
          22.54,
          25.63,
          28.93,
          28.39,
          27.42,
          27.11,
          26.08,
          24.49,
          21.51,
          19.32,
          17.33,
          19.37,
          23.28,
          25.52,
          28.31,
          28.81,
          27.39,
          26.98,
          26.51,
          24.36,
          21.15,
          17.98,
          18.31,
          20.73,
          23.02,
          26.86,
          28.48,
          28.14,
          27.47,
          27.04,
          26.31,
          24.98,
          21.6,
          20.08,
          17.72,
          19.84,
          23.55,
          26.88,
          28.82,
          28.82,
          27.41,
          27.46,
          26.28,
          24.67,
          21.78,
          19.07,
          18.25,
          19.36,
          22.72,
          26.68,
          28.71,
          28.16,
          27.15,
          26.72,
          26.28,
          24.84,
          21.58,
          18.79,
          19.01,
          19.36,
          23.37,
          26.71,
          28.35,
          27.86,
          27.24,
          26.83,
          26.41,
          24.7,
          20.79,
          18.4,
          18.36,
          19.05,
          22.45,
          25.72,
          28.34,
          28.21,
          27.03,
          26.63,
          25.6,
          24.07,
          21.03,
          18.33,
          19.09,
          19.36,
          23.13,
          25.19,
          28.07,
          27.74,
          27.2,
          27.09,
          26.72,
          25.73,
          22.34,
          19.3,
          18.67,
          21.05,
          22.73,
          26.96,
          28.41,
          28.36,
          27.37,
          26.79,
          26.48,
          24.72,
          21.41,
          19.18,
          18.11,
          20.86,
          24.9,
          26.8,
          28.99,
          28.79,
          27.35,
          26.91,
          26.24,
          24.67,
          21.49,
          19.85,
          17.77,
          20.45,
          23.66,
          26.99,
          28.84,
          28.28,
          27.03,
          26.86,
          26.19,
          23.52,
          20.99,
          18.94,
          18.42,
          20.5,
          23.93,
          25.5,
          27.31,
          28.01,
          27.07,
          26.63,
          26.19,
          24.22,
          21.14,
          18.69,
          18.01,
          19.66,
          23.44,
          26.72,
          28.72,
          27.54,
          26.58,
          26.23,
          26.26,
          24.05,
          21.23,
          18.97,
          18.2,
          19.27,
          22.31,
          25.68,
          27.76,
          28.13,
          27.43,
          26.75,
          26.28,
          24.35,
          21.85,
          19.6,
          19.5,
          20.51,
          23.93,
          27.23,
          28.2,
          29.01,
          27.6,
          26.74,
          26.37,
          24.74,
          21.98,
          19.65,
          18.39,
          19.47,
          23.66,
          26.87,
          28.39,
          28.47,
          26.96,
          27.06,
          26.27,
          24.98,
          21.57,
          19.44,
          18.31,
          21.13,
          22.65,
          26.17,
          28.29,
          28.5,
          27.33,
          27.2,
          26.33,
          24.58,
          21.35,
          19.59,
          18.89,
          19.08,
          23.84,
          26.42,
          28.07,
          27.8,
          27.08,
          26.89,
          26.45,
          24.23,
          20.98,
          18.3,
          17.54,
          20.28,
          23.31,
          26.45,
          27.97,
          28.25,
          27.53,
          26.88,
          25.92,
          24.12,
          21.38,
          18.9,
          17.59,
          20.55,
          23.31,
          25.69,
          27.71,
          28.24,
          27.48,
          26.83,
          26.26,
          24.9,
          21.99,
          19.23,
          17.71,
          19.95,
          24.25,
          26.82,
          28.06,
          28.03,
          26.77,
          26.82,
          25.99,
          24.8,
          21.15,
          18.78,
          18.47,
          19.96,
          22.81,
          25.35,
          27.57,
          28.44,
          27.14,
          26.49,
          26.25,
          24.99,
          22.16,
          19.15,
          18.69,
          21.17,
          23.51,
          26.44,
          28.27,
          28.25,
          27.42,
          27.02,
          25.99,
          24.51,
          22.05,
          18.94,
          18.15,
          20.73,
          22.69,
          26.04,
          27.92,
          28.36,
          27.36,
          26.7,
          26.35,
          24.22,
          21.4,
          19.41,
          17.52,
          18.98,
          23.18,
          25.89,
          27.77,
          28.24,
          27.12,
          26.9,
          26.61,
          24.32,
          21.56,
          19.2,
          18.07,
          20.3,
          24.52,
          26.7,
          27.93,
          28.68,
          27.47,
          26.97,
          26.26,
          24.89,
          22.29,
          19.41,
          18.72,
          20.39,
          23.28,
          27.17,
          28.71,
          27.86,
          27.25,
          26.84,
          26.31,
          24.81,
          21.32,
          18.52,
          18.12,
          19.99,
          23.29,
          26.48,
          27.58,
          27.58,
          26.87,
          26.53,
          26.03,
          24.39,
          21.21,
          18.84,
          18.4,
          18.73,
          23.43,
          25.85,
          28.08,
          28.7,
          27.37,
          26.76,
          26.26,
          24.27,
          21.91,
          19.46,
          18.51,
          20.98,
          23.33,
          27.54,
          28.71,
          28.62,
          27.54,
          26.61,
          26.44,
          24.43,
          21.46,
          18.7,
          17.79,
          19.28,
          23.91,
          27.01,
          27.81,
          27.89,
          27.07,
          26.91,
          26.21,
          24.65,
          21.31,
          18.17,
          17.71,
          19.67,
          22.78,
          26.39,
          28.16,
          27.72,
          26.48,
          26.47,
          25.63,
          24.65,
          20.76,
          18.51,
          18.2,
          19.54,
          22.98,
          25.92,
          27.94,
          27.86,
          27.34,
          26.21,
          26.08,
          24.92,
          22.47,
          19.35,
          18.35,
          20.34,
          24.45,
          26.38,
          27.26,
          28.04,
          27.26,
          26.88,
          26.33,
          24.86,
          22.7,
          19.35,
          18.14,
          19.76,
          22.46,
          26.44,
          28.92,
          28.42,
          27.04,
          26.8,
          26.23,
          24.94,
          22.18,
          19.53,
          18.97,
          19.97,
          22.75,
          27.2,
          27.97,
          28.83,
          27.72,
          27.24,
          26.38,
          25.23,
          22.75,
          19.79,
          18.81,
          20.47,
          23.24,
          27.55,
          28.94,
          28.25,
          27.33,
          26.93,
          26.55,
          25.12,
          22.15,
          19.23,
          18.4,
          20.44,
          23.26,
          26.65,
          28.51,
          28.4,
          27.28,
          26.85,
          26.36,
          24.74,
          21.43,
          18.87,
          18.76,
          19.52,
          22.37,
          26.15,
          27.72,
          28.2,
          27.68,
          26.98,
          26.4,
          24.89,
          21.84,
          19.33,
          18.38,
          19.81,
          22.68,
          25.67,
          28.02,
          28.6,
          27.51,
          27.14,
          26.48,
          24.56,
          21.5,
          19.08,
          18.28,
          19.42,
          23.98,
          26.66,
          28.88,
          28.43,
          26.94,
          27.17,
          25.83,
          24.65,
          21.47,
          19.34,
          18.67,
          20.54,
          24.6,
          27.02,
          28.52,
          28.05,
          27.06,
          26.9,
          26.45,
          24.33,
          21.51,
          19.68,
          18.24,
          20,
          23.53,
          26.53,
          27.75,
          28.19,
          27.3,
          26.75,
          26.43,
          24.48,
          21.89,
          19.38,
          18.44,
          20.41,
          23.45,
          26.59,
          27.51,
          28.9,
          28.16,
          27.34,
          27.13,
          25.03,
          22.14,
          19.75,
          18.58,
          20.83,
          23.51,
          26.6,
          28.6,
          28.37,
          27.12,
          26.91,
          26.48,
          24.79,
          21.63,
          19.64,
          17.68,
          19.85,
          23,
          25.95,
          28.13,
          27.72,
          26.96,
          26.86,
          26.38,
          24.84,
          21.8,
          19.23,
          18.56,
          20.33,
          22.79,
          26.15,
          27.71,
          28.11,
          27.06,
          26.99,
          26.55,
          24.51,
          22.08,
          19.78,
          17.99,
          20.43,
          23.58,
          26.13,
          28.35,
          28.17,
          27.59,
          26.88,
          26.65,
          24.56,
          21.6,
          19.44,
          18.36,
          19.77,
          22.95,
          26.21,
          27.75,
          28.4,
          27.31,
          26.78,
          26.11,
          24.7,
          22.01,
          19.42,
          18.37,
          20.84,
          22.71,
          26.5,
          28.73,
          28.5,
          27.24,
          27.29,
          26.34,
          24.88,
          22.2,
          19.55,
          19.33,
          20.2,
          24.14,
          26.04,
          28.72,
          28.56,
          27.34,
          27.01,
          26.31,
          24.56,
          22.06,
          19.3,
          19.18,
          21.48,
          24.26,
          27.23,
          29.34,
          29.88,
          27.8,
          27.4,
          27.15,
          26,
          22.99,
          20.65,
          19.81,
          21.73,
          25.13,
          26.67,
          28.37,
          28.08,
          27.42,
          26.77,
          26.64,
          24.5,
          21.81,
          18.96,
          17.86,
          19.88,
          23.64,
          25.55,
          27.86,
          28.33,
          28.01,
          27.27,
          26.81,
          24.48,
          22.05,
          19.31,
          18.84,
          20.6,
          22.98,
          27,
          29.18,
          28.88,
          27.78,
          27.42,
          26.7,
          25.27,
          22.48,
          19.21,
          18.32,
          21.26,
          24.18,
          27.66,
          28.13,
          27.95,
          27.58,
          27.08,
          26.9,
          24.97,
          22.33,
          19.57,
          18.87,
          19.78,
          23.22,
          27.27,
          28.92,
          28.02,
          27.34,
          26.98,
          26.53,
          25.58,
          22.75,
          19.66,
          18.5,
          21,
          24.12,
          26.9,
          29.46,
          28.13,
          27.63,
          27.62,
          26.86,
          25.49,
          22.51,
          19.55,
          18.78,
          20.52,
          24.44,
          27.66,
          29.56,
          28.77,
          28.47,
          27.27,
          26.43,
          25.44,
          23.17,
          19.87,
          18.6,
          21.03,
          23.62,
          27.29,
          28.64,
          29.01,
          27.53,
          27.25,
          26.75,
          24.92,
          22.17,
          19.59,
          18.83,
          21.03,
          26.19,
          27.38,
          28.12,
          27.94,
          27.44,
          27.16,
          26.8,
          24.34,
          22.43,
          19.93,
          19.07,
          20.51,
          24.14,
          26.62,
          28.22,
          28.99,
          27.34,
          27.41,
          26.82,
          24.84,
          21.73,
          19.23,
          19.96,
          23.02,
          23.91,
          26.83,
          28.82,
          28.13,
          27.92,
          27.15,
          26.42,
          25.41,
          22.59,
          19.99,
          19.24,
          20.97,
          23.52,
          27.72,
          28.84,
          28.31,
          27.66,
          27.37,
          26.61,
          24.92,
          22.4,
          19.65,
          18.49,
          19.83,
          24.43,
          26.54,
          28.42,
          28.1,
          27.5,
          27,
          26.44,
          25.47,
          22.51,
          20.62,
          19.79,
          21.66,
          24.55,
          27.35,
          28.71,
          28.77,
          27.83,
          27.85,
          27.11,
          25.2,
          22.31,
          20.22,
          19.15,
          21.23,
          26.53,
          28.4,
          29.19,
          28.51,
          27.55,
          27.33,
          26.6,
          25.58,
          22.98,
          19.22,
          18.32,
          20.79,
          24.11,
          26.1,
          28.92,
          28.6,
          27.6,
          27.2,
          26.7,
          25.51,
          22.84,
          19.84,
          18.25,
          20.43,
          23.98,
          26.89,
          28.72,
          28.91,
          27.98,
          27.31,
          26.65,
          24.85,
          22.26,
          19.91,
          18.88,
          21.07,
          24.53,
          26.97,
          29.06,
          28.24,
          27.5,
          27.22,
          26.87,
          25.63,
          22.18,
          19.69,
          18.81,
          20.35,
          23.34,
          26.91,
          28.45,
          29.42,
          28.07,
          27.42,
          26.61,
          25.38,
          22.53,
          19.5,
          19.02,
          21.23,
          23.52,
          26.52,
          28.82,
          28.15,
          28.03,
          27.64,
          27.04,
          25.82,
          22.95,
          20.21,
          20.92,
          23.58,
          26.61,
          29.56,
          30.41,
          29.7,
          28.18,
          28.17,
          27.72,
          26.81,
          23.9,
          21.89,
          20.59,
          23.08,
          25.58,
          29.17,
          30.47,
          29.44,
          28.31,
          28.12,
          28.11,
          27.24,
          23.92,
          21.47
         ],
         "xaxis": "x",
         "yaxis": "y"
        }
       ],
       "layout": {
        "barmode": "relative",
        "legend": {
         "tracegroupgap": 0
        },
        "margin": {
         "t": 60
        },
        "template": {
         "data": {
          "bar": [
           {
            "error_x": {
             "color": "#2a3f5f"
            },
            "error_y": {
             "color": "#2a3f5f"
            },
            "marker": {
             "line": {
              "color": "#E5ECF6",
              "width": 0.5
             },
             "pattern": {
              "fillmode": "overlay",
              "size": 10,
              "solidity": 0.2
             }
            },
            "type": "bar"
           }
          ],
          "barpolar": [
           {
            "marker": {
             "line": {
              "color": "#E5ECF6",
              "width": 0.5
             },
             "pattern": {
              "fillmode": "overlay",
              "size": 10,
              "solidity": 0.2
             }
            },
            "type": "barpolar"
           }
          ],
          "carpet": [
           {
            "aaxis": {
             "endlinecolor": "#2a3f5f",
             "gridcolor": "white",
             "linecolor": "white",
             "minorgridcolor": "white",
             "startlinecolor": "#2a3f5f"
            },
            "baxis": {
             "endlinecolor": "#2a3f5f",
             "gridcolor": "white",
             "linecolor": "white",
             "minorgridcolor": "white",
             "startlinecolor": "#2a3f5f"
            },
            "type": "carpet"
           }
          ],
          "choropleth": [
           {
            "colorbar": {
             "outlinewidth": 0,
             "ticks": ""
            },
            "type": "choropleth"
           }
          ],
          "contour": [
           {
            "colorbar": {
             "outlinewidth": 0,
             "ticks": ""
            },
            "colorscale": [
             [
              0,
              "#0d0887"
             ],
             [
              0.1111111111111111,
              "#46039f"
             ],
             [
              0.2222222222222222,
              "#7201a8"
             ],
             [
              0.3333333333333333,
              "#9c179e"
             ],
             [
              0.4444444444444444,
              "#bd3786"
             ],
             [
              0.5555555555555556,
              "#d8576b"
             ],
             [
              0.6666666666666666,
              "#ed7953"
             ],
             [
              0.7777777777777778,
              "#fb9f3a"
             ],
             [
              0.8888888888888888,
              "#fdca26"
             ],
             [
              1,
              "#f0f921"
             ]
            ],
            "type": "contour"
           }
          ],
          "contourcarpet": [
           {
            "colorbar": {
             "outlinewidth": 0,
             "ticks": ""
            },
            "type": "contourcarpet"
           }
          ],
          "heatmap": [
           {
            "colorbar": {
             "outlinewidth": 0,
             "ticks": ""
            },
            "colorscale": [
             [
              0,
              "#0d0887"
             ],
             [
              0.1111111111111111,
              "#46039f"
             ],
             [
              0.2222222222222222,
              "#7201a8"
             ],
             [
              0.3333333333333333,
              "#9c179e"
             ],
             [
              0.4444444444444444,
              "#bd3786"
             ],
             [
              0.5555555555555556,
              "#d8576b"
             ],
             [
              0.6666666666666666,
              "#ed7953"
             ],
             [
              0.7777777777777778,
              "#fb9f3a"
             ],
             [
              0.8888888888888888,
              "#fdca26"
             ],
             [
              1,
              "#f0f921"
             ]
            ],
            "type": "heatmap"
           }
          ],
          "heatmapgl": [
           {
            "colorbar": {
             "outlinewidth": 0,
             "ticks": ""
            },
            "colorscale": [
             [
              0,
              "#0d0887"
             ],
             [
              0.1111111111111111,
              "#46039f"
             ],
             [
              0.2222222222222222,
              "#7201a8"
             ],
             [
              0.3333333333333333,
              "#9c179e"
             ],
             [
              0.4444444444444444,
              "#bd3786"
             ],
             [
              0.5555555555555556,
              "#d8576b"
             ],
             [
              0.6666666666666666,
              "#ed7953"
             ],
             [
              0.7777777777777778,
              "#fb9f3a"
             ],
             [
              0.8888888888888888,
              "#fdca26"
             ],
             [
              1,
              "#f0f921"
             ]
            ],
            "type": "heatmapgl"
           }
          ],
          "histogram": [
           {
            "marker": {
             "pattern": {
              "fillmode": "overlay",
              "size": 10,
              "solidity": 0.2
             }
            },
            "type": "histogram"
           }
          ],
          "histogram2d": [
           {
            "colorbar": {
             "outlinewidth": 0,
             "ticks": ""
            },
            "colorscale": [
             [
              0,
              "#0d0887"
             ],
             [
              0.1111111111111111,
              "#46039f"
             ],
             [
              0.2222222222222222,
              "#7201a8"
             ],
             [
              0.3333333333333333,
              "#9c179e"
             ],
             [
              0.4444444444444444,
              "#bd3786"
             ],
             [
              0.5555555555555556,
              "#d8576b"
             ],
             [
              0.6666666666666666,
              "#ed7953"
             ],
             [
              0.7777777777777778,
              "#fb9f3a"
             ],
             [
              0.8888888888888888,
              "#fdca26"
             ],
             [
              1,
              "#f0f921"
             ]
            ],
            "type": "histogram2d"
           }
          ],
          "histogram2dcontour": [
           {
            "colorbar": {
             "outlinewidth": 0,
             "ticks": ""
            },
            "colorscale": [
             [
              0,
              "#0d0887"
             ],
             [
              0.1111111111111111,
              "#46039f"
             ],
             [
              0.2222222222222222,
              "#7201a8"
             ],
             [
              0.3333333333333333,
              "#9c179e"
             ],
             [
              0.4444444444444444,
              "#bd3786"
             ],
             [
              0.5555555555555556,
              "#d8576b"
             ],
             [
              0.6666666666666666,
              "#ed7953"
             ],
             [
              0.7777777777777778,
              "#fb9f3a"
             ],
             [
              0.8888888888888888,
              "#fdca26"
             ],
             [
              1,
              "#f0f921"
             ]
            ],
            "type": "histogram2dcontour"
           }
          ],
          "mesh3d": [
           {
            "colorbar": {
             "outlinewidth": 0,
             "ticks": ""
            },
            "type": "mesh3d"
           }
          ],
          "parcoords": [
           {
            "line": {
             "colorbar": {
              "outlinewidth": 0,
              "ticks": ""
             }
            },
            "type": "parcoords"
           }
          ],
          "pie": [
           {
            "automargin": true,
            "type": "pie"
           }
          ],
          "scatter": [
           {
            "fillpattern": {
             "fillmode": "overlay",
             "size": 10,
             "solidity": 0.2
            },
            "type": "scatter"
           }
          ],
          "scatter3d": [
           {
            "line": {
             "colorbar": {
              "outlinewidth": 0,
              "ticks": ""
             }
            },
            "marker": {
             "colorbar": {
              "outlinewidth": 0,
              "ticks": ""
             }
            },
            "type": "scatter3d"
           }
          ],
          "scattercarpet": [
           {
            "marker": {
             "colorbar": {
              "outlinewidth": 0,
              "ticks": ""
             }
            },
            "type": "scattercarpet"
           }
          ],
          "scattergeo": [
           {
            "marker": {
             "colorbar": {
              "outlinewidth": 0,
              "ticks": ""
             }
            },
            "type": "scattergeo"
           }
          ],
          "scattergl": [
           {
            "marker": {
             "colorbar": {
              "outlinewidth": 0,
              "ticks": ""
             }
            },
            "type": "scattergl"
           }
          ],
          "scattermapbox": [
           {
            "marker": {
             "colorbar": {
              "outlinewidth": 0,
              "ticks": ""
             }
            },
            "type": "scattermapbox"
           }
          ],
          "scatterpolar": [
           {
            "marker": {
             "colorbar": {
              "outlinewidth": 0,
              "ticks": ""
             }
            },
            "type": "scatterpolar"
           }
          ],
          "scatterpolargl": [
           {
            "marker": {
             "colorbar": {
              "outlinewidth": 0,
              "ticks": ""
             }
            },
            "type": "scatterpolargl"
           }
          ],
          "scatterternary": [
           {
            "marker": {
             "colorbar": {
              "outlinewidth": 0,
              "ticks": ""
             }
            },
            "type": "scatterternary"
           }
          ],
          "surface": [
           {
            "colorbar": {
             "outlinewidth": 0,
             "ticks": ""
            },
            "colorscale": [
             [
              0,
              "#0d0887"
             ],
             [
              0.1111111111111111,
              "#46039f"
             ],
             [
              0.2222222222222222,
              "#7201a8"
             ],
             [
              0.3333333333333333,
              "#9c179e"
             ],
             [
              0.4444444444444444,
              "#bd3786"
             ],
             [
              0.5555555555555556,
              "#d8576b"
             ],
             [
              0.6666666666666666,
              "#ed7953"
             ],
             [
              0.7777777777777778,
              "#fb9f3a"
             ],
             [
              0.8888888888888888,
              "#fdca26"
             ],
             [
              1,
              "#f0f921"
             ]
            ],
            "type": "surface"
           }
          ],
          "table": [
           {
            "cells": {
             "fill": {
              "color": "#EBF0F8"
             },
             "line": {
              "color": "white"
             }
            },
            "header": {
             "fill": {
              "color": "#C8D4E3"
             },
             "line": {
              "color": "white"
             }
            },
            "type": "table"
           }
          ]
         },
         "layout": {
          "annotationdefaults": {
           "arrowcolor": "#2a3f5f",
           "arrowhead": 0,
           "arrowwidth": 1
          },
          "autotypenumbers": "strict",
          "coloraxis": {
           "colorbar": {
            "outlinewidth": 0,
            "ticks": ""
           }
          },
          "colorscale": {
           "diverging": [
            [
             0,
             "#8e0152"
            ],
            [
             0.1,
             "#c51b7d"
            ],
            [
             0.2,
             "#de77ae"
            ],
            [
             0.3,
             "#f1b6da"
            ],
            [
             0.4,
             "#fde0ef"
            ],
            [
             0.5,
             "#f7f7f7"
            ],
            [
             0.6,
             "#e6f5d0"
            ],
            [
             0.7,
             "#b8e186"
            ],
            [
             0.8,
             "#7fbc41"
            ],
            [
             0.9,
             "#4d9221"
            ],
            [
             1,
             "#276419"
            ]
           ],
           "sequential": [
            [
             0,
             "#0d0887"
            ],
            [
             0.1111111111111111,
             "#46039f"
            ],
            [
             0.2222222222222222,
             "#7201a8"
            ],
            [
             0.3333333333333333,
             "#9c179e"
            ],
            [
             0.4444444444444444,
             "#bd3786"
            ],
            [
             0.5555555555555556,
             "#d8576b"
            ],
            [
             0.6666666666666666,
             "#ed7953"
            ],
            [
             0.7777777777777778,
             "#fb9f3a"
            ],
            [
             0.8888888888888888,
             "#fdca26"
            ],
            [
             1,
             "#f0f921"
            ]
           ],
           "sequentialminus": [
            [
             0,
             "#0d0887"
            ],
            [
             0.1111111111111111,
             "#46039f"
            ],
            [
             0.2222222222222222,
             "#7201a8"
            ],
            [
             0.3333333333333333,
             "#9c179e"
            ],
            [
             0.4444444444444444,
             "#bd3786"
            ],
            [
             0.5555555555555556,
             "#d8576b"
            ],
            [
             0.6666666666666666,
             "#ed7953"
            ],
            [
             0.7777777777777778,
             "#fb9f3a"
            ],
            [
             0.8888888888888888,
             "#fdca26"
            ],
            [
             1,
             "#f0f921"
            ]
           ]
          },
          "colorway": [
           "#636efa",
           "#EF553B",
           "#00cc96",
           "#ab63fa",
           "#FFA15A",
           "#19d3f3",
           "#FF6692",
           "#B6E880",
           "#FF97FF",
           "#FECB52"
          ],
          "font": {
           "color": "#2a3f5f"
          },
          "geo": {
           "bgcolor": "white",
           "lakecolor": "white",
           "landcolor": "#E5ECF6",
           "showlakes": true,
           "showland": true,
           "subunitcolor": "white"
          },
          "hoverlabel": {
           "align": "left"
          },
          "hovermode": "closest",
          "mapbox": {
           "style": "light"
          },
          "paper_bgcolor": "white",
          "plot_bgcolor": "#E5ECF6",
          "polar": {
           "angularaxis": {
            "gridcolor": "white",
            "linecolor": "white",
            "ticks": ""
           },
           "bgcolor": "#E5ECF6",
           "radialaxis": {
            "gridcolor": "white",
            "linecolor": "white",
            "ticks": ""
           }
          },
          "scene": {
           "xaxis": {
            "backgroundcolor": "#E5ECF6",
            "gridcolor": "white",
            "gridwidth": 2,
            "linecolor": "white",
            "showbackground": true,
            "ticks": "",
            "zerolinecolor": "white"
           },
           "yaxis": {
            "backgroundcolor": "#E5ECF6",
            "gridcolor": "white",
            "gridwidth": 2,
            "linecolor": "white",
            "showbackground": true,
            "ticks": "",
            "zerolinecolor": "white"
           },
           "zaxis": {
            "backgroundcolor": "#E5ECF6",
            "gridcolor": "white",
            "gridwidth": 2,
            "linecolor": "white",
            "showbackground": true,
            "ticks": "",
            "zerolinecolor": "white"
           }
          },
          "shapedefaults": {
           "line": {
            "color": "#2a3f5f"
           }
          },
          "ternary": {
           "aaxis": {
            "gridcolor": "white",
            "linecolor": "white",
            "ticks": ""
           },
           "baxis": {
            "gridcolor": "white",
            "linecolor": "white",
            "ticks": ""
           },
           "bgcolor": "#E5ECF6",
           "caxis": {
            "gridcolor": "white",
            "linecolor": "white",
            "ticks": ""
           }
          },
          "title": {
           "x": 0.05
          },
          "xaxis": {
           "automargin": true,
           "gridcolor": "white",
           "linecolor": "white",
           "ticks": "",
           "title": {
            "standoff": 15
           },
           "zerolinecolor": "white",
           "zerolinewidth": 2
          },
          "yaxis": {
           "automargin": true,
           "gridcolor": "white",
           "linecolor": "white",
           "ticks": "",
           "title": {
            "standoff": 15
           },
           "zerolinecolor": "white",
           "zerolinewidth": 2
          }
         }
        },
        "title": {
         "text": "Frequency chart of temprature readings:"
        },
        "xaxis": {
         "anchor": "y",
         "domain": [
          0,
          1
         ],
         "title": {
          "text": "Temprature"
         }
        },
        "yaxis": {
         "anchor": "x",
         "domain": [
          0,
          1
         ],
         "title": {
          "text": "Count"
         }
        }
       }
      }
     },
     "metadata": {},
     "output_type": "display_data"
    }
   ],
   "source": [
    "fig = px.histogram(x=df1['Temprature'], nbins=200, histnorm='density')\n",
    "fig.update_layout(title='Frequency chart of temprature readings:',\n",
    "                 xaxis_title='Temprature', yaxis_title='Count')"
   ]
  },
  {
   "cell_type": "code",
   "execution_count": 18,
   "metadata": {},
   "outputs": [
    {
     "data": {
      "application/vnd.plotly.v1+json": {
       "config": {
        "plotlyServerURL": "https://plot.ly"
       },
       "data": [
        {
         "mode": "lines",
         "name": "Yearly Tempratures",
         "type": "scatter",
         "x": [
          1901,
          1902,
          1903,
          1904,
          1905,
          1906,
          1907,
          1908,
          1909,
          1910,
          1911,
          1912,
          1913,
          1914,
          1915,
          1916,
          1917,
          1918,
          1919,
          1920,
          1921,
          1922,
          1923,
          1924,
          1925,
          1926,
          1927,
          1928,
          1929,
          1930,
          1931,
          1932,
          1933,
          1934,
          1935,
          1936,
          1937,
          1938,
          1939,
          1940,
          1941,
          1942,
          1943,
          1944,
          1945,
          1946,
          1947,
          1948,
          1949,
          1950,
          1951,
          1952,
          1953,
          1954,
          1955,
          1956,
          1957,
          1958,
          1959,
          1960,
          1961,
          1962,
          1963,
          1964,
          1965,
          1966,
          1967,
          1968,
          1969,
          1970,
          1971,
          1972,
          1973,
          1974,
          1975,
          1976,
          1977,
          1978,
          1979,
          1980,
          1981,
          1982,
          1983,
          1984,
          1985,
          1986,
          1987,
          1988,
          1989,
          1990,
          1991,
          1992,
          1993,
          1994,
          1995,
          1996,
          1997,
          1998,
          1999,
          2000,
          2001,
          2002,
          2003,
          2004,
          2005,
          2006,
          2007,
          2008,
          2009,
          2010,
          2011,
          2012,
          2013,
          2014,
          2015,
          2016,
          2017
         ],
         "y": [
          24.224166666666665,
          24.326666666666664,
          23.980833333333333,
          23.849999999999998,
          23.9325,
          24.099999999999998,
          24.007499999999997,
          23.95,
          23.778333333333336,
          23.760833333333338,
          23.954166666666666,
          24.105833333333337,
          23.882500000000004,
          24.034166666666668,
          24.288333333333338,
          24.075000000000003,
          23.57083333333333,
          23.825833333333332,
          24.012500000000003,
          23.90833333333333,
          24.584166666666672,
          24.22416666666666,
          24.0475,
          24.140833333333337,
          23.95,
          24.055000000000003,
          23.94,
          24.290000000000003,
          24.08083333333333,
          23.930833333333336,
          24.435833333333335,
          24.2075,
          23.915833333333335,
          24.131666666666664,
          24.0625,
          24.124166666666667,
          23.980833333333333,
          23.98333333333333,
          24.010833333333334,
          24.045833333333338,
          24.659166666666668,
          24.2925,
          23.94916666666666,
          24.040833333333335,
          23.915833333333328,
          24.418333333333333,
          24.358333333333334,
          24.103333333333335,
          24.08583333333333,
          23.735,
          24.246666666666666,
          24.344166666666666,
          24.580000000000002,
          24.126666666666665,
          23.967499999999998,
          23.950833333333332,
          23.967500000000005,
          24.621666666666666,
          24.29416666666667,
          24.28583333333333,
          24.002499999999998,
          24.044166666666666,
          24.14833333333333,
          24.094166666666666,
          24.065,
          24.355,
          24.110833333333332,
          23.94083333333333,
          24.457500000000007,
          24.265,
          23.909166666666664,
          24.101666666666663,
          24.40583333333333,
          24.000833333333333,
          23.74416666666667,
          24.067500000000006,
          24.349999999999998,
          24.238333333333333,
          24.566666666666666,
          24.5475,
          24.265833333333333,
          24.153333333333332,
          24.11916666666667,
          24.254166666666663,
          24.444166666666664,
          24.205833333333334,
          24.570833333333336,
          24.421666666666667,
          24.03333333333333,
          24.218333333333334,
          24.280833333333334,
          24.147499999999997,
          24.42916666666667,
          24.464166666666667,
          25.28,
          24.657500000000002,
          24.254166666666666,
          24.694999999999997,
          24.66083333333333,
          24.576666666666668,
          24.81416666666667,
          25.03166666666667,
          24.7,
          24.799166666666668,
          24.576666666666668,
          25.0125,
          24.7675,
          24.6125,
          25.1125,
          25.189166666666665,
          24.710833333333326,
          24.678333333333338,
          24.819999999999997,
          24.732499999999998,
          24.912499999999998,
          26.454166666666662,
          26.291666666666668
         ]
        },
        {
         "mode": "markers",
         "name": "Yearly Tempratures",
         "type": "scatter",
         "x": [
          1901,
          1902,
          1903,
          1904,
          1905,
          1906,
          1907,
          1908,
          1909,
          1910,
          1911,
          1912,
          1913,
          1914,
          1915,
          1916,
          1917,
          1918,
          1919,
          1920,
          1921,
          1922,
          1923,
          1924,
          1925,
          1926,
          1927,
          1928,
          1929,
          1930,
          1931,
          1932,
          1933,
          1934,
          1935,
          1936,
          1937,
          1938,
          1939,
          1940,
          1941,
          1942,
          1943,
          1944,
          1945,
          1946,
          1947,
          1948,
          1949,
          1950,
          1951,
          1952,
          1953,
          1954,
          1955,
          1956,
          1957,
          1958,
          1959,
          1960,
          1961,
          1962,
          1963,
          1964,
          1965,
          1966,
          1967,
          1968,
          1969,
          1970,
          1971,
          1972,
          1973,
          1974,
          1975,
          1976,
          1977,
          1978,
          1979,
          1980,
          1981,
          1982,
          1983,
          1984,
          1985,
          1986,
          1987,
          1988,
          1989,
          1990,
          1991,
          1992,
          1993,
          1994,
          1995,
          1996,
          1997,
          1998,
          1999,
          2000,
          2001,
          2002,
          2003,
          2004,
          2005,
          2006,
          2007,
          2008,
          2009,
          2010,
          2011,
          2012,
          2013,
          2014,
          2015,
          2016,
          2017
         ],
         "y": [
          24.224166666666665,
          24.326666666666664,
          23.980833333333333,
          23.849999999999998,
          23.9325,
          24.099999999999998,
          24.007499999999997,
          23.95,
          23.778333333333336,
          23.760833333333338,
          23.954166666666666,
          24.105833333333337,
          23.882500000000004,
          24.034166666666668,
          24.288333333333338,
          24.075000000000003,
          23.57083333333333,
          23.825833333333332,
          24.012500000000003,
          23.90833333333333,
          24.584166666666672,
          24.22416666666666,
          24.0475,
          24.140833333333337,
          23.95,
          24.055000000000003,
          23.94,
          24.290000000000003,
          24.08083333333333,
          23.930833333333336,
          24.435833333333335,
          24.2075,
          23.915833333333335,
          24.131666666666664,
          24.0625,
          24.124166666666667,
          23.980833333333333,
          23.98333333333333,
          24.010833333333334,
          24.045833333333338,
          24.659166666666668,
          24.2925,
          23.94916666666666,
          24.040833333333335,
          23.915833333333328,
          24.418333333333333,
          24.358333333333334,
          24.103333333333335,
          24.08583333333333,
          23.735,
          24.246666666666666,
          24.344166666666666,
          24.580000000000002,
          24.126666666666665,
          23.967499999999998,
          23.950833333333332,
          23.967500000000005,
          24.621666666666666,
          24.29416666666667,
          24.28583333333333,
          24.002499999999998,
          24.044166666666666,
          24.14833333333333,
          24.094166666666666,
          24.065,
          24.355,
          24.110833333333332,
          23.94083333333333,
          24.457500000000007,
          24.265,
          23.909166666666664,
          24.101666666666663,
          24.40583333333333,
          24.000833333333333,
          23.74416666666667,
          24.067500000000006,
          24.349999999999998,
          24.238333333333333,
          24.566666666666666,
          24.5475,
          24.265833333333333,
          24.153333333333332,
          24.11916666666667,
          24.254166666666663,
          24.444166666666664,
          24.205833333333334,
          24.570833333333336,
          24.421666666666667,
          24.03333333333333,
          24.218333333333334,
          24.280833333333334,
          24.147499999999997,
          24.42916666666667,
          24.464166666666667,
          25.28,
          24.657500000000002,
          24.254166666666666,
          24.694999999999997,
          24.66083333333333,
          24.576666666666668,
          24.81416666666667,
          25.03166666666667,
          24.7,
          24.799166666666668,
          24.576666666666668,
          25.0125,
          24.7675,
          24.6125,
          25.1125,
          25.189166666666665,
          24.710833333333326,
          24.678333333333338,
          24.819999999999997,
          24.732499999999998,
          24.912499999999998,
          26.454166666666662,
          26.291666666666668
         ]
        }
       ],
       "layout": {
        "template": {
         "data": {
          "bar": [
           {
            "error_x": {
             "color": "#2a3f5f"
            },
            "error_y": {
             "color": "#2a3f5f"
            },
            "marker": {
             "line": {
              "color": "#E5ECF6",
              "width": 0.5
             },
             "pattern": {
              "fillmode": "overlay",
              "size": 10,
              "solidity": 0.2
             }
            },
            "type": "bar"
           }
          ],
          "barpolar": [
           {
            "marker": {
             "line": {
              "color": "#E5ECF6",
              "width": 0.5
             },
             "pattern": {
              "fillmode": "overlay",
              "size": 10,
              "solidity": 0.2
             }
            },
            "type": "barpolar"
           }
          ],
          "carpet": [
           {
            "aaxis": {
             "endlinecolor": "#2a3f5f",
             "gridcolor": "white",
             "linecolor": "white",
             "minorgridcolor": "white",
             "startlinecolor": "#2a3f5f"
            },
            "baxis": {
             "endlinecolor": "#2a3f5f",
             "gridcolor": "white",
             "linecolor": "white",
             "minorgridcolor": "white",
             "startlinecolor": "#2a3f5f"
            },
            "type": "carpet"
           }
          ],
          "choropleth": [
           {
            "colorbar": {
             "outlinewidth": 0,
             "ticks": ""
            },
            "type": "choropleth"
           }
          ],
          "contour": [
           {
            "colorbar": {
             "outlinewidth": 0,
             "ticks": ""
            },
            "colorscale": [
             [
              0,
              "#0d0887"
             ],
             [
              0.1111111111111111,
              "#46039f"
             ],
             [
              0.2222222222222222,
              "#7201a8"
             ],
             [
              0.3333333333333333,
              "#9c179e"
             ],
             [
              0.4444444444444444,
              "#bd3786"
             ],
             [
              0.5555555555555556,
              "#d8576b"
             ],
             [
              0.6666666666666666,
              "#ed7953"
             ],
             [
              0.7777777777777778,
              "#fb9f3a"
             ],
             [
              0.8888888888888888,
              "#fdca26"
             ],
             [
              1,
              "#f0f921"
             ]
            ],
            "type": "contour"
           }
          ],
          "contourcarpet": [
           {
            "colorbar": {
             "outlinewidth": 0,
             "ticks": ""
            },
            "type": "contourcarpet"
           }
          ],
          "heatmap": [
           {
            "colorbar": {
             "outlinewidth": 0,
             "ticks": ""
            },
            "colorscale": [
             [
              0,
              "#0d0887"
             ],
             [
              0.1111111111111111,
              "#46039f"
             ],
             [
              0.2222222222222222,
              "#7201a8"
             ],
             [
              0.3333333333333333,
              "#9c179e"
             ],
             [
              0.4444444444444444,
              "#bd3786"
             ],
             [
              0.5555555555555556,
              "#d8576b"
             ],
             [
              0.6666666666666666,
              "#ed7953"
             ],
             [
              0.7777777777777778,
              "#fb9f3a"
             ],
             [
              0.8888888888888888,
              "#fdca26"
             ],
             [
              1,
              "#f0f921"
             ]
            ],
            "type": "heatmap"
           }
          ],
          "heatmapgl": [
           {
            "colorbar": {
             "outlinewidth": 0,
             "ticks": ""
            },
            "colorscale": [
             [
              0,
              "#0d0887"
             ],
             [
              0.1111111111111111,
              "#46039f"
             ],
             [
              0.2222222222222222,
              "#7201a8"
             ],
             [
              0.3333333333333333,
              "#9c179e"
             ],
             [
              0.4444444444444444,
              "#bd3786"
             ],
             [
              0.5555555555555556,
              "#d8576b"
             ],
             [
              0.6666666666666666,
              "#ed7953"
             ],
             [
              0.7777777777777778,
              "#fb9f3a"
             ],
             [
              0.8888888888888888,
              "#fdca26"
             ],
             [
              1,
              "#f0f921"
             ]
            ],
            "type": "heatmapgl"
           }
          ],
          "histogram": [
           {
            "marker": {
             "pattern": {
              "fillmode": "overlay",
              "size": 10,
              "solidity": 0.2
             }
            },
            "type": "histogram"
           }
          ],
          "histogram2d": [
           {
            "colorbar": {
             "outlinewidth": 0,
             "ticks": ""
            },
            "colorscale": [
             [
              0,
              "#0d0887"
             ],
             [
              0.1111111111111111,
              "#46039f"
             ],
             [
              0.2222222222222222,
              "#7201a8"
             ],
             [
              0.3333333333333333,
              "#9c179e"
             ],
             [
              0.4444444444444444,
              "#bd3786"
             ],
             [
              0.5555555555555556,
              "#d8576b"
             ],
             [
              0.6666666666666666,
              "#ed7953"
             ],
             [
              0.7777777777777778,
              "#fb9f3a"
             ],
             [
              0.8888888888888888,
              "#fdca26"
             ],
             [
              1,
              "#f0f921"
             ]
            ],
            "type": "histogram2d"
           }
          ],
          "histogram2dcontour": [
           {
            "colorbar": {
             "outlinewidth": 0,
             "ticks": ""
            },
            "colorscale": [
             [
              0,
              "#0d0887"
             ],
             [
              0.1111111111111111,
              "#46039f"
             ],
             [
              0.2222222222222222,
              "#7201a8"
             ],
             [
              0.3333333333333333,
              "#9c179e"
             ],
             [
              0.4444444444444444,
              "#bd3786"
             ],
             [
              0.5555555555555556,
              "#d8576b"
             ],
             [
              0.6666666666666666,
              "#ed7953"
             ],
             [
              0.7777777777777778,
              "#fb9f3a"
             ],
             [
              0.8888888888888888,
              "#fdca26"
             ],
             [
              1,
              "#f0f921"
             ]
            ],
            "type": "histogram2dcontour"
           }
          ],
          "mesh3d": [
           {
            "colorbar": {
             "outlinewidth": 0,
             "ticks": ""
            },
            "type": "mesh3d"
           }
          ],
          "parcoords": [
           {
            "line": {
             "colorbar": {
              "outlinewidth": 0,
              "ticks": ""
             }
            },
            "type": "parcoords"
           }
          ],
          "pie": [
           {
            "automargin": true,
            "type": "pie"
           }
          ],
          "scatter": [
           {
            "fillpattern": {
             "fillmode": "overlay",
             "size": 10,
             "solidity": 0.2
            },
            "type": "scatter"
           }
          ],
          "scatter3d": [
           {
            "line": {
             "colorbar": {
              "outlinewidth": 0,
              "ticks": ""
             }
            },
            "marker": {
             "colorbar": {
              "outlinewidth": 0,
              "ticks": ""
             }
            },
            "type": "scatter3d"
           }
          ],
          "scattercarpet": [
           {
            "marker": {
             "colorbar": {
              "outlinewidth": 0,
              "ticks": ""
             }
            },
            "type": "scattercarpet"
           }
          ],
          "scattergeo": [
           {
            "marker": {
             "colorbar": {
              "outlinewidth": 0,
              "ticks": ""
             }
            },
            "type": "scattergeo"
           }
          ],
          "scattergl": [
           {
            "marker": {
             "colorbar": {
              "outlinewidth": 0,
              "ticks": ""
             }
            },
            "type": "scattergl"
           }
          ],
          "scattermapbox": [
           {
            "marker": {
             "colorbar": {
              "outlinewidth": 0,
              "ticks": ""
             }
            },
            "type": "scattermapbox"
           }
          ],
          "scatterpolar": [
           {
            "marker": {
             "colorbar": {
              "outlinewidth": 0,
              "ticks": ""
             }
            },
            "type": "scatterpolar"
           }
          ],
          "scatterpolargl": [
           {
            "marker": {
             "colorbar": {
              "outlinewidth": 0,
              "ticks": ""
             }
            },
            "type": "scatterpolargl"
           }
          ],
          "scatterternary": [
           {
            "marker": {
             "colorbar": {
              "outlinewidth": 0,
              "ticks": ""
             }
            },
            "type": "scatterternary"
           }
          ],
          "surface": [
           {
            "colorbar": {
             "outlinewidth": 0,
             "ticks": ""
            },
            "colorscale": [
             [
              0,
              "#0d0887"
             ],
             [
              0.1111111111111111,
              "#46039f"
             ],
             [
              0.2222222222222222,
              "#7201a8"
             ],
             [
              0.3333333333333333,
              "#9c179e"
             ],
             [
              0.4444444444444444,
              "#bd3786"
             ],
             [
              0.5555555555555556,
              "#d8576b"
             ],
             [
              0.6666666666666666,
              "#ed7953"
             ],
             [
              0.7777777777777778,
              "#fb9f3a"
             ],
             [
              0.8888888888888888,
              "#fdca26"
             ],
             [
              1,
              "#f0f921"
             ]
            ],
            "type": "surface"
           }
          ],
          "table": [
           {
            "cells": {
             "fill": {
              "color": "#EBF0F8"
             },
             "line": {
              "color": "white"
             }
            },
            "header": {
             "fill": {
              "color": "#C8D4E3"
             },
             "line": {
              "color": "white"
             }
            },
            "type": "table"
           }
          ]
         },
         "layout": {
          "annotationdefaults": {
           "arrowcolor": "#2a3f5f",
           "arrowhead": 0,
           "arrowwidth": 1
          },
          "autotypenumbers": "strict",
          "coloraxis": {
           "colorbar": {
            "outlinewidth": 0,
            "ticks": ""
           }
          },
          "colorscale": {
           "diverging": [
            [
             0,
             "#8e0152"
            ],
            [
             0.1,
             "#c51b7d"
            ],
            [
             0.2,
             "#de77ae"
            ],
            [
             0.3,
             "#f1b6da"
            ],
            [
             0.4,
             "#fde0ef"
            ],
            [
             0.5,
             "#f7f7f7"
            ],
            [
             0.6,
             "#e6f5d0"
            ],
            [
             0.7,
             "#b8e186"
            ],
            [
             0.8,
             "#7fbc41"
            ],
            [
             0.9,
             "#4d9221"
            ],
            [
             1,
             "#276419"
            ]
           ],
           "sequential": [
            [
             0,
             "#0d0887"
            ],
            [
             0.1111111111111111,
             "#46039f"
            ],
            [
             0.2222222222222222,
             "#7201a8"
            ],
            [
             0.3333333333333333,
             "#9c179e"
            ],
            [
             0.4444444444444444,
             "#bd3786"
            ],
            [
             0.5555555555555556,
             "#d8576b"
            ],
            [
             0.6666666666666666,
             "#ed7953"
            ],
            [
             0.7777777777777778,
             "#fb9f3a"
            ],
            [
             0.8888888888888888,
             "#fdca26"
            ],
            [
             1,
             "#f0f921"
            ]
           ],
           "sequentialminus": [
            [
             0,
             "#0d0887"
            ],
            [
             0.1111111111111111,
             "#46039f"
            ],
            [
             0.2222222222222222,
             "#7201a8"
            ],
            [
             0.3333333333333333,
             "#9c179e"
            ],
            [
             0.4444444444444444,
             "#bd3786"
            ],
            [
             0.5555555555555556,
             "#d8576b"
            ],
            [
             0.6666666666666666,
             "#ed7953"
            ],
            [
             0.7777777777777778,
             "#fb9f3a"
            ],
            [
             0.8888888888888888,
             "#fdca26"
            ],
            [
             1,
             "#f0f921"
            ]
           ]
          },
          "colorway": [
           "#636efa",
           "#EF553B",
           "#00cc96",
           "#ab63fa",
           "#FFA15A",
           "#19d3f3",
           "#FF6692",
           "#B6E880",
           "#FF97FF",
           "#FECB52"
          ],
          "font": {
           "color": "#2a3f5f"
          },
          "geo": {
           "bgcolor": "white",
           "lakecolor": "white",
           "landcolor": "#E5ECF6",
           "showlakes": true,
           "showland": true,
           "subunitcolor": "white"
          },
          "hoverlabel": {
           "align": "left"
          },
          "hovermode": "closest",
          "mapbox": {
           "style": "light"
          },
          "paper_bgcolor": "white",
          "plot_bgcolor": "#E5ECF6",
          "polar": {
           "angularaxis": {
            "gridcolor": "white",
            "linecolor": "white",
            "ticks": ""
           },
           "bgcolor": "#E5ECF6",
           "radialaxis": {
            "gridcolor": "white",
            "linecolor": "white",
            "ticks": ""
           }
          },
          "scene": {
           "xaxis": {
            "backgroundcolor": "#E5ECF6",
            "gridcolor": "white",
            "gridwidth": 2,
            "linecolor": "white",
            "showbackground": true,
            "ticks": "",
            "zerolinecolor": "white"
           },
           "yaxis": {
            "backgroundcolor": "#E5ECF6",
            "gridcolor": "white",
            "gridwidth": 2,
            "linecolor": "white",
            "showbackground": true,
            "ticks": "",
            "zerolinecolor": "white"
           },
           "zaxis": {
            "backgroundcolor": "#E5ECF6",
            "gridcolor": "white",
            "gridwidth": 2,
            "linecolor": "white",
            "showbackground": true,
            "ticks": "",
            "zerolinecolor": "white"
           }
          },
          "shapedefaults": {
           "line": {
            "color": "#2a3f5f"
           }
          },
          "ternary": {
           "aaxis": {
            "gridcolor": "white",
            "linecolor": "white",
            "ticks": ""
           },
           "baxis": {
            "gridcolor": "white",
            "linecolor": "white",
            "ticks": ""
           },
           "bgcolor": "#E5ECF6",
           "caxis": {
            "gridcolor": "white",
            "linecolor": "white",
            "ticks": ""
           }
          },
          "title": {
           "x": 0.05
          },
          "xaxis": {
           "automargin": true,
           "gridcolor": "white",
           "linecolor": "white",
           "ticks": "",
           "title": {
            "standoff": 15
           },
           "zerolinecolor": "white",
           "zerolinewidth": 2
          },
          "yaxis": {
           "automargin": true,
           "gridcolor": "white",
           "linecolor": "white",
           "ticks": "",
           "title": {
            "standoff": 15
           },
           "zerolinecolor": "white",
           "zerolinewidth": 2
          }
         }
        },
        "title": {
         "text": "Yearly Mean Temprature :"
        },
        "xaxis": {
         "title": {
          "text": "Time"
         }
        },
        "yaxis": {
         "title": {
          "text": "Temprature in Degrees"
         }
        }
       }
      }
     },
     "metadata": {},
     "output_type": "display_data"
    }
   ],
   "source": [
    "df['Yearly Mean'] = df.iloc[:,1:].mean(axis=1) ## Axis 1 for row wise and axis 0 for columns.\n",
    "fig = go.Figure(data=[\n",
    "    go.Scatter(name='Yearly Tempratures' , x=df['YEAR'], y=df['Yearly Mean'], mode='lines'),\n",
    "    go.Scatter(name='Yearly Tempratures' , x=df['YEAR'], y=df['Yearly Mean'], mode='markers')\n",
    "])\n",
    "fig.update_layout(title='Yearly Mean Temprature :',\n",
    "                 xaxis_title='Time', yaxis_title='Temprature in Degrees')\n",
    "fig.show()"
   ]
  },
  {
   "cell_type": "code",
   "execution_count": 19,
   "metadata": {},
   "outputs": [
    {
     "data": {
      "application/vnd.plotly.v1+json": {
       "config": {
        "plotlyServerURL": "https://plot.ly"
       },
       "data": [
        {
         "hovertemplate": "Month=JAN<br>Year=%{x}<br>Temprature=%{y}<extra></extra>",
         "legendgroup": "",
         "line": {
          "color": "#636efa",
          "dash": "solid"
         },
         "marker": {
          "symbol": "circle"
         },
         "mode": "lines",
         "name": "",
         "showlegend": false,
         "type": "scattergl",
         "x": [
          1901,
          1902,
          1903,
          1904,
          1905,
          1906,
          1907,
          1908,
          1909,
          1910,
          1911,
          1912,
          1913,
          1914,
          1915,
          1916,
          1917,
          1918,
          1919,
          1920,
          1921,
          1922,
          1923,
          1924,
          1925,
          1926,
          1927,
          1928,
          1929,
          1930,
          1931,
          1932,
          1933,
          1934,
          1935,
          1936,
          1937,
          1938,
          1939,
          1940,
          1941,
          1942,
          1943,
          1944,
          1945,
          1946,
          1947,
          1948,
          1949,
          1950,
          1951,
          1952,
          1953,
          1954,
          1955,
          1956,
          1957,
          1958,
          1959,
          1960,
          1961,
          1962,
          1963,
          1964,
          1965,
          1966,
          1967,
          1968,
          1969,
          1970,
          1971,
          1972,
          1973,
          1974,
          1975,
          1976,
          1977,
          1978,
          1979,
          1980,
          1981,
          1982,
          1983,
          1984,
          1985,
          1986,
          1987,
          1988,
          1989,
          1990,
          1991,
          1992,
          1993,
          1994,
          1995,
          1996,
          1997,
          1998,
          1999,
          2000,
          2001,
          2002,
          2003,
          2004,
          2005,
          2006,
          2007,
          2008,
          2009,
          2010,
          2011,
          2012,
          2013,
          2014,
          2015,
          2016,
          2017
         ],
         "xaxis": "x9",
         "y": [
          17.99,
          19,
          18.32,
          17.77,
          17.4,
          17.5,
          19.27,
          18.35,
          17.79,
          18.14,
          18.52,
          18.6,
          18.2,
          18.96,
          17.93,
          18.52,
          18.16,
          17.25,
          18.78,
          18.27,
          18.61,
          18.3,
          18.23,
          18.06,
          17.53,
          18.65,
          18.15,
          18.66,
          18.25,
          17.75,
          19.34,
          18.72,
          17.84,
          17.8,
          17.54,
          18.06,
          18.02,
          18.15,
          18.4,
          18.1,
          18.33,
          18.07,
          18.32,
          18,
          17.33,
          18.31,
          17.72,
          18.25,
          19.01,
          18.36,
          19.09,
          18.67,
          18.11,
          17.77,
          18.42,
          18.01,
          18.2,
          19.5,
          18.39,
          18.31,
          18.89,
          17.54,
          17.59,
          17.71,
          18.47,
          18.69,
          18.15,
          17.52,
          18.07,
          18.72,
          18.12,
          18.4,
          18.51,
          17.79,
          17.71,
          18.2,
          18.35,
          18.14,
          18.97,
          18.81,
          18.4,
          18.76,
          18.38,
          18.28,
          18.67,
          18.24,
          18.44,
          18.58,
          17.68,
          18.56,
          17.99,
          18.36,
          18.37,
          19.33,
          19.18,
          19.81,
          17.86,
          18.84,
          18.32,
          18.87,
          18.5,
          18.78,
          18.6,
          18.83,
          19.07,
          19.96,
          19.24,
          18.49,
          19.79,
          19.15,
          18.32,
          18.25,
          18.88,
          18.81,
          19.02,
          20.92,
          20.59
         ],
         "yaxis": "y9"
        },
        {
         "hovertemplate": "Month=FEB<br>Year=%{x}<br>Temprature=%{y}<extra></extra>",
         "legendgroup": "",
         "line": {
          "color": "#636efa",
          "dash": "solid"
         },
         "marker": {
          "symbol": "circle"
         },
         "mode": "lines",
         "name": "",
         "showlegend": false,
         "type": "scattergl",
         "x": [
          1901,
          1902,
          1903,
          1904,
          1905,
          1906,
          1907,
          1908,
          1909,
          1910,
          1911,
          1912,
          1913,
          1914,
          1915,
          1916,
          1917,
          1918,
          1919,
          1920,
          1921,
          1922,
          1923,
          1924,
          1925,
          1926,
          1927,
          1928,
          1929,
          1930,
          1931,
          1932,
          1933,
          1934,
          1935,
          1936,
          1937,
          1938,
          1939,
          1940,
          1941,
          1942,
          1943,
          1944,
          1945,
          1946,
          1947,
          1948,
          1949,
          1950,
          1951,
          1952,
          1953,
          1954,
          1955,
          1956,
          1957,
          1958,
          1959,
          1960,
          1961,
          1962,
          1963,
          1964,
          1965,
          1966,
          1967,
          1968,
          1969,
          1970,
          1971,
          1972,
          1973,
          1974,
          1975,
          1976,
          1977,
          1978,
          1979,
          1980,
          1981,
          1982,
          1983,
          1984,
          1985,
          1986,
          1987,
          1988,
          1989,
          1990,
          1991,
          1992,
          1993,
          1994,
          1995,
          1996,
          1997,
          1998,
          1999,
          2000,
          2001,
          2002,
          2003,
          2004,
          2005,
          2006,
          2007,
          2008,
          2009,
          2010,
          2011,
          2012,
          2013,
          2014,
          2015,
          2016,
          2017
         ],
         "xaxis": "x10",
         "y": [
          19.43,
          20.39,
          19.79,
          19.39,
          17.79,
          19.14,
          19.42,
          19.73,
          19.05,
          19.72,
          19.18,
          20.84,
          19.98,
          19.66,
          19,
          19.68,
          19.94,
          19.58,
          19.15,
          19.16,
          22.12,
          20.5,
          19.35,
          19.97,
          19.08,
          20.7,
          19.4,
          20.13,
          19,
          18.72,
          19.73,
          19.51,
          20.33,
          20.51,
          21,
          20,
          20.21,
          18.77,
          19.79,
          19.88,
          20.28,
          20.06,
          19.47,
          19.07,
          19.37,
          20.73,
          19.84,
          19.36,
          19.36,
          19.05,
          19.36,
          21.05,
          20.86,
          20.45,
          20.5,
          19.66,
          19.27,
          20.51,
          19.47,
          21.13,
          19.08,
          20.28,
          20.55,
          19.95,
          19.96,
          21.17,
          20.73,
          18.98,
          20.3,
          20.39,
          19.99,
          18.73,
          20.98,
          19.28,
          19.67,
          19.54,
          20.34,
          19.76,
          19.97,
          20.47,
          20.44,
          19.52,
          19.81,
          19.42,
          20.54,
          20,
          20.41,
          20.83,
          19.85,
          20.33,
          20.43,
          19.77,
          20.84,
          20.2,
          21.48,
          21.73,
          19.88,
          20.6,
          21.26,
          19.78,
          21,
          20.52,
          21.03,
          21.03,
          20.51,
          23.02,
          20.97,
          19.83,
          21.66,
          21.23,
          20.79,
          20.43,
          21.07,
          20.35,
          21.23,
          23.58,
          23.08
         ],
         "yaxis": "y10"
        },
        {
         "hovertemplate": "Month=MAR<br>Year=%{x}<br>Temprature=%{y}<extra></extra>",
         "legendgroup": "",
         "line": {
          "color": "#636efa",
          "dash": "solid"
         },
         "marker": {
          "symbol": "circle"
         },
         "mode": "lines",
         "name": "",
         "showlegend": false,
         "type": "scattergl",
         "x": [
          1901,
          1902,
          1903,
          1904,
          1905,
          1906,
          1907,
          1908,
          1909,
          1910,
          1911,
          1912,
          1913,
          1914,
          1915,
          1916,
          1917,
          1918,
          1919,
          1920,
          1921,
          1922,
          1923,
          1924,
          1925,
          1926,
          1927,
          1928,
          1929,
          1930,
          1931,
          1932,
          1933,
          1934,
          1935,
          1936,
          1937,
          1938,
          1939,
          1940,
          1941,
          1942,
          1943,
          1944,
          1945,
          1946,
          1947,
          1948,
          1949,
          1950,
          1951,
          1952,
          1953,
          1954,
          1955,
          1956,
          1957,
          1958,
          1959,
          1960,
          1961,
          1962,
          1963,
          1964,
          1965,
          1966,
          1967,
          1968,
          1969,
          1970,
          1971,
          1972,
          1973,
          1974,
          1975,
          1976,
          1977,
          1978,
          1979,
          1980,
          1981,
          1982,
          1983,
          1984,
          1985,
          1986,
          1987,
          1988,
          1989,
          1990,
          1991,
          1992,
          1993,
          1994,
          1995,
          1996,
          1997,
          1998,
          1999,
          2000,
          2001,
          2002,
          2003,
          2004,
          2005,
          2006,
          2007,
          2008,
          2009,
          2010,
          2011,
          2012,
          2013,
          2014,
          2015,
          2016,
          2017
         ],
         "xaxis": "x11",
         "y": [
          23.49,
          24.1,
          22.46,
          22.95,
          21.78,
          22.21,
          22.03,
          22.93,
          23.4,
          22.9,
          22.05,
          22.93,
          22.15,
          22.63,
          22.69,
          24.24,
          22.46,
          22.64,
          23.15,
          23.02,
          24.26,
          23.65,
          23.21,
          24.12,
          23.5,
          22.87,
          22.71,
          23.23,
          24.05,
          23.36,
          23.31,
          23.39,
          23.22,
          22.97,
          23.39,
          22.84,
          22.6,
          23.61,
          21.98,
          22.23,
          24.24,
          23.87,
          23.31,
          22.54,
          23.28,
          23.02,
          23.55,
          22.72,
          23.37,
          22.45,
          23.13,
          22.73,
          24.9,
          23.66,
          23.93,
          23.44,
          22.31,
          23.93,
          23.66,
          22.65,
          23.84,
          23.31,
          23.31,
          24.25,
          22.81,
          23.51,
          22.69,
          23.18,
          24.52,
          23.28,
          23.29,
          23.43,
          23.33,
          23.91,
          22.78,
          22.98,
          24.45,
          22.46,
          22.75,
          23.24,
          23.26,
          22.37,
          22.68,
          23.98,
          24.6,
          23.53,
          23.45,
          23.51,
          23,
          22.79,
          23.58,
          22.95,
          22.71,
          24.14,
          24.26,
          25.13,
          23.64,
          22.98,
          24.18,
          23.22,
          24.12,
          24.44,
          23.62,
          26.19,
          24.14,
          23.91,
          23.52,
          24.43,
          24.55,
          26.53,
          24.11,
          23.98,
          24.53,
          23.34,
          23.52,
          26.61,
          25.58
         ],
         "yaxis": "y11"
        },
        {
         "hovertemplate": "Month=APR<br>Year=%{x}<br>Temprature=%{y}<extra></extra>",
         "legendgroup": "",
         "line": {
          "color": "#636efa",
          "dash": "solid"
         },
         "marker": {
          "symbol": "circle"
         },
         "mode": "lines",
         "name": "",
         "showlegend": false,
         "type": "scattergl",
         "x": [
          1901,
          1902,
          1903,
          1904,
          1905,
          1906,
          1907,
          1908,
          1909,
          1910,
          1911,
          1912,
          1913,
          1914,
          1915,
          1916,
          1917,
          1918,
          1919,
          1920,
          1921,
          1922,
          1923,
          1924,
          1925,
          1926,
          1927,
          1928,
          1929,
          1930,
          1931,
          1932,
          1933,
          1934,
          1935,
          1936,
          1937,
          1938,
          1939,
          1940,
          1941,
          1942,
          1943,
          1944,
          1945,
          1946,
          1947,
          1948,
          1949,
          1950,
          1951,
          1952,
          1953,
          1954,
          1955,
          1956,
          1957,
          1958,
          1959,
          1960,
          1961,
          1962,
          1963,
          1964,
          1965,
          1966,
          1967,
          1968,
          1969,
          1970,
          1971,
          1972,
          1973,
          1974,
          1975,
          1976,
          1977,
          1978,
          1979,
          1980,
          1981,
          1982,
          1983,
          1984,
          1985,
          1986,
          1987,
          1988,
          1989,
          1990,
          1991,
          1992,
          1993,
          1994,
          1995,
          1996,
          1997,
          1998,
          1999,
          2000,
          2001,
          2002,
          2003,
          2004,
          2005,
          2006,
          2007,
          2008,
          2009,
          2010,
          2011,
          2012,
          2013,
          2014,
          2015,
          2016,
          2017
         ],
         "xaxis": "x12",
         "y": [
          26.41,
          26.54,
          26.03,
          26.73,
          24.84,
          26.53,
          26.98,
          27.06,
          25.76,
          25.96,
          26,
          26.21,
          26.61,
          25.73,
          26.23,
          26.84,
          25.29,
          25.26,
          26.19,
          25.73,
          27.11,
          26.55,
          26.81,
          26.87,
          27.24,
          25.3,
          26.13,
          26.44,
          26.44,
          25.94,
          27.27,
          26.59,
          25.52,
          26.58,
          25.15,
          26.27,
          25.83,
          26.91,
          25.67,
          25.88,
          27.49,
          26.79,
          25.56,
          25.63,
          25.52,
          26.86,
          26.88,
          26.68,
          26.71,
          25.72,
          25.19,
          26.96,
          26.8,
          26.99,
          25.5,
          26.72,
          25.68,
          27.23,
          26.87,
          26.17,
          26.42,
          26.45,
          25.69,
          26.82,
          25.35,
          26.44,
          26.04,
          25.89,
          26.7,
          27.17,
          26.48,
          25.85,
          27.54,
          27.01,
          26.39,
          25.92,
          26.38,
          26.44,
          27.2,
          27.55,
          26.65,
          26.15,
          25.67,
          26.66,
          27.02,
          26.53,
          26.59,
          26.6,
          25.95,
          26.15,
          26.13,
          26.21,
          26.5,
          26.04,
          27.23,
          26.67,
          25.55,
          27,
          27.66,
          27.27,
          26.9,
          27.66,
          27.29,
          27.38,
          26.62,
          26.83,
          27.72,
          26.54,
          27.35,
          28.4,
          26.1,
          26.89,
          26.97,
          26.91,
          26.52,
          29.56,
          29.17
         ],
         "yaxis": "y12"
        },
        {
         "hovertemplate": "Month=MAY<br>Year=%{x}<br>Temprature=%{y}<extra></extra>",
         "legendgroup": "",
         "line": {
          "color": "#636efa",
          "dash": "solid"
         },
         "marker": {
          "symbol": "circle"
         },
         "mode": "lines",
         "name": "",
         "showlegend": false,
         "type": "scattergl",
         "x": [
          1901,
          1902,
          1903,
          1904,
          1905,
          1906,
          1907,
          1908,
          1909,
          1910,
          1911,
          1912,
          1913,
          1914,
          1915,
          1916,
          1917,
          1918,
          1919,
          1920,
          1921,
          1922,
          1923,
          1924,
          1925,
          1926,
          1927,
          1928,
          1929,
          1930,
          1931,
          1932,
          1933,
          1934,
          1935,
          1936,
          1937,
          1938,
          1939,
          1940,
          1941,
          1942,
          1943,
          1944,
          1945,
          1946,
          1947,
          1948,
          1949,
          1950,
          1951,
          1952,
          1953,
          1954,
          1955,
          1956,
          1957,
          1958,
          1959,
          1960,
          1961,
          1962,
          1963,
          1964,
          1965,
          1966,
          1967,
          1968,
          1969,
          1970,
          1971,
          1972,
          1973,
          1974,
          1975,
          1976,
          1977,
          1978,
          1979,
          1980,
          1981,
          1982,
          1983,
          1984,
          1985,
          1986,
          1987,
          1988,
          1989,
          1990,
          1991,
          1992,
          1993,
          1994,
          1995,
          1996,
          1997,
          1998,
          1999,
          2000,
          2001,
          2002,
          2003,
          2004,
          2005,
          2006,
          2007,
          2008,
          2009,
          2010,
          2011,
          2012,
          2013,
          2014,
          2015,
          2016,
          2017
         ],
         "xaxis": "x5",
         "y": [
          28.28,
          28.68,
          27.93,
          27.83,
          28.32,
          29.06,
          27.52,
          28.07,
          27.97,
          28.36,
          28.55,
          28.3,
          27.95,
          28.24,
          29.17,
          28.16,
          26.97,
          28.27,
          28.2,
          27.06,
          30.78,
          29.8,
          28.33,
          27.43,
          27.82,
          27.69,
          27.7,
          28.88,
          28.58,
          28.11,
          28.51,
          27.74,
          27.26,
          28.13,
          28.88,
          28.97,
          28.4,
          28.97,
          28.63,
          28.38,
          28.89,
          28.82,
          27.82,
          28.93,
          28.31,
          28.48,
          28.82,
          28.71,
          28.35,
          28.34,
          28.07,
          28.41,
          28.99,
          28.84,
          27.31,
          28.72,
          27.76,
          28.2,
          28.39,
          28.29,
          28.07,
          27.97,
          27.71,
          28.06,
          27.57,
          28.27,
          27.92,
          27.77,
          27.93,
          28.71,
          27.58,
          28.08,
          28.71,
          27.81,
          28.16,
          27.94,
          27.26,
          28.92,
          27.97,
          28.94,
          28.51,
          27.72,
          28.02,
          28.88,
          28.52,
          27.75,
          27.51,
          28.6,
          28.13,
          27.71,
          28.35,
          27.75,
          28.73,
          28.72,
          29.34,
          28.37,
          27.86,
          29.18,
          28.13,
          28.92,
          29.46,
          29.56,
          28.64,
          28.12,
          28.22,
          28.82,
          28.84,
          28.42,
          28.71,
          29.19,
          28.92,
          28.72,
          29.06,
          28.45,
          28.82,
          30.41,
          30.47
         ],
         "yaxis": "y5"
        },
        {
         "hovertemplate": "Month=JUN<br>Year=%{x}<br>Temprature=%{y}<extra></extra>",
         "legendgroup": "",
         "line": {
          "color": "#636efa",
          "dash": "solid"
         },
         "marker": {
          "symbol": "circle"
         },
         "mode": "lines",
         "name": "",
         "showlegend": false,
         "type": "scattergl",
         "x": [
          1901,
          1902,
          1903,
          1904,
          1905,
          1906,
          1907,
          1908,
          1909,
          1910,
          1911,
          1912,
          1913,
          1914,
          1915,
          1916,
          1917,
          1918,
          1919,
          1920,
          1921,
          1922,
          1923,
          1924,
          1925,
          1926,
          1927,
          1928,
          1929,
          1930,
          1931,
          1932,
          1933,
          1934,
          1935,
          1936,
          1937,
          1938,
          1939,
          1940,
          1941,
          1942,
          1943,
          1944,
          1945,
          1946,
          1947,
          1948,
          1949,
          1950,
          1951,
          1952,
          1953,
          1954,
          1955,
          1956,
          1957,
          1958,
          1959,
          1960,
          1961,
          1962,
          1963,
          1964,
          1965,
          1966,
          1967,
          1968,
          1969,
          1970,
          1971,
          1972,
          1973,
          1974,
          1975,
          1976,
          1977,
          1978,
          1979,
          1980,
          1981,
          1982,
          1983,
          1984,
          1985,
          1986,
          1987,
          1988,
          1989,
          1990,
          1991,
          1992,
          1993,
          1994,
          1995,
          1996,
          1997,
          1998,
          1999,
          2000,
          2001,
          2002,
          2003,
          2004,
          2005,
          2006,
          2007,
          2008,
          2009,
          2010,
          2011,
          2012,
          2013,
          2014,
          2015,
          2016,
          2017
         ],
         "xaxis": "x6",
         "y": [
          28.6,
          28.44,
          28.41,
          27.85,
          28.69,
          28.02,
          27.66,
          28.49,
          27.67,
          27.72,
          28.02,
          28.53,
          27.91,
          28.46,
          28.58,
          27.81,
          27.41,
          27.58,
          28.3,
          27.76,
          28.04,
          28.03,
          28.95,
          28.6,
          27.76,
          28.97,
          27.93,
          28.22,
          28.07,
          27.84,
          28.68,
          28.52,
          27.92,
          28.22,
          28.45,
          27.41,
          28.69,
          27.33,
          28.11,
          28.29,
          28.52,
          28.81,
          27.8,
          28.39,
          28.81,
          28.14,
          28.82,
          28.16,
          27.86,
          28.21,
          27.74,
          28.36,
          28.79,
          28.28,
          28.01,
          27.54,
          28.13,
          29.01,
          28.47,
          28.5,
          27.8,
          28.25,
          28.24,
          28.03,
          28.44,
          28.25,
          28.36,
          28.24,
          28.68,
          27.86,
          27.58,
          28.7,
          28.62,
          27.89,
          27.72,
          27.86,
          28.04,
          28.42,
          28.83,
          28.25,
          28.4,
          28.2,
          28.6,
          28.43,
          28.05,
          28.19,
          28.9,
          28.37,
          27.72,
          28.11,
          28.17,
          28.4,
          28.5,
          28.56,
          29.88,
          28.08,
          28.33,
          28.88,
          27.95,
          28.02,
          28.13,
          28.77,
          29.01,
          27.94,
          28.99,
          28.13,
          28.31,
          28.1,
          28.77,
          28.51,
          28.6,
          28.91,
          28.24,
          29.42,
          28.15,
          29.7,
          29.44
         ],
         "yaxis": "y6"
        },
        {
         "hovertemplate": "Month=JUL<br>Year=%{x}<br>Temprature=%{y}<extra></extra>",
         "legendgroup": "",
         "line": {
          "color": "#636efa",
          "dash": "solid"
         },
         "marker": {
          "symbol": "circle"
         },
         "mode": "lines",
         "name": "",
         "showlegend": false,
         "type": "scattergl",
         "x": [
          1901,
          1902,
          1903,
          1904,
          1905,
          1906,
          1907,
          1908,
          1909,
          1910,
          1911,
          1912,
          1913,
          1914,
          1915,
          1916,
          1917,
          1918,
          1919,
          1920,
          1921,
          1922,
          1923,
          1924,
          1925,
          1926,
          1927,
          1928,
          1929,
          1930,
          1931,
          1932,
          1933,
          1934,
          1935,
          1936,
          1937,
          1938,
          1939,
          1940,
          1941,
          1942,
          1943,
          1944,
          1945,
          1946,
          1947,
          1948,
          1949,
          1950,
          1951,
          1952,
          1953,
          1954,
          1955,
          1956,
          1957,
          1958,
          1959,
          1960,
          1961,
          1962,
          1963,
          1964,
          1965,
          1966,
          1967,
          1968,
          1969,
          1970,
          1971,
          1972,
          1973,
          1974,
          1975,
          1976,
          1977,
          1978,
          1979,
          1980,
          1981,
          1982,
          1983,
          1984,
          1985,
          1986,
          1987,
          1988,
          1989,
          1990,
          1991,
          1992,
          1993,
          1994,
          1995,
          1996,
          1997,
          1998,
          1999,
          2000,
          2001,
          2002,
          2003,
          2004,
          2005,
          2006,
          2007,
          2008,
          2009,
          2010,
          2011,
          2012,
          2013,
          2014,
          2015,
          2016,
          2017
         ],
         "xaxis": "x7",
         "y": [
          27.49,
          27.29,
          28.04,
          26.84,
          27.67,
          27.46,
          27.28,
          27.16,
          26.56,
          26.93,
          27.44,
          27.49,
          27,
          27.29,
          27.77,
          27.08,
          27.15,
          27.74,
          27.28,
          27.48,
          27.4,
          27.26,
          26.89,
          27.5,
          27.01,
          27.65,
          27.23,
          27.28,
          27.26,
          27.31,
          26.93,
          27.46,
          27.39,
          27.42,
          27.18,
          27.12,
          27,
          27.16,
          27.22,
          27.42,
          27.54,
          27.28,
          27.16,
          27.42,
          27.39,
          27.47,
          27.41,
          27.15,
          27.24,
          27.03,
          27.2,
          27.37,
          27.35,
          27.03,
          27.07,
          26.58,
          27.43,
          27.6,
          26.96,
          27.33,
          27.08,
          27.53,
          27.48,
          26.77,
          27.14,
          27.42,
          27.36,
          27.12,
          27.47,
          27.25,
          26.87,
          27.37,
          27.54,
          27.07,
          26.48,
          27.34,
          27.26,
          27.04,
          27.72,
          27.33,
          27.28,
          27.68,
          27.51,
          26.94,
          27.06,
          27.3,
          28.16,
          27.12,
          26.96,
          27.06,
          27.59,
          27.31,
          27.24,
          27.34,
          27.8,
          27.42,
          28.01,
          27.78,
          27.58,
          27.34,
          27.63,
          28.47,
          27.53,
          27.44,
          27.34,
          27.92,
          27.66,
          27.5,
          27.83,
          27.55,
          27.6,
          27.98,
          27.5,
          28.07,
          28.03,
          28.18,
          28.31
         ],
         "yaxis": "y7"
        },
        {
         "hovertemplate": "Month=AUG<br>Year=%{x}<br>Temprature=%{y}<extra></extra>",
         "legendgroup": "",
         "line": {
          "color": "#636efa",
          "dash": "solid"
         },
         "marker": {
          "symbol": "circle"
         },
         "mode": "lines",
         "name": "",
         "showlegend": false,
         "type": "scattergl",
         "x": [
          1901,
          1902,
          1903,
          1904,
          1905,
          1906,
          1907,
          1908,
          1909,
          1910,
          1911,
          1912,
          1913,
          1914,
          1915,
          1916,
          1917,
          1918,
          1919,
          1920,
          1921,
          1922,
          1923,
          1924,
          1925,
          1926,
          1927,
          1928,
          1929,
          1930,
          1931,
          1932,
          1933,
          1934,
          1935,
          1936,
          1937,
          1938,
          1939,
          1940,
          1941,
          1942,
          1943,
          1944,
          1945,
          1946,
          1947,
          1948,
          1949,
          1950,
          1951,
          1952,
          1953,
          1954,
          1955,
          1956,
          1957,
          1958,
          1959,
          1960,
          1961,
          1962,
          1963,
          1964,
          1965,
          1966,
          1967,
          1968,
          1969,
          1970,
          1971,
          1972,
          1973,
          1974,
          1975,
          1976,
          1977,
          1978,
          1979,
          1980,
          1981,
          1982,
          1983,
          1984,
          1985,
          1986,
          1987,
          1988,
          1989,
          1990,
          1991,
          1992,
          1993,
          1994,
          1995,
          1996,
          1997,
          1998,
          1999,
          2000,
          2001,
          2002,
          2003,
          2004,
          2005,
          2006,
          2007,
          2008,
          2009,
          2010,
          2011,
          2012,
          2013,
          2014,
          2015,
          2016,
          2017
         ],
         "xaxis": "x8",
         "y": [
          26.98,
          27.05,
          26.63,
          26.73,
          27.47,
          26.82,
          26.38,
          26.41,
          26.43,
          26.61,
          27.04,
          26.68,
          26.8,
          26.49,
          27.32,
          26.77,
          26.64,
          26.97,
          26.84,
          26.61,
          26.59,
          26.95,
          26.71,
          26.91,
          26.64,
          27.08,
          26.66,
          26.9,
          26.64,
          26.85,
          27.31,
          26.8,
          26.32,
          26.74,
          26.37,
          26.8,
          27.18,
          26.83,
          26.92,
          26.44,
          27.43,
          26.62,
          26.66,
          27.11,
          26.98,
          27.04,
          27.46,
          26.72,
          26.83,
          26.63,
          27.09,
          26.79,
          26.91,
          26.86,
          26.63,
          26.23,
          26.75,
          26.74,
          27.06,
          27.2,
          26.89,
          26.88,
          26.83,
          26.82,
          26.49,
          27.02,
          26.7,
          26.9,
          26.97,
          26.84,
          26.53,
          26.76,
          26.61,
          26.91,
          26.47,
          26.21,
          26.88,
          26.8,
          27.24,
          26.93,
          26.85,
          26.98,
          27.14,
          27.17,
          26.9,
          26.75,
          27.34,
          26.91,
          26.86,
          26.99,
          26.88,
          26.78,
          27.29,
          27.01,
          27.4,
          26.77,
          27.27,
          27.42,
          27.08,
          26.98,
          27.62,
          27.27,
          27.25,
          27.16,
          27.41,
          27.15,
          27.37,
          27,
          27.85,
          27.33,
          27.2,
          27.31,
          27.22,
          27.42,
          27.64,
          28.17,
          28.12
         ],
         "yaxis": "y8"
        },
        {
         "hovertemplate": "Month=SEP<br>Year=%{x}<br>Temprature=%{y}<extra></extra>",
         "legendgroup": "",
         "line": {
          "color": "#636efa",
          "dash": "solid"
         },
         "marker": {
          "symbol": "circle"
         },
         "mode": "lines",
         "name": "",
         "showlegend": false,
         "type": "scattergl",
         "x": [
          1901,
          1902,
          1903,
          1904,
          1905,
          1906,
          1907,
          1908,
          1909,
          1910,
          1911,
          1912,
          1913,
          1914,
          1915,
          1916,
          1917,
          1918,
          1919,
          1920,
          1921,
          1922,
          1923,
          1924,
          1925,
          1926,
          1927,
          1928,
          1929,
          1930,
          1931,
          1932,
          1933,
          1934,
          1935,
          1936,
          1937,
          1938,
          1939,
          1940,
          1941,
          1942,
          1943,
          1944,
          1945,
          1946,
          1947,
          1948,
          1949,
          1950,
          1951,
          1952,
          1953,
          1954,
          1955,
          1956,
          1957,
          1958,
          1959,
          1960,
          1961,
          1962,
          1963,
          1964,
          1965,
          1966,
          1967,
          1968,
          1969,
          1970,
          1971,
          1972,
          1973,
          1974,
          1975,
          1976,
          1977,
          1978,
          1979,
          1980,
          1981,
          1982,
          1983,
          1984,
          1985,
          1986,
          1987,
          1988,
          1989,
          1990,
          1991,
          1992,
          1993,
          1994,
          1995,
          1996,
          1997,
          1998,
          1999,
          2000,
          2001,
          2002,
          2003,
          2004,
          2005,
          2006,
          2007,
          2008,
          2009,
          2010,
          2011,
          2012,
          2013,
          2014,
          2015,
          2016,
          2017
         ],
         "xaxis": "x",
         "y": [
          26.26,
          25.95,
          26.34,
          25.84,
          26.29,
          26.23,
          26.26,
          25.74,
          25.47,
          25.98,
          26.22,
          25.81,
          26.02,
          26.38,
          26.82,
          26,
          25.79,
          26,
          25.84,
          26.34,
          25.92,
          26.04,
          25.89,
          25.72,
          26.29,
          25.95,
          26.1,
          26.32,
          26.41,
          26.17,
          26.25,
          26.5,
          25.86,
          26.56,
          25.85,
          26.44,
          26.43,
          26.14,
          26.4,
          26.19,
          26.29,
          26.03,
          26.26,
          26.08,
          26.51,
          26.31,
          26.28,
          26.28,
          26.41,
          25.6,
          26.72,
          26.48,
          26.24,
          26.19,
          26.19,
          26.26,
          26.28,
          26.37,
          26.27,
          26.33,
          26.45,
          25.92,
          26.26,
          25.99,
          26.25,
          25.99,
          26.35,
          26.61,
          26.26,
          26.31,
          26.03,
          26.26,
          26.44,
          26.21,
          25.63,
          26.08,
          26.33,
          26.23,
          26.38,
          26.55,
          26.36,
          26.4,
          26.48,
          25.83,
          26.45,
          26.43,
          27.13,
          26.48,
          26.38,
          26.55,
          26.65,
          26.11,
          26.34,
          26.31,
          27.15,
          26.64,
          26.81,
          26.7,
          26.9,
          26.53,
          26.86,
          26.43,
          26.75,
          26.8,
          26.82,
          26.42,
          26.61,
          26.44,
          27.11,
          26.6,
          26.7,
          26.65,
          26.87,
          26.61,
          27.04,
          27.72,
          28.11
         ],
         "yaxis": "y"
        },
        {
         "hovertemplate": "Month=OCT<br>Year=%{x}<br>Temprature=%{y}<extra></extra>",
         "legendgroup": "",
         "line": {
          "color": "#636efa",
          "dash": "solid"
         },
         "marker": {
          "symbol": "circle"
         },
         "mode": "lines",
         "name": "",
         "showlegend": false,
         "type": "scattergl",
         "x": [
          1901,
          1902,
          1903,
          1904,
          1905,
          1906,
          1907,
          1908,
          1909,
          1910,
          1911,
          1912,
          1913,
          1914,
          1915,
          1916,
          1917,
          1918,
          1919,
          1920,
          1921,
          1922,
          1923,
          1924,
          1925,
          1926,
          1927,
          1928,
          1929,
          1930,
          1931,
          1932,
          1933,
          1934,
          1935,
          1936,
          1937,
          1938,
          1939,
          1940,
          1941,
          1942,
          1943,
          1944,
          1945,
          1946,
          1947,
          1948,
          1949,
          1950,
          1951,
          1952,
          1953,
          1954,
          1955,
          1956,
          1957,
          1958,
          1959,
          1960,
          1961,
          1962,
          1963,
          1964,
          1965,
          1966,
          1967,
          1968,
          1969,
          1970,
          1971,
          1972,
          1973,
          1974,
          1975,
          1976,
          1977,
          1978,
          1979,
          1980,
          1981,
          1982,
          1983,
          1984,
          1985,
          1986,
          1987,
          1988,
          1989,
          1990,
          1991,
          1992,
          1993,
          1994,
          1995,
          1996,
          1997,
          1998,
          1999,
          2000,
          2001,
          2002,
          2003,
          2004,
          2005,
          2006,
          2007,
          2008,
          2009,
          2010,
          2011,
          2012,
          2013,
          2014,
          2015,
          2016,
          2017
         ],
         "xaxis": "x2",
         "y": [
          25.08,
          24.37,
          24.57,
          24.36,
          26.16,
          24.75,
          24.72,
          24.25,
          24.37,
          24.04,
          24.57,
          24.44,
          24.35,
          23.97,
          25.46,
          24.6,
          23.85,
          24.54,
          24.36,
          24.85,
          23.84,
          23.94,
          23.89,
          24.5,
          24.61,
          24.41,
          24.7,
          24.92,
          24.12,
          24.6,
          24.91,
          24.69,
          24.35,
          24.42,
          24.42,
          24.73,
          23.98,
          24.41,
          24.66,
          24.74,
          25.47,
          24.56,
          24.2,
          24.49,
          24.36,
          24.98,
          24.67,
          24.84,
          24.7,
          24.07,
          25.73,
          24.72,
          24.67,
          23.52,
          24.22,
          24.05,
          24.35,
          24.74,
          24.98,
          24.58,
          24.23,
          24.12,
          24.9,
          24.8,
          24.99,
          24.51,
          24.22,
          24.32,
          24.89,
          24.81,
          24.39,
          24.27,
          24.43,
          24.65,
          24.65,
          24.92,
          24.86,
          24.94,
          25.23,
          25.12,
          24.74,
          24.89,
          24.56,
          24.65,
          24.33,
          24.48,
          25.03,
          24.79,
          24.84,
          24.51,
          24.56,
          24.7,
          24.88,
          24.56,
          26,
          24.5,
          24.48,
          25.27,
          24.97,
          25.58,
          25.49,
          25.44,
          24.92,
          24.34,
          24.84,
          25.41,
          24.92,
          25.47,
          25.2,
          25.58,
          25.51,
          24.85,
          25.63,
          25.38,
          25.82,
          26.81,
          27.24
         ],
         "yaxis": "y2"
        },
        {
         "hovertemplate": "Month=NOV<br>Year=%{x}<br>Temprature=%{y}<extra></extra>",
         "legendgroup": "",
         "line": {
          "color": "#636efa",
          "dash": "solid"
         },
         "marker": {
          "symbol": "circle"
         },
         "mode": "lines",
         "name": "",
         "showlegend": false,
         "type": "scattergl",
         "x": [
          1901,
          1902,
          1903,
          1904,
          1905,
          1906,
          1907,
          1908,
          1909,
          1910,
          1911,
          1912,
          1913,
          1914,
          1915,
          1916,
          1917,
          1918,
          1919,
          1920,
          1921,
          1922,
          1923,
          1924,
          1925,
          1926,
          1927,
          1928,
          1929,
          1930,
          1931,
          1932,
          1933,
          1934,
          1935,
          1936,
          1937,
          1938,
          1939,
          1940,
          1941,
          1942,
          1943,
          1944,
          1945,
          1946,
          1947,
          1948,
          1949,
          1950,
          1951,
          1952,
          1953,
          1954,
          1955,
          1956,
          1957,
          1958,
          1959,
          1960,
          1961,
          1962,
          1963,
          1964,
          1965,
          1966,
          1967,
          1968,
          1969,
          1970,
          1971,
          1972,
          1973,
          1974,
          1975,
          1976,
          1977,
          1978,
          1979,
          1980,
          1981,
          1982,
          1983,
          1984,
          1985,
          1986,
          1987,
          1988,
          1989,
          1990,
          1991,
          1992,
          1993,
          1994,
          1995,
          1996,
          1997,
          1998,
          1999,
          2000,
          2001,
          2002,
          2003,
          2004,
          2005,
          2006,
          2007,
          2008,
          2009,
          2010,
          2011,
          2012,
          2013,
          2014,
          2015,
          2016,
          2017
         ],
         "xaxis": "x3",
         "y": [
          21.73,
          21.33,
          20.96,
          21.07,
          22.07,
          21.93,
          22.11,
          21.06,
          22.01,
          20.72,
          21.1,
          21,
          20.92,
          21.87,
          22.18,
          21.03,
          20.8,
          21.71,
          21.48,
          21.84,
          21.1,
          21.28,
          21.23,
          21.04,
          21.29,
          20.59,
          21.16,
          21.77,
          21.71,
          21.41,
          21.7,
          21.71,
          21.67,
          21.15,
          21.49,
          21.72,
          21.34,
          20.62,
          21.32,
          22.03,
          21.76,
          21.85,
          21.81,
          21.51,
          21.15,
          21.6,
          21.78,
          21.58,
          20.79,
          21.03,
          22.34,
          21.41,
          21.49,
          20.99,
          21.14,
          21.23,
          21.85,
          21.98,
          21.57,
          21.35,
          20.98,
          21.38,
          21.99,
          21.15,
          22.16,
          22.05,
          21.4,
          21.56,
          22.29,
          21.32,
          21.21,
          21.91,
          21.46,
          21.31,
          20.76,
          22.47,
          22.7,
          22.18,
          22.75,
          22.15,
          21.43,
          21.84,
          21.5,
          21.47,
          21.51,
          21.89,
          22.14,
          21.63,
          21.8,
          22.08,
          21.6,
          22.01,
          22.2,
          22.06,
          22.99,
          21.81,
          22.05,
          22.48,
          22.33,
          22.75,
          22.51,
          23.17,
          22.17,
          22.43,
          21.73,
          22.59,
          22.4,
          22.51,
          22.31,
          22.98,
          22.84,
          22.26,
          22.18,
          22.53,
          22.95,
          23.9,
          23.92
         ],
         "yaxis": "y3"
        },
        {
         "hovertemplate": "Month=DEC<br>Year=%{x}<br>Temprature=%{y}<extra></extra>",
         "legendgroup": "",
         "line": {
          "color": "#636efa",
          "dash": "solid"
         },
         "marker": {
          "symbol": "circle"
         },
         "mode": "lines",
         "name": "",
         "showlegend": false,
         "type": "scattergl",
         "x": [
          1901,
          1902,
          1903,
          1904,
          1905,
          1906,
          1907,
          1908,
          1909,
          1910,
          1911,
          1912,
          1913,
          1914,
          1915,
          1916,
          1917,
          1918,
          1919,
          1920,
          1921,
          1922,
          1923,
          1924,
          1925,
          1926,
          1927,
          1928,
          1929,
          1930,
          1931,
          1932,
          1933,
          1934,
          1935,
          1936,
          1937,
          1938,
          1939,
          1940,
          1941,
          1942,
          1943,
          1944,
          1945,
          1946,
          1947,
          1948,
          1949,
          1950,
          1951,
          1952,
          1953,
          1954,
          1955,
          1956,
          1957,
          1958,
          1959,
          1960,
          1961,
          1962,
          1963,
          1964,
          1965,
          1966,
          1967,
          1968,
          1969,
          1970,
          1971,
          1972,
          1973,
          1974,
          1975,
          1976,
          1977,
          1978,
          1979,
          1980,
          1981,
          1982,
          1983,
          1984,
          1985,
          1986,
          1987,
          1988,
          1989,
          1990,
          1991,
          1992,
          1993,
          1994,
          1995,
          1996,
          1997,
          1998,
          1999,
          2000,
          2001,
          2002,
          2003,
          2004,
          2005,
          2006,
          2007,
          2008,
          2009,
          2010,
          2011,
          2012,
          2013,
          2014,
          2015,
          2016,
          2017
         ],
         "xaxis": "x4",
         "y": [
          18.95,
          18.78,
          18.29,
          18.84,
          18.71,
          19.55,
          18.46,
          18.15,
          18.86,
          18.05,
          18.76,
          18.44,
          18.7,
          18.73,
          18.31,
          18.17,
          18.39,
          18.37,
          18.58,
          18.78,
          19.24,
          18.39,
          19.08,
          18.97,
          18.63,
          18.8,
          19.41,
          18.73,
          18.44,
          19.11,
          19.29,
          18.86,
          19.31,
          19.08,
          19.03,
          19.13,
          18.09,
          18.9,
          19.03,
          18.97,
          19.67,
          18.75,
          19.02,
          19.32,
          17.98,
          20.08,
          19.07,
          18.79,
          18.4,
          18.33,
          19.3,
          19.18,
          19.85,
          18.94,
          18.69,
          18.97,
          19.6,
          19.65,
          19.44,
          19.59,
          18.3,
          18.9,
          19.23,
          18.78,
          19.15,
          18.94,
          19.41,
          19.2,
          19.41,
          18.52,
          18.84,
          19.46,
          18.7,
          18.17,
          18.51,
          19.35,
          19.35,
          19.53,
          19.79,
          19.23,
          18.87,
          19.33,
          19.08,
          19.34,
          19.68,
          19.38,
          19.75,
          19.64,
          19.23,
          19.78,
          19.44,
          19.42,
          19.55,
          19.3,
          20.65,
          18.96,
          19.31,
          19.21,
          19.57,
          19.66,
          19.55,
          19.87,
          19.59,
          19.93,
          19.23,
          19.99,
          19.65,
          20.62,
          20.22,
          19.22,
          19.84,
          19.91,
          19.69,
          19.5,
          20.21,
          21.89,
          21.47
         ],
         "yaxis": "y4"
        }
       ],
       "layout": {
        "annotations": [
         {
          "font": {},
          "showarrow": false,
          "text": "Month=SEP",
          "x": 0.1175,
          "xanchor": "center",
          "xref": "paper",
          "y": 0.2866666666666666,
          "yanchor": "bottom",
          "yref": "paper"
         },
         {
          "font": {},
          "showarrow": false,
          "text": "Month=OCT",
          "x": 0.3725,
          "xanchor": "center",
          "xref": "paper",
          "y": 0.2866666666666666,
          "yanchor": "bottom",
          "yref": "paper"
         },
         {
          "font": {},
          "showarrow": false,
          "text": "Month=NOV",
          "x": 0.6275,
          "xanchor": "center",
          "xref": "paper",
          "y": 0.2866666666666666,
          "yanchor": "bottom",
          "yref": "paper"
         },
         {
          "font": {},
          "showarrow": false,
          "text": "Month=DEC",
          "x": 0.8824999999999998,
          "xanchor": "center",
          "xref": "paper",
          "y": 0.2866666666666666,
          "yanchor": "bottom",
          "yref": "paper"
         },
         {
          "font": {},
          "showarrow": false,
          "text": "Month=MAY",
          "x": 0.1175,
          "xanchor": "center",
          "xref": "paper",
          "y": 0.6433333333333333,
          "yanchor": "bottom",
          "yref": "paper"
         },
         {
          "font": {},
          "showarrow": false,
          "text": "Month=JUN",
          "x": 0.3725,
          "xanchor": "center",
          "xref": "paper",
          "y": 0.6433333333333333,
          "yanchor": "bottom",
          "yref": "paper"
         },
         {
          "font": {},
          "showarrow": false,
          "text": "Month=JUL",
          "x": 0.6275,
          "xanchor": "center",
          "xref": "paper",
          "y": 0.6433333333333333,
          "yanchor": "bottom",
          "yref": "paper"
         },
         {
          "font": {},
          "showarrow": false,
          "text": "Month=AUG",
          "x": 0.8824999999999998,
          "xanchor": "center",
          "xref": "paper",
          "y": 0.6433333333333333,
          "yanchor": "bottom",
          "yref": "paper"
         },
         {
          "font": {},
          "showarrow": false,
          "text": "Month=JAN",
          "x": 0.1175,
          "xanchor": "center",
          "xref": "paper",
          "y": 0.9999999999999999,
          "yanchor": "bottom",
          "yref": "paper"
         },
         {
          "font": {},
          "showarrow": false,
          "text": "Month=FEB",
          "x": 0.3725,
          "xanchor": "center",
          "xref": "paper",
          "y": 0.9999999999999999,
          "yanchor": "bottom",
          "yref": "paper"
         },
         {
          "font": {},
          "showarrow": false,
          "text": "Month=MAR",
          "x": 0.6275,
          "xanchor": "center",
          "xref": "paper",
          "y": 0.9999999999999999,
          "yanchor": "bottom",
          "yref": "paper"
         },
         {
          "font": {},
          "showarrow": false,
          "text": "Month=APR",
          "x": 0.8824999999999998,
          "xanchor": "center",
          "xref": "paper",
          "y": 0.9999999999999999,
          "yanchor": "bottom",
          "yref": "paper"
         }
        ],
        "legend": {
         "tracegroupgap": 0
        },
        "margin": {
         "t": 60
        },
        "template": {
         "data": {
          "bar": [
           {
            "error_x": {
             "color": "#2a3f5f"
            },
            "error_y": {
             "color": "#2a3f5f"
            },
            "marker": {
             "line": {
              "color": "#E5ECF6",
              "width": 0.5
             },
             "pattern": {
              "fillmode": "overlay",
              "size": 10,
              "solidity": 0.2
             }
            },
            "type": "bar"
           }
          ],
          "barpolar": [
           {
            "marker": {
             "line": {
              "color": "#E5ECF6",
              "width": 0.5
             },
             "pattern": {
              "fillmode": "overlay",
              "size": 10,
              "solidity": 0.2
             }
            },
            "type": "barpolar"
           }
          ],
          "carpet": [
           {
            "aaxis": {
             "endlinecolor": "#2a3f5f",
             "gridcolor": "white",
             "linecolor": "white",
             "minorgridcolor": "white",
             "startlinecolor": "#2a3f5f"
            },
            "baxis": {
             "endlinecolor": "#2a3f5f",
             "gridcolor": "white",
             "linecolor": "white",
             "minorgridcolor": "white",
             "startlinecolor": "#2a3f5f"
            },
            "type": "carpet"
           }
          ],
          "choropleth": [
           {
            "colorbar": {
             "outlinewidth": 0,
             "ticks": ""
            },
            "type": "choropleth"
           }
          ],
          "contour": [
           {
            "colorbar": {
             "outlinewidth": 0,
             "ticks": ""
            },
            "colorscale": [
             [
              0,
              "#0d0887"
             ],
             [
              0.1111111111111111,
              "#46039f"
             ],
             [
              0.2222222222222222,
              "#7201a8"
             ],
             [
              0.3333333333333333,
              "#9c179e"
             ],
             [
              0.4444444444444444,
              "#bd3786"
             ],
             [
              0.5555555555555556,
              "#d8576b"
             ],
             [
              0.6666666666666666,
              "#ed7953"
             ],
             [
              0.7777777777777778,
              "#fb9f3a"
             ],
             [
              0.8888888888888888,
              "#fdca26"
             ],
             [
              1,
              "#f0f921"
             ]
            ],
            "type": "contour"
           }
          ],
          "contourcarpet": [
           {
            "colorbar": {
             "outlinewidth": 0,
             "ticks": ""
            },
            "type": "contourcarpet"
           }
          ],
          "heatmap": [
           {
            "colorbar": {
             "outlinewidth": 0,
             "ticks": ""
            },
            "colorscale": [
             [
              0,
              "#0d0887"
             ],
             [
              0.1111111111111111,
              "#46039f"
             ],
             [
              0.2222222222222222,
              "#7201a8"
             ],
             [
              0.3333333333333333,
              "#9c179e"
             ],
             [
              0.4444444444444444,
              "#bd3786"
             ],
             [
              0.5555555555555556,
              "#d8576b"
             ],
             [
              0.6666666666666666,
              "#ed7953"
             ],
             [
              0.7777777777777778,
              "#fb9f3a"
             ],
             [
              0.8888888888888888,
              "#fdca26"
             ],
             [
              1,
              "#f0f921"
             ]
            ],
            "type": "heatmap"
           }
          ],
          "heatmapgl": [
           {
            "colorbar": {
             "outlinewidth": 0,
             "ticks": ""
            },
            "colorscale": [
             [
              0,
              "#0d0887"
             ],
             [
              0.1111111111111111,
              "#46039f"
             ],
             [
              0.2222222222222222,
              "#7201a8"
             ],
             [
              0.3333333333333333,
              "#9c179e"
             ],
             [
              0.4444444444444444,
              "#bd3786"
             ],
             [
              0.5555555555555556,
              "#d8576b"
             ],
             [
              0.6666666666666666,
              "#ed7953"
             ],
             [
              0.7777777777777778,
              "#fb9f3a"
             ],
             [
              0.8888888888888888,
              "#fdca26"
             ],
             [
              1,
              "#f0f921"
             ]
            ],
            "type": "heatmapgl"
           }
          ],
          "histogram": [
           {
            "marker": {
             "pattern": {
              "fillmode": "overlay",
              "size": 10,
              "solidity": 0.2
             }
            },
            "type": "histogram"
           }
          ],
          "histogram2d": [
           {
            "colorbar": {
             "outlinewidth": 0,
             "ticks": ""
            },
            "colorscale": [
             [
              0,
              "#0d0887"
             ],
             [
              0.1111111111111111,
              "#46039f"
             ],
             [
              0.2222222222222222,
              "#7201a8"
             ],
             [
              0.3333333333333333,
              "#9c179e"
             ],
             [
              0.4444444444444444,
              "#bd3786"
             ],
             [
              0.5555555555555556,
              "#d8576b"
             ],
             [
              0.6666666666666666,
              "#ed7953"
             ],
             [
              0.7777777777777778,
              "#fb9f3a"
             ],
             [
              0.8888888888888888,
              "#fdca26"
             ],
             [
              1,
              "#f0f921"
             ]
            ],
            "type": "histogram2d"
           }
          ],
          "histogram2dcontour": [
           {
            "colorbar": {
             "outlinewidth": 0,
             "ticks": ""
            },
            "colorscale": [
             [
              0,
              "#0d0887"
             ],
             [
              0.1111111111111111,
              "#46039f"
             ],
             [
              0.2222222222222222,
              "#7201a8"
             ],
             [
              0.3333333333333333,
              "#9c179e"
             ],
             [
              0.4444444444444444,
              "#bd3786"
             ],
             [
              0.5555555555555556,
              "#d8576b"
             ],
             [
              0.6666666666666666,
              "#ed7953"
             ],
             [
              0.7777777777777778,
              "#fb9f3a"
             ],
             [
              0.8888888888888888,
              "#fdca26"
             ],
             [
              1,
              "#f0f921"
             ]
            ],
            "type": "histogram2dcontour"
           }
          ],
          "mesh3d": [
           {
            "colorbar": {
             "outlinewidth": 0,
             "ticks": ""
            },
            "type": "mesh3d"
           }
          ],
          "parcoords": [
           {
            "line": {
             "colorbar": {
              "outlinewidth": 0,
              "ticks": ""
             }
            },
            "type": "parcoords"
           }
          ],
          "pie": [
           {
            "automargin": true,
            "type": "pie"
           }
          ],
          "scatter": [
           {
            "fillpattern": {
             "fillmode": "overlay",
             "size": 10,
             "solidity": 0.2
            },
            "type": "scatter"
           }
          ],
          "scatter3d": [
           {
            "line": {
             "colorbar": {
              "outlinewidth": 0,
              "ticks": ""
             }
            },
            "marker": {
             "colorbar": {
              "outlinewidth": 0,
              "ticks": ""
             }
            },
            "type": "scatter3d"
           }
          ],
          "scattercarpet": [
           {
            "marker": {
             "colorbar": {
              "outlinewidth": 0,
              "ticks": ""
             }
            },
            "type": "scattercarpet"
           }
          ],
          "scattergeo": [
           {
            "marker": {
             "colorbar": {
              "outlinewidth": 0,
              "ticks": ""
             }
            },
            "type": "scattergeo"
           }
          ],
          "scattergl": [
           {
            "marker": {
             "colorbar": {
              "outlinewidth": 0,
              "ticks": ""
             }
            },
            "type": "scattergl"
           }
          ],
          "scattermapbox": [
           {
            "marker": {
             "colorbar": {
              "outlinewidth": 0,
              "ticks": ""
             }
            },
            "type": "scattermapbox"
           }
          ],
          "scatterpolar": [
           {
            "marker": {
             "colorbar": {
              "outlinewidth": 0,
              "ticks": ""
             }
            },
            "type": "scatterpolar"
           }
          ],
          "scatterpolargl": [
           {
            "marker": {
             "colorbar": {
              "outlinewidth": 0,
              "ticks": ""
             }
            },
            "type": "scatterpolargl"
           }
          ],
          "scatterternary": [
           {
            "marker": {
             "colorbar": {
              "outlinewidth": 0,
              "ticks": ""
             }
            },
            "type": "scatterternary"
           }
          ],
          "surface": [
           {
            "colorbar": {
             "outlinewidth": 0,
             "ticks": ""
            },
            "colorscale": [
             [
              0,
              "#0d0887"
             ],
             [
              0.1111111111111111,
              "#46039f"
             ],
             [
              0.2222222222222222,
              "#7201a8"
             ],
             [
              0.3333333333333333,
              "#9c179e"
             ],
             [
              0.4444444444444444,
              "#bd3786"
             ],
             [
              0.5555555555555556,
              "#d8576b"
             ],
             [
              0.6666666666666666,
              "#ed7953"
             ],
             [
              0.7777777777777778,
              "#fb9f3a"
             ],
             [
              0.8888888888888888,
              "#fdca26"
             ],
             [
              1,
              "#f0f921"
             ]
            ],
            "type": "surface"
           }
          ],
          "table": [
           {
            "cells": {
             "fill": {
              "color": "#EBF0F8"
             },
             "line": {
              "color": "white"
             }
            },
            "header": {
             "fill": {
              "color": "#C8D4E3"
             },
             "line": {
              "color": "white"
             }
            },
            "type": "table"
           }
          ]
         },
         "layout": {
          "annotationdefaults": {
           "arrowcolor": "#2a3f5f",
           "arrowhead": 0,
           "arrowwidth": 1
          },
          "autotypenumbers": "strict",
          "coloraxis": {
           "colorbar": {
            "outlinewidth": 0,
            "ticks": ""
           }
          },
          "colorscale": {
           "diverging": [
            [
             0,
             "#8e0152"
            ],
            [
             0.1,
             "#c51b7d"
            ],
            [
             0.2,
             "#de77ae"
            ],
            [
             0.3,
             "#f1b6da"
            ],
            [
             0.4,
             "#fde0ef"
            ],
            [
             0.5,
             "#f7f7f7"
            ],
            [
             0.6,
             "#e6f5d0"
            ],
            [
             0.7,
             "#b8e186"
            ],
            [
             0.8,
             "#7fbc41"
            ],
            [
             0.9,
             "#4d9221"
            ],
            [
             1,
             "#276419"
            ]
           ],
           "sequential": [
            [
             0,
             "#0d0887"
            ],
            [
             0.1111111111111111,
             "#46039f"
            ],
            [
             0.2222222222222222,
             "#7201a8"
            ],
            [
             0.3333333333333333,
             "#9c179e"
            ],
            [
             0.4444444444444444,
             "#bd3786"
            ],
            [
             0.5555555555555556,
             "#d8576b"
            ],
            [
             0.6666666666666666,
             "#ed7953"
            ],
            [
             0.7777777777777778,
             "#fb9f3a"
            ],
            [
             0.8888888888888888,
             "#fdca26"
            ],
            [
             1,
             "#f0f921"
            ]
           ],
           "sequentialminus": [
            [
             0,
             "#0d0887"
            ],
            [
             0.1111111111111111,
             "#46039f"
            ],
            [
             0.2222222222222222,
             "#7201a8"
            ],
            [
             0.3333333333333333,
             "#9c179e"
            ],
            [
             0.4444444444444444,
             "#bd3786"
            ],
            [
             0.5555555555555556,
             "#d8576b"
            ],
            [
             0.6666666666666666,
             "#ed7953"
            ],
            [
             0.7777777777777778,
             "#fb9f3a"
            ],
            [
             0.8888888888888888,
             "#fdca26"
            ],
            [
             1,
             "#f0f921"
            ]
           ]
          },
          "colorway": [
           "#636efa",
           "#EF553B",
           "#00cc96",
           "#ab63fa",
           "#FFA15A",
           "#19d3f3",
           "#FF6692",
           "#B6E880",
           "#FF97FF",
           "#FECB52"
          ],
          "font": {
           "color": "#2a3f5f"
          },
          "geo": {
           "bgcolor": "white",
           "lakecolor": "white",
           "landcolor": "#E5ECF6",
           "showlakes": true,
           "showland": true,
           "subunitcolor": "white"
          },
          "hoverlabel": {
           "align": "left"
          },
          "hovermode": "closest",
          "mapbox": {
           "style": "light"
          },
          "paper_bgcolor": "white",
          "plot_bgcolor": "#E5ECF6",
          "polar": {
           "angularaxis": {
            "gridcolor": "white",
            "linecolor": "white",
            "ticks": ""
           },
           "bgcolor": "#E5ECF6",
           "radialaxis": {
            "gridcolor": "white",
            "linecolor": "white",
            "ticks": ""
           }
          },
          "scene": {
           "xaxis": {
            "backgroundcolor": "#E5ECF6",
            "gridcolor": "white",
            "gridwidth": 2,
            "linecolor": "white",
            "showbackground": true,
            "ticks": "",
            "zerolinecolor": "white"
           },
           "yaxis": {
            "backgroundcolor": "#E5ECF6",
            "gridcolor": "white",
            "gridwidth": 2,
            "linecolor": "white",
            "showbackground": true,
            "ticks": "",
            "zerolinecolor": "white"
           },
           "zaxis": {
            "backgroundcolor": "#E5ECF6",
            "gridcolor": "white",
            "gridwidth": 2,
            "linecolor": "white",
            "showbackground": true,
            "ticks": "",
            "zerolinecolor": "white"
           }
          },
          "shapedefaults": {
           "line": {
            "color": "#2a3f5f"
           }
          },
          "ternary": {
           "aaxis": {
            "gridcolor": "white",
            "linecolor": "white",
            "ticks": ""
           },
           "baxis": {
            "gridcolor": "white",
            "linecolor": "white",
            "ticks": ""
           },
           "bgcolor": "#E5ECF6",
           "caxis": {
            "gridcolor": "white",
            "linecolor": "white",
            "ticks": ""
           }
          },
          "title": {
           "x": 0.05
          },
          "xaxis": {
           "automargin": true,
           "gridcolor": "white",
           "linecolor": "white",
           "ticks": "",
           "title": {
            "standoff": 15
           },
           "zerolinecolor": "white",
           "zerolinewidth": 2
          },
          "yaxis": {
           "automargin": true,
           "gridcolor": "white",
           "linecolor": "white",
           "ticks": "",
           "title": {
            "standoff": 15
           },
           "zerolinecolor": "white",
           "zerolinewidth": 2
          }
         }
        },
        "title": {
         "text": "Monthly temprature throught history:"
        },
        "xaxis": {
         "anchor": "y",
         "domain": [
          0,
          0.235
         ],
         "title": {
          "text": "Year"
         }
        },
        "xaxis10": {
         "anchor": "y10",
         "domain": [
          0.255,
          0.49
         ],
         "matches": "x",
         "showticklabels": false
        },
        "xaxis11": {
         "anchor": "y11",
         "domain": [
          0.51,
          0.745
         ],
         "matches": "x",
         "showticklabels": false
        },
        "xaxis12": {
         "anchor": "y12",
         "domain": [
          0.7649999999999999,
          0.9999999999999999
         ],
         "matches": "x",
         "showticklabels": false
        },
        "xaxis2": {
         "anchor": "y2",
         "domain": [
          0.255,
          0.49
         ],
         "matches": "x",
         "title": {
          "text": "Year"
         }
        },
        "xaxis3": {
         "anchor": "y3",
         "domain": [
          0.51,
          0.745
         ],
         "matches": "x",
         "title": {
          "text": "Year"
         }
        },
        "xaxis4": {
         "anchor": "y4",
         "domain": [
          0.7649999999999999,
          0.9999999999999999
         ],
         "matches": "x",
         "title": {
          "text": "Year"
         }
        },
        "xaxis5": {
         "anchor": "y5",
         "domain": [
          0,
          0.235
         ],
         "matches": "x",
         "showticklabels": false
        },
        "xaxis6": {
         "anchor": "y6",
         "domain": [
          0.255,
          0.49
         ],
         "matches": "x",
         "showticklabels": false
        },
        "xaxis7": {
         "anchor": "y7",
         "domain": [
          0.51,
          0.745
         ],
         "matches": "x",
         "showticklabels": false
        },
        "xaxis8": {
         "anchor": "y8",
         "domain": [
          0.7649999999999999,
          0.9999999999999999
         ],
         "matches": "x",
         "showticklabels": false
        },
        "xaxis9": {
         "anchor": "y9",
         "domain": [
          0,
          0.235
         ],
         "matches": "x",
         "showticklabels": false
        },
        "yaxis": {
         "anchor": "x",
         "domain": [
          0,
          0.2866666666666666
         ],
         "title": {
          "text": "Temprature"
         }
        },
        "yaxis10": {
         "anchor": "x10",
         "domain": [
          0.7133333333333333,
          0.9999999999999999
         ],
         "matches": "y",
         "showticklabels": false
        },
        "yaxis11": {
         "anchor": "x11",
         "domain": [
          0.7133333333333333,
          0.9999999999999999
         ],
         "matches": "y",
         "showticklabels": false
        },
        "yaxis12": {
         "anchor": "x12",
         "domain": [
          0.7133333333333333,
          0.9999999999999999
         ],
         "matches": "y",
         "showticklabels": false
        },
        "yaxis2": {
         "anchor": "x2",
         "domain": [
          0,
          0.2866666666666666
         ],
         "matches": "y",
         "showticklabels": false
        },
        "yaxis3": {
         "anchor": "x3",
         "domain": [
          0,
          0.2866666666666666
         ],
         "matches": "y",
         "showticklabels": false
        },
        "yaxis4": {
         "anchor": "x4",
         "domain": [
          0,
          0.2866666666666666
         ],
         "matches": "y",
         "showticklabels": false
        },
        "yaxis5": {
         "anchor": "x5",
         "domain": [
          0.35666666666666663,
          0.6433333333333333
         ],
         "matches": "y",
         "title": {
          "text": "Temprature"
         }
        },
        "yaxis6": {
         "anchor": "x6",
         "domain": [
          0.35666666666666663,
          0.6433333333333333
         ],
         "matches": "y",
         "showticklabels": false
        },
        "yaxis7": {
         "anchor": "x7",
         "domain": [
          0.35666666666666663,
          0.6433333333333333
         ],
         "matches": "y",
         "showticklabels": false
        },
        "yaxis8": {
         "anchor": "x8",
         "domain": [
          0.35666666666666663,
          0.6433333333333333
         ],
         "matches": "y",
         "showticklabels": false
        },
        "yaxis9": {
         "anchor": "x9",
         "domain": [
          0.7133333333333333,
          0.9999999999999999
         ],
         "matches": "y",
         "title": {
          "text": "Temprature"
         }
        }
       }
      }
     },
     "metadata": {},
     "output_type": "display_data"
    }
   ],
   "source": [
    "fig = px.line(df1, 'Year', 'Temprature', facet_col='Month', facet_col_wrap=4)\n",
    "fig.update_layout(title='Monthly temprature throught history:')\n",
    "fig.show()"
   ]
  },
  {
   "cell_type": "code",
   "execution_count": 20,
   "metadata": {},
   "outputs": [
    {
     "data": {
      "application/vnd.plotly.v1+json": {
       "config": {
        "plotlyServerURL": "https://plot.ly"
       },
       "data": [
        {
         "hovertemplate": "Season=Winter<br>Year=%{x}<br>Temprature=%{y}<extra></extra>",
         "legendgroup": "",
         "marker": {
          "color": "#636efa",
          "symbol": "circle"
         },
         "mode": "markers",
         "name": "",
         "orientation": "v",
         "showlegend": false,
         "type": "scatter",
         "x": [
          1901,
          1902,
          1903,
          1904,
          1905,
          1906,
          1907,
          1908,
          1909,
          1910,
          1911,
          1912,
          1913,
          1914,
          1915,
          1916,
          1917,
          1918,
          1919,
          1920,
          1921,
          1922,
          1923,
          1924,
          1925,
          1926,
          1927,
          1928,
          1929,
          1930,
          1931,
          1932,
          1933,
          1934,
          1935,
          1936,
          1937,
          1938,
          1939,
          1940,
          1941,
          1942,
          1943,
          1944,
          1945,
          1946,
          1947,
          1948,
          1949,
          1950,
          1951,
          1952,
          1953,
          1954,
          1955,
          1956,
          1957,
          1958,
          1959,
          1960,
          1961,
          1962,
          1963,
          1964,
          1965,
          1966,
          1967,
          1968,
          1969,
          1970,
          1971,
          1972,
          1973,
          1974,
          1975,
          1976,
          1977,
          1978,
          1979,
          1980,
          1981,
          1982,
          1983,
          1984,
          1985,
          1986,
          1987,
          1988,
          1989,
          1990,
          1991,
          1992,
          1993,
          1994,
          1995,
          1996,
          1997,
          1998,
          1999,
          2000,
          2001,
          2002,
          2003,
          2004,
          2005,
          2006,
          2007,
          2008,
          2009,
          2010,
          2011,
          2012,
          2013,
          2014,
          2015,
          2016,
          2017
         ],
         "xaxis": "x3",
         "y": [
          18.79,
          19.39,
          18.8,
          18.666666666666668,
          17.966666666666665,
          18.73,
          19.05,
          18.743333333333336,
          18.566666666666666,
          18.636666666666667,
          18.82,
          19.293333333333337,
          18.959999999999997,
          19.116666666666664,
          18.41333333333333,
          18.79,
          18.83,
          18.400000000000002,
          18.836666666666666,
          18.736666666666665,
          19.99,
          19.063333333333333,
          18.886666666666667,
          19,
          18.41333333333333,
          19.383333333333336,
          18.986666666666668,
          19.173333333333332,
          18.563333333333333,
          18.526666666666667,
          19.453333333333333,
          19.03,
          19.16,
          19.13,
          19.19,
          19.063333333333333,
          18.773333333333333,
          18.606666666666666,
          19.073333333333334,
          18.983333333333334,
          19.426666666666666,
          18.959999999999997,
          18.936666666666667,
          18.796666666666667,
          18.22666666666667,
          19.706666666666667,
          18.876666666666665,
          18.8,
          18.923333333333332,
          18.58,
          19.25,
          19.633333333333336,
          19.606666666666666,
          19.05333333333333,
          19.203333333333333,
          18.88,
          19.02333333333333,
          19.886666666666667,
          19.099999999999998,
          19.676666666666666,
          18.756666666666664,
          18.906666666666666,
          19.123333333333335,
          18.813333333333333,
          19.19333333333333,
          19.6,
          19.430000000000003,
          18.566666666666666,
          19.26,
          19.209999999999997,
          18.983333333333334,
          18.863333333333333,
          19.396666666666665,
          18.413333333333334,
          18.63,
          19.029999999999998,
          19.346666666666668,
          19.143333333333334,
          19.576666666666664,
          19.503333333333334,
          19.236666666666665,
          19.203333333333333,
          19.09,
          19.013333333333335,
          19.63,
          19.206666666666667,
          19.53333333333333,
          19.683333333333334,
          18.919999999999998,
          19.55666666666667,
          19.286666666666665,
          19.183333333333334,
          19.58666666666667,
          19.61,
          20.436666666666667,
          20.166666666666668,
          19.016666666666666,
          19.55,
          19.71666666666667,
          19.436666666666667,
          19.683333333333334,
          19.723333333333333,
          19.74,
          19.93,
          19.603333333333335,
          20.99,
          19.953333333333333,
          19.646666666666665,
          20.55666666666667,
          19.866666666666664,
          19.65,
          19.529999999999998,
          19.88,
          19.553333333333335,
          20.153333333333336,
          22.13,
          21.713333333333335
         ],
         "yaxis": "y3"
        },
        {
         "hovertemplate": "<b>OLS trendline</b><br>Temprature = 0.0113665 * Year + -3.02217<br>R<sup>2</sup>=0.403100<br><br>Season=Winter<br>Year=%{x}<br>Temprature=%{y} <b>(trend)</b><extra></extra>",
         "legendgroup": "",
         "marker": {
          "color": "#636efa",
          "symbol": "circle"
         },
         "mode": "lines",
         "name": "",
         "showlegend": false,
         "type": "scatter",
         "x": [
          1901,
          1902,
          1903,
          1904,
          1905,
          1906,
          1907,
          1908,
          1909,
          1910,
          1911,
          1912,
          1913,
          1914,
          1915,
          1916,
          1917,
          1918,
          1919,
          1920,
          1921,
          1922,
          1923,
          1924,
          1925,
          1926,
          1927,
          1928,
          1929,
          1930,
          1931,
          1932,
          1933,
          1934,
          1935,
          1936,
          1937,
          1938,
          1939,
          1940,
          1941,
          1942,
          1943,
          1944,
          1945,
          1946,
          1947,
          1948,
          1949,
          1950,
          1951,
          1952,
          1953,
          1954,
          1955,
          1956,
          1957,
          1958,
          1959,
          1960,
          1961,
          1962,
          1963,
          1964,
          1965,
          1966,
          1967,
          1968,
          1969,
          1970,
          1971,
          1972,
          1973,
          1974,
          1975,
          1976,
          1977,
          1978,
          1979,
          1980,
          1981,
          1982,
          1983,
          1984,
          1985,
          1986,
          1987,
          1988,
          1989,
          1990,
          1991,
          1992,
          1993,
          1994,
          1995,
          1996,
          1997,
          1998,
          1999,
          2000,
          2001,
          2002,
          2003,
          2004,
          2005,
          2006,
          2007,
          2008,
          2009,
          2010,
          2011,
          2012,
          2013,
          2014,
          2015,
          2016,
          2017
         ],
         "xaxis": "x3",
         "y": [
          18.585585011347735,
          18.59695153364938,
          18.60831805595103,
          18.619684578252677,
          18.631051100554327,
          18.642417622855973,
          18.653784145157623,
          18.66515066745927,
          18.67651718976092,
          18.687883712062565,
          18.699250234364214,
          18.71061675666586,
          18.72198327896751,
          18.733349801269156,
          18.744716323570806,
          18.756082845872452,
          18.767449368174102,
          18.778815890475748,
          18.790182412777398,
          18.801548935079047,
          18.812915457380694,
          18.824281979682343,
          18.83564850198399,
          18.84701502428564,
          18.858381546587285,
          18.869748068888935,
          18.88111459119058,
          18.89248111349223,
          18.903847635793877,
          18.915214158095527,
          18.926580680397173,
          18.937947202698822,
          18.94931372500047,
          18.96068024730212,
          18.972046769603764,
          18.983413291905414,
          18.99477981420706,
          19.00614633650871,
          19.017512858810356,
          19.028879381112006,
          19.040245903413652,
          19.0516124257153,
          19.062978948016948,
          19.074345470318598,
          19.085711992620244,
          19.097078514921893,
          19.10844503722354,
          19.11981155952519,
          19.13117808182684,
          19.142544604128485,
          19.153911126430135,
          19.16527764873178,
          19.17664417103343,
          19.188010693335077,
          19.199377215636726,
          19.210743737938373,
          19.222110260240022,
          19.23347678254167,
          19.244843304843318,
          19.256209827144964,
          19.267576349446614,
          19.27894287174826,
          19.29030939404991,
          19.301675916351556,
          19.313042438653206,
          19.32440896095485,
          19.3357754832565,
          19.347142005558148,
          19.358508527859797,
          19.369875050161443,
          19.381241572463093,
          19.39260809476474,
          19.40397461706639,
          19.415341139368035,
          19.426707661669685,
          19.43807418397133,
          19.44944070627298,
          19.46080722857463,
          19.472173750876276,
          19.483540273177926,
          19.494906795479572,
          19.506273317781222,
          19.517639840082868,
          19.529006362384518,
          19.540372884686164,
          19.551739406987814,
          19.56310592928946,
          19.57447245159111,
          19.585838973892756,
          19.597205496194405,
          19.60857201849605,
          19.6199385407977,
          19.631305063099347,
          19.642671585400997,
          19.654038107702643,
          19.665404630004293,
          19.67677115230594,
          19.68813767460759,
          19.699504196909235,
          19.710870719210885,
          19.72223724151253,
          19.73360376381418,
          19.744970286115826,
          19.756336808417476,
          19.767703330719122,
          19.779069853020772,
          19.79043637532242,
          19.801802897624068,
          19.813169419925718,
          19.824535942227364,
          19.835902464529013,
          19.84726898683066,
          19.85863550913231,
          19.870002031433955,
          19.881368553735605,
          19.89273507603725,
          19.9041015983389
         ],
         "yaxis": "y3"
        },
        {
         "hovertemplate": "Season=Summer<br>Year=%{x}<br>Temprature=%{y}<extra></extra>",
         "legendgroup": "",
         "marker": {
          "color": "#636efa",
          "symbol": "circle"
         },
         "mode": "markers",
         "name": "",
         "orientation": "v",
         "showlegend": false,
         "type": "scatter",
         "x": [
          1901,
          1902,
          1903,
          1904,
          1905,
          1906,
          1907,
          1908,
          1909,
          1910,
          1911,
          1912,
          1913,
          1914,
          1915,
          1916,
          1917,
          1918,
          1919,
          1920,
          1921,
          1922,
          1923,
          1924,
          1925,
          1926,
          1927,
          1928,
          1929,
          1930,
          1931,
          1932,
          1933,
          1934,
          1935,
          1936,
          1937,
          1938,
          1939,
          1940,
          1941,
          1942,
          1943,
          1944,
          1945,
          1946,
          1947,
          1948,
          1949,
          1950,
          1951,
          1952,
          1953,
          1954,
          1955,
          1956,
          1957,
          1958,
          1959,
          1960,
          1961,
          1962,
          1963,
          1964,
          1965,
          1966,
          1967,
          1968,
          1969,
          1970,
          1971,
          1972,
          1973,
          1974,
          1975,
          1976,
          1977,
          1978,
          1979,
          1980,
          1981,
          1982,
          1983,
          1984,
          1985,
          1986,
          1987,
          1988,
          1989,
          1990,
          1991,
          1992,
          1993,
          1994,
          1995,
          1996,
          1997,
          1998,
          1999,
          2000,
          2001,
          2002,
          2003,
          2004,
          2005,
          2006,
          2007,
          2008,
          2009,
          2010,
          2011,
          2012,
          2013,
          2014,
          2015,
          2016,
          2017
         ],
         "xaxis": "x4",
         "y": [
          26.060000000000002,
          26.439999999999998,
          25.473333333333333,
          25.836666666666662,
          24.98,
          25.933333333333334,
          25.51,
          26.02,
          25.709999999999997,
          25.74,
          25.53333333333333,
          25.813333333333333,
          25.569999999999997,
          25.53333333333333,
          26.03,
          26.41333333333333,
          24.906666666666666,
          25.39,
          25.846666666666668,
          25.27,
          27.383333333333336,
          26.666666666666668,
          26.116666666666664,
          26.14,
          26.186666666666667,
          25.286666666666665,
          25.513333333333335,
          26.183333333333334,
          26.356666666666666,
          25.80333333333333,
          26.363333333333333,
          25.906666666666666,
          25.333333333333332,
          25.89333333333333,
          25.80666666666667,
          26.026666666666667,
          25.61,
          26.496666666666666,
          25.426666666666666,
          25.496666666666666,
          26.873333333333335,
          26.49333333333333,
          25.563333333333333,
          25.7,
          25.703333333333333,
          26.12,
          26.416666666666668,
          26.036666666666665,
          26.143333333333334,
          25.503333333333334,
          25.463333333333335,
          26.03333333333333,
          26.896666666666665,
          26.496666666666666,
          25.58,
          26.293333333333333,
          25.25,
          26.453333333333333,
          26.30666666666667,
          25.703333333333333,
          26.110000000000003,
          25.909999999999997,
          25.570000000000004,
          26.376666666666665,
          25.24333333333333,
          26.073333333333334,
          25.55,
          25.613333333333333,
          26.383333333333336,
          26.386666666666667,
          25.78333333333333,
          25.786666666666665,
          26.526666666666667,
          26.243333333333336,
          25.776666666666667,
          25.613333333333333,
          26.03,
          25.94,
          25.973333333333333,
          26.576666666666668,
          26.14,
          25.41333333333333,
          25.456666666666667,
          26.506666666666664,
          26.713333333333335,
          25.936666666666667,
          25.849999999999998,
          26.236666666666668,
          25.69333333333333,
          25.55,
          26.02,
          25.636666666666667,
          25.98,
          26.3,
          26.94333333333333,
          26.723333333333333,
          25.683333333333334,
          26.386666666666667,
          26.656666666666666,
          26.47,
          26.826666666666664,
          27.22,
          26.516666666666666,
          27.23,
          26.326666666666668,
          26.52,
          26.69333333333333,
          26.463333333333335,
          26.870000000000005,
          28.040000000000003,
          26.376666666666665,
          26.53,
          26.853333333333335,
          26.233333333333334,
          26.286666666666665,
          28.86,
          28.406666666666666
         ],
         "yaxis": "y4"
        },
        {
         "hovertemplate": "<b>OLS trendline</b><br>Temprature = 0.00873458 * Year + 9.00052<br>R<sup>2</sup>=0.226838<br><br>Season=Summer<br>Year=%{x}<br>Temprature=%{y} <b>(trend)</b><extra></extra>",
         "legendgroup": "",
         "marker": {
          "color": "#636efa",
          "symbol": "circle"
         },
         "mode": "lines",
         "name": "",
         "showlegend": false,
         "type": "scatter",
         "x": [
          1901,
          1902,
          1903,
          1904,
          1905,
          1906,
          1907,
          1908,
          1909,
          1910,
          1911,
          1912,
          1913,
          1914,
          1915,
          1916,
          1917,
          1918,
          1919,
          1920,
          1921,
          1922,
          1923,
          1924,
          1925,
          1926,
          1927,
          1928,
          1929,
          1930,
          1931,
          1932,
          1933,
          1934,
          1935,
          1936,
          1937,
          1938,
          1939,
          1940,
          1941,
          1942,
          1943,
          1944,
          1945,
          1946,
          1947,
          1948,
          1949,
          1950,
          1951,
          1952,
          1953,
          1954,
          1955,
          1956,
          1957,
          1958,
          1959,
          1960,
          1961,
          1962,
          1963,
          1964,
          1965,
          1966,
          1967,
          1968,
          1969,
          1970,
          1971,
          1972,
          1973,
          1974,
          1975,
          1976,
          1977,
          1978,
          1979,
          1980,
          1981,
          1982,
          1983,
          1984,
          1985,
          1986,
          1987,
          1988,
          1989,
          1990,
          1991,
          1992,
          1993,
          1994,
          1995,
          1996,
          1997,
          1998,
          1999,
          2000,
          2001,
          2002,
          2003,
          2004,
          2005,
          2006,
          2007,
          2008,
          2009,
          2010,
          2011,
          2012,
          2013,
          2014,
          2015,
          2016,
          2017
         ],
         "xaxis": "x4",
         "y": [
          25.604961128011993,
          25.613695711176735,
          25.622430294341477,
          25.63116487750622,
          25.639899460670957,
          25.6486340438357,
          25.65736862700044,
          25.666103210165183,
          25.67483779332992,
          25.683572376494663,
          25.692306959659405,
          25.701041542824147,
          25.709776125988885,
          25.718510709153627,
          25.72724529231837,
          25.73597987548311,
          25.74471445864785,
          25.75344904181259,
          25.762183624977332,
          25.770918208142074,
          25.779652791306813,
          25.788387374471554,
          25.797121957636296,
          25.805856540801038,
          25.814591123965776,
          25.82332570713052,
          25.83206029029526,
          25.840794873460002,
          25.84952945662474,
          25.858264039789482,
          25.866998622954224,
          25.875733206118966,
          25.884467789283704,
          25.893202372448446,
          25.901936955613188,
          25.91067153877793,
          25.919406121942668,
          25.92814070510741,
          25.93687528827215,
          25.945609871436893,
          25.954344454601635,
          25.963079037766374,
          25.971813620931115,
          25.980548204095857,
          25.9892827872606,
          25.998017370425337,
          26.00675195359008,
          26.01548653675482,
          26.024221119919563,
          26.0329557030843,
          26.041690286249043,
          26.050424869413785,
          26.059159452578527,
          26.067894035743265,
          26.076628618908007,
          26.08536320207275,
          26.09409778523749,
          26.10283236840223,
          26.11156695156697,
          26.120301534731713,
          26.129036117896455,
          26.137770701061193,
          26.146505284225935,
          26.155239867390677,
          26.16397445055542,
          26.172709033720157,
          26.1814436168849,
          26.19017820004964,
          26.198912783214382,
          26.20764736637912,
          26.216381949543862,
          26.225116532708604,
          26.233851115873346,
          26.242585699038084,
          26.251320282202826,
          26.260054865367568,
          26.26878944853231,
          26.27752403169705,
          26.28625861486179,
          26.294993198026532,
          26.303727781191274,
          26.312462364356016,
          26.321196947520754,
          26.329931530685496,
          26.338666113850238,
          26.34740069701498,
          26.356135280179718,
          26.36486986334446,
          26.3736044465092,
          26.382339029673943,
          26.39107361283868,
          26.399808196003423,
          26.408542779168165,
          26.417277362332907,
          26.426011945497645,
          26.434746528662387,
          26.44348111182713,
          26.45221569499187,
          26.46095027815661,
          26.46968486132135,
          26.478419444486093,
          26.487154027650835,
          26.495888610815573,
          26.504623193980315,
          26.513357777145057,
          26.5220923603098,
          26.530826943474537,
          26.53956152663928,
          26.54829610980402,
          26.557030692968763,
          26.5657652761335,
          26.574499859298243,
          26.583234442462985,
          26.591969025627726,
          26.600703608792468,
          26.609438191957206,
          26.61817277512195
         ],
         "yaxis": "y4"
        },
        {
         "hovertemplate": "Season=Monsoon<br>Year=%{x}<br>Temprature=%{y}<extra></extra>",
         "legendgroup": "",
         "marker": {
          "color": "#636efa",
          "symbol": "circle"
         },
         "mode": "markers",
         "name": "",
         "orientation": "v",
         "showlegend": false,
         "type": "scatter",
         "x": [
          1901,
          1902,
          1903,
          1904,
          1905,
          1906,
          1907,
          1908,
          1909,
          1910,
          1911,
          1912,
          1913,
          1914,
          1915,
          1916,
          1917,
          1918,
          1919,
          1920,
          1921,
          1922,
          1923,
          1924,
          1925,
          1926,
          1927,
          1928,
          1929,
          1930,
          1931,
          1932,
          1933,
          1934,
          1935,
          1936,
          1937,
          1938,
          1939,
          1940,
          1941,
          1942,
          1943,
          1944,
          1945,
          1946,
          1947,
          1948,
          1949,
          1950,
          1951,
          1952,
          1953,
          1954,
          1955,
          1956,
          1957,
          1958,
          1959,
          1960,
          1961,
          1962,
          1963,
          1964,
          1965,
          1966,
          1967,
          1968,
          1969,
          1970,
          1971,
          1972,
          1973,
          1974,
          1975,
          1976,
          1977,
          1978,
          1979,
          1980,
          1981,
          1982,
          1983,
          1984,
          1985,
          1986,
          1987,
          1988,
          1989,
          1990,
          1991,
          1992,
          1993,
          1994,
          1995,
          1996,
          1997,
          1998,
          1999,
          2000,
          2001,
          2002,
          2003,
          2004,
          2005,
          2006,
          2007,
          2008,
          2009,
          2010,
          2011,
          2012,
          2013,
          2014,
          2015,
          2016,
          2017
         ],
         "xaxis": "x",
         "y": [
          27.332500000000003,
          27.1825,
          27.355,
          26.815,
          27.53,
          27.132500000000004,
          26.895,
          26.95,
          26.5325,
          26.81,
          27.18,
          27.127499999999998,
          26.932499999999997,
          27.154999999999998,
          27.622499999999995,
          26.915,
          26.747500000000002,
          27.072499999999998,
          27.065,
          27.0475,
          26.9875,
          27.07,
          27.110000000000003,
          27.1825,
          26.924999999999997,
          27.412499999999998,
          26.979999999999997,
          27.18,
          27.095,
          27.0425,
          27.2925,
          27.32,
          26.8725,
          27.235,
          26.9625,
          26.9425,
          27.325000000000003,
          26.865,
          27.1625,
          27.085,
          27.445,
          27.185000000000002,
          26.970000000000002,
          27.25,
          27.422500000000003,
          27.240000000000002,
          27.4925,
          27.0775,
          27.084999999999997,
          26.8675,
          27.1875,
          27.250000000000004,
          27.322499999999998,
          27.09,
          26.974999999999998,
          26.6525,
          27.1475,
          27.43,
          27.189999999999998,
          27.34,
          27.055,
          27.145,
          27.2025,
          26.9025,
          27.08,
          27.169999999999998,
          27.192500000000003,
          27.217499999999998,
          27.345000000000002,
          27.065,
          26.7525,
          27.2725,
          27.3025,
          27.020000000000003,
          26.575,
          26.8725,
          27.127499999999998,
          27.122500000000002,
          27.542499999999997,
          27.264999999999997,
          27.2225,
          27.314999999999998,
          27.4325,
          27.0925,
          27.115,
          27.167500000000004,
          27.8825,
          27.220000000000002,
          26.979999999999997,
          27.1775,
          27.322499999999998,
          27.15,
          27.3425,
          27.305,
          28.057499999999997,
          27.2275,
          27.605,
          27.695,
          27.377499999999998,
          27.2175,
          27.56,
          27.735,
          27.635,
          27.335,
          27.64,
          27.404999999999998,
          27.4875,
          27.259999999999998,
          27.889999999999997,
          27.497500000000002,
          27.525000000000002,
          27.7125,
          27.4575,
          27.88,
          27.714999999999996,
          28.4425,
          28.495
         ],
         "yaxis": "y"
        },
        {
         "hovertemplate": "<b>OLS trendline</b><br>Temprature = 0.00514486 * Year + 17.1594<br>R<sup>2</sup>=0.300026<br><br>Season=Monsoon<br>Year=%{x}<br>Temprature=%{y} <b>(trend)</b><extra></extra>",
         "legendgroup": "",
         "marker": {
          "color": "#636efa",
          "symbol": "circle"
         },
         "mode": "lines",
         "name": "",
         "showlegend": false,
         "type": "scatter",
         "x": [
          1901,
          1902,
          1903,
          1904,
          1905,
          1906,
          1907,
          1908,
          1909,
          1910,
          1911,
          1912,
          1913,
          1914,
          1915,
          1916,
          1917,
          1918,
          1919,
          1920,
          1921,
          1922,
          1923,
          1924,
          1925,
          1926,
          1927,
          1928,
          1929,
          1930,
          1931,
          1932,
          1933,
          1934,
          1935,
          1936,
          1937,
          1938,
          1939,
          1940,
          1941,
          1942,
          1943,
          1944,
          1945,
          1946,
          1947,
          1948,
          1949,
          1950,
          1951,
          1952,
          1953,
          1954,
          1955,
          1956,
          1957,
          1958,
          1959,
          1960,
          1961,
          1962,
          1963,
          1964,
          1965,
          1966,
          1967,
          1968,
          1969,
          1970,
          1971,
          1972,
          1973,
          1974,
          1975,
          1976,
          1977,
          1978,
          1979,
          1980,
          1981,
          1982,
          1983,
          1984,
          1985,
          1986,
          1987,
          1988,
          1989,
          1990,
          1991,
          1992,
          1993,
          1994,
          1995,
          1996,
          1997,
          1998,
          1999,
          2000,
          2001,
          2002,
          2003,
          2004,
          2005,
          2006,
          2007,
          2008,
          2009,
          2010,
          2011,
          2012,
          2013,
          2014,
          2015,
          2016,
          2017
         ],
         "xaxis": "x",
         "y": [
          26.939824713892534,
          26.944969572200016,
          26.950114430507497,
          26.955259288814982,
          26.960404147122464,
          26.965549005429946,
          26.970693863737427,
          26.975838722044912,
          26.980983580352394,
          26.986128438659875,
          26.991273296967357,
          26.996418155274842,
          27.001563013582324,
          27.006707871889805,
          27.011852730197287,
          27.016997588504772,
          27.022142446812254,
          27.027287305119735,
          27.03243216342722,
          27.037577021734702,
          27.042721880042183,
          27.047866738349665,
          27.05301159665715,
          27.05815645496463,
          27.063301313272113,
          27.068446171579595,
          27.07359102988708,
          27.07873588819456,
          27.083880746502043,
          27.089025604809525,
          27.09417046311701,
          27.09931532142449,
          27.104460179731973,
          27.109605038039458,
          27.11474989634694,
          27.11989475465442,
          27.125039612961903,
          27.130184471269388,
          27.13532932957687,
          27.14047418788435,
          27.145619046191833,
          27.150763904499318,
          27.1559087628068,
          27.16105362111428,
          27.166198479421762,
          27.171343337729247,
          27.17648819603673,
          27.18163305434421,
          27.186777912651696,
          27.191922770959177,
          27.19706762926666,
          27.20221248757414,
          27.207357345881626,
          27.212502204189107,
          27.21764706249659,
          27.22279192080407,
          27.227936779111555,
          27.233081637419037,
          27.23822649572652,
          27.243371354034,
          27.248516212341485,
          27.253661070648967,
          27.25880592895645,
          27.263950787263934,
          27.269095645571415,
          27.274240503878897,
          27.279385362186378,
          27.284530220493863,
          27.289675078801345,
          27.294819937108826,
          27.299964795416308,
          27.305109653723793,
          27.310254512031275,
          27.315399370338756,
          27.32054422864624,
          27.325689086953723,
          27.330833945261205,
          27.335978803568686,
          27.34112366187617,
          27.346268520183653,
          27.351413378491134,
          27.356558236798616,
          27.3617030951061,
          27.366847953413583,
          27.371992811721064,
          27.377137670028546,
          27.38228252833603,
          27.387427386643513,
          27.392572244950994,
          27.39771710325848,
          27.40286196156596,
          27.408006819873442,
          27.413151678180924,
          27.41829653648841,
          27.42344139479589,
          27.428586253103372,
          27.433731111410854,
          27.43887596971834,
          27.44402082802582,
          27.449165686333302,
          27.454310544640784,
          27.45945540294827,
          27.46460026125575,
          27.469745119563232,
          27.474889977870717,
          27.4800348361782,
          27.48517969448568,
          27.49032455279316,
          27.495469411100647,
          27.50061426940813,
          27.50575912771561,
          27.51090398602309,
          27.516048844330577,
          27.521193702638058,
          27.52633856094554,
          27.53148341925302,
          27.536628277560506
         ],
         "yaxis": "y"
        },
        {
         "hovertemplate": "Season=Autumn<br>Year=%{x}<br>Temprature=%{y}<extra></extra>",
         "legendgroup": "",
         "marker": {
          "color": "#636efa",
          "symbol": "circle"
         },
         "mode": "markers",
         "name": "",
         "orientation": "v",
         "showlegend": false,
         "type": "scatter",
         "x": [
          1901,
          1902,
          1903,
          1904,
          1905,
          1906,
          1907,
          1908,
          1909,
          1910,
          1911,
          1912,
          1913,
          1914,
          1915,
          1916,
          1917,
          1918,
          1919,
          1920,
          1921,
          1922,
          1923,
          1924,
          1925,
          1926,
          1927,
          1928,
          1929,
          1930,
          1931,
          1932,
          1933,
          1934,
          1935,
          1936,
          1937,
          1938,
          1939,
          1940,
          1941,
          1942,
          1943,
          1944,
          1945,
          1946,
          1947,
          1948,
          1949,
          1950,
          1951,
          1952,
          1953,
          1954,
          1955,
          1956,
          1957,
          1958,
          1959,
          1960,
          1961,
          1962,
          1963,
          1964,
          1965,
          1966,
          1967,
          1968,
          1969,
          1970,
          1971,
          1972,
          1973,
          1974,
          1975,
          1976,
          1977,
          1978,
          1979,
          1980,
          1981,
          1982,
          1983,
          1984,
          1985,
          1986,
          1987,
          1988,
          1989,
          1990,
          1991,
          1992,
          1993,
          1994,
          1995,
          1996,
          1997,
          1998,
          1999,
          2000,
          2001,
          2002,
          2003,
          2004,
          2005,
          2006,
          2007,
          2008,
          2009,
          2010,
          2011,
          2012,
          2013,
          2014,
          2015,
          2016,
          2017
         ],
         "xaxis": "x2",
         "y": [
          23.405,
          22.85,
          22.765,
          22.715,
          24.115000000000002,
          23.34,
          23.415,
          22.655,
          23.19,
          22.38,
          22.835,
          22.72,
          22.635,
          22.92,
          23.82,
          22.815,
          22.325000000000003,
          23.125,
          22.92,
          23.345,
          22.47,
          22.61,
          22.560000000000002,
          22.77,
          22.95,
          22.5,
          22.93,
          23.345,
          22.915,
          23.005000000000003,
          23.305,
          23.200000000000003,
          23.01,
          22.785,
          22.955,
          23.225,
          22.66,
          22.515,
          22.990000000000002,
          23.384999999999998,
          23.615000000000002,
          23.205,
          23.005,
          23,
          22.755,
          23.29,
          23.225,
          23.21,
          22.744999999999997,
          22.55,
          24.035,
          23.064999999999998,
          23.08,
          22.255,
          22.68,
          22.64,
          23.1,
          23.36,
          23.275,
          22.965,
          22.605,
          22.75,
          23.445,
          22.975,
          23.575,
          23.28,
          22.81,
          22.939999999999998,
          23.59,
          23.064999999999998,
          22.8,
          23.09,
          22.945,
          22.979999999999997,
          22.705,
          23.695,
          23.78,
          23.560000000000002,
          23.990000000000002,
          23.634999999999998,
          23.085,
          23.365000000000002,
          23.03,
          23.06,
          22.92,
          23.185000000000002,
          23.585,
          23.21,
          23.32,
          23.295,
          23.08,
          23.355,
          23.54,
          23.31,
          24.494999999999997,
          23.155,
          23.265,
          23.875,
          23.65,
          24.165,
          24,
          24.305,
          23.545,
          23.384999999999998,
          23.285,
          24,
          23.66,
          23.990000000000002,
          23.755,
          24.28,
          24.175,
          23.555,
          23.905,
          23.955,
          24.384999999999998,
          25.354999999999997,
          25.58
         ],
         "yaxis": "y2"
        },
        {
         "hovertemplate": "<b>OLS trendline</b><br>Temprature = 0.00986381 * Year + 3.93068<br>R<sup>2</sup>=0.351874<br><br>Season=Autumn<br>Year=%{x}<br>Temprature=%{y} <b>(trend)</b><extra></extra>",
         "legendgroup": "",
         "marker": {
          "color": "#636efa",
          "symbol": "circle"
         },
         "mode": "lines",
         "name": "",
         "showlegend": false,
         "type": "scatter",
         "x": [
          1901,
          1902,
          1903,
          1904,
          1905,
          1906,
          1907,
          1908,
          1909,
          1910,
          1911,
          1912,
          1913,
          1914,
          1915,
          1916,
          1917,
          1918,
          1919,
          1920,
          1921,
          1922,
          1923,
          1924,
          1925,
          1926,
          1927,
          1928,
          1929,
          1930,
          1931,
          1932,
          1933,
          1934,
          1935,
          1936,
          1937,
          1938,
          1939,
          1940,
          1941,
          1942,
          1943,
          1944,
          1945,
          1946,
          1947,
          1948,
          1949,
          1950,
          1951,
          1952,
          1953,
          1954,
          1955,
          1956,
          1957,
          1958,
          1959,
          1960,
          1961,
          1962,
          1963,
          1964,
          1965,
          1966,
          1967,
          1968,
          1969,
          1970,
          1971,
          1972,
          1973,
          1974,
          1975,
          1976,
          1977,
          1978,
          1979,
          1980,
          1981,
          1982,
          1983,
          1984,
          1985,
          1986,
          1987,
          1988,
          1989,
          1990,
          1991,
          1992,
          1993,
          1994,
          1995,
          1996,
          1997,
          1998,
          1999,
          2000,
          2001,
          2002,
          2003,
          2004,
          2005,
          2006,
          2007,
          2008,
          2009,
          2010,
          2011,
          2012,
          2013,
          2014,
          2015,
          2016,
          2017
         ],
         "xaxis": "x2",
         "y": [
          22.681787628567296,
          22.691651443400428,
          22.70151525823356,
          22.711379073066688,
          22.72124288789982,
          22.73110670273295,
          22.740970517566083,
          22.750834332399215,
          22.760698147232343,
          22.770561962065475,
          22.780425776898607,
          22.79028959173174,
          22.80015340656487,
          22.810017221398,
          22.81988103623113,
          22.829744851064262,
          22.839608665897394,
          22.849472480730523,
          22.859336295563654,
          22.869200110396786,
          22.879063925229918,
          22.88892774006305,
          22.898791554896178,
          22.90865536972931,
          22.91851918456244,
          22.928382999395573,
          22.9382468142287,
          22.948110629061834,
          22.957974443894965,
          22.967838258728097,
          22.97770207356123,
          22.987565888394357,
          22.99742970322749,
          23.00729351806062,
          23.017157332893753,
          23.027021147726884,
          23.036884962560013,
          23.046748777393145,
          23.056612592226276,
          23.066476407059408,
          23.076340221892536,
          23.08620403672567,
          23.0960678515588,
          23.105931666391932,
          23.115795481225064,
          23.125659296058192,
          23.135523110891324,
          23.145386925724456,
          23.155250740557587,
          23.165114555390716,
          23.174978370223847,
          23.18484218505698,
          23.19470599989011,
          23.204569814723243,
          23.21443362955637,
          23.224297444389503,
          23.234161259222635,
          23.244025074055767,
          23.2538888888889,
          23.263752703722027,
          23.27361651855516,
          23.28348033338829,
          23.293344148221422,
          23.30320796305455,
          23.313071777887682,
          23.322935592720814,
          23.332799407553946,
          23.342663222387078,
          23.352527037220206,
          23.362390852053338,
          23.37225466688647,
          23.3821184817196,
          23.391982296552733,
          23.40184611138586,
          23.411709926218993,
          23.421573741052125,
          23.431437555885257,
          23.441301370718385,
          23.451165185551517,
          23.46102900038465,
          23.47089281521778,
          23.480756630050912,
          23.49062044488404,
          23.500484259717172,
          23.510348074550304,
          23.520211889383436,
          23.530075704216564,
          23.539939519049696,
          23.549803333882828,
          23.55966714871596,
          23.56953096354909,
          23.57939477838222,
          23.58925859321535,
          23.599122408048483,
          23.608986222881615,
          23.618850037714747,
          23.628713852547875,
          23.638577667381007,
          23.64844148221414,
          23.65830529704727,
          23.6681691118804,
          23.67803292671353,
          23.687896741546663,
          23.697760556379794,
          23.707624371212926,
          23.717488186046054,
          23.727352000879186,
          23.737215815712318,
          23.74707963054545,
          23.756943445378578,
          23.76680726021171,
          23.776671075044842,
          23.786534889877974,
          23.796398704711105,
          23.806262519544234,
          23.816126334377365,
          23.825990149210497
         ],
         "yaxis": "y2"
        }
       ],
       "layout": {
        "annotations": [
         {
          "font": {},
          "showarrow": false,
          "text": "Season=Monsoon",
          "x": 0.245,
          "xanchor": "center",
          "xref": "paper",
          "y": 0.46499999999999997,
          "yanchor": "bottom",
          "yref": "paper"
         },
         {
          "font": {},
          "showarrow": false,
          "text": "Season=Autumn",
          "x": 0.755,
          "xanchor": "center",
          "xref": "paper",
          "y": 0.46499999999999997,
          "yanchor": "bottom",
          "yref": "paper"
         },
         {
          "font": {},
          "showarrow": false,
          "text": "Season=Winter",
          "x": 0.245,
          "xanchor": "center",
          "xref": "paper",
          "y": 0.9999999999999999,
          "yanchor": "bottom",
          "yref": "paper"
         },
         {
          "font": {},
          "showarrow": false,
          "text": "Season=Summer",
          "x": 0.755,
          "xanchor": "center",
          "xref": "paper",
          "y": 0.9999999999999999,
          "yanchor": "bottom",
          "yref": "paper"
         }
        ],
        "legend": {
         "tracegroupgap": 0
        },
        "margin": {
         "t": 60
        },
        "template": {
         "data": {
          "bar": [
           {
            "error_x": {
             "color": "#2a3f5f"
            },
            "error_y": {
             "color": "#2a3f5f"
            },
            "marker": {
             "line": {
              "color": "#E5ECF6",
              "width": 0.5
             },
             "pattern": {
              "fillmode": "overlay",
              "size": 10,
              "solidity": 0.2
             }
            },
            "type": "bar"
           }
          ],
          "barpolar": [
           {
            "marker": {
             "line": {
              "color": "#E5ECF6",
              "width": 0.5
             },
             "pattern": {
              "fillmode": "overlay",
              "size": 10,
              "solidity": 0.2
             }
            },
            "type": "barpolar"
           }
          ],
          "carpet": [
           {
            "aaxis": {
             "endlinecolor": "#2a3f5f",
             "gridcolor": "white",
             "linecolor": "white",
             "minorgridcolor": "white",
             "startlinecolor": "#2a3f5f"
            },
            "baxis": {
             "endlinecolor": "#2a3f5f",
             "gridcolor": "white",
             "linecolor": "white",
             "minorgridcolor": "white",
             "startlinecolor": "#2a3f5f"
            },
            "type": "carpet"
           }
          ],
          "choropleth": [
           {
            "colorbar": {
             "outlinewidth": 0,
             "ticks": ""
            },
            "type": "choropleth"
           }
          ],
          "contour": [
           {
            "colorbar": {
             "outlinewidth": 0,
             "ticks": ""
            },
            "colorscale": [
             [
              0,
              "#0d0887"
             ],
             [
              0.1111111111111111,
              "#46039f"
             ],
             [
              0.2222222222222222,
              "#7201a8"
             ],
             [
              0.3333333333333333,
              "#9c179e"
             ],
             [
              0.4444444444444444,
              "#bd3786"
             ],
             [
              0.5555555555555556,
              "#d8576b"
             ],
             [
              0.6666666666666666,
              "#ed7953"
             ],
             [
              0.7777777777777778,
              "#fb9f3a"
             ],
             [
              0.8888888888888888,
              "#fdca26"
             ],
             [
              1,
              "#f0f921"
             ]
            ],
            "type": "contour"
           }
          ],
          "contourcarpet": [
           {
            "colorbar": {
             "outlinewidth": 0,
             "ticks": ""
            },
            "type": "contourcarpet"
           }
          ],
          "heatmap": [
           {
            "colorbar": {
             "outlinewidth": 0,
             "ticks": ""
            },
            "colorscale": [
             [
              0,
              "#0d0887"
             ],
             [
              0.1111111111111111,
              "#46039f"
             ],
             [
              0.2222222222222222,
              "#7201a8"
             ],
             [
              0.3333333333333333,
              "#9c179e"
             ],
             [
              0.4444444444444444,
              "#bd3786"
             ],
             [
              0.5555555555555556,
              "#d8576b"
             ],
             [
              0.6666666666666666,
              "#ed7953"
             ],
             [
              0.7777777777777778,
              "#fb9f3a"
             ],
             [
              0.8888888888888888,
              "#fdca26"
             ],
             [
              1,
              "#f0f921"
             ]
            ],
            "type": "heatmap"
           }
          ],
          "heatmapgl": [
           {
            "colorbar": {
             "outlinewidth": 0,
             "ticks": ""
            },
            "colorscale": [
             [
              0,
              "#0d0887"
             ],
             [
              0.1111111111111111,
              "#46039f"
             ],
             [
              0.2222222222222222,
              "#7201a8"
             ],
             [
              0.3333333333333333,
              "#9c179e"
             ],
             [
              0.4444444444444444,
              "#bd3786"
             ],
             [
              0.5555555555555556,
              "#d8576b"
             ],
             [
              0.6666666666666666,
              "#ed7953"
             ],
             [
              0.7777777777777778,
              "#fb9f3a"
             ],
             [
              0.8888888888888888,
              "#fdca26"
             ],
             [
              1,
              "#f0f921"
             ]
            ],
            "type": "heatmapgl"
           }
          ],
          "histogram": [
           {
            "marker": {
             "pattern": {
              "fillmode": "overlay",
              "size": 10,
              "solidity": 0.2
             }
            },
            "type": "histogram"
           }
          ],
          "histogram2d": [
           {
            "colorbar": {
             "outlinewidth": 0,
             "ticks": ""
            },
            "colorscale": [
             [
              0,
              "#0d0887"
             ],
             [
              0.1111111111111111,
              "#46039f"
             ],
             [
              0.2222222222222222,
              "#7201a8"
             ],
             [
              0.3333333333333333,
              "#9c179e"
             ],
             [
              0.4444444444444444,
              "#bd3786"
             ],
             [
              0.5555555555555556,
              "#d8576b"
             ],
             [
              0.6666666666666666,
              "#ed7953"
             ],
             [
              0.7777777777777778,
              "#fb9f3a"
             ],
             [
              0.8888888888888888,
              "#fdca26"
             ],
             [
              1,
              "#f0f921"
             ]
            ],
            "type": "histogram2d"
           }
          ],
          "histogram2dcontour": [
           {
            "colorbar": {
             "outlinewidth": 0,
             "ticks": ""
            },
            "colorscale": [
             [
              0,
              "#0d0887"
             ],
             [
              0.1111111111111111,
              "#46039f"
             ],
             [
              0.2222222222222222,
              "#7201a8"
             ],
             [
              0.3333333333333333,
              "#9c179e"
             ],
             [
              0.4444444444444444,
              "#bd3786"
             ],
             [
              0.5555555555555556,
              "#d8576b"
             ],
             [
              0.6666666666666666,
              "#ed7953"
             ],
             [
              0.7777777777777778,
              "#fb9f3a"
             ],
             [
              0.8888888888888888,
              "#fdca26"
             ],
             [
              1,
              "#f0f921"
             ]
            ],
            "type": "histogram2dcontour"
           }
          ],
          "mesh3d": [
           {
            "colorbar": {
             "outlinewidth": 0,
             "ticks": ""
            },
            "type": "mesh3d"
           }
          ],
          "parcoords": [
           {
            "line": {
             "colorbar": {
              "outlinewidth": 0,
              "ticks": ""
             }
            },
            "type": "parcoords"
           }
          ],
          "pie": [
           {
            "automargin": true,
            "type": "pie"
           }
          ],
          "scatter": [
           {
            "fillpattern": {
             "fillmode": "overlay",
             "size": 10,
             "solidity": 0.2
            },
            "type": "scatter"
           }
          ],
          "scatter3d": [
           {
            "line": {
             "colorbar": {
              "outlinewidth": 0,
              "ticks": ""
             }
            },
            "marker": {
             "colorbar": {
              "outlinewidth": 0,
              "ticks": ""
             }
            },
            "type": "scatter3d"
           }
          ],
          "scattercarpet": [
           {
            "marker": {
             "colorbar": {
              "outlinewidth": 0,
              "ticks": ""
             }
            },
            "type": "scattercarpet"
           }
          ],
          "scattergeo": [
           {
            "marker": {
             "colorbar": {
              "outlinewidth": 0,
              "ticks": ""
             }
            },
            "type": "scattergeo"
           }
          ],
          "scattergl": [
           {
            "marker": {
             "colorbar": {
              "outlinewidth": 0,
              "ticks": ""
             }
            },
            "type": "scattergl"
           }
          ],
          "scattermapbox": [
           {
            "marker": {
             "colorbar": {
              "outlinewidth": 0,
              "ticks": ""
             }
            },
            "type": "scattermapbox"
           }
          ],
          "scatterpolar": [
           {
            "marker": {
             "colorbar": {
              "outlinewidth": 0,
              "ticks": ""
             }
            },
            "type": "scatterpolar"
           }
          ],
          "scatterpolargl": [
           {
            "marker": {
             "colorbar": {
              "outlinewidth": 0,
              "ticks": ""
             }
            },
            "type": "scatterpolargl"
           }
          ],
          "scatterternary": [
           {
            "marker": {
             "colorbar": {
              "outlinewidth": 0,
              "ticks": ""
             }
            },
            "type": "scatterternary"
           }
          ],
          "surface": [
           {
            "colorbar": {
             "outlinewidth": 0,
             "ticks": ""
            },
            "colorscale": [
             [
              0,
              "#0d0887"
             ],
             [
              0.1111111111111111,
              "#46039f"
             ],
             [
              0.2222222222222222,
              "#7201a8"
             ],
             [
              0.3333333333333333,
              "#9c179e"
             ],
             [
              0.4444444444444444,
              "#bd3786"
             ],
             [
              0.5555555555555556,
              "#d8576b"
             ],
             [
              0.6666666666666666,
              "#ed7953"
             ],
             [
              0.7777777777777778,
              "#fb9f3a"
             ],
             [
              0.8888888888888888,
              "#fdca26"
             ],
             [
              1,
              "#f0f921"
             ]
            ],
            "type": "surface"
           }
          ],
          "table": [
           {
            "cells": {
             "fill": {
              "color": "#EBF0F8"
             },
             "line": {
              "color": "white"
             }
            },
            "header": {
             "fill": {
              "color": "#C8D4E3"
             },
             "line": {
              "color": "white"
             }
            },
            "type": "table"
           }
          ]
         },
         "layout": {
          "annotationdefaults": {
           "arrowcolor": "#2a3f5f",
           "arrowhead": 0,
           "arrowwidth": 1
          },
          "autotypenumbers": "strict",
          "coloraxis": {
           "colorbar": {
            "outlinewidth": 0,
            "ticks": ""
           }
          },
          "colorscale": {
           "diverging": [
            [
             0,
             "#8e0152"
            ],
            [
             0.1,
             "#c51b7d"
            ],
            [
             0.2,
             "#de77ae"
            ],
            [
             0.3,
             "#f1b6da"
            ],
            [
             0.4,
             "#fde0ef"
            ],
            [
             0.5,
             "#f7f7f7"
            ],
            [
             0.6,
             "#e6f5d0"
            ],
            [
             0.7,
             "#b8e186"
            ],
            [
             0.8,
             "#7fbc41"
            ],
            [
             0.9,
             "#4d9221"
            ],
            [
             1,
             "#276419"
            ]
           ],
           "sequential": [
            [
             0,
             "#0d0887"
            ],
            [
             0.1111111111111111,
             "#46039f"
            ],
            [
             0.2222222222222222,
             "#7201a8"
            ],
            [
             0.3333333333333333,
             "#9c179e"
            ],
            [
             0.4444444444444444,
             "#bd3786"
            ],
            [
             0.5555555555555556,
             "#d8576b"
            ],
            [
             0.6666666666666666,
             "#ed7953"
            ],
            [
             0.7777777777777778,
             "#fb9f3a"
            ],
            [
             0.8888888888888888,
             "#fdca26"
            ],
            [
             1,
             "#f0f921"
            ]
           ],
           "sequentialminus": [
            [
             0,
             "#0d0887"
            ],
            [
             0.1111111111111111,
             "#46039f"
            ],
            [
             0.2222222222222222,
             "#7201a8"
            ],
            [
             0.3333333333333333,
             "#9c179e"
            ],
            [
             0.4444444444444444,
             "#bd3786"
            ],
            [
             0.5555555555555556,
             "#d8576b"
            ],
            [
             0.6666666666666666,
             "#ed7953"
            ],
            [
             0.7777777777777778,
             "#fb9f3a"
            ],
            [
             0.8888888888888888,
             "#fdca26"
            ],
            [
             1,
             "#f0f921"
            ]
           ]
          },
          "colorway": [
           "#636efa",
           "#EF553B",
           "#00cc96",
           "#ab63fa",
           "#FFA15A",
           "#19d3f3",
           "#FF6692",
           "#B6E880",
           "#FF97FF",
           "#FECB52"
          ],
          "font": {
           "color": "#2a3f5f"
          },
          "geo": {
           "bgcolor": "white",
           "lakecolor": "white",
           "landcolor": "#E5ECF6",
           "showlakes": true,
           "showland": true,
           "subunitcolor": "white"
          },
          "hoverlabel": {
           "align": "left"
          },
          "hovermode": "closest",
          "mapbox": {
           "style": "light"
          },
          "paper_bgcolor": "white",
          "plot_bgcolor": "#E5ECF6",
          "polar": {
           "angularaxis": {
            "gridcolor": "white",
            "linecolor": "white",
            "ticks": ""
           },
           "bgcolor": "#E5ECF6",
           "radialaxis": {
            "gridcolor": "white",
            "linecolor": "white",
            "ticks": ""
           }
          },
          "scene": {
           "xaxis": {
            "backgroundcolor": "#E5ECF6",
            "gridcolor": "white",
            "gridwidth": 2,
            "linecolor": "white",
            "showbackground": true,
            "ticks": "",
            "zerolinecolor": "white"
           },
           "yaxis": {
            "backgroundcolor": "#E5ECF6",
            "gridcolor": "white",
            "gridwidth": 2,
            "linecolor": "white",
            "showbackground": true,
            "ticks": "",
            "zerolinecolor": "white"
           },
           "zaxis": {
            "backgroundcolor": "#E5ECF6",
            "gridcolor": "white",
            "gridwidth": 2,
            "linecolor": "white",
            "showbackground": true,
            "ticks": "",
            "zerolinecolor": "white"
           }
          },
          "shapedefaults": {
           "line": {
            "color": "#2a3f5f"
           }
          },
          "ternary": {
           "aaxis": {
            "gridcolor": "white",
            "linecolor": "white",
            "ticks": ""
           },
           "baxis": {
            "gridcolor": "white",
            "linecolor": "white",
            "ticks": ""
           },
           "bgcolor": "#E5ECF6",
           "caxis": {
            "gridcolor": "white",
            "linecolor": "white",
            "ticks": ""
           }
          },
          "title": {
           "x": 0.05
          },
          "xaxis": {
           "automargin": true,
           "gridcolor": "white",
           "linecolor": "white",
           "ticks": "",
           "title": {
            "standoff": 15
           },
           "zerolinecolor": "white",
           "zerolinewidth": 2
          },
          "yaxis": {
           "automargin": true,
           "gridcolor": "white",
           "linecolor": "white",
           "ticks": "",
           "title": {
            "standoff": 15
           },
           "zerolinecolor": "white",
           "zerolinewidth": 2
          }
         }
        },
        "title": {
         "text": "Seasonal mean tempratures throught years:"
        },
        "xaxis": {
         "anchor": "y",
         "domain": [
          0,
          0.49
         ],
         "title": {
          "text": "Year"
         }
        },
        "xaxis2": {
         "anchor": "y2",
         "domain": [
          0.51,
          1
         ],
         "matches": "x",
         "title": {
          "text": "Year"
         }
        },
        "xaxis3": {
         "anchor": "y3",
         "domain": [
          0,
          0.49
         ],
         "matches": "x",
         "showticklabels": false
        },
        "xaxis4": {
         "anchor": "y4",
         "domain": [
          0.51,
          1
         ],
         "matches": "x",
         "showticklabels": false
        },
        "yaxis": {
         "anchor": "x",
         "domain": [
          0,
          0.46499999999999997
         ],
         "title": {
          "text": "Temprature"
         }
        },
        "yaxis2": {
         "anchor": "x2",
         "domain": [
          0,
          0.46499999999999997
         ],
         "matches": "y",
         "showticklabels": false
        },
        "yaxis3": {
         "anchor": "x3",
         "domain": [
          0.5349999999999999,
          0.9999999999999999
         ],
         "matches": "y",
         "title": {
          "text": "Temprature"
         }
        },
        "yaxis4": {
         "anchor": "x4",
         "domain": [
          0.5349999999999999,
          0.9999999999999999
         ],
         "matches": "y",
         "showticklabels": false
        }
       }
      }
     },
     "metadata": {},
     "output_type": "display_data"
    }
   ],
   "source": [
    "df['Winter'] = df[['DEC', 'JAN', 'FEB']].mean(axis=1)\n",
    "df['Summer'] = df[['MAR', 'APR', 'MAY']].mean(axis=1)\n",
    "df['Monsoon'] = df[['JUN', 'JUL', 'AUG', 'SEP']].mean(axis=1)\n",
    "df['Autumn'] = df[['OCT', 'NOV']].mean(axis=1)\n",
    "seasonal_df = df[['YEAR', 'Winter', 'Summer', 'Monsoon', 'Autumn']]\n",
    "seasonal_df = pd.melt(seasonal_df, id_vars='YEAR', value_vars=seasonal_df.columns[1:])\n",
    "seasonal_df.columns=['Year', 'Season', 'Temprature']\n",
    "\n",
    "fig = px.scatter(seasonal_df, 'Year', 'Temprature', facet_col='Season', facet_col_wrap=2, trendline='ols')\n",
    "fig.update_layout(title='Seasonal mean tempratures throught years:')\n",
    "fig.show()"
   ]
  },
  {
   "cell_type": "code",
   "execution_count": 21,
   "metadata": {},
   "outputs": [
    {
     "data": {
      "application/vnd.plotly.v1+json": {
       "config": {
        "plotlyServerURL": "https://plot.ly"
       },
       "data": [
        {
         "hovertemplate": "Year=1901<br>Month=%{x}<br>Temprature=%{marker.size}<extra></extra>",
         "legendgroup": "",
         "marker": {
          "color": "#636efa",
          "size": [
           17.99,
           19.43,
           23.49,
           26.41,
           28.28,
           28.6,
           27.49,
           26.98,
           26.26,
           25.08,
           21.73,
           18.95
          ],
          "sizemode": "area",
          "sizeref": 0.07695,
          "symbol": "circle"
         },
         "mode": "markers",
         "name": "",
         "orientation": "v",
         "showlegend": false,
         "type": "scatter",
         "x": [
          "JAN",
          "FEB",
          "MAR",
          "APR",
          "MAY",
          "JUN",
          "JUL",
          "AUG",
          "SEP",
          "OCT",
          "NOV",
          "DEC"
         ],
         "xaxis": "x",
         "y": [
          17.99,
          19.43,
          23.49,
          26.41,
          28.28,
          28.6,
          27.49,
          26.98,
          26.26,
          25.08,
          21.73,
          18.95
         ],
         "yaxis": "y"
        }
       ],
       "frames": [
        {
         "data": [
          {
           "hovertemplate": "Year=1901<br>Month=%{x}<br>Temprature=%{marker.size}<extra></extra>",
           "legendgroup": "",
           "marker": {
            "color": "#636efa",
            "size": [
             17.99,
             19.43,
             23.49,
             26.41,
             28.28,
             28.6,
             27.49,
             26.98,
             26.26,
             25.08,
             21.73,
             18.95
            ],
            "sizemode": "area",
            "sizeref": 0.07695,
            "symbol": "circle"
           },
           "mode": "markers",
           "name": "",
           "orientation": "v",
           "showlegend": false,
           "type": "scatter",
           "x": [
            "JAN",
            "FEB",
            "MAR",
            "APR",
            "MAY",
            "JUN",
            "JUL",
            "AUG",
            "SEP",
            "OCT",
            "NOV",
            "DEC"
           ],
           "xaxis": "x",
           "y": [
            17.99,
            19.43,
            23.49,
            26.41,
            28.28,
            28.6,
            27.49,
            26.98,
            26.26,
            25.08,
            21.73,
            18.95
           ],
           "yaxis": "y"
          }
         ],
         "name": "1901"
        },
        {
         "data": [
          {
           "hovertemplate": "Year=1902<br>Month=%{x}<br>Temprature=%{marker.size}<extra></extra>",
           "legendgroup": "",
           "marker": {
            "color": "#636efa",
            "size": [
             19,
             20.39,
             24.1,
             26.54,
             28.68,
             28.44,
             27.29,
             27.05,
             25.95,
             24.37,
             21.33,
             18.78
            ],
            "sizemode": "area",
            "sizeref": 0.07695,
            "symbol": "circle"
           },
           "mode": "markers",
           "name": "",
           "orientation": "v",
           "showlegend": false,
           "type": "scatter",
           "x": [
            "JAN",
            "FEB",
            "MAR",
            "APR",
            "MAY",
            "JUN",
            "JUL",
            "AUG",
            "SEP",
            "OCT",
            "NOV",
            "DEC"
           ],
           "xaxis": "x",
           "y": [
            19,
            20.39,
            24.1,
            26.54,
            28.68,
            28.44,
            27.29,
            27.05,
            25.95,
            24.37,
            21.33,
            18.78
           ],
           "yaxis": "y"
          }
         ],
         "name": "1902"
        },
        {
         "data": [
          {
           "hovertemplate": "Year=1903<br>Month=%{x}<br>Temprature=%{marker.size}<extra></extra>",
           "legendgroup": "",
           "marker": {
            "color": "#636efa",
            "size": [
             18.32,
             19.79,
             22.46,
             26.03,
             27.93,
             28.41,
             28.04,
             26.63,
             26.34,
             24.57,
             20.96,
             18.29
            ],
            "sizemode": "area",
            "sizeref": 0.07695,
            "symbol": "circle"
           },
           "mode": "markers",
           "name": "",
           "orientation": "v",
           "showlegend": false,
           "type": "scatter",
           "x": [
            "JAN",
            "FEB",
            "MAR",
            "APR",
            "MAY",
            "JUN",
            "JUL",
            "AUG",
            "SEP",
            "OCT",
            "NOV",
            "DEC"
           ],
           "xaxis": "x",
           "y": [
            18.32,
            19.79,
            22.46,
            26.03,
            27.93,
            28.41,
            28.04,
            26.63,
            26.34,
            24.57,
            20.96,
            18.29
           ],
           "yaxis": "y"
          }
         ],
         "name": "1903"
        },
        {
         "data": [
          {
           "hovertemplate": "Year=1904<br>Month=%{x}<br>Temprature=%{marker.size}<extra></extra>",
           "legendgroup": "",
           "marker": {
            "color": "#636efa",
            "size": [
             17.77,
             19.39,
             22.95,
             26.73,
             27.83,
             27.85,
             26.84,
             26.73,
             25.84,
             24.36,
             21.07,
             18.84
            ],
            "sizemode": "area",
            "sizeref": 0.07695,
            "symbol": "circle"
           },
           "mode": "markers",
           "name": "",
           "orientation": "v",
           "showlegend": false,
           "type": "scatter",
           "x": [
            "JAN",
            "FEB",
            "MAR",
            "APR",
            "MAY",
            "JUN",
            "JUL",
            "AUG",
            "SEP",
            "OCT",
            "NOV",
            "DEC"
           ],
           "xaxis": "x",
           "y": [
            17.77,
            19.39,
            22.95,
            26.73,
            27.83,
            27.85,
            26.84,
            26.73,
            25.84,
            24.36,
            21.07,
            18.84
           ],
           "yaxis": "y"
          }
         ],
         "name": "1904"
        },
        {
         "data": [
          {
           "hovertemplate": "Year=1905<br>Month=%{x}<br>Temprature=%{marker.size}<extra></extra>",
           "legendgroup": "",
           "marker": {
            "color": "#636efa",
            "size": [
             17.4,
             17.79,
             21.78,
             24.84,
             28.32,
             28.69,
             27.67,
             27.47,
             26.29,
             26.16,
             22.07,
             18.71
            ],
            "sizemode": "area",
            "sizeref": 0.07695,
            "symbol": "circle"
           },
           "mode": "markers",
           "name": "",
           "orientation": "v",
           "showlegend": false,
           "type": "scatter",
           "x": [
            "JAN",
            "FEB",
            "MAR",
            "APR",
            "MAY",
            "JUN",
            "JUL",
            "AUG",
            "SEP",
            "OCT",
            "NOV",
            "DEC"
           ],
           "xaxis": "x",
           "y": [
            17.4,
            17.79,
            21.78,
            24.84,
            28.32,
            28.69,
            27.67,
            27.47,
            26.29,
            26.16,
            22.07,
            18.71
           ],
           "yaxis": "y"
          }
         ],
         "name": "1905"
        },
        {
         "data": [
          {
           "hovertemplate": "Year=1906<br>Month=%{x}<br>Temprature=%{marker.size}<extra></extra>",
           "legendgroup": "",
           "marker": {
            "color": "#636efa",
            "size": [
             17.5,
             19.14,
             22.21,
             26.53,
             29.06,
             28.02,
             27.46,
             26.82,
             26.23,
             24.75,
             21.93,
             19.55
            ],
            "sizemode": "area",
            "sizeref": 0.07695,
            "symbol": "circle"
           },
           "mode": "markers",
           "name": "",
           "orientation": "v",
           "showlegend": false,
           "type": "scatter",
           "x": [
            "JAN",
            "FEB",
            "MAR",
            "APR",
            "MAY",
            "JUN",
            "JUL",
            "AUG",
            "SEP",
            "OCT",
            "NOV",
            "DEC"
           ],
           "xaxis": "x",
           "y": [
            17.5,
            19.14,
            22.21,
            26.53,
            29.06,
            28.02,
            27.46,
            26.82,
            26.23,
            24.75,
            21.93,
            19.55
           ],
           "yaxis": "y"
          }
         ],
         "name": "1906"
        },
        {
         "data": [
          {
           "hovertemplate": "Year=1907<br>Month=%{x}<br>Temprature=%{marker.size}<extra></extra>",
           "legendgroup": "",
           "marker": {
            "color": "#636efa",
            "size": [
             19.27,
             19.42,
             22.03,
             26.98,
             27.52,
             27.66,
             27.28,
             26.38,
             26.26,
             24.72,
             22.11,
             18.46
            ],
            "sizemode": "area",
            "sizeref": 0.07695,
            "symbol": "circle"
           },
           "mode": "markers",
           "name": "",
           "orientation": "v",
           "showlegend": false,
           "type": "scatter",
           "x": [
            "JAN",
            "FEB",
            "MAR",
            "APR",
            "MAY",
            "JUN",
            "JUL",
            "AUG",
            "SEP",
            "OCT",
            "NOV",
            "DEC"
           ],
           "xaxis": "x",
           "y": [
            19.27,
            19.42,
            22.03,
            26.98,
            27.52,
            27.66,
            27.28,
            26.38,
            26.26,
            24.72,
            22.11,
            18.46
           ],
           "yaxis": "y"
          }
         ],
         "name": "1907"
        },
        {
         "data": [
          {
           "hovertemplate": "Year=1908<br>Month=%{x}<br>Temprature=%{marker.size}<extra></extra>",
           "legendgroup": "",
           "marker": {
            "color": "#636efa",
            "size": [
             18.35,
             19.73,
             22.93,
             27.06,
             28.07,
             28.49,
             27.16,
             26.41,
             25.74,
             24.25,
             21.06,
             18.15
            ],
            "sizemode": "area",
            "sizeref": 0.07695,
            "symbol": "circle"
           },
           "mode": "markers",
           "name": "",
           "orientation": "v",
           "showlegend": false,
           "type": "scatter",
           "x": [
            "JAN",
            "FEB",
            "MAR",
            "APR",
            "MAY",
            "JUN",
            "JUL",
            "AUG",
            "SEP",
            "OCT",
            "NOV",
            "DEC"
           ],
           "xaxis": "x",
           "y": [
            18.35,
            19.73,
            22.93,
            27.06,
            28.07,
            28.49,
            27.16,
            26.41,
            25.74,
            24.25,
            21.06,
            18.15
           ],
           "yaxis": "y"
          }
         ],
         "name": "1908"
        },
        {
         "data": [
          {
           "hovertemplate": "Year=1909<br>Month=%{x}<br>Temprature=%{marker.size}<extra></extra>",
           "legendgroup": "",
           "marker": {
            "color": "#636efa",
            "size": [
             17.79,
             19.05,
             23.4,
             25.76,
             27.97,
             27.67,
             26.56,
             26.43,
             25.47,
             24.37,
             22.01,
             18.86
            ],
            "sizemode": "area",
            "sizeref": 0.07695,
            "symbol": "circle"
           },
           "mode": "markers",
           "name": "",
           "orientation": "v",
           "showlegend": false,
           "type": "scatter",
           "x": [
            "JAN",
            "FEB",
            "MAR",
            "APR",
            "MAY",
            "JUN",
            "JUL",
            "AUG",
            "SEP",
            "OCT",
            "NOV",
            "DEC"
           ],
           "xaxis": "x",
           "y": [
            17.79,
            19.05,
            23.4,
            25.76,
            27.97,
            27.67,
            26.56,
            26.43,
            25.47,
            24.37,
            22.01,
            18.86
           ],
           "yaxis": "y"
          }
         ],
         "name": "1909"
        },
        {
         "data": [
          {
           "hovertemplate": "Year=1910<br>Month=%{x}<br>Temprature=%{marker.size}<extra></extra>",
           "legendgroup": "",
           "marker": {
            "color": "#636efa",
            "size": [
             18.14,
             19.72,
             22.9,
             25.96,
             28.36,
             27.72,
             26.93,
             26.61,
             25.98,
             24.04,
             20.72,
             18.05
            ],
            "sizemode": "area",
            "sizeref": 0.07695,
            "symbol": "circle"
           },
           "mode": "markers",
           "name": "",
           "orientation": "v",
           "showlegend": false,
           "type": "scatter",
           "x": [
            "JAN",
            "FEB",
            "MAR",
            "APR",
            "MAY",
            "JUN",
            "JUL",
            "AUG",
            "SEP",
            "OCT",
            "NOV",
            "DEC"
           ],
           "xaxis": "x",
           "y": [
            18.14,
            19.72,
            22.9,
            25.96,
            28.36,
            27.72,
            26.93,
            26.61,
            25.98,
            24.04,
            20.72,
            18.05
           ],
           "yaxis": "y"
          }
         ],
         "name": "1910"
        },
        {
         "data": [
          {
           "hovertemplate": "Year=1911<br>Month=%{x}<br>Temprature=%{marker.size}<extra></extra>",
           "legendgroup": "",
           "marker": {
            "color": "#636efa",
            "size": [
             18.52,
             19.18,
             22.05,
             26,
             28.55,
             28.02,
             27.44,
             27.04,
             26.22,
             24.57,
             21.1,
             18.76
            ],
            "sizemode": "area",
            "sizeref": 0.07695,
            "symbol": "circle"
           },
           "mode": "markers",
           "name": "",
           "orientation": "v",
           "showlegend": false,
           "type": "scatter",
           "x": [
            "JAN",
            "FEB",
            "MAR",
            "APR",
            "MAY",
            "JUN",
            "JUL",
            "AUG",
            "SEP",
            "OCT",
            "NOV",
            "DEC"
           ],
           "xaxis": "x",
           "y": [
            18.52,
            19.18,
            22.05,
            26,
            28.55,
            28.02,
            27.44,
            27.04,
            26.22,
            24.57,
            21.1,
            18.76
           ],
           "yaxis": "y"
          }
         ],
         "name": "1911"
        },
        {
         "data": [
          {
           "hovertemplate": "Year=1912<br>Month=%{x}<br>Temprature=%{marker.size}<extra></extra>",
           "legendgroup": "",
           "marker": {
            "color": "#636efa",
            "size": [
             18.6,
             20.84,
             22.93,
             26.21,
             28.3,
             28.53,
             27.49,
             26.68,
             25.81,
             24.44,
             21,
             18.44
            ],
            "sizemode": "area",
            "sizeref": 0.07695,
            "symbol": "circle"
           },
           "mode": "markers",
           "name": "",
           "orientation": "v",
           "showlegend": false,
           "type": "scatter",
           "x": [
            "JAN",
            "FEB",
            "MAR",
            "APR",
            "MAY",
            "JUN",
            "JUL",
            "AUG",
            "SEP",
            "OCT",
            "NOV",
            "DEC"
           ],
           "xaxis": "x",
           "y": [
            18.6,
            20.84,
            22.93,
            26.21,
            28.3,
            28.53,
            27.49,
            26.68,
            25.81,
            24.44,
            21,
            18.44
           ],
           "yaxis": "y"
          }
         ],
         "name": "1912"
        },
        {
         "data": [
          {
           "hovertemplate": "Year=1913<br>Month=%{x}<br>Temprature=%{marker.size}<extra></extra>",
           "legendgroup": "",
           "marker": {
            "color": "#636efa",
            "size": [
             18.2,
             19.98,
             22.15,
             26.61,
             27.95,
             27.91,
             27,
             26.8,
             26.02,
             24.35,
             20.92,
             18.7
            ],
            "sizemode": "area",
            "sizeref": 0.07695,
            "symbol": "circle"
           },
           "mode": "markers",
           "name": "",
           "orientation": "v",
           "showlegend": false,
           "type": "scatter",
           "x": [
            "JAN",
            "FEB",
            "MAR",
            "APR",
            "MAY",
            "JUN",
            "JUL",
            "AUG",
            "SEP",
            "OCT",
            "NOV",
            "DEC"
           ],
           "xaxis": "x",
           "y": [
            18.2,
            19.98,
            22.15,
            26.61,
            27.95,
            27.91,
            27,
            26.8,
            26.02,
            24.35,
            20.92,
            18.7
           ],
           "yaxis": "y"
          }
         ],
         "name": "1913"
        },
        {
         "data": [
          {
           "hovertemplate": "Year=1914<br>Month=%{x}<br>Temprature=%{marker.size}<extra></extra>",
           "legendgroup": "",
           "marker": {
            "color": "#636efa",
            "size": [
             18.96,
             19.66,
             22.63,
             25.73,
             28.24,
             28.46,
             27.29,
             26.49,
             26.38,
             23.97,
             21.87,
             18.73
            ],
            "sizemode": "area",
            "sizeref": 0.07695,
            "symbol": "circle"
           },
           "mode": "markers",
           "name": "",
           "orientation": "v",
           "showlegend": false,
           "type": "scatter",
           "x": [
            "JAN",
            "FEB",
            "MAR",
            "APR",
            "MAY",
            "JUN",
            "JUL",
            "AUG",
            "SEP",
            "OCT",
            "NOV",
            "DEC"
           ],
           "xaxis": "x",
           "y": [
            18.96,
            19.66,
            22.63,
            25.73,
            28.24,
            28.46,
            27.29,
            26.49,
            26.38,
            23.97,
            21.87,
            18.73
           ],
           "yaxis": "y"
          }
         ],
         "name": "1914"
        },
        {
         "data": [
          {
           "hovertemplate": "Year=1915<br>Month=%{x}<br>Temprature=%{marker.size}<extra></extra>",
           "legendgroup": "",
           "marker": {
            "color": "#636efa",
            "size": [
             17.93,
             19,
             22.69,
             26.23,
             29.17,
             28.58,
             27.77,
             27.32,
             26.82,
             25.46,
             22.18,
             18.31
            ],
            "sizemode": "area",
            "sizeref": 0.07695,
            "symbol": "circle"
           },
           "mode": "markers",
           "name": "",
           "orientation": "v",
           "showlegend": false,
           "type": "scatter",
           "x": [
            "JAN",
            "FEB",
            "MAR",
            "APR",
            "MAY",
            "JUN",
            "JUL",
            "AUG",
            "SEP",
            "OCT",
            "NOV",
            "DEC"
           ],
           "xaxis": "x",
           "y": [
            17.93,
            19,
            22.69,
            26.23,
            29.17,
            28.58,
            27.77,
            27.32,
            26.82,
            25.46,
            22.18,
            18.31
           ],
           "yaxis": "y"
          }
         ],
         "name": "1915"
        },
        {
         "data": [
          {
           "hovertemplate": "Year=1916<br>Month=%{x}<br>Temprature=%{marker.size}<extra></extra>",
           "legendgroup": "",
           "marker": {
            "color": "#636efa",
            "size": [
             18.52,
             19.68,
             24.24,
             26.84,
             28.16,
             27.81,
             27.08,
             26.77,
             26,
             24.6,
             21.03,
             18.17
            ],
            "sizemode": "area",
            "sizeref": 0.07695,
            "symbol": "circle"
           },
           "mode": "markers",
           "name": "",
           "orientation": "v",
           "showlegend": false,
           "type": "scatter",
           "x": [
            "JAN",
            "FEB",
            "MAR",
            "APR",
            "MAY",
            "JUN",
            "JUL",
            "AUG",
            "SEP",
            "OCT",
            "NOV",
            "DEC"
           ],
           "xaxis": "x",
           "y": [
            18.52,
            19.68,
            24.24,
            26.84,
            28.16,
            27.81,
            27.08,
            26.77,
            26,
            24.6,
            21.03,
            18.17
           ],
           "yaxis": "y"
          }
         ],
         "name": "1916"
        },
        {
         "data": [
          {
           "hovertemplate": "Year=1917<br>Month=%{x}<br>Temprature=%{marker.size}<extra></extra>",
           "legendgroup": "",
           "marker": {
            "color": "#636efa",
            "size": [
             18.16,
             19.94,
             22.46,
             25.29,
             26.97,
             27.41,
             27.15,
             26.64,
             25.79,
             23.85,
             20.8,
             18.39
            ],
            "sizemode": "area",
            "sizeref": 0.07695,
            "symbol": "circle"
           },
           "mode": "markers",
           "name": "",
           "orientation": "v",
           "showlegend": false,
           "type": "scatter",
           "x": [
            "JAN",
            "FEB",
            "MAR",
            "APR",
            "MAY",
            "JUN",
            "JUL",
            "AUG",
            "SEP",
            "OCT",
            "NOV",
            "DEC"
           ],
           "xaxis": "x",
           "y": [
            18.16,
            19.94,
            22.46,
            25.29,
            26.97,
            27.41,
            27.15,
            26.64,
            25.79,
            23.85,
            20.8,
            18.39
           ],
           "yaxis": "y"
          }
         ],
         "name": "1917"
        },
        {
         "data": [
          {
           "hovertemplate": "Year=1918<br>Month=%{x}<br>Temprature=%{marker.size}<extra></extra>",
           "legendgroup": "",
           "marker": {
            "color": "#636efa",
            "size": [
             17.25,
             19.58,
             22.64,
             25.26,
             28.27,
             27.58,
             27.74,
             26.97,
             26,
             24.54,
             21.71,
             18.37
            ],
            "sizemode": "area",
            "sizeref": 0.07695,
            "symbol": "circle"
           },
           "mode": "markers",
           "name": "",
           "orientation": "v",
           "showlegend": false,
           "type": "scatter",
           "x": [
            "JAN",
            "FEB",
            "MAR",
            "APR",
            "MAY",
            "JUN",
            "JUL",
            "AUG",
            "SEP",
            "OCT",
            "NOV",
            "DEC"
           ],
           "xaxis": "x",
           "y": [
            17.25,
            19.58,
            22.64,
            25.26,
            28.27,
            27.58,
            27.74,
            26.97,
            26,
            24.54,
            21.71,
            18.37
           ],
           "yaxis": "y"
          }
         ],
         "name": "1918"
        },
        {
         "data": [
          {
           "hovertemplate": "Year=1919<br>Month=%{x}<br>Temprature=%{marker.size}<extra></extra>",
           "legendgroup": "",
           "marker": {
            "color": "#636efa",
            "size": [
             18.78,
             19.15,
             23.15,
             26.19,
             28.2,
             28.3,
             27.28,
             26.84,
             25.84,
             24.36,
             21.48,
             18.58
            ],
            "sizemode": "area",
            "sizeref": 0.07695,
            "symbol": "circle"
           },
           "mode": "markers",
           "name": "",
           "orientation": "v",
           "showlegend": false,
           "type": "scatter",
           "x": [
            "JAN",
            "FEB",
            "MAR",
            "APR",
            "MAY",
            "JUN",
            "JUL",
            "AUG",
            "SEP",
            "OCT",
            "NOV",
            "DEC"
           ],
           "xaxis": "x",
           "y": [
            18.78,
            19.15,
            23.15,
            26.19,
            28.2,
            28.3,
            27.28,
            26.84,
            25.84,
            24.36,
            21.48,
            18.58
           ],
           "yaxis": "y"
          }
         ],
         "name": "1919"
        },
        {
         "data": [
          {
           "hovertemplate": "Year=1920<br>Month=%{x}<br>Temprature=%{marker.size}<extra></extra>",
           "legendgroup": "",
           "marker": {
            "color": "#636efa",
            "size": [
             18.27,
             19.16,
             23.02,
             25.73,
             27.06,
             27.76,
             27.48,
             26.61,
             26.34,
             24.85,
             21.84,
             18.78
            ],
            "sizemode": "area",
            "sizeref": 0.07695,
            "symbol": "circle"
           },
           "mode": "markers",
           "name": "",
           "orientation": "v",
           "showlegend": false,
           "type": "scatter",
           "x": [
            "JAN",
            "FEB",
            "MAR",
            "APR",
            "MAY",
            "JUN",
            "JUL",
            "AUG",
            "SEP",
            "OCT",
            "NOV",
            "DEC"
           ],
           "xaxis": "x",
           "y": [
            18.27,
            19.16,
            23.02,
            25.73,
            27.06,
            27.76,
            27.48,
            26.61,
            26.34,
            24.85,
            21.84,
            18.78
           ],
           "yaxis": "y"
          }
         ],
         "name": "1920"
        },
        {
         "data": [
          {
           "hovertemplate": "Year=1921<br>Month=%{x}<br>Temprature=%{marker.size}<extra></extra>",
           "legendgroup": "",
           "marker": {
            "color": "#636efa",
            "size": [
             18.61,
             22.12,
             24.26,
             27.11,
             30.78,
             28.04,
             27.4,
             26.59,
             25.92,
             23.84,
             21.1,
             19.24
            ],
            "sizemode": "area",
            "sizeref": 0.07695,
            "symbol": "circle"
           },
           "mode": "markers",
           "name": "",
           "orientation": "v",
           "showlegend": false,
           "type": "scatter",
           "x": [
            "JAN",
            "FEB",
            "MAR",
            "APR",
            "MAY",
            "JUN",
            "JUL",
            "AUG",
            "SEP",
            "OCT",
            "NOV",
            "DEC"
           ],
           "xaxis": "x",
           "y": [
            18.61,
            22.12,
            24.26,
            27.11,
            30.78,
            28.04,
            27.4,
            26.59,
            25.92,
            23.84,
            21.1,
            19.24
           ],
           "yaxis": "y"
          }
         ],
         "name": "1921"
        },
        {
         "data": [
          {
           "hovertemplate": "Year=1922<br>Month=%{x}<br>Temprature=%{marker.size}<extra></extra>",
           "legendgroup": "",
           "marker": {
            "color": "#636efa",
            "size": [
             18.3,
             20.5,
             23.65,
             26.55,
             29.8,
             28.03,
             27.26,
             26.95,
             26.04,
             23.94,
             21.28,
             18.39
            ],
            "sizemode": "area",
            "sizeref": 0.07695,
            "symbol": "circle"
           },
           "mode": "markers",
           "name": "",
           "orientation": "v",
           "showlegend": false,
           "type": "scatter",
           "x": [
            "JAN",
            "FEB",
            "MAR",
            "APR",
            "MAY",
            "JUN",
            "JUL",
            "AUG",
            "SEP",
            "OCT",
            "NOV",
            "DEC"
           ],
           "xaxis": "x",
           "y": [
            18.3,
            20.5,
            23.65,
            26.55,
            29.8,
            28.03,
            27.26,
            26.95,
            26.04,
            23.94,
            21.28,
            18.39
           ],
           "yaxis": "y"
          }
         ],
         "name": "1922"
        },
        {
         "data": [
          {
           "hovertemplate": "Year=1923<br>Month=%{x}<br>Temprature=%{marker.size}<extra></extra>",
           "legendgroup": "",
           "marker": {
            "color": "#636efa",
            "size": [
             18.23,
             19.35,
             23.21,
             26.81,
             28.33,
             28.95,
             26.89,
             26.71,
             25.89,
             23.89,
             21.23,
             19.08
            ],
            "sizemode": "area",
            "sizeref": 0.07695,
            "symbol": "circle"
           },
           "mode": "markers",
           "name": "",
           "orientation": "v",
           "showlegend": false,
           "type": "scatter",
           "x": [
            "JAN",
            "FEB",
            "MAR",
            "APR",
            "MAY",
            "JUN",
            "JUL",
            "AUG",
            "SEP",
            "OCT",
            "NOV",
            "DEC"
           ],
           "xaxis": "x",
           "y": [
            18.23,
            19.35,
            23.21,
            26.81,
            28.33,
            28.95,
            26.89,
            26.71,
            25.89,
            23.89,
            21.23,
            19.08
           ],
           "yaxis": "y"
          }
         ],
         "name": "1923"
        },
        {
         "data": [
          {
           "hovertemplate": "Year=1924<br>Month=%{x}<br>Temprature=%{marker.size}<extra></extra>",
           "legendgroup": "",
           "marker": {
            "color": "#636efa",
            "size": [
             18.06,
             19.97,
             24.12,
             26.87,
             27.43,
             28.6,
             27.5,
             26.91,
             25.72,
             24.5,
             21.04,
             18.97
            ],
            "sizemode": "area",
            "sizeref": 0.07695,
            "symbol": "circle"
           },
           "mode": "markers",
           "name": "",
           "orientation": "v",
           "showlegend": false,
           "type": "scatter",
           "x": [
            "JAN",
            "FEB",
            "MAR",
            "APR",
            "MAY",
            "JUN",
            "JUL",
            "AUG",
            "SEP",
            "OCT",
            "NOV",
            "DEC"
           ],
           "xaxis": "x",
           "y": [
            18.06,
            19.97,
            24.12,
            26.87,
            27.43,
            28.6,
            27.5,
            26.91,
            25.72,
            24.5,
            21.04,
            18.97
           ],
           "yaxis": "y"
          }
         ],
         "name": "1924"
        },
        {
         "data": [
          {
           "hovertemplate": "Year=1925<br>Month=%{x}<br>Temprature=%{marker.size}<extra></extra>",
           "legendgroup": "",
           "marker": {
            "color": "#636efa",
            "size": [
             17.53,
             19.08,
             23.5,
             27.24,
             27.82,
             27.76,
             27.01,
             26.64,
             26.29,
             24.61,
             21.29,
             18.63
            ],
            "sizemode": "area",
            "sizeref": 0.07695,
            "symbol": "circle"
           },
           "mode": "markers",
           "name": "",
           "orientation": "v",
           "showlegend": false,
           "type": "scatter",
           "x": [
            "JAN",
            "FEB",
            "MAR",
            "APR",
            "MAY",
            "JUN",
            "JUL",
            "AUG",
            "SEP",
            "OCT",
            "NOV",
            "DEC"
           ],
           "xaxis": "x",
           "y": [
            17.53,
            19.08,
            23.5,
            27.24,
            27.82,
            27.76,
            27.01,
            26.64,
            26.29,
            24.61,
            21.29,
            18.63
           ],
           "yaxis": "y"
          }
         ],
         "name": "1925"
        },
        {
         "data": [
          {
           "hovertemplate": "Year=1926<br>Month=%{x}<br>Temprature=%{marker.size}<extra></extra>",
           "legendgroup": "",
           "marker": {
            "color": "#636efa",
            "size": [
             18.65,
             20.7,
             22.87,
             25.3,
             27.69,
             28.97,
             27.65,
             27.08,
             25.95,
             24.41,
             20.59,
             18.8
            ],
            "sizemode": "area",
            "sizeref": 0.07695,
            "symbol": "circle"
           },
           "mode": "markers",
           "name": "",
           "orientation": "v",
           "showlegend": false,
           "type": "scatter",
           "x": [
            "JAN",
            "FEB",
            "MAR",
            "APR",
            "MAY",
            "JUN",
            "JUL",
            "AUG",
            "SEP",
            "OCT",
            "NOV",
            "DEC"
           ],
           "xaxis": "x",
           "y": [
            18.65,
            20.7,
            22.87,
            25.3,
            27.69,
            28.97,
            27.65,
            27.08,
            25.95,
            24.41,
            20.59,
            18.8
           ],
           "yaxis": "y"
          }
         ],
         "name": "1926"
        },
        {
         "data": [
          {
           "hovertemplate": "Year=1927<br>Month=%{x}<br>Temprature=%{marker.size}<extra></extra>",
           "legendgroup": "",
           "marker": {
            "color": "#636efa",
            "size": [
             18.15,
             19.4,
             22.71,
             26.13,
             27.7,
             27.93,
             27.23,
             26.66,
             26.1,
             24.7,
             21.16,
             19.41
            ],
            "sizemode": "area",
            "sizeref": 0.07695,
            "symbol": "circle"
           },
           "mode": "markers",
           "name": "",
           "orientation": "v",
           "showlegend": false,
           "type": "scatter",
           "x": [
            "JAN",
            "FEB",
            "MAR",
            "APR",
            "MAY",
            "JUN",
            "JUL",
            "AUG",
            "SEP",
            "OCT",
            "NOV",
            "DEC"
           ],
           "xaxis": "x",
           "y": [
            18.15,
            19.4,
            22.71,
            26.13,
            27.7,
            27.93,
            27.23,
            26.66,
            26.1,
            24.7,
            21.16,
            19.41
           ],
           "yaxis": "y"
          }
         ],
         "name": "1927"
        },
        {
         "data": [
          {
           "hovertemplate": "Year=1928<br>Month=%{x}<br>Temprature=%{marker.size}<extra></extra>",
           "legendgroup": "",
           "marker": {
            "color": "#636efa",
            "size": [
             18.66,
             20.13,
             23.23,
             26.44,
             28.88,
             28.22,
             27.28,
             26.9,
             26.32,
             24.92,
             21.77,
             18.73
            ],
            "sizemode": "area",
            "sizeref": 0.07695,
            "symbol": "circle"
           },
           "mode": "markers",
           "name": "",
           "orientation": "v",
           "showlegend": false,
           "type": "scatter",
           "x": [
            "JAN",
            "FEB",
            "MAR",
            "APR",
            "MAY",
            "JUN",
            "JUL",
            "AUG",
            "SEP",
            "OCT",
            "NOV",
            "DEC"
           ],
           "xaxis": "x",
           "y": [
            18.66,
            20.13,
            23.23,
            26.44,
            28.88,
            28.22,
            27.28,
            26.9,
            26.32,
            24.92,
            21.77,
            18.73
           ],
           "yaxis": "y"
          }
         ],
         "name": "1928"
        },
        {
         "data": [
          {
           "hovertemplate": "Year=1929<br>Month=%{x}<br>Temprature=%{marker.size}<extra></extra>",
           "legendgroup": "",
           "marker": {
            "color": "#636efa",
            "size": [
             18.25,
             19,
             24.05,
             26.44,
             28.58,
             28.07,
             27.26,
             26.64,
             26.41,
             24.12,
             21.71,
             18.44
            ],
            "sizemode": "area",
            "sizeref": 0.07695,
            "symbol": "circle"
           },
           "mode": "markers",
           "name": "",
           "orientation": "v",
           "showlegend": false,
           "type": "scatter",
           "x": [
            "JAN",
            "FEB",
            "MAR",
            "APR",
            "MAY",
            "JUN",
            "JUL",
            "AUG",
            "SEP",
            "OCT",
            "NOV",
            "DEC"
           ],
           "xaxis": "x",
           "y": [
            18.25,
            19,
            24.05,
            26.44,
            28.58,
            28.07,
            27.26,
            26.64,
            26.41,
            24.12,
            21.71,
            18.44
           ],
           "yaxis": "y"
          }
         ],
         "name": "1929"
        },
        {
         "data": [
          {
           "hovertemplate": "Year=1930<br>Month=%{x}<br>Temprature=%{marker.size}<extra></extra>",
           "legendgroup": "",
           "marker": {
            "color": "#636efa",
            "size": [
             17.75,
             18.72,
             23.36,
             25.94,
             28.11,
             27.84,
             27.31,
             26.85,
             26.17,
             24.6,
             21.41,
             19.11
            ],
            "sizemode": "area",
            "sizeref": 0.07695,
            "symbol": "circle"
           },
           "mode": "markers",
           "name": "",
           "orientation": "v",
           "showlegend": false,
           "type": "scatter",
           "x": [
            "JAN",
            "FEB",
            "MAR",
            "APR",
            "MAY",
            "JUN",
            "JUL",
            "AUG",
            "SEP",
            "OCT",
            "NOV",
            "DEC"
           ],
           "xaxis": "x",
           "y": [
            17.75,
            18.72,
            23.36,
            25.94,
            28.11,
            27.84,
            27.31,
            26.85,
            26.17,
            24.6,
            21.41,
            19.11
           ],
           "yaxis": "y"
          }
         ],
         "name": "1930"
        },
        {
         "data": [
          {
           "hovertemplate": "Year=1931<br>Month=%{x}<br>Temprature=%{marker.size}<extra></extra>",
           "legendgroup": "",
           "marker": {
            "color": "#636efa",
            "size": [
             19.34,
             19.73,
             23.31,
             27.27,
             28.51,
             28.68,
             26.93,
             27.31,
             26.25,
             24.91,
             21.7,
             19.29
            ],
            "sizemode": "area",
            "sizeref": 0.07695,
            "symbol": "circle"
           },
           "mode": "markers",
           "name": "",
           "orientation": "v",
           "showlegend": false,
           "type": "scatter",
           "x": [
            "JAN",
            "FEB",
            "MAR",
            "APR",
            "MAY",
            "JUN",
            "JUL",
            "AUG",
            "SEP",
            "OCT",
            "NOV",
            "DEC"
           ],
           "xaxis": "x",
           "y": [
            19.34,
            19.73,
            23.31,
            27.27,
            28.51,
            28.68,
            26.93,
            27.31,
            26.25,
            24.91,
            21.7,
            19.29
           ],
           "yaxis": "y"
          }
         ],
         "name": "1931"
        },
        {
         "data": [
          {
           "hovertemplate": "Year=1932<br>Month=%{x}<br>Temprature=%{marker.size}<extra></extra>",
           "legendgroup": "",
           "marker": {
            "color": "#636efa",
            "size": [
             18.72,
             19.51,
             23.39,
             26.59,
             27.74,
             28.52,
             27.46,
             26.8,
             26.5,
             24.69,
             21.71,
             18.86
            ],
            "sizemode": "area",
            "sizeref": 0.07695,
            "symbol": "circle"
           },
           "mode": "markers",
           "name": "",
           "orientation": "v",
           "showlegend": false,
           "type": "scatter",
           "x": [
            "JAN",
            "FEB",
            "MAR",
            "APR",
            "MAY",
            "JUN",
            "JUL",
            "AUG",
            "SEP",
            "OCT",
            "NOV",
            "DEC"
           ],
           "xaxis": "x",
           "y": [
            18.72,
            19.51,
            23.39,
            26.59,
            27.74,
            28.52,
            27.46,
            26.8,
            26.5,
            24.69,
            21.71,
            18.86
           ],
           "yaxis": "y"
          }
         ],
         "name": "1932"
        },
        {
         "data": [
          {
           "hovertemplate": "Year=1933<br>Month=%{x}<br>Temprature=%{marker.size}<extra></extra>",
           "legendgroup": "",
           "marker": {
            "color": "#636efa",
            "size": [
             17.84,
             20.33,
             23.22,
             25.52,
             27.26,
             27.92,
             27.39,
             26.32,
             25.86,
             24.35,
             21.67,
             19.31
            ],
            "sizemode": "area",
            "sizeref": 0.07695,
            "symbol": "circle"
           },
           "mode": "markers",
           "name": "",
           "orientation": "v",
           "showlegend": false,
           "type": "scatter",
           "x": [
            "JAN",
            "FEB",
            "MAR",
            "APR",
            "MAY",
            "JUN",
            "JUL",
            "AUG",
            "SEP",
            "OCT",
            "NOV",
            "DEC"
           ],
           "xaxis": "x",
           "y": [
            17.84,
            20.33,
            23.22,
            25.52,
            27.26,
            27.92,
            27.39,
            26.32,
            25.86,
            24.35,
            21.67,
            19.31
           ],
           "yaxis": "y"
          }
         ],
         "name": "1933"
        },
        {
         "data": [
          {
           "hovertemplate": "Year=1934<br>Month=%{x}<br>Temprature=%{marker.size}<extra></extra>",
           "legendgroup": "",
           "marker": {
            "color": "#636efa",
            "size": [
             17.8,
             20.51,
             22.97,
             26.58,
             28.13,
             28.22,
             27.42,
             26.74,
             26.56,
             24.42,
             21.15,
             19.08
            ],
            "sizemode": "area",
            "sizeref": 0.07695,
            "symbol": "circle"
           },
           "mode": "markers",
           "name": "",
           "orientation": "v",
           "showlegend": false,
           "type": "scatter",
           "x": [
            "JAN",
            "FEB",
            "MAR",
            "APR",
            "MAY",
            "JUN",
            "JUL",
            "AUG",
            "SEP",
            "OCT",
            "NOV",
            "DEC"
           ],
           "xaxis": "x",
           "y": [
            17.8,
            20.51,
            22.97,
            26.58,
            28.13,
            28.22,
            27.42,
            26.74,
            26.56,
            24.42,
            21.15,
            19.08
           ],
           "yaxis": "y"
          }
         ],
         "name": "1934"
        },
        {
         "data": [
          {
           "hovertemplate": "Year=1935<br>Month=%{x}<br>Temprature=%{marker.size}<extra></extra>",
           "legendgroup": "",
           "marker": {
            "color": "#636efa",
            "size": [
             17.54,
             21,
             23.39,
             25.15,
             28.88,
             28.45,
             27.18,
             26.37,
             25.85,
             24.42,
             21.49,
             19.03
            ],
            "sizemode": "area",
            "sizeref": 0.07695,
            "symbol": "circle"
           },
           "mode": "markers",
           "name": "",
           "orientation": "v",
           "showlegend": false,
           "type": "scatter",
           "x": [
            "JAN",
            "FEB",
            "MAR",
            "APR",
            "MAY",
            "JUN",
            "JUL",
            "AUG",
            "SEP",
            "OCT",
            "NOV",
            "DEC"
           ],
           "xaxis": "x",
           "y": [
            17.54,
            21,
            23.39,
            25.15,
            28.88,
            28.45,
            27.18,
            26.37,
            25.85,
            24.42,
            21.49,
            19.03
           ],
           "yaxis": "y"
          }
         ],
         "name": "1935"
        },
        {
         "data": [
          {
           "hovertemplate": "Year=1936<br>Month=%{x}<br>Temprature=%{marker.size}<extra></extra>",
           "legendgroup": "",
           "marker": {
            "color": "#636efa",
            "size": [
             18.06,
             20,
             22.84,
             26.27,
             28.97,
             27.41,
             27.12,
             26.8,
             26.44,
             24.73,
             21.72,
             19.13
            ],
            "sizemode": "area",
            "sizeref": 0.07695,
            "symbol": "circle"
           },
           "mode": "markers",
           "name": "",
           "orientation": "v",
           "showlegend": false,
           "type": "scatter",
           "x": [
            "JAN",
            "FEB",
            "MAR",
            "APR",
            "MAY",
            "JUN",
            "JUL",
            "AUG",
            "SEP",
            "OCT",
            "NOV",
            "DEC"
           ],
           "xaxis": "x",
           "y": [
            18.06,
            20,
            22.84,
            26.27,
            28.97,
            27.41,
            27.12,
            26.8,
            26.44,
            24.73,
            21.72,
            19.13
           ],
           "yaxis": "y"
          }
         ],
         "name": "1936"
        },
        {
         "data": [
          {
           "hovertemplate": "Year=1937<br>Month=%{x}<br>Temprature=%{marker.size}<extra></extra>",
           "legendgroup": "",
           "marker": {
            "color": "#636efa",
            "size": [
             18.02,
             20.21,
             22.6,
             25.83,
             28.4,
             28.69,
             27,
             27.18,
             26.43,
             23.98,
             21.34,
             18.09
            ],
            "sizemode": "area",
            "sizeref": 0.07695,
            "symbol": "circle"
           },
           "mode": "markers",
           "name": "",
           "orientation": "v",
           "showlegend": false,
           "type": "scatter",
           "x": [
            "JAN",
            "FEB",
            "MAR",
            "APR",
            "MAY",
            "JUN",
            "JUL",
            "AUG",
            "SEP",
            "OCT",
            "NOV",
            "DEC"
           ],
           "xaxis": "x",
           "y": [
            18.02,
            20.21,
            22.6,
            25.83,
            28.4,
            28.69,
            27,
            27.18,
            26.43,
            23.98,
            21.34,
            18.09
           ],
           "yaxis": "y"
          }
         ],
         "name": "1937"
        },
        {
         "data": [
          {
           "hovertemplate": "Year=1938<br>Month=%{x}<br>Temprature=%{marker.size}<extra></extra>",
           "legendgroup": "",
           "marker": {
            "color": "#636efa",
            "size": [
             18.15,
             18.77,
             23.61,
             26.91,
             28.97,
             27.33,
             27.16,
             26.83,
             26.14,
             24.41,
             20.62,
             18.9
            ],
            "sizemode": "area",
            "sizeref": 0.07695,
            "symbol": "circle"
           },
           "mode": "markers",
           "name": "",
           "orientation": "v",
           "showlegend": false,
           "type": "scatter",
           "x": [
            "JAN",
            "FEB",
            "MAR",
            "APR",
            "MAY",
            "JUN",
            "JUL",
            "AUG",
            "SEP",
            "OCT",
            "NOV",
            "DEC"
           ],
           "xaxis": "x",
           "y": [
            18.15,
            18.77,
            23.61,
            26.91,
            28.97,
            27.33,
            27.16,
            26.83,
            26.14,
            24.41,
            20.62,
            18.9
           ],
           "yaxis": "y"
          }
         ],
         "name": "1938"
        },
        {
         "data": [
          {
           "hovertemplate": "Year=1939<br>Month=%{x}<br>Temprature=%{marker.size}<extra></extra>",
           "legendgroup": "",
           "marker": {
            "color": "#636efa",
            "size": [
             18.4,
             19.79,
             21.98,
             25.67,
             28.63,
             28.11,
             27.22,
             26.92,
             26.4,
             24.66,
             21.32,
             19.03
            ],
            "sizemode": "area",
            "sizeref": 0.07695,
            "symbol": "circle"
           },
           "mode": "markers",
           "name": "",
           "orientation": "v",
           "showlegend": false,
           "type": "scatter",
           "x": [
            "JAN",
            "FEB",
            "MAR",
            "APR",
            "MAY",
            "JUN",
            "JUL",
            "AUG",
            "SEP",
            "OCT",
            "NOV",
            "DEC"
           ],
           "xaxis": "x",
           "y": [
            18.4,
            19.79,
            21.98,
            25.67,
            28.63,
            28.11,
            27.22,
            26.92,
            26.4,
            24.66,
            21.32,
            19.03
           ],
           "yaxis": "y"
          }
         ],
         "name": "1939"
        },
        {
         "data": [
          {
           "hovertemplate": "Year=1940<br>Month=%{x}<br>Temprature=%{marker.size}<extra></extra>",
           "legendgroup": "",
           "marker": {
            "color": "#636efa",
            "size": [
             18.1,
             19.88,
             22.23,
             25.88,
             28.38,
             28.29,
             27.42,
             26.44,
             26.19,
             24.74,
             22.03,
             18.97
            ],
            "sizemode": "area",
            "sizeref": 0.07695,
            "symbol": "circle"
           },
           "mode": "markers",
           "name": "",
           "orientation": "v",
           "showlegend": false,
           "type": "scatter",
           "x": [
            "JAN",
            "FEB",
            "MAR",
            "APR",
            "MAY",
            "JUN",
            "JUL",
            "AUG",
            "SEP",
            "OCT",
            "NOV",
            "DEC"
           ],
           "xaxis": "x",
           "y": [
            18.1,
            19.88,
            22.23,
            25.88,
            28.38,
            28.29,
            27.42,
            26.44,
            26.19,
            24.74,
            22.03,
            18.97
           ],
           "yaxis": "y"
          }
         ],
         "name": "1940"
        },
        {
         "data": [
          {
           "hovertemplate": "Year=1941<br>Month=%{x}<br>Temprature=%{marker.size}<extra></extra>",
           "legendgroup": "",
           "marker": {
            "color": "#636efa",
            "size": [
             18.33,
             20.28,
             24.24,
             27.49,
             28.89,
             28.52,
             27.54,
             27.43,
             26.29,
             25.47,
             21.76,
             19.67
            ],
            "sizemode": "area",
            "sizeref": 0.07695,
            "symbol": "circle"
           },
           "mode": "markers",
           "name": "",
           "orientation": "v",
           "showlegend": false,
           "type": "scatter",
           "x": [
            "JAN",
            "FEB",
            "MAR",
            "APR",
            "MAY",
            "JUN",
            "JUL",
            "AUG",
            "SEP",
            "OCT",
            "NOV",
            "DEC"
           ],
           "xaxis": "x",
           "y": [
            18.33,
            20.28,
            24.24,
            27.49,
            28.89,
            28.52,
            27.54,
            27.43,
            26.29,
            25.47,
            21.76,
            19.67
           ],
           "yaxis": "y"
          }
         ],
         "name": "1941"
        },
        {
         "data": [
          {
           "hovertemplate": "Year=1942<br>Month=%{x}<br>Temprature=%{marker.size}<extra></extra>",
           "legendgroup": "",
           "marker": {
            "color": "#636efa",
            "size": [
             18.07,
             20.06,
             23.87,
             26.79,
             28.82,
             28.81,
             27.28,
             26.62,
             26.03,
             24.56,
             21.85,
             18.75
            ],
            "sizemode": "area",
            "sizeref": 0.07695,
            "symbol": "circle"
           },
           "mode": "markers",
           "name": "",
           "orientation": "v",
           "showlegend": false,
           "type": "scatter",
           "x": [
            "JAN",
            "FEB",
            "MAR",
            "APR",
            "MAY",
            "JUN",
            "JUL",
            "AUG",
            "SEP",
            "OCT",
            "NOV",
            "DEC"
           ],
           "xaxis": "x",
           "y": [
            18.07,
            20.06,
            23.87,
            26.79,
            28.82,
            28.81,
            27.28,
            26.62,
            26.03,
            24.56,
            21.85,
            18.75
           ],
           "yaxis": "y"
          }
         ],
         "name": "1942"
        },
        {
         "data": [
          {
           "hovertemplate": "Year=1943<br>Month=%{x}<br>Temprature=%{marker.size}<extra></extra>",
           "legendgroup": "",
           "marker": {
            "color": "#636efa",
            "size": [
             18.32,
             19.47,
             23.31,
             25.56,
             27.82,
             27.8,
             27.16,
             26.66,
             26.26,
             24.2,
             21.81,
             19.02
            ],
            "sizemode": "area",
            "sizeref": 0.07695,
            "symbol": "circle"
           },
           "mode": "markers",
           "name": "",
           "orientation": "v",
           "showlegend": false,
           "type": "scatter",
           "x": [
            "JAN",
            "FEB",
            "MAR",
            "APR",
            "MAY",
            "JUN",
            "JUL",
            "AUG",
            "SEP",
            "OCT",
            "NOV",
            "DEC"
           ],
           "xaxis": "x",
           "y": [
            18.32,
            19.47,
            23.31,
            25.56,
            27.82,
            27.8,
            27.16,
            26.66,
            26.26,
            24.2,
            21.81,
            19.02
           ],
           "yaxis": "y"
          }
         ],
         "name": "1943"
        },
        {
         "data": [
          {
           "hovertemplate": "Year=1944<br>Month=%{x}<br>Temprature=%{marker.size}<extra></extra>",
           "legendgroup": "",
           "marker": {
            "color": "#636efa",
            "size": [
             18,
             19.07,
             22.54,
             25.63,
             28.93,
             28.39,
             27.42,
             27.11,
             26.08,
             24.49,
             21.51,
             19.32
            ],
            "sizemode": "area",
            "sizeref": 0.07695,
            "symbol": "circle"
           },
           "mode": "markers",
           "name": "",
           "orientation": "v",
           "showlegend": false,
           "type": "scatter",
           "x": [
            "JAN",
            "FEB",
            "MAR",
            "APR",
            "MAY",
            "JUN",
            "JUL",
            "AUG",
            "SEP",
            "OCT",
            "NOV",
            "DEC"
           ],
           "xaxis": "x",
           "y": [
            18,
            19.07,
            22.54,
            25.63,
            28.93,
            28.39,
            27.42,
            27.11,
            26.08,
            24.49,
            21.51,
            19.32
           ],
           "yaxis": "y"
          }
         ],
         "name": "1944"
        },
        {
         "data": [
          {
           "hovertemplate": "Year=1945<br>Month=%{x}<br>Temprature=%{marker.size}<extra></extra>",
           "legendgroup": "",
           "marker": {
            "color": "#636efa",
            "size": [
             17.33,
             19.37,
             23.28,
             25.52,
             28.31,
             28.81,
             27.39,
             26.98,
             26.51,
             24.36,
             21.15,
             17.98
            ],
            "sizemode": "area",
            "sizeref": 0.07695,
            "symbol": "circle"
           },
           "mode": "markers",
           "name": "",
           "orientation": "v",
           "showlegend": false,
           "type": "scatter",
           "x": [
            "JAN",
            "FEB",
            "MAR",
            "APR",
            "MAY",
            "JUN",
            "JUL",
            "AUG",
            "SEP",
            "OCT",
            "NOV",
            "DEC"
           ],
           "xaxis": "x",
           "y": [
            17.33,
            19.37,
            23.28,
            25.52,
            28.31,
            28.81,
            27.39,
            26.98,
            26.51,
            24.36,
            21.15,
            17.98
           ],
           "yaxis": "y"
          }
         ],
         "name": "1945"
        },
        {
         "data": [
          {
           "hovertemplate": "Year=1946<br>Month=%{x}<br>Temprature=%{marker.size}<extra></extra>",
           "legendgroup": "",
           "marker": {
            "color": "#636efa",
            "size": [
             18.31,
             20.73,
             23.02,
             26.86,
             28.48,
             28.14,
             27.47,
             27.04,
             26.31,
             24.98,
             21.6,
             20.08
            ],
            "sizemode": "area",
            "sizeref": 0.07695,
            "symbol": "circle"
           },
           "mode": "markers",
           "name": "",
           "orientation": "v",
           "showlegend": false,
           "type": "scatter",
           "x": [
            "JAN",
            "FEB",
            "MAR",
            "APR",
            "MAY",
            "JUN",
            "JUL",
            "AUG",
            "SEP",
            "OCT",
            "NOV",
            "DEC"
           ],
           "xaxis": "x",
           "y": [
            18.31,
            20.73,
            23.02,
            26.86,
            28.48,
            28.14,
            27.47,
            27.04,
            26.31,
            24.98,
            21.6,
            20.08
           ],
           "yaxis": "y"
          }
         ],
         "name": "1946"
        },
        {
         "data": [
          {
           "hovertemplate": "Year=1947<br>Month=%{x}<br>Temprature=%{marker.size}<extra></extra>",
           "legendgroup": "",
           "marker": {
            "color": "#636efa",
            "size": [
             17.72,
             19.84,
             23.55,
             26.88,
             28.82,
             28.82,
             27.41,
             27.46,
             26.28,
             24.67,
             21.78,
             19.07
            ],
            "sizemode": "area",
            "sizeref": 0.07695,
            "symbol": "circle"
           },
           "mode": "markers",
           "name": "",
           "orientation": "v",
           "showlegend": false,
           "type": "scatter",
           "x": [
            "JAN",
            "FEB",
            "MAR",
            "APR",
            "MAY",
            "JUN",
            "JUL",
            "AUG",
            "SEP",
            "OCT",
            "NOV",
            "DEC"
           ],
           "xaxis": "x",
           "y": [
            17.72,
            19.84,
            23.55,
            26.88,
            28.82,
            28.82,
            27.41,
            27.46,
            26.28,
            24.67,
            21.78,
            19.07
           ],
           "yaxis": "y"
          }
         ],
         "name": "1947"
        },
        {
         "data": [
          {
           "hovertemplate": "Year=1948<br>Month=%{x}<br>Temprature=%{marker.size}<extra></extra>",
           "legendgroup": "",
           "marker": {
            "color": "#636efa",
            "size": [
             18.25,
             19.36,
             22.72,
             26.68,
             28.71,
             28.16,
             27.15,
             26.72,
             26.28,
             24.84,
             21.58,
             18.79
            ],
            "sizemode": "area",
            "sizeref": 0.07695,
            "symbol": "circle"
           },
           "mode": "markers",
           "name": "",
           "orientation": "v",
           "showlegend": false,
           "type": "scatter",
           "x": [
            "JAN",
            "FEB",
            "MAR",
            "APR",
            "MAY",
            "JUN",
            "JUL",
            "AUG",
            "SEP",
            "OCT",
            "NOV",
            "DEC"
           ],
           "xaxis": "x",
           "y": [
            18.25,
            19.36,
            22.72,
            26.68,
            28.71,
            28.16,
            27.15,
            26.72,
            26.28,
            24.84,
            21.58,
            18.79
           ],
           "yaxis": "y"
          }
         ],
         "name": "1948"
        },
        {
         "data": [
          {
           "hovertemplate": "Year=1949<br>Month=%{x}<br>Temprature=%{marker.size}<extra></extra>",
           "legendgroup": "",
           "marker": {
            "color": "#636efa",
            "size": [
             19.01,
             19.36,
             23.37,
             26.71,
             28.35,
             27.86,
             27.24,
             26.83,
             26.41,
             24.7,
             20.79,
             18.4
            ],
            "sizemode": "area",
            "sizeref": 0.07695,
            "symbol": "circle"
           },
           "mode": "markers",
           "name": "",
           "orientation": "v",
           "showlegend": false,
           "type": "scatter",
           "x": [
            "JAN",
            "FEB",
            "MAR",
            "APR",
            "MAY",
            "JUN",
            "JUL",
            "AUG",
            "SEP",
            "OCT",
            "NOV",
            "DEC"
           ],
           "xaxis": "x",
           "y": [
            19.01,
            19.36,
            23.37,
            26.71,
            28.35,
            27.86,
            27.24,
            26.83,
            26.41,
            24.7,
            20.79,
            18.4
           ],
           "yaxis": "y"
          }
         ],
         "name": "1949"
        },
        {
         "data": [
          {
           "hovertemplate": "Year=1950<br>Month=%{x}<br>Temprature=%{marker.size}<extra></extra>",
           "legendgroup": "",
           "marker": {
            "color": "#636efa",
            "size": [
             18.36,
             19.05,
             22.45,
             25.72,
             28.34,
             28.21,
             27.03,
             26.63,
             25.6,
             24.07,
             21.03,
             18.33
            ],
            "sizemode": "area",
            "sizeref": 0.07695,
            "symbol": "circle"
           },
           "mode": "markers",
           "name": "",
           "orientation": "v",
           "showlegend": false,
           "type": "scatter",
           "x": [
            "JAN",
            "FEB",
            "MAR",
            "APR",
            "MAY",
            "JUN",
            "JUL",
            "AUG",
            "SEP",
            "OCT",
            "NOV",
            "DEC"
           ],
           "xaxis": "x",
           "y": [
            18.36,
            19.05,
            22.45,
            25.72,
            28.34,
            28.21,
            27.03,
            26.63,
            25.6,
            24.07,
            21.03,
            18.33
           ],
           "yaxis": "y"
          }
         ],
         "name": "1950"
        },
        {
         "data": [
          {
           "hovertemplate": "Year=1951<br>Month=%{x}<br>Temprature=%{marker.size}<extra></extra>",
           "legendgroup": "",
           "marker": {
            "color": "#636efa",
            "size": [
             19.09,
             19.36,
             23.13,
             25.19,
             28.07,
             27.74,
             27.2,
             27.09,
             26.72,
             25.73,
             22.34,
             19.3
            ],
            "sizemode": "area",
            "sizeref": 0.07695,
            "symbol": "circle"
           },
           "mode": "markers",
           "name": "",
           "orientation": "v",
           "showlegend": false,
           "type": "scatter",
           "x": [
            "JAN",
            "FEB",
            "MAR",
            "APR",
            "MAY",
            "JUN",
            "JUL",
            "AUG",
            "SEP",
            "OCT",
            "NOV",
            "DEC"
           ],
           "xaxis": "x",
           "y": [
            19.09,
            19.36,
            23.13,
            25.19,
            28.07,
            27.74,
            27.2,
            27.09,
            26.72,
            25.73,
            22.34,
            19.3
           ],
           "yaxis": "y"
          }
         ],
         "name": "1951"
        },
        {
         "data": [
          {
           "hovertemplate": "Year=1952<br>Month=%{x}<br>Temprature=%{marker.size}<extra></extra>",
           "legendgroup": "",
           "marker": {
            "color": "#636efa",
            "size": [
             18.67,
             21.05,
             22.73,
             26.96,
             28.41,
             28.36,
             27.37,
             26.79,
             26.48,
             24.72,
             21.41,
             19.18
            ],
            "sizemode": "area",
            "sizeref": 0.07695,
            "symbol": "circle"
           },
           "mode": "markers",
           "name": "",
           "orientation": "v",
           "showlegend": false,
           "type": "scatter",
           "x": [
            "JAN",
            "FEB",
            "MAR",
            "APR",
            "MAY",
            "JUN",
            "JUL",
            "AUG",
            "SEP",
            "OCT",
            "NOV",
            "DEC"
           ],
           "xaxis": "x",
           "y": [
            18.67,
            21.05,
            22.73,
            26.96,
            28.41,
            28.36,
            27.37,
            26.79,
            26.48,
            24.72,
            21.41,
            19.18
           ],
           "yaxis": "y"
          }
         ],
         "name": "1952"
        },
        {
         "data": [
          {
           "hovertemplate": "Year=1953<br>Month=%{x}<br>Temprature=%{marker.size}<extra></extra>",
           "legendgroup": "",
           "marker": {
            "color": "#636efa",
            "size": [
             18.11,
             20.86,
             24.9,
             26.8,
             28.99,
             28.79,
             27.35,
             26.91,
             26.24,
             24.67,
             21.49,
             19.85
            ],
            "sizemode": "area",
            "sizeref": 0.07695,
            "symbol": "circle"
           },
           "mode": "markers",
           "name": "",
           "orientation": "v",
           "showlegend": false,
           "type": "scatter",
           "x": [
            "JAN",
            "FEB",
            "MAR",
            "APR",
            "MAY",
            "JUN",
            "JUL",
            "AUG",
            "SEP",
            "OCT",
            "NOV",
            "DEC"
           ],
           "xaxis": "x",
           "y": [
            18.11,
            20.86,
            24.9,
            26.8,
            28.99,
            28.79,
            27.35,
            26.91,
            26.24,
            24.67,
            21.49,
            19.85
           ],
           "yaxis": "y"
          }
         ],
         "name": "1953"
        },
        {
         "data": [
          {
           "hovertemplate": "Year=1954<br>Month=%{x}<br>Temprature=%{marker.size}<extra></extra>",
           "legendgroup": "",
           "marker": {
            "color": "#636efa",
            "size": [
             17.77,
             20.45,
             23.66,
             26.99,
             28.84,
             28.28,
             27.03,
             26.86,
             26.19,
             23.52,
             20.99,
             18.94
            ],
            "sizemode": "area",
            "sizeref": 0.07695,
            "symbol": "circle"
           },
           "mode": "markers",
           "name": "",
           "orientation": "v",
           "showlegend": false,
           "type": "scatter",
           "x": [
            "JAN",
            "FEB",
            "MAR",
            "APR",
            "MAY",
            "JUN",
            "JUL",
            "AUG",
            "SEP",
            "OCT",
            "NOV",
            "DEC"
           ],
           "xaxis": "x",
           "y": [
            17.77,
            20.45,
            23.66,
            26.99,
            28.84,
            28.28,
            27.03,
            26.86,
            26.19,
            23.52,
            20.99,
            18.94
           ],
           "yaxis": "y"
          }
         ],
         "name": "1954"
        },
        {
         "data": [
          {
           "hovertemplate": "Year=1955<br>Month=%{x}<br>Temprature=%{marker.size}<extra></extra>",
           "legendgroup": "",
           "marker": {
            "color": "#636efa",
            "size": [
             18.42,
             20.5,
             23.93,
             25.5,
             27.31,
             28.01,
             27.07,
             26.63,
             26.19,
             24.22,
             21.14,
             18.69
            ],
            "sizemode": "area",
            "sizeref": 0.07695,
            "symbol": "circle"
           },
           "mode": "markers",
           "name": "",
           "orientation": "v",
           "showlegend": false,
           "type": "scatter",
           "x": [
            "JAN",
            "FEB",
            "MAR",
            "APR",
            "MAY",
            "JUN",
            "JUL",
            "AUG",
            "SEP",
            "OCT",
            "NOV",
            "DEC"
           ],
           "xaxis": "x",
           "y": [
            18.42,
            20.5,
            23.93,
            25.5,
            27.31,
            28.01,
            27.07,
            26.63,
            26.19,
            24.22,
            21.14,
            18.69
           ],
           "yaxis": "y"
          }
         ],
         "name": "1955"
        },
        {
         "data": [
          {
           "hovertemplate": "Year=1956<br>Month=%{x}<br>Temprature=%{marker.size}<extra></extra>",
           "legendgroup": "",
           "marker": {
            "color": "#636efa",
            "size": [
             18.01,
             19.66,
             23.44,
             26.72,
             28.72,
             27.54,
             26.58,
             26.23,
             26.26,
             24.05,
             21.23,
             18.97
            ],
            "sizemode": "area",
            "sizeref": 0.07695,
            "symbol": "circle"
           },
           "mode": "markers",
           "name": "",
           "orientation": "v",
           "showlegend": false,
           "type": "scatter",
           "x": [
            "JAN",
            "FEB",
            "MAR",
            "APR",
            "MAY",
            "JUN",
            "JUL",
            "AUG",
            "SEP",
            "OCT",
            "NOV",
            "DEC"
           ],
           "xaxis": "x",
           "y": [
            18.01,
            19.66,
            23.44,
            26.72,
            28.72,
            27.54,
            26.58,
            26.23,
            26.26,
            24.05,
            21.23,
            18.97
           ],
           "yaxis": "y"
          }
         ],
         "name": "1956"
        },
        {
         "data": [
          {
           "hovertemplate": "Year=1957<br>Month=%{x}<br>Temprature=%{marker.size}<extra></extra>",
           "legendgroup": "",
           "marker": {
            "color": "#636efa",
            "size": [
             18.2,
             19.27,
             22.31,
             25.68,
             27.76,
             28.13,
             27.43,
             26.75,
             26.28,
             24.35,
             21.85,
             19.6
            ],
            "sizemode": "area",
            "sizeref": 0.07695,
            "symbol": "circle"
           },
           "mode": "markers",
           "name": "",
           "orientation": "v",
           "showlegend": false,
           "type": "scatter",
           "x": [
            "JAN",
            "FEB",
            "MAR",
            "APR",
            "MAY",
            "JUN",
            "JUL",
            "AUG",
            "SEP",
            "OCT",
            "NOV",
            "DEC"
           ],
           "xaxis": "x",
           "y": [
            18.2,
            19.27,
            22.31,
            25.68,
            27.76,
            28.13,
            27.43,
            26.75,
            26.28,
            24.35,
            21.85,
            19.6
           ],
           "yaxis": "y"
          }
         ],
         "name": "1957"
        },
        {
         "data": [
          {
           "hovertemplate": "Year=1958<br>Month=%{x}<br>Temprature=%{marker.size}<extra></extra>",
           "legendgroup": "",
           "marker": {
            "color": "#636efa",
            "size": [
             19.5,
             20.51,
             23.93,
             27.23,
             28.2,
             29.01,
             27.6,
             26.74,
             26.37,
             24.74,
             21.98,
             19.65
            ],
            "sizemode": "area",
            "sizeref": 0.07695,
            "symbol": "circle"
           },
           "mode": "markers",
           "name": "",
           "orientation": "v",
           "showlegend": false,
           "type": "scatter",
           "x": [
            "JAN",
            "FEB",
            "MAR",
            "APR",
            "MAY",
            "JUN",
            "JUL",
            "AUG",
            "SEP",
            "OCT",
            "NOV",
            "DEC"
           ],
           "xaxis": "x",
           "y": [
            19.5,
            20.51,
            23.93,
            27.23,
            28.2,
            29.01,
            27.6,
            26.74,
            26.37,
            24.74,
            21.98,
            19.65
           ],
           "yaxis": "y"
          }
         ],
         "name": "1958"
        },
        {
         "data": [
          {
           "hovertemplate": "Year=1959<br>Month=%{x}<br>Temprature=%{marker.size}<extra></extra>",
           "legendgroup": "",
           "marker": {
            "color": "#636efa",
            "size": [
             18.39,
             19.47,
             23.66,
             26.87,
             28.39,
             28.47,
             26.96,
             27.06,
             26.27,
             24.98,
             21.57,
             19.44
            ],
            "sizemode": "area",
            "sizeref": 0.07695,
            "symbol": "circle"
           },
           "mode": "markers",
           "name": "",
           "orientation": "v",
           "showlegend": false,
           "type": "scatter",
           "x": [
            "JAN",
            "FEB",
            "MAR",
            "APR",
            "MAY",
            "JUN",
            "JUL",
            "AUG",
            "SEP",
            "OCT",
            "NOV",
            "DEC"
           ],
           "xaxis": "x",
           "y": [
            18.39,
            19.47,
            23.66,
            26.87,
            28.39,
            28.47,
            26.96,
            27.06,
            26.27,
            24.98,
            21.57,
            19.44
           ],
           "yaxis": "y"
          }
         ],
         "name": "1959"
        },
        {
         "data": [
          {
           "hovertemplate": "Year=1960<br>Month=%{x}<br>Temprature=%{marker.size}<extra></extra>",
           "legendgroup": "",
           "marker": {
            "color": "#636efa",
            "size": [
             18.31,
             21.13,
             22.65,
             26.17,
             28.29,
             28.5,
             27.33,
             27.2,
             26.33,
             24.58,
             21.35,
             19.59
            ],
            "sizemode": "area",
            "sizeref": 0.07695,
            "symbol": "circle"
           },
           "mode": "markers",
           "name": "",
           "orientation": "v",
           "showlegend": false,
           "type": "scatter",
           "x": [
            "JAN",
            "FEB",
            "MAR",
            "APR",
            "MAY",
            "JUN",
            "JUL",
            "AUG",
            "SEP",
            "OCT",
            "NOV",
            "DEC"
           ],
           "xaxis": "x",
           "y": [
            18.31,
            21.13,
            22.65,
            26.17,
            28.29,
            28.5,
            27.33,
            27.2,
            26.33,
            24.58,
            21.35,
            19.59
           ],
           "yaxis": "y"
          }
         ],
         "name": "1960"
        },
        {
         "data": [
          {
           "hovertemplate": "Year=1961<br>Month=%{x}<br>Temprature=%{marker.size}<extra></extra>",
           "legendgroup": "",
           "marker": {
            "color": "#636efa",
            "size": [
             18.89,
             19.08,
             23.84,
             26.42,
             28.07,
             27.8,
             27.08,
             26.89,
             26.45,
             24.23,
             20.98,
             18.3
            ],
            "sizemode": "area",
            "sizeref": 0.07695,
            "symbol": "circle"
           },
           "mode": "markers",
           "name": "",
           "orientation": "v",
           "showlegend": false,
           "type": "scatter",
           "x": [
            "JAN",
            "FEB",
            "MAR",
            "APR",
            "MAY",
            "JUN",
            "JUL",
            "AUG",
            "SEP",
            "OCT",
            "NOV",
            "DEC"
           ],
           "xaxis": "x",
           "y": [
            18.89,
            19.08,
            23.84,
            26.42,
            28.07,
            27.8,
            27.08,
            26.89,
            26.45,
            24.23,
            20.98,
            18.3
           ],
           "yaxis": "y"
          }
         ],
         "name": "1961"
        },
        {
         "data": [
          {
           "hovertemplate": "Year=1962<br>Month=%{x}<br>Temprature=%{marker.size}<extra></extra>",
           "legendgroup": "",
           "marker": {
            "color": "#636efa",
            "size": [
             17.54,
             20.28,
             23.31,
             26.45,
             27.97,
             28.25,
             27.53,
             26.88,
             25.92,
             24.12,
             21.38,
             18.9
            ],
            "sizemode": "area",
            "sizeref": 0.07695,
            "symbol": "circle"
           },
           "mode": "markers",
           "name": "",
           "orientation": "v",
           "showlegend": false,
           "type": "scatter",
           "x": [
            "JAN",
            "FEB",
            "MAR",
            "APR",
            "MAY",
            "JUN",
            "JUL",
            "AUG",
            "SEP",
            "OCT",
            "NOV",
            "DEC"
           ],
           "xaxis": "x",
           "y": [
            17.54,
            20.28,
            23.31,
            26.45,
            27.97,
            28.25,
            27.53,
            26.88,
            25.92,
            24.12,
            21.38,
            18.9
           ],
           "yaxis": "y"
          }
         ],
         "name": "1962"
        },
        {
         "data": [
          {
           "hovertemplate": "Year=1963<br>Month=%{x}<br>Temprature=%{marker.size}<extra></extra>",
           "legendgroup": "",
           "marker": {
            "color": "#636efa",
            "size": [
             17.59,
             20.55,
             23.31,
             25.69,
             27.71,
             28.24,
             27.48,
             26.83,
             26.26,
             24.9,
             21.99,
             19.23
            ],
            "sizemode": "area",
            "sizeref": 0.07695,
            "symbol": "circle"
           },
           "mode": "markers",
           "name": "",
           "orientation": "v",
           "showlegend": false,
           "type": "scatter",
           "x": [
            "JAN",
            "FEB",
            "MAR",
            "APR",
            "MAY",
            "JUN",
            "JUL",
            "AUG",
            "SEP",
            "OCT",
            "NOV",
            "DEC"
           ],
           "xaxis": "x",
           "y": [
            17.59,
            20.55,
            23.31,
            25.69,
            27.71,
            28.24,
            27.48,
            26.83,
            26.26,
            24.9,
            21.99,
            19.23
           ],
           "yaxis": "y"
          }
         ],
         "name": "1963"
        },
        {
         "data": [
          {
           "hovertemplate": "Year=1964<br>Month=%{x}<br>Temprature=%{marker.size}<extra></extra>",
           "legendgroup": "",
           "marker": {
            "color": "#636efa",
            "size": [
             17.71,
             19.95,
             24.25,
             26.82,
             28.06,
             28.03,
             26.77,
             26.82,
             25.99,
             24.8,
             21.15,
             18.78
            ],
            "sizemode": "area",
            "sizeref": 0.07695,
            "symbol": "circle"
           },
           "mode": "markers",
           "name": "",
           "orientation": "v",
           "showlegend": false,
           "type": "scatter",
           "x": [
            "JAN",
            "FEB",
            "MAR",
            "APR",
            "MAY",
            "JUN",
            "JUL",
            "AUG",
            "SEP",
            "OCT",
            "NOV",
            "DEC"
           ],
           "xaxis": "x",
           "y": [
            17.71,
            19.95,
            24.25,
            26.82,
            28.06,
            28.03,
            26.77,
            26.82,
            25.99,
            24.8,
            21.15,
            18.78
           ],
           "yaxis": "y"
          }
         ],
         "name": "1964"
        },
        {
         "data": [
          {
           "hovertemplate": "Year=1965<br>Month=%{x}<br>Temprature=%{marker.size}<extra></extra>",
           "legendgroup": "",
           "marker": {
            "color": "#636efa",
            "size": [
             18.47,
             19.96,
             22.81,
             25.35,
             27.57,
             28.44,
             27.14,
             26.49,
             26.25,
             24.99,
             22.16,
             19.15
            ],
            "sizemode": "area",
            "sizeref": 0.07695,
            "symbol": "circle"
           },
           "mode": "markers",
           "name": "",
           "orientation": "v",
           "showlegend": false,
           "type": "scatter",
           "x": [
            "JAN",
            "FEB",
            "MAR",
            "APR",
            "MAY",
            "JUN",
            "JUL",
            "AUG",
            "SEP",
            "OCT",
            "NOV",
            "DEC"
           ],
           "xaxis": "x",
           "y": [
            18.47,
            19.96,
            22.81,
            25.35,
            27.57,
            28.44,
            27.14,
            26.49,
            26.25,
            24.99,
            22.16,
            19.15
           ],
           "yaxis": "y"
          }
         ],
         "name": "1965"
        },
        {
         "data": [
          {
           "hovertemplate": "Year=1966<br>Month=%{x}<br>Temprature=%{marker.size}<extra></extra>",
           "legendgroup": "",
           "marker": {
            "color": "#636efa",
            "size": [
             18.69,
             21.17,
             23.51,
             26.44,
             28.27,
             28.25,
             27.42,
             27.02,
             25.99,
             24.51,
             22.05,
             18.94
            ],
            "sizemode": "area",
            "sizeref": 0.07695,
            "symbol": "circle"
           },
           "mode": "markers",
           "name": "",
           "orientation": "v",
           "showlegend": false,
           "type": "scatter",
           "x": [
            "JAN",
            "FEB",
            "MAR",
            "APR",
            "MAY",
            "JUN",
            "JUL",
            "AUG",
            "SEP",
            "OCT",
            "NOV",
            "DEC"
           ],
           "xaxis": "x",
           "y": [
            18.69,
            21.17,
            23.51,
            26.44,
            28.27,
            28.25,
            27.42,
            27.02,
            25.99,
            24.51,
            22.05,
            18.94
           ],
           "yaxis": "y"
          }
         ],
         "name": "1966"
        },
        {
         "data": [
          {
           "hovertemplate": "Year=1967<br>Month=%{x}<br>Temprature=%{marker.size}<extra></extra>",
           "legendgroup": "",
           "marker": {
            "color": "#636efa",
            "size": [
             18.15,
             20.73,
             22.69,
             26.04,
             27.92,
             28.36,
             27.36,
             26.7,
             26.35,
             24.22,
             21.4,
             19.41
            ],
            "sizemode": "area",
            "sizeref": 0.07695,
            "symbol": "circle"
           },
           "mode": "markers",
           "name": "",
           "orientation": "v",
           "showlegend": false,
           "type": "scatter",
           "x": [
            "JAN",
            "FEB",
            "MAR",
            "APR",
            "MAY",
            "JUN",
            "JUL",
            "AUG",
            "SEP",
            "OCT",
            "NOV",
            "DEC"
           ],
           "xaxis": "x",
           "y": [
            18.15,
            20.73,
            22.69,
            26.04,
            27.92,
            28.36,
            27.36,
            26.7,
            26.35,
            24.22,
            21.4,
            19.41
           ],
           "yaxis": "y"
          }
         ],
         "name": "1967"
        },
        {
         "data": [
          {
           "hovertemplate": "Year=1968<br>Month=%{x}<br>Temprature=%{marker.size}<extra></extra>",
           "legendgroup": "",
           "marker": {
            "color": "#636efa",
            "size": [
             17.52,
             18.98,
             23.18,
             25.89,
             27.77,
             28.24,
             27.12,
             26.9,
             26.61,
             24.32,
             21.56,
             19.2
            ],
            "sizemode": "area",
            "sizeref": 0.07695,
            "symbol": "circle"
           },
           "mode": "markers",
           "name": "",
           "orientation": "v",
           "showlegend": false,
           "type": "scatter",
           "x": [
            "JAN",
            "FEB",
            "MAR",
            "APR",
            "MAY",
            "JUN",
            "JUL",
            "AUG",
            "SEP",
            "OCT",
            "NOV",
            "DEC"
           ],
           "xaxis": "x",
           "y": [
            17.52,
            18.98,
            23.18,
            25.89,
            27.77,
            28.24,
            27.12,
            26.9,
            26.61,
            24.32,
            21.56,
            19.2
           ],
           "yaxis": "y"
          }
         ],
         "name": "1968"
        },
        {
         "data": [
          {
           "hovertemplate": "Year=1969<br>Month=%{x}<br>Temprature=%{marker.size}<extra></extra>",
           "legendgroup": "",
           "marker": {
            "color": "#636efa",
            "size": [
             18.07,
             20.3,
             24.52,
             26.7,
             27.93,
             28.68,
             27.47,
             26.97,
             26.26,
             24.89,
             22.29,
             19.41
            ],
            "sizemode": "area",
            "sizeref": 0.07695,
            "symbol": "circle"
           },
           "mode": "markers",
           "name": "",
           "orientation": "v",
           "showlegend": false,
           "type": "scatter",
           "x": [
            "JAN",
            "FEB",
            "MAR",
            "APR",
            "MAY",
            "JUN",
            "JUL",
            "AUG",
            "SEP",
            "OCT",
            "NOV",
            "DEC"
           ],
           "xaxis": "x",
           "y": [
            18.07,
            20.3,
            24.52,
            26.7,
            27.93,
            28.68,
            27.47,
            26.97,
            26.26,
            24.89,
            22.29,
            19.41
           ],
           "yaxis": "y"
          }
         ],
         "name": "1969"
        },
        {
         "data": [
          {
           "hovertemplate": "Year=1970<br>Month=%{x}<br>Temprature=%{marker.size}<extra></extra>",
           "legendgroup": "",
           "marker": {
            "color": "#636efa",
            "size": [
             18.72,
             20.39,
             23.28,
             27.17,
             28.71,
             27.86,
             27.25,
             26.84,
             26.31,
             24.81,
             21.32,
             18.52
            ],
            "sizemode": "area",
            "sizeref": 0.07695,
            "symbol": "circle"
           },
           "mode": "markers",
           "name": "",
           "orientation": "v",
           "showlegend": false,
           "type": "scatter",
           "x": [
            "JAN",
            "FEB",
            "MAR",
            "APR",
            "MAY",
            "JUN",
            "JUL",
            "AUG",
            "SEP",
            "OCT",
            "NOV",
            "DEC"
           ],
           "xaxis": "x",
           "y": [
            18.72,
            20.39,
            23.28,
            27.17,
            28.71,
            27.86,
            27.25,
            26.84,
            26.31,
            24.81,
            21.32,
            18.52
           ],
           "yaxis": "y"
          }
         ],
         "name": "1970"
        },
        {
         "data": [
          {
           "hovertemplate": "Year=1971<br>Month=%{x}<br>Temprature=%{marker.size}<extra></extra>",
           "legendgroup": "",
           "marker": {
            "color": "#636efa",
            "size": [
             18.12,
             19.99,
             23.29,
             26.48,
             27.58,
             27.58,
             26.87,
             26.53,
             26.03,
             24.39,
             21.21,
             18.84
            ],
            "sizemode": "area",
            "sizeref": 0.07695,
            "symbol": "circle"
           },
           "mode": "markers",
           "name": "",
           "orientation": "v",
           "showlegend": false,
           "type": "scatter",
           "x": [
            "JAN",
            "FEB",
            "MAR",
            "APR",
            "MAY",
            "JUN",
            "JUL",
            "AUG",
            "SEP",
            "OCT",
            "NOV",
            "DEC"
           ],
           "xaxis": "x",
           "y": [
            18.12,
            19.99,
            23.29,
            26.48,
            27.58,
            27.58,
            26.87,
            26.53,
            26.03,
            24.39,
            21.21,
            18.84
           ],
           "yaxis": "y"
          }
         ],
         "name": "1971"
        },
        {
         "data": [
          {
           "hovertemplate": "Year=1972<br>Month=%{x}<br>Temprature=%{marker.size}<extra></extra>",
           "legendgroup": "",
           "marker": {
            "color": "#636efa",
            "size": [
             18.4,
             18.73,
             23.43,
             25.85,
             28.08,
             28.7,
             27.37,
             26.76,
             26.26,
             24.27,
             21.91,
             19.46
            ],
            "sizemode": "area",
            "sizeref": 0.07695,
            "symbol": "circle"
           },
           "mode": "markers",
           "name": "",
           "orientation": "v",
           "showlegend": false,
           "type": "scatter",
           "x": [
            "JAN",
            "FEB",
            "MAR",
            "APR",
            "MAY",
            "JUN",
            "JUL",
            "AUG",
            "SEP",
            "OCT",
            "NOV",
            "DEC"
           ],
           "xaxis": "x",
           "y": [
            18.4,
            18.73,
            23.43,
            25.85,
            28.08,
            28.7,
            27.37,
            26.76,
            26.26,
            24.27,
            21.91,
            19.46
           ],
           "yaxis": "y"
          }
         ],
         "name": "1972"
        },
        {
         "data": [
          {
           "hovertemplate": "Year=1973<br>Month=%{x}<br>Temprature=%{marker.size}<extra></extra>",
           "legendgroup": "",
           "marker": {
            "color": "#636efa",
            "size": [
             18.51,
             20.98,
             23.33,
             27.54,
             28.71,
             28.62,
             27.54,
             26.61,
             26.44,
             24.43,
             21.46,
             18.7
            ],
            "sizemode": "area",
            "sizeref": 0.07695,
            "symbol": "circle"
           },
           "mode": "markers",
           "name": "",
           "orientation": "v",
           "showlegend": false,
           "type": "scatter",
           "x": [
            "JAN",
            "FEB",
            "MAR",
            "APR",
            "MAY",
            "JUN",
            "JUL",
            "AUG",
            "SEP",
            "OCT",
            "NOV",
            "DEC"
           ],
           "xaxis": "x",
           "y": [
            18.51,
            20.98,
            23.33,
            27.54,
            28.71,
            28.62,
            27.54,
            26.61,
            26.44,
            24.43,
            21.46,
            18.7
           ],
           "yaxis": "y"
          }
         ],
         "name": "1973"
        },
        {
         "data": [
          {
           "hovertemplate": "Year=1974<br>Month=%{x}<br>Temprature=%{marker.size}<extra></extra>",
           "legendgroup": "",
           "marker": {
            "color": "#636efa",
            "size": [
             17.79,
             19.28,
             23.91,
             27.01,
             27.81,
             27.89,
             27.07,
             26.91,
             26.21,
             24.65,
             21.31,
             18.17
            ],
            "sizemode": "area",
            "sizeref": 0.07695,
            "symbol": "circle"
           },
           "mode": "markers",
           "name": "",
           "orientation": "v",
           "showlegend": false,
           "type": "scatter",
           "x": [
            "JAN",
            "FEB",
            "MAR",
            "APR",
            "MAY",
            "JUN",
            "JUL",
            "AUG",
            "SEP",
            "OCT",
            "NOV",
            "DEC"
           ],
           "xaxis": "x",
           "y": [
            17.79,
            19.28,
            23.91,
            27.01,
            27.81,
            27.89,
            27.07,
            26.91,
            26.21,
            24.65,
            21.31,
            18.17
           ],
           "yaxis": "y"
          }
         ],
         "name": "1974"
        },
        {
         "data": [
          {
           "hovertemplate": "Year=1975<br>Month=%{x}<br>Temprature=%{marker.size}<extra></extra>",
           "legendgroup": "",
           "marker": {
            "color": "#636efa",
            "size": [
             17.71,
             19.67,
             22.78,
             26.39,
             28.16,
             27.72,
             26.48,
             26.47,
             25.63,
             24.65,
             20.76,
             18.51
            ],
            "sizemode": "area",
            "sizeref": 0.07695,
            "symbol": "circle"
           },
           "mode": "markers",
           "name": "",
           "orientation": "v",
           "showlegend": false,
           "type": "scatter",
           "x": [
            "JAN",
            "FEB",
            "MAR",
            "APR",
            "MAY",
            "JUN",
            "JUL",
            "AUG",
            "SEP",
            "OCT",
            "NOV",
            "DEC"
           ],
           "xaxis": "x",
           "y": [
            17.71,
            19.67,
            22.78,
            26.39,
            28.16,
            27.72,
            26.48,
            26.47,
            25.63,
            24.65,
            20.76,
            18.51
           ],
           "yaxis": "y"
          }
         ],
         "name": "1975"
        },
        {
         "data": [
          {
           "hovertemplate": "Year=1976<br>Month=%{x}<br>Temprature=%{marker.size}<extra></extra>",
           "legendgroup": "",
           "marker": {
            "color": "#636efa",
            "size": [
             18.2,
             19.54,
             22.98,
             25.92,
             27.94,
             27.86,
             27.34,
             26.21,
             26.08,
             24.92,
             22.47,
             19.35
            ],
            "sizemode": "area",
            "sizeref": 0.07695,
            "symbol": "circle"
           },
           "mode": "markers",
           "name": "",
           "orientation": "v",
           "showlegend": false,
           "type": "scatter",
           "x": [
            "JAN",
            "FEB",
            "MAR",
            "APR",
            "MAY",
            "JUN",
            "JUL",
            "AUG",
            "SEP",
            "OCT",
            "NOV",
            "DEC"
           ],
           "xaxis": "x",
           "y": [
            18.2,
            19.54,
            22.98,
            25.92,
            27.94,
            27.86,
            27.34,
            26.21,
            26.08,
            24.92,
            22.47,
            19.35
           ],
           "yaxis": "y"
          }
         ],
         "name": "1976"
        },
        {
         "data": [
          {
           "hovertemplate": "Year=1977<br>Month=%{x}<br>Temprature=%{marker.size}<extra></extra>",
           "legendgroup": "",
           "marker": {
            "color": "#636efa",
            "size": [
             18.35,
             20.34,
             24.45,
             26.38,
             27.26,
             28.04,
             27.26,
             26.88,
             26.33,
             24.86,
             22.7,
             19.35
            ],
            "sizemode": "area",
            "sizeref": 0.07695,
            "symbol": "circle"
           },
           "mode": "markers",
           "name": "",
           "orientation": "v",
           "showlegend": false,
           "type": "scatter",
           "x": [
            "JAN",
            "FEB",
            "MAR",
            "APR",
            "MAY",
            "JUN",
            "JUL",
            "AUG",
            "SEP",
            "OCT",
            "NOV",
            "DEC"
           ],
           "xaxis": "x",
           "y": [
            18.35,
            20.34,
            24.45,
            26.38,
            27.26,
            28.04,
            27.26,
            26.88,
            26.33,
            24.86,
            22.7,
            19.35
           ],
           "yaxis": "y"
          }
         ],
         "name": "1977"
        },
        {
         "data": [
          {
           "hovertemplate": "Year=1978<br>Month=%{x}<br>Temprature=%{marker.size}<extra></extra>",
           "legendgroup": "",
           "marker": {
            "color": "#636efa",
            "size": [
             18.14,
             19.76,
             22.46,
             26.44,
             28.92,
             28.42,
             27.04,
             26.8,
             26.23,
             24.94,
             22.18,
             19.53
            ],
            "sizemode": "area",
            "sizeref": 0.07695,
            "symbol": "circle"
           },
           "mode": "markers",
           "name": "",
           "orientation": "v",
           "showlegend": false,
           "type": "scatter",
           "x": [
            "JAN",
            "FEB",
            "MAR",
            "APR",
            "MAY",
            "JUN",
            "JUL",
            "AUG",
            "SEP",
            "OCT",
            "NOV",
            "DEC"
           ],
           "xaxis": "x",
           "y": [
            18.14,
            19.76,
            22.46,
            26.44,
            28.92,
            28.42,
            27.04,
            26.8,
            26.23,
            24.94,
            22.18,
            19.53
           ],
           "yaxis": "y"
          }
         ],
         "name": "1978"
        },
        {
         "data": [
          {
           "hovertemplate": "Year=1979<br>Month=%{x}<br>Temprature=%{marker.size}<extra></extra>",
           "legendgroup": "",
           "marker": {
            "color": "#636efa",
            "size": [
             18.97,
             19.97,
             22.75,
             27.2,
             27.97,
             28.83,
             27.72,
             27.24,
             26.38,
             25.23,
             22.75,
             19.79
            ],
            "sizemode": "area",
            "sizeref": 0.07695,
            "symbol": "circle"
           },
           "mode": "markers",
           "name": "",
           "orientation": "v",
           "showlegend": false,
           "type": "scatter",
           "x": [
            "JAN",
            "FEB",
            "MAR",
            "APR",
            "MAY",
            "JUN",
            "JUL",
            "AUG",
            "SEP",
            "OCT",
            "NOV",
            "DEC"
           ],
           "xaxis": "x",
           "y": [
            18.97,
            19.97,
            22.75,
            27.2,
            27.97,
            28.83,
            27.72,
            27.24,
            26.38,
            25.23,
            22.75,
            19.79
           ],
           "yaxis": "y"
          }
         ],
         "name": "1979"
        },
        {
         "data": [
          {
           "hovertemplate": "Year=1980<br>Month=%{x}<br>Temprature=%{marker.size}<extra></extra>",
           "legendgroup": "",
           "marker": {
            "color": "#636efa",
            "size": [
             18.81,
             20.47,
             23.24,
             27.55,
             28.94,
             28.25,
             27.33,
             26.93,
             26.55,
             25.12,
             22.15,
             19.23
            ],
            "sizemode": "area",
            "sizeref": 0.07695,
            "symbol": "circle"
           },
           "mode": "markers",
           "name": "",
           "orientation": "v",
           "showlegend": false,
           "type": "scatter",
           "x": [
            "JAN",
            "FEB",
            "MAR",
            "APR",
            "MAY",
            "JUN",
            "JUL",
            "AUG",
            "SEP",
            "OCT",
            "NOV",
            "DEC"
           ],
           "xaxis": "x",
           "y": [
            18.81,
            20.47,
            23.24,
            27.55,
            28.94,
            28.25,
            27.33,
            26.93,
            26.55,
            25.12,
            22.15,
            19.23
           ],
           "yaxis": "y"
          }
         ],
         "name": "1980"
        },
        {
         "data": [
          {
           "hovertemplate": "Year=1981<br>Month=%{x}<br>Temprature=%{marker.size}<extra></extra>",
           "legendgroup": "",
           "marker": {
            "color": "#636efa",
            "size": [
             18.4,
             20.44,
             23.26,
             26.65,
             28.51,
             28.4,
             27.28,
             26.85,
             26.36,
             24.74,
             21.43,
             18.87
            ],
            "sizemode": "area",
            "sizeref": 0.07695,
            "symbol": "circle"
           },
           "mode": "markers",
           "name": "",
           "orientation": "v",
           "showlegend": false,
           "type": "scatter",
           "x": [
            "JAN",
            "FEB",
            "MAR",
            "APR",
            "MAY",
            "JUN",
            "JUL",
            "AUG",
            "SEP",
            "OCT",
            "NOV",
            "DEC"
           ],
           "xaxis": "x",
           "y": [
            18.4,
            20.44,
            23.26,
            26.65,
            28.51,
            28.4,
            27.28,
            26.85,
            26.36,
            24.74,
            21.43,
            18.87
           ],
           "yaxis": "y"
          }
         ],
         "name": "1981"
        },
        {
         "data": [
          {
           "hovertemplate": "Year=1982<br>Month=%{x}<br>Temprature=%{marker.size}<extra></extra>",
           "legendgroup": "",
           "marker": {
            "color": "#636efa",
            "size": [
             18.76,
             19.52,
             22.37,
             26.15,
             27.72,
             28.2,
             27.68,
             26.98,
             26.4,
             24.89,
             21.84,
             19.33
            ],
            "sizemode": "area",
            "sizeref": 0.07695,
            "symbol": "circle"
           },
           "mode": "markers",
           "name": "",
           "orientation": "v",
           "showlegend": false,
           "type": "scatter",
           "x": [
            "JAN",
            "FEB",
            "MAR",
            "APR",
            "MAY",
            "JUN",
            "JUL",
            "AUG",
            "SEP",
            "OCT",
            "NOV",
            "DEC"
           ],
           "xaxis": "x",
           "y": [
            18.76,
            19.52,
            22.37,
            26.15,
            27.72,
            28.2,
            27.68,
            26.98,
            26.4,
            24.89,
            21.84,
            19.33
           ],
           "yaxis": "y"
          }
         ],
         "name": "1982"
        },
        {
         "data": [
          {
           "hovertemplate": "Year=1983<br>Month=%{x}<br>Temprature=%{marker.size}<extra></extra>",
           "legendgroup": "",
           "marker": {
            "color": "#636efa",
            "size": [
             18.38,
             19.81,
             22.68,
             25.67,
             28.02,
             28.6,
             27.51,
             27.14,
             26.48,
             24.56,
             21.5,
             19.08
            ],
            "sizemode": "area",
            "sizeref": 0.07695,
            "symbol": "circle"
           },
           "mode": "markers",
           "name": "",
           "orientation": "v",
           "showlegend": false,
           "type": "scatter",
           "x": [
            "JAN",
            "FEB",
            "MAR",
            "APR",
            "MAY",
            "JUN",
            "JUL",
            "AUG",
            "SEP",
            "OCT",
            "NOV",
            "DEC"
           ],
           "xaxis": "x",
           "y": [
            18.38,
            19.81,
            22.68,
            25.67,
            28.02,
            28.6,
            27.51,
            27.14,
            26.48,
            24.56,
            21.5,
            19.08
           ],
           "yaxis": "y"
          }
         ],
         "name": "1983"
        },
        {
         "data": [
          {
           "hovertemplate": "Year=1984<br>Month=%{x}<br>Temprature=%{marker.size}<extra></extra>",
           "legendgroup": "",
           "marker": {
            "color": "#636efa",
            "size": [
             18.28,
             19.42,
             23.98,
             26.66,
             28.88,
             28.43,
             26.94,
             27.17,
             25.83,
             24.65,
             21.47,
             19.34
            ],
            "sizemode": "area",
            "sizeref": 0.07695,
            "symbol": "circle"
           },
           "mode": "markers",
           "name": "",
           "orientation": "v",
           "showlegend": false,
           "type": "scatter",
           "x": [
            "JAN",
            "FEB",
            "MAR",
            "APR",
            "MAY",
            "JUN",
            "JUL",
            "AUG",
            "SEP",
            "OCT",
            "NOV",
            "DEC"
           ],
           "xaxis": "x",
           "y": [
            18.28,
            19.42,
            23.98,
            26.66,
            28.88,
            28.43,
            26.94,
            27.17,
            25.83,
            24.65,
            21.47,
            19.34
           ],
           "yaxis": "y"
          }
         ],
         "name": "1984"
        },
        {
         "data": [
          {
           "hovertemplate": "Year=1985<br>Month=%{x}<br>Temprature=%{marker.size}<extra></extra>",
           "legendgroup": "",
           "marker": {
            "color": "#636efa",
            "size": [
             18.67,
             20.54,
             24.6,
             27.02,
             28.52,
             28.05,
             27.06,
             26.9,
             26.45,
             24.33,
             21.51,
             19.68
            ],
            "sizemode": "area",
            "sizeref": 0.07695,
            "symbol": "circle"
           },
           "mode": "markers",
           "name": "",
           "orientation": "v",
           "showlegend": false,
           "type": "scatter",
           "x": [
            "JAN",
            "FEB",
            "MAR",
            "APR",
            "MAY",
            "JUN",
            "JUL",
            "AUG",
            "SEP",
            "OCT",
            "NOV",
            "DEC"
           ],
           "xaxis": "x",
           "y": [
            18.67,
            20.54,
            24.6,
            27.02,
            28.52,
            28.05,
            27.06,
            26.9,
            26.45,
            24.33,
            21.51,
            19.68
           ],
           "yaxis": "y"
          }
         ],
         "name": "1985"
        },
        {
         "data": [
          {
           "hovertemplate": "Year=1986<br>Month=%{x}<br>Temprature=%{marker.size}<extra></extra>",
           "legendgroup": "",
           "marker": {
            "color": "#636efa",
            "size": [
             18.24,
             20,
             23.53,
             26.53,
             27.75,
             28.19,
             27.3,
             26.75,
             26.43,
             24.48,
             21.89,
             19.38
            ],
            "sizemode": "area",
            "sizeref": 0.07695,
            "symbol": "circle"
           },
           "mode": "markers",
           "name": "",
           "orientation": "v",
           "showlegend": false,
           "type": "scatter",
           "x": [
            "JAN",
            "FEB",
            "MAR",
            "APR",
            "MAY",
            "JUN",
            "JUL",
            "AUG",
            "SEP",
            "OCT",
            "NOV",
            "DEC"
           ],
           "xaxis": "x",
           "y": [
            18.24,
            20,
            23.53,
            26.53,
            27.75,
            28.19,
            27.3,
            26.75,
            26.43,
            24.48,
            21.89,
            19.38
           ],
           "yaxis": "y"
          }
         ],
         "name": "1986"
        },
        {
         "data": [
          {
           "hovertemplate": "Year=1987<br>Month=%{x}<br>Temprature=%{marker.size}<extra></extra>",
           "legendgroup": "",
           "marker": {
            "color": "#636efa",
            "size": [
             18.44,
             20.41,
             23.45,
             26.59,
             27.51,
             28.9,
             28.16,
             27.34,
             27.13,
             25.03,
             22.14,
             19.75
            ],
            "sizemode": "area",
            "sizeref": 0.07695,
            "symbol": "circle"
           },
           "mode": "markers",
           "name": "",
           "orientation": "v",
           "showlegend": false,
           "type": "scatter",
           "x": [
            "JAN",
            "FEB",
            "MAR",
            "APR",
            "MAY",
            "JUN",
            "JUL",
            "AUG",
            "SEP",
            "OCT",
            "NOV",
            "DEC"
           ],
           "xaxis": "x",
           "y": [
            18.44,
            20.41,
            23.45,
            26.59,
            27.51,
            28.9,
            28.16,
            27.34,
            27.13,
            25.03,
            22.14,
            19.75
           ],
           "yaxis": "y"
          }
         ],
         "name": "1987"
        },
        {
         "data": [
          {
           "hovertemplate": "Year=1988<br>Month=%{x}<br>Temprature=%{marker.size}<extra></extra>",
           "legendgroup": "",
           "marker": {
            "color": "#636efa",
            "size": [
             18.58,
             20.83,
             23.51,
             26.6,
             28.6,
             28.37,
             27.12,
             26.91,
             26.48,
             24.79,
             21.63,
             19.64
            ],
            "sizemode": "area",
            "sizeref": 0.07695,
            "symbol": "circle"
           },
           "mode": "markers",
           "name": "",
           "orientation": "v",
           "showlegend": false,
           "type": "scatter",
           "x": [
            "JAN",
            "FEB",
            "MAR",
            "APR",
            "MAY",
            "JUN",
            "JUL",
            "AUG",
            "SEP",
            "OCT",
            "NOV",
            "DEC"
           ],
           "xaxis": "x",
           "y": [
            18.58,
            20.83,
            23.51,
            26.6,
            28.6,
            28.37,
            27.12,
            26.91,
            26.48,
            24.79,
            21.63,
            19.64
           ],
           "yaxis": "y"
          }
         ],
         "name": "1988"
        },
        {
         "data": [
          {
           "hovertemplate": "Year=1989<br>Month=%{x}<br>Temprature=%{marker.size}<extra></extra>",
           "legendgroup": "",
           "marker": {
            "color": "#636efa",
            "size": [
             17.68,
             19.85,
             23,
             25.95,
             28.13,
             27.72,
             26.96,
             26.86,
             26.38,
             24.84,
             21.8,
             19.23
            ],
            "sizemode": "area",
            "sizeref": 0.07695,
            "symbol": "circle"
           },
           "mode": "markers",
           "name": "",
           "orientation": "v",
           "showlegend": false,
           "type": "scatter",
           "x": [
            "JAN",
            "FEB",
            "MAR",
            "APR",
            "MAY",
            "JUN",
            "JUL",
            "AUG",
            "SEP",
            "OCT",
            "NOV",
            "DEC"
           ],
           "xaxis": "x",
           "y": [
            17.68,
            19.85,
            23,
            25.95,
            28.13,
            27.72,
            26.96,
            26.86,
            26.38,
            24.84,
            21.8,
            19.23
           ],
           "yaxis": "y"
          }
         ],
         "name": "1989"
        },
        {
         "data": [
          {
           "hovertemplate": "Year=1990<br>Month=%{x}<br>Temprature=%{marker.size}<extra></extra>",
           "legendgroup": "",
           "marker": {
            "color": "#636efa",
            "size": [
             18.56,
             20.33,
             22.79,
             26.15,
             27.71,
             28.11,
             27.06,
             26.99,
             26.55,
             24.51,
             22.08,
             19.78
            ],
            "sizemode": "area",
            "sizeref": 0.07695,
            "symbol": "circle"
           },
           "mode": "markers",
           "name": "",
           "orientation": "v",
           "showlegend": false,
           "type": "scatter",
           "x": [
            "JAN",
            "FEB",
            "MAR",
            "APR",
            "MAY",
            "JUN",
            "JUL",
            "AUG",
            "SEP",
            "OCT",
            "NOV",
            "DEC"
           ],
           "xaxis": "x",
           "y": [
            18.56,
            20.33,
            22.79,
            26.15,
            27.71,
            28.11,
            27.06,
            26.99,
            26.55,
            24.51,
            22.08,
            19.78
           ],
           "yaxis": "y"
          }
         ],
         "name": "1990"
        },
        {
         "data": [
          {
           "hovertemplate": "Year=1991<br>Month=%{x}<br>Temprature=%{marker.size}<extra></extra>",
           "legendgroup": "",
           "marker": {
            "color": "#636efa",
            "size": [
             17.99,
             20.43,
             23.58,
             26.13,
             28.35,
             28.17,
             27.59,
             26.88,
             26.65,
             24.56,
             21.6,
             19.44
            ],
            "sizemode": "area",
            "sizeref": 0.07695,
            "symbol": "circle"
           },
           "mode": "markers",
           "name": "",
           "orientation": "v",
           "showlegend": false,
           "type": "scatter",
           "x": [
            "JAN",
            "FEB",
            "MAR",
            "APR",
            "MAY",
            "JUN",
            "JUL",
            "AUG",
            "SEP",
            "OCT",
            "NOV",
            "DEC"
           ],
           "xaxis": "x",
           "y": [
            17.99,
            20.43,
            23.58,
            26.13,
            28.35,
            28.17,
            27.59,
            26.88,
            26.65,
            24.56,
            21.6,
            19.44
           ],
           "yaxis": "y"
          }
         ],
         "name": "1991"
        },
        {
         "data": [
          {
           "hovertemplate": "Year=1992<br>Month=%{x}<br>Temprature=%{marker.size}<extra></extra>",
           "legendgroup": "",
           "marker": {
            "color": "#636efa",
            "size": [
             18.36,
             19.77,
             22.95,
             26.21,
             27.75,
             28.4,
             27.31,
             26.78,
             26.11,
             24.7,
             22.01,
             19.42
            ],
            "sizemode": "area",
            "sizeref": 0.07695,
            "symbol": "circle"
           },
           "mode": "markers",
           "name": "",
           "orientation": "v",
           "showlegend": false,
           "type": "scatter",
           "x": [
            "JAN",
            "FEB",
            "MAR",
            "APR",
            "MAY",
            "JUN",
            "JUL",
            "AUG",
            "SEP",
            "OCT",
            "NOV",
            "DEC"
           ],
           "xaxis": "x",
           "y": [
            18.36,
            19.77,
            22.95,
            26.21,
            27.75,
            28.4,
            27.31,
            26.78,
            26.11,
            24.7,
            22.01,
            19.42
           ],
           "yaxis": "y"
          }
         ],
         "name": "1992"
        },
        {
         "data": [
          {
           "hovertemplate": "Year=1993<br>Month=%{x}<br>Temprature=%{marker.size}<extra></extra>",
           "legendgroup": "",
           "marker": {
            "color": "#636efa",
            "size": [
             18.37,
             20.84,
             22.71,
             26.5,
             28.73,
             28.5,
             27.24,
             27.29,
             26.34,
             24.88,
             22.2,
             19.55
            ],
            "sizemode": "area",
            "sizeref": 0.07695,
            "symbol": "circle"
           },
           "mode": "markers",
           "name": "",
           "orientation": "v",
           "showlegend": false,
           "type": "scatter",
           "x": [
            "JAN",
            "FEB",
            "MAR",
            "APR",
            "MAY",
            "JUN",
            "JUL",
            "AUG",
            "SEP",
            "OCT",
            "NOV",
            "DEC"
           ],
           "xaxis": "x",
           "y": [
            18.37,
            20.84,
            22.71,
            26.5,
            28.73,
            28.5,
            27.24,
            27.29,
            26.34,
            24.88,
            22.2,
            19.55
           ],
           "yaxis": "y"
          }
         ],
         "name": "1993"
        },
        {
         "data": [
          {
           "hovertemplate": "Year=1994<br>Month=%{x}<br>Temprature=%{marker.size}<extra></extra>",
           "legendgroup": "",
           "marker": {
            "color": "#636efa",
            "size": [
             19.33,
             20.2,
             24.14,
             26.04,
             28.72,
             28.56,
             27.34,
             27.01,
             26.31,
             24.56,
             22.06,
             19.3
            ],
            "sizemode": "area",
            "sizeref": 0.07695,
            "symbol": "circle"
           },
           "mode": "markers",
           "name": "",
           "orientation": "v",
           "showlegend": false,
           "type": "scatter",
           "x": [
            "JAN",
            "FEB",
            "MAR",
            "APR",
            "MAY",
            "JUN",
            "JUL",
            "AUG",
            "SEP",
            "OCT",
            "NOV",
            "DEC"
           ],
           "xaxis": "x",
           "y": [
            19.33,
            20.2,
            24.14,
            26.04,
            28.72,
            28.56,
            27.34,
            27.01,
            26.31,
            24.56,
            22.06,
            19.3
           ],
           "yaxis": "y"
          }
         ],
         "name": "1994"
        },
        {
         "data": [
          {
           "hovertemplate": "Year=1995<br>Month=%{x}<br>Temprature=%{marker.size}<extra></extra>",
           "legendgroup": "",
           "marker": {
            "color": "#636efa",
            "size": [
             19.18,
             21.48,
             24.26,
             27.23,
             29.34,
             29.88,
             27.8,
             27.4,
             27.15,
             26,
             22.99,
             20.65
            ],
            "sizemode": "area",
            "sizeref": 0.07695,
            "symbol": "circle"
           },
           "mode": "markers",
           "name": "",
           "orientation": "v",
           "showlegend": false,
           "type": "scatter",
           "x": [
            "JAN",
            "FEB",
            "MAR",
            "APR",
            "MAY",
            "JUN",
            "JUL",
            "AUG",
            "SEP",
            "OCT",
            "NOV",
            "DEC"
           ],
           "xaxis": "x",
           "y": [
            19.18,
            21.48,
            24.26,
            27.23,
            29.34,
            29.88,
            27.8,
            27.4,
            27.15,
            26,
            22.99,
            20.65
           ],
           "yaxis": "y"
          }
         ],
         "name": "1995"
        },
        {
         "data": [
          {
           "hovertemplate": "Year=1996<br>Month=%{x}<br>Temprature=%{marker.size}<extra></extra>",
           "legendgroup": "",
           "marker": {
            "color": "#636efa",
            "size": [
             19.81,
             21.73,
             25.13,
             26.67,
             28.37,
             28.08,
             27.42,
             26.77,
             26.64,
             24.5,
             21.81,
             18.96
            ],
            "sizemode": "area",
            "sizeref": 0.07695,
            "symbol": "circle"
           },
           "mode": "markers",
           "name": "",
           "orientation": "v",
           "showlegend": false,
           "type": "scatter",
           "x": [
            "JAN",
            "FEB",
            "MAR",
            "APR",
            "MAY",
            "JUN",
            "JUL",
            "AUG",
            "SEP",
            "OCT",
            "NOV",
            "DEC"
           ],
           "xaxis": "x",
           "y": [
            19.81,
            21.73,
            25.13,
            26.67,
            28.37,
            28.08,
            27.42,
            26.77,
            26.64,
            24.5,
            21.81,
            18.96
           ],
           "yaxis": "y"
          }
         ],
         "name": "1996"
        },
        {
         "data": [
          {
           "hovertemplate": "Year=1997<br>Month=%{x}<br>Temprature=%{marker.size}<extra></extra>",
           "legendgroup": "",
           "marker": {
            "color": "#636efa",
            "size": [
             17.86,
             19.88,
             23.64,
             25.55,
             27.86,
             28.33,
             28.01,
             27.27,
             26.81,
             24.48,
             22.05,
             19.31
            ],
            "sizemode": "area",
            "sizeref": 0.07695,
            "symbol": "circle"
           },
           "mode": "markers",
           "name": "",
           "orientation": "v",
           "showlegend": false,
           "type": "scatter",
           "x": [
            "JAN",
            "FEB",
            "MAR",
            "APR",
            "MAY",
            "JUN",
            "JUL",
            "AUG",
            "SEP",
            "OCT",
            "NOV",
            "DEC"
           ],
           "xaxis": "x",
           "y": [
            17.86,
            19.88,
            23.64,
            25.55,
            27.86,
            28.33,
            28.01,
            27.27,
            26.81,
            24.48,
            22.05,
            19.31
           ],
           "yaxis": "y"
          }
         ],
         "name": "1997"
        },
        {
         "data": [
          {
           "hovertemplate": "Year=1998<br>Month=%{x}<br>Temprature=%{marker.size}<extra></extra>",
           "legendgroup": "",
           "marker": {
            "color": "#636efa",
            "size": [
             18.84,
             20.6,
             22.98,
             27,
             29.18,
             28.88,
             27.78,
             27.42,
             26.7,
             25.27,
             22.48,
             19.21
            ],
            "sizemode": "area",
            "sizeref": 0.07695,
            "symbol": "circle"
           },
           "mode": "markers",
           "name": "",
           "orientation": "v",
           "showlegend": false,
           "type": "scatter",
           "x": [
            "JAN",
            "FEB",
            "MAR",
            "APR",
            "MAY",
            "JUN",
            "JUL",
            "AUG",
            "SEP",
            "OCT",
            "NOV",
            "DEC"
           ],
           "xaxis": "x",
           "y": [
            18.84,
            20.6,
            22.98,
            27,
            29.18,
            28.88,
            27.78,
            27.42,
            26.7,
            25.27,
            22.48,
            19.21
           ],
           "yaxis": "y"
          }
         ],
         "name": "1998"
        },
        {
         "data": [
          {
           "hovertemplate": "Year=1999<br>Month=%{x}<br>Temprature=%{marker.size}<extra></extra>",
           "legendgroup": "",
           "marker": {
            "color": "#636efa",
            "size": [
             18.32,
             21.26,
             24.18,
             27.66,
             28.13,
             27.95,
             27.58,
             27.08,
             26.9,
             24.97,
             22.33,
             19.57
            ],
            "sizemode": "area",
            "sizeref": 0.07695,
            "symbol": "circle"
           },
           "mode": "markers",
           "name": "",
           "orientation": "v",
           "showlegend": false,
           "type": "scatter",
           "x": [
            "JAN",
            "FEB",
            "MAR",
            "APR",
            "MAY",
            "JUN",
            "JUL",
            "AUG",
            "SEP",
            "OCT",
            "NOV",
            "DEC"
           ],
           "xaxis": "x",
           "y": [
            18.32,
            21.26,
            24.18,
            27.66,
            28.13,
            27.95,
            27.58,
            27.08,
            26.9,
            24.97,
            22.33,
            19.57
           ],
           "yaxis": "y"
          }
         ],
         "name": "1999"
        },
        {
         "data": [
          {
           "hovertemplate": "Year=2000<br>Month=%{x}<br>Temprature=%{marker.size}<extra></extra>",
           "legendgroup": "",
           "marker": {
            "color": "#636efa",
            "size": [
             18.87,
             19.78,
             23.22,
             27.27,
             28.92,
             28.02,
             27.34,
             26.98,
             26.53,
             25.58,
             22.75,
             19.66
            ],
            "sizemode": "area",
            "sizeref": 0.07695,
            "symbol": "circle"
           },
           "mode": "markers",
           "name": "",
           "orientation": "v",
           "showlegend": false,
           "type": "scatter",
           "x": [
            "JAN",
            "FEB",
            "MAR",
            "APR",
            "MAY",
            "JUN",
            "JUL",
            "AUG",
            "SEP",
            "OCT",
            "NOV",
            "DEC"
           ],
           "xaxis": "x",
           "y": [
            18.87,
            19.78,
            23.22,
            27.27,
            28.92,
            28.02,
            27.34,
            26.98,
            26.53,
            25.58,
            22.75,
            19.66
           ],
           "yaxis": "y"
          }
         ],
         "name": "2000"
        },
        {
         "data": [
          {
           "hovertemplate": "Year=2001<br>Month=%{x}<br>Temprature=%{marker.size}<extra></extra>",
           "legendgroup": "",
           "marker": {
            "color": "#636efa",
            "size": [
             18.5,
             21,
             24.12,
             26.9,
             29.46,
             28.13,
             27.63,
             27.62,
             26.86,
             25.49,
             22.51,
             19.55
            ],
            "sizemode": "area",
            "sizeref": 0.07695,
            "symbol": "circle"
           },
           "mode": "markers",
           "name": "",
           "orientation": "v",
           "showlegend": false,
           "type": "scatter",
           "x": [
            "JAN",
            "FEB",
            "MAR",
            "APR",
            "MAY",
            "JUN",
            "JUL",
            "AUG",
            "SEP",
            "OCT",
            "NOV",
            "DEC"
           ],
           "xaxis": "x",
           "y": [
            18.5,
            21,
            24.12,
            26.9,
            29.46,
            28.13,
            27.63,
            27.62,
            26.86,
            25.49,
            22.51,
            19.55
           ],
           "yaxis": "y"
          }
         ],
         "name": "2001"
        },
        {
         "data": [
          {
           "hovertemplate": "Year=2002<br>Month=%{x}<br>Temprature=%{marker.size}<extra></extra>",
           "legendgroup": "",
           "marker": {
            "color": "#636efa",
            "size": [
             18.78,
             20.52,
             24.44,
             27.66,
             29.56,
             28.77,
             28.47,
             27.27,
             26.43,
             25.44,
             23.17,
             19.87
            ],
            "sizemode": "area",
            "sizeref": 0.07695,
            "symbol": "circle"
           },
           "mode": "markers",
           "name": "",
           "orientation": "v",
           "showlegend": false,
           "type": "scatter",
           "x": [
            "JAN",
            "FEB",
            "MAR",
            "APR",
            "MAY",
            "JUN",
            "JUL",
            "AUG",
            "SEP",
            "OCT",
            "NOV",
            "DEC"
           ],
           "xaxis": "x",
           "y": [
            18.78,
            20.52,
            24.44,
            27.66,
            29.56,
            28.77,
            28.47,
            27.27,
            26.43,
            25.44,
            23.17,
            19.87
           ],
           "yaxis": "y"
          }
         ],
         "name": "2002"
        },
        {
         "data": [
          {
           "hovertemplate": "Year=2003<br>Month=%{x}<br>Temprature=%{marker.size}<extra></extra>",
           "legendgroup": "",
           "marker": {
            "color": "#636efa",
            "size": [
             18.6,
             21.03,
             23.62,
             27.29,
             28.64,
             29.01,
             27.53,
             27.25,
             26.75,
             24.92,
             22.17,
             19.59
            ],
            "sizemode": "area",
            "sizeref": 0.07695,
            "symbol": "circle"
           },
           "mode": "markers",
           "name": "",
           "orientation": "v",
           "showlegend": false,
           "type": "scatter",
           "x": [
            "JAN",
            "FEB",
            "MAR",
            "APR",
            "MAY",
            "JUN",
            "JUL",
            "AUG",
            "SEP",
            "OCT",
            "NOV",
            "DEC"
           ],
           "xaxis": "x",
           "y": [
            18.6,
            21.03,
            23.62,
            27.29,
            28.64,
            29.01,
            27.53,
            27.25,
            26.75,
            24.92,
            22.17,
            19.59
           ],
           "yaxis": "y"
          }
         ],
         "name": "2003"
        },
        {
         "data": [
          {
           "hovertemplate": "Year=2004<br>Month=%{x}<br>Temprature=%{marker.size}<extra></extra>",
           "legendgroup": "",
           "marker": {
            "color": "#636efa",
            "size": [
             18.83,
             21.03,
             26.19,
             27.38,
             28.12,
             27.94,
             27.44,
             27.16,
             26.8,
             24.34,
             22.43,
             19.93
            ],
            "sizemode": "area",
            "sizeref": 0.07695,
            "symbol": "circle"
           },
           "mode": "markers",
           "name": "",
           "orientation": "v",
           "showlegend": false,
           "type": "scatter",
           "x": [
            "JAN",
            "FEB",
            "MAR",
            "APR",
            "MAY",
            "JUN",
            "JUL",
            "AUG",
            "SEP",
            "OCT",
            "NOV",
            "DEC"
           ],
           "xaxis": "x",
           "y": [
            18.83,
            21.03,
            26.19,
            27.38,
            28.12,
            27.94,
            27.44,
            27.16,
            26.8,
            24.34,
            22.43,
            19.93
           ],
           "yaxis": "y"
          }
         ],
         "name": "2004"
        },
        {
         "data": [
          {
           "hovertemplate": "Year=2005<br>Month=%{x}<br>Temprature=%{marker.size}<extra></extra>",
           "legendgroup": "",
           "marker": {
            "color": "#636efa",
            "size": [
             19.07,
             20.51,
             24.14,
             26.62,
             28.22,
             28.99,
             27.34,
             27.41,
             26.82,
             24.84,
             21.73,
             19.23
            ],
            "sizemode": "area",
            "sizeref": 0.07695,
            "symbol": "circle"
           },
           "mode": "markers",
           "name": "",
           "orientation": "v",
           "showlegend": false,
           "type": "scatter",
           "x": [
            "JAN",
            "FEB",
            "MAR",
            "APR",
            "MAY",
            "JUN",
            "JUL",
            "AUG",
            "SEP",
            "OCT",
            "NOV",
            "DEC"
           ],
           "xaxis": "x",
           "y": [
            19.07,
            20.51,
            24.14,
            26.62,
            28.22,
            28.99,
            27.34,
            27.41,
            26.82,
            24.84,
            21.73,
            19.23
           ],
           "yaxis": "y"
          }
         ],
         "name": "2005"
        },
        {
         "data": [
          {
           "hovertemplate": "Year=2006<br>Month=%{x}<br>Temprature=%{marker.size}<extra></extra>",
           "legendgroup": "",
           "marker": {
            "color": "#636efa",
            "size": [
             19.96,
             23.02,
             23.91,
             26.83,
             28.82,
             28.13,
             27.92,
             27.15,
             26.42,
             25.41,
             22.59,
             19.99
            ],
            "sizemode": "area",
            "sizeref": 0.07695,
            "symbol": "circle"
           },
           "mode": "markers",
           "name": "",
           "orientation": "v",
           "showlegend": false,
           "type": "scatter",
           "x": [
            "JAN",
            "FEB",
            "MAR",
            "APR",
            "MAY",
            "JUN",
            "JUL",
            "AUG",
            "SEP",
            "OCT",
            "NOV",
            "DEC"
           ],
           "xaxis": "x",
           "y": [
            19.96,
            23.02,
            23.91,
            26.83,
            28.82,
            28.13,
            27.92,
            27.15,
            26.42,
            25.41,
            22.59,
            19.99
           ],
           "yaxis": "y"
          }
         ],
         "name": "2006"
        },
        {
         "data": [
          {
           "hovertemplate": "Year=2007<br>Month=%{x}<br>Temprature=%{marker.size}<extra></extra>",
           "legendgroup": "",
           "marker": {
            "color": "#636efa",
            "size": [
             19.24,
             20.97,
             23.52,
             27.72,
             28.84,
             28.31,
             27.66,
             27.37,
             26.61,
             24.92,
             22.4,
             19.65
            ],
            "sizemode": "area",
            "sizeref": 0.07695,
            "symbol": "circle"
           },
           "mode": "markers",
           "name": "",
           "orientation": "v",
           "showlegend": false,
           "type": "scatter",
           "x": [
            "JAN",
            "FEB",
            "MAR",
            "APR",
            "MAY",
            "JUN",
            "JUL",
            "AUG",
            "SEP",
            "OCT",
            "NOV",
            "DEC"
           ],
           "xaxis": "x",
           "y": [
            19.24,
            20.97,
            23.52,
            27.72,
            28.84,
            28.31,
            27.66,
            27.37,
            26.61,
            24.92,
            22.4,
            19.65
           ],
           "yaxis": "y"
          }
         ],
         "name": "2007"
        },
        {
         "data": [
          {
           "hovertemplate": "Year=2008<br>Month=%{x}<br>Temprature=%{marker.size}<extra></extra>",
           "legendgroup": "",
           "marker": {
            "color": "#636efa",
            "size": [
             18.49,
             19.83,
             24.43,
             26.54,
             28.42,
             28.1,
             27.5,
             27,
             26.44,
             25.47,
             22.51,
             20.62
            ],
            "sizemode": "area",
            "sizeref": 0.07695,
            "symbol": "circle"
           },
           "mode": "markers",
           "name": "",
           "orientation": "v",
           "showlegend": false,
           "type": "scatter",
           "x": [
            "JAN",
            "FEB",
            "MAR",
            "APR",
            "MAY",
            "JUN",
            "JUL",
            "AUG",
            "SEP",
            "OCT",
            "NOV",
            "DEC"
           ],
           "xaxis": "x",
           "y": [
            18.49,
            19.83,
            24.43,
            26.54,
            28.42,
            28.1,
            27.5,
            27,
            26.44,
            25.47,
            22.51,
            20.62
           ],
           "yaxis": "y"
          }
         ],
         "name": "2008"
        },
        {
         "data": [
          {
           "hovertemplate": "Year=2009<br>Month=%{x}<br>Temprature=%{marker.size}<extra></extra>",
           "legendgroup": "",
           "marker": {
            "color": "#636efa",
            "size": [
             19.79,
             21.66,
             24.55,
             27.35,
             28.71,
             28.77,
             27.83,
             27.85,
             27.11,
             25.2,
             22.31,
             20.22
            ],
            "sizemode": "area",
            "sizeref": 0.07695,
            "symbol": "circle"
           },
           "mode": "markers",
           "name": "",
           "orientation": "v",
           "showlegend": false,
           "type": "scatter",
           "x": [
            "JAN",
            "FEB",
            "MAR",
            "APR",
            "MAY",
            "JUN",
            "JUL",
            "AUG",
            "SEP",
            "OCT",
            "NOV",
            "DEC"
           ],
           "xaxis": "x",
           "y": [
            19.79,
            21.66,
            24.55,
            27.35,
            28.71,
            28.77,
            27.83,
            27.85,
            27.11,
            25.2,
            22.31,
            20.22
           ],
           "yaxis": "y"
          }
         ],
         "name": "2009"
        },
        {
         "data": [
          {
           "hovertemplate": "Year=2010<br>Month=%{x}<br>Temprature=%{marker.size}<extra></extra>",
           "legendgroup": "",
           "marker": {
            "color": "#636efa",
            "size": [
             19.15,
             21.23,
             26.53,
             28.4,
             29.19,
             28.51,
             27.55,
             27.33,
             26.6,
             25.58,
             22.98,
             19.22
            ],
            "sizemode": "area",
            "sizeref": 0.07695,
            "symbol": "circle"
           },
           "mode": "markers",
           "name": "",
           "orientation": "v",
           "showlegend": false,
           "type": "scatter",
           "x": [
            "JAN",
            "FEB",
            "MAR",
            "APR",
            "MAY",
            "JUN",
            "JUL",
            "AUG",
            "SEP",
            "OCT",
            "NOV",
            "DEC"
           ],
           "xaxis": "x",
           "y": [
            19.15,
            21.23,
            26.53,
            28.4,
            29.19,
            28.51,
            27.55,
            27.33,
            26.6,
            25.58,
            22.98,
            19.22
           ],
           "yaxis": "y"
          }
         ],
         "name": "2010"
        },
        {
         "data": [
          {
           "hovertemplate": "Year=2011<br>Month=%{x}<br>Temprature=%{marker.size}<extra></extra>",
           "legendgroup": "",
           "marker": {
            "color": "#636efa",
            "size": [
             18.32,
             20.79,
             24.11,
             26.1,
             28.92,
             28.6,
             27.6,
             27.2,
             26.7,
             25.51,
             22.84,
             19.84
            ],
            "sizemode": "area",
            "sizeref": 0.07695,
            "symbol": "circle"
           },
           "mode": "markers",
           "name": "",
           "orientation": "v",
           "showlegend": false,
           "type": "scatter",
           "x": [
            "JAN",
            "FEB",
            "MAR",
            "APR",
            "MAY",
            "JUN",
            "JUL",
            "AUG",
            "SEP",
            "OCT",
            "NOV",
            "DEC"
           ],
           "xaxis": "x",
           "y": [
            18.32,
            20.79,
            24.11,
            26.1,
            28.92,
            28.6,
            27.6,
            27.2,
            26.7,
            25.51,
            22.84,
            19.84
           ],
           "yaxis": "y"
          }
         ],
         "name": "2011"
        },
        {
         "data": [
          {
           "hovertemplate": "Year=2012<br>Month=%{x}<br>Temprature=%{marker.size}<extra></extra>",
           "legendgroup": "",
           "marker": {
            "color": "#636efa",
            "size": [
             18.25,
             20.43,
             23.98,
             26.89,
             28.72,
             28.91,
             27.98,
             27.31,
             26.65,
             24.85,
             22.26,
             19.91
            ],
            "sizemode": "area",
            "sizeref": 0.07695,
            "symbol": "circle"
           },
           "mode": "markers",
           "name": "",
           "orientation": "v",
           "showlegend": false,
           "type": "scatter",
           "x": [
            "JAN",
            "FEB",
            "MAR",
            "APR",
            "MAY",
            "JUN",
            "JUL",
            "AUG",
            "SEP",
            "OCT",
            "NOV",
            "DEC"
           ],
           "xaxis": "x",
           "y": [
            18.25,
            20.43,
            23.98,
            26.89,
            28.72,
            28.91,
            27.98,
            27.31,
            26.65,
            24.85,
            22.26,
            19.91
           ],
           "yaxis": "y"
          }
         ],
         "name": "2012"
        },
        {
         "data": [
          {
           "hovertemplate": "Year=2013<br>Month=%{x}<br>Temprature=%{marker.size}<extra></extra>",
           "legendgroup": "",
           "marker": {
            "color": "#636efa",
            "size": [
             18.88,
             21.07,
             24.53,
             26.97,
             29.06,
             28.24,
             27.5,
             27.22,
             26.87,
             25.63,
             22.18,
             19.69
            ],
            "sizemode": "area",
            "sizeref": 0.07695,
            "symbol": "circle"
           },
           "mode": "markers",
           "name": "",
           "orientation": "v",
           "showlegend": false,
           "type": "scatter",
           "x": [
            "JAN",
            "FEB",
            "MAR",
            "APR",
            "MAY",
            "JUN",
            "JUL",
            "AUG",
            "SEP",
            "OCT",
            "NOV",
            "DEC"
           ],
           "xaxis": "x",
           "y": [
            18.88,
            21.07,
            24.53,
            26.97,
            29.06,
            28.24,
            27.5,
            27.22,
            26.87,
            25.63,
            22.18,
            19.69
           ],
           "yaxis": "y"
          }
         ],
         "name": "2013"
        },
        {
         "data": [
          {
           "hovertemplate": "Year=2014<br>Month=%{x}<br>Temprature=%{marker.size}<extra></extra>",
           "legendgroup": "",
           "marker": {
            "color": "#636efa",
            "size": [
             18.81,
             20.35,
             23.34,
             26.91,
             28.45,
             29.42,
             28.07,
             27.42,
             26.61,
             25.38,
             22.53,
             19.5
            ],
            "sizemode": "area",
            "sizeref": 0.07695,
            "symbol": "circle"
           },
           "mode": "markers",
           "name": "",
           "orientation": "v",
           "showlegend": false,
           "type": "scatter",
           "x": [
            "JAN",
            "FEB",
            "MAR",
            "APR",
            "MAY",
            "JUN",
            "JUL",
            "AUG",
            "SEP",
            "OCT",
            "NOV",
            "DEC"
           ],
           "xaxis": "x",
           "y": [
            18.81,
            20.35,
            23.34,
            26.91,
            28.45,
            29.42,
            28.07,
            27.42,
            26.61,
            25.38,
            22.53,
            19.5
           ],
           "yaxis": "y"
          }
         ],
         "name": "2014"
        },
        {
         "data": [
          {
           "hovertemplate": "Year=2015<br>Month=%{x}<br>Temprature=%{marker.size}<extra></extra>",
           "legendgroup": "",
           "marker": {
            "color": "#636efa",
            "size": [
             19.02,
             21.23,
             23.52,
             26.52,
             28.82,
             28.15,
             28.03,
             27.64,
             27.04,
             25.82,
             22.95,
             20.21
            ],
            "sizemode": "area",
            "sizeref": 0.07695,
            "symbol": "circle"
           },
           "mode": "markers",
           "name": "",
           "orientation": "v",
           "showlegend": false,
           "type": "scatter",
           "x": [
            "JAN",
            "FEB",
            "MAR",
            "APR",
            "MAY",
            "JUN",
            "JUL",
            "AUG",
            "SEP",
            "OCT",
            "NOV",
            "DEC"
           ],
           "xaxis": "x",
           "y": [
            19.02,
            21.23,
            23.52,
            26.52,
            28.82,
            28.15,
            28.03,
            27.64,
            27.04,
            25.82,
            22.95,
            20.21
           ],
           "yaxis": "y"
          }
         ],
         "name": "2015"
        },
        {
         "data": [
          {
           "hovertemplate": "Year=2016<br>Month=%{x}<br>Temprature=%{marker.size}<extra></extra>",
           "legendgroup": "",
           "marker": {
            "color": "#636efa",
            "size": [
             20.92,
             23.58,
             26.61,
             29.56,
             30.41,
             29.7,
             28.18,
             28.17,
             27.72,
             26.81,
             23.9,
             21.89
            ],
            "sizemode": "area",
            "sizeref": 0.07695,
            "symbol": "circle"
           },
           "mode": "markers",
           "name": "",
           "orientation": "v",
           "showlegend": false,
           "type": "scatter",
           "x": [
            "JAN",
            "FEB",
            "MAR",
            "APR",
            "MAY",
            "JUN",
            "JUL",
            "AUG",
            "SEP",
            "OCT",
            "NOV",
            "DEC"
           ],
           "xaxis": "x",
           "y": [
            20.92,
            23.58,
            26.61,
            29.56,
            30.41,
            29.7,
            28.18,
            28.17,
            27.72,
            26.81,
            23.9,
            21.89
           ],
           "yaxis": "y"
          }
         ],
         "name": "2016"
        },
        {
         "data": [
          {
           "hovertemplate": "Year=2017<br>Month=%{x}<br>Temprature=%{marker.size}<extra></extra>",
           "legendgroup": "",
           "marker": {
            "color": "#636efa",
            "size": [
             20.59,
             23.08,
             25.58,
             29.17,
             30.47,
             29.44,
             28.31,
             28.12,
             28.11,
             27.24,
             23.92,
             21.47
            ],
            "sizemode": "area",
            "sizeref": 0.07695,
            "symbol": "circle"
           },
           "mode": "markers",
           "name": "",
           "orientation": "v",
           "showlegend": false,
           "type": "scatter",
           "x": [
            "JAN",
            "FEB",
            "MAR",
            "APR",
            "MAY",
            "JUN",
            "JUL",
            "AUG",
            "SEP",
            "OCT",
            "NOV",
            "DEC"
           ],
           "xaxis": "x",
           "y": [
            20.59,
            23.08,
            25.58,
            29.17,
            30.47,
            29.44,
            28.31,
            28.12,
            28.11,
            27.24,
            23.92,
            21.47
           ],
           "yaxis": "y"
          }
         ],
         "name": "2017"
        }
       ],
       "layout": {
        "legend": {
         "itemsizing": "constant",
         "tracegroupgap": 0
        },
        "margin": {
         "t": 60
        },
        "sliders": [
         {
          "active": 0,
          "currentvalue": {
           "prefix": "Year="
          },
          "len": 0.9,
          "pad": {
           "b": 10,
           "t": 60
          },
          "steps": [
           {
            "args": [
             [
              "1901"
             ],
             {
              "frame": {
               "duration": 0,
               "redraw": false
              },
              "fromcurrent": true,
              "mode": "immediate",
              "transition": {
               "duration": 0,
               "easing": "linear"
              }
             }
            ],
            "label": "1901",
            "method": "animate"
           },
           {
            "args": [
             [
              "1902"
             ],
             {
              "frame": {
               "duration": 0,
               "redraw": false
              },
              "fromcurrent": true,
              "mode": "immediate",
              "transition": {
               "duration": 0,
               "easing": "linear"
              }
             }
            ],
            "label": "1902",
            "method": "animate"
           },
           {
            "args": [
             [
              "1903"
             ],
             {
              "frame": {
               "duration": 0,
               "redraw": false
              },
              "fromcurrent": true,
              "mode": "immediate",
              "transition": {
               "duration": 0,
               "easing": "linear"
              }
             }
            ],
            "label": "1903",
            "method": "animate"
           },
           {
            "args": [
             [
              "1904"
             ],
             {
              "frame": {
               "duration": 0,
               "redraw": false
              },
              "fromcurrent": true,
              "mode": "immediate",
              "transition": {
               "duration": 0,
               "easing": "linear"
              }
             }
            ],
            "label": "1904",
            "method": "animate"
           },
           {
            "args": [
             [
              "1905"
             ],
             {
              "frame": {
               "duration": 0,
               "redraw": false
              },
              "fromcurrent": true,
              "mode": "immediate",
              "transition": {
               "duration": 0,
               "easing": "linear"
              }
             }
            ],
            "label": "1905",
            "method": "animate"
           },
           {
            "args": [
             [
              "1906"
             ],
             {
              "frame": {
               "duration": 0,
               "redraw": false
              },
              "fromcurrent": true,
              "mode": "immediate",
              "transition": {
               "duration": 0,
               "easing": "linear"
              }
             }
            ],
            "label": "1906",
            "method": "animate"
           },
           {
            "args": [
             [
              "1907"
             ],
             {
              "frame": {
               "duration": 0,
               "redraw": false
              },
              "fromcurrent": true,
              "mode": "immediate",
              "transition": {
               "duration": 0,
               "easing": "linear"
              }
             }
            ],
            "label": "1907",
            "method": "animate"
           },
           {
            "args": [
             [
              "1908"
             ],
             {
              "frame": {
               "duration": 0,
               "redraw": false
              },
              "fromcurrent": true,
              "mode": "immediate",
              "transition": {
               "duration": 0,
               "easing": "linear"
              }
             }
            ],
            "label": "1908",
            "method": "animate"
           },
           {
            "args": [
             [
              "1909"
             ],
             {
              "frame": {
               "duration": 0,
               "redraw": false
              },
              "fromcurrent": true,
              "mode": "immediate",
              "transition": {
               "duration": 0,
               "easing": "linear"
              }
             }
            ],
            "label": "1909",
            "method": "animate"
           },
           {
            "args": [
             [
              "1910"
             ],
             {
              "frame": {
               "duration": 0,
               "redraw": false
              },
              "fromcurrent": true,
              "mode": "immediate",
              "transition": {
               "duration": 0,
               "easing": "linear"
              }
             }
            ],
            "label": "1910",
            "method": "animate"
           },
           {
            "args": [
             [
              "1911"
             ],
             {
              "frame": {
               "duration": 0,
               "redraw": false
              },
              "fromcurrent": true,
              "mode": "immediate",
              "transition": {
               "duration": 0,
               "easing": "linear"
              }
             }
            ],
            "label": "1911",
            "method": "animate"
           },
           {
            "args": [
             [
              "1912"
             ],
             {
              "frame": {
               "duration": 0,
               "redraw": false
              },
              "fromcurrent": true,
              "mode": "immediate",
              "transition": {
               "duration": 0,
               "easing": "linear"
              }
             }
            ],
            "label": "1912",
            "method": "animate"
           },
           {
            "args": [
             [
              "1913"
             ],
             {
              "frame": {
               "duration": 0,
               "redraw": false
              },
              "fromcurrent": true,
              "mode": "immediate",
              "transition": {
               "duration": 0,
               "easing": "linear"
              }
             }
            ],
            "label": "1913",
            "method": "animate"
           },
           {
            "args": [
             [
              "1914"
             ],
             {
              "frame": {
               "duration": 0,
               "redraw": false
              },
              "fromcurrent": true,
              "mode": "immediate",
              "transition": {
               "duration": 0,
               "easing": "linear"
              }
             }
            ],
            "label": "1914",
            "method": "animate"
           },
           {
            "args": [
             [
              "1915"
             ],
             {
              "frame": {
               "duration": 0,
               "redraw": false
              },
              "fromcurrent": true,
              "mode": "immediate",
              "transition": {
               "duration": 0,
               "easing": "linear"
              }
             }
            ],
            "label": "1915",
            "method": "animate"
           },
           {
            "args": [
             [
              "1916"
             ],
             {
              "frame": {
               "duration": 0,
               "redraw": false
              },
              "fromcurrent": true,
              "mode": "immediate",
              "transition": {
               "duration": 0,
               "easing": "linear"
              }
             }
            ],
            "label": "1916",
            "method": "animate"
           },
           {
            "args": [
             [
              "1917"
             ],
             {
              "frame": {
               "duration": 0,
               "redraw": false
              },
              "fromcurrent": true,
              "mode": "immediate",
              "transition": {
               "duration": 0,
               "easing": "linear"
              }
             }
            ],
            "label": "1917",
            "method": "animate"
           },
           {
            "args": [
             [
              "1918"
             ],
             {
              "frame": {
               "duration": 0,
               "redraw": false
              },
              "fromcurrent": true,
              "mode": "immediate",
              "transition": {
               "duration": 0,
               "easing": "linear"
              }
             }
            ],
            "label": "1918",
            "method": "animate"
           },
           {
            "args": [
             [
              "1919"
             ],
             {
              "frame": {
               "duration": 0,
               "redraw": false
              },
              "fromcurrent": true,
              "mode": "immediate",
              "transition": {
               "duration": 0,
               "easing": "linear"
              }
             }
            ],
            "label": "1919",
            "method": "animate"
           },
           {
            "args": [
             [
              "1920"
             ],
             {
              "frame": {
               "duration": 0,
               "redraw": false
              },
              "fromcurrent": true,
              "mode": "immediate",
              "transition": {
               "duration": 0,
               "easing": "linear"
              }
             }
            ],
            "label": "1920",
            "method": "animate"
           },
           {
            "args": [
             [
              "1921"
             ],
             {
              "frame": {
               "duration": 0,
               "redraw": false
              },
              "fromcurrent": true,
              "mode": "immediate",
              "transition": {
               "duration": 0,
               "easing": "linear"
              }
             }
            ],
            "label": "1921",
            "method": "animate"
           },
           {
            "args": [
             [
              "1922"
             ],
             {
              "frame": {
               "duration": 0,
               "redraw": false
              },
              "fromcurrent": true,
              "mode": "immediate",
              "transition": {
               "duration": 0,
               "easing": "linear"
              }
             }
            ],
            "label": "1922",
            "method": "animate"
           },
           {
            "args": [
             [
              "1923"
             ],
             {
              "frame": {
               "duration": 0,
               "redraw": false
              },
              "fromcurrent": true,
              "mode": "immediate",
              "transition": {
               "duration": 0,
               "easing": "linear"
              }
             }
            ],
            "label": "1923",
            "method": "animate"
           },
           {
            "args": [
             [
              "1924"
             ],
             {
              "frame": {
               "duration": 0,
               "redraw": false
              },
              "fromcurrent": true,
              "mode": "immediate",
              "transition": {
               "duration": 0,
               "easing": "linear"
              }
             }
            ],
            "label": "1924",
            "method": "animate"
           },
           {
            "args": [
             [
              "1925"
             ],
             {
              "frame": {
               "duration": 0,
               "redraw": false
              },
              "fromcurrent": true,
              "mode": "immediate",
              "transition": {
               "duration": 0,
               "easing": "linear"
              }
             }
            ],
            "label": "1925",
            "method": "animate"
           },
           {
            "args": [
             [
              "1926"
             ],
             {
              "frame": {
               "duration": 0,
               "redraw": false
              },
              "fromcurrent": true,
              "mode": "immediate",
              "transition": {
               "duration": 0,
               "easing": "linear"
              }
             }
            ],
            "label": "1926",
            "method": "animate"
           },
           {
            "args": [
             [
              "1927"
             ],
             {
              "frame": {
               "duration": 0,
               "redraw": false
              },
              "fromcurrent": true,
              "mode": "immediate",
              "transition": {
               "duration": 0,
               "easing": "linear"
              }
             }
            ],
            "label": "1927",
            "method": "animate"
           },
           {
            "args": [
             [
              "1928"
             ],
             {
              "frame": {
               "duration": 0,
               "redraw": false
              },
              "fromcurrent": true,
              "mode": "immediate",
              "transition": {
               "duration": 0,
               "easing": "linear"
              }
             }
            ],
            "label": "1928",
            "method": "animate"
           },
           {
            "args": [
             [
              "1929"
             ],
             {
              "frame": {
               "duration": 0,
               "redraw": false
              },
              "fromcurrent": true,
              "mode": "immediate",
              "transition": {
               "duration": 0,
               "easing": "linear"
              }
             }
            ],
            "label": "1929",
            "method": "animate"
           },
           {
            "args": [
             [
              "1930"
             ],
             {
              "frame": {
               "duration": 0,
               "redraw": false
              },
              "fromcurrent": true,
              "mode": "immediate",
              "transition": {
               "duration": 0,
               "easing": "linear"
              }
             }
            ],
            "label": "1930",
            "method": "animate"
           },
           {
            "args": [
             [
              "1931"
             ],
             {
              "frame": {
               "duration": 0,
               "redraw": false
              },
              "fromcurrent": true,
              "mode": "immediate",
              "transition": {
               "duration": 0,
               "easing": "linear"
              }
             }
            ],
            "label": "1931",
            "method": "animate"
           },
           {
            "args": [
             [
              "1932"
             ],
             {
              "frame": {
               "duration": 0,
               "redraw": false
              },
              "fromcurrent": true,
              "mode": "immediate",
              "transition": {
               "duration": 0,
               "easing": "linear"
              }
             }
            ],
            "label": "1932",
            "method": "animate"
           },
           {
            "args": [
             [
              "1933"
             ],
             {
              "frame": {
               "duration": 0,
               "redraw": false
              },
              "fromcurrent": true,
              "mode": "immediate",
              "transition": {
               "duration": 0,
               "easing": "linear"
              }
             }
            ],
            "label": "1933",
            "method": "animate"
           },
           {
            "args": [
             [
              "1934"
             ],
             {
              "frame": {
               "duration": 0,
               "redraw": false
              },
              "fromcurrent": true,
              "mode": "immediate",
              "transition": {
               "duration": 0,
               "easing": "linear"
              }
             }
            ],
            "label": "1934",
            "method": "animate"
           },
           {
            "args": [
             [
              "1935"
             ],
             {
              "frame": {
               "duration": 0,
               "redraw": false
              },
              "fromcurrent": true,
              "mode": "immediate",
              "transition": {
               "duration": 0,
               "easing": "linear"
              }
             }
            ],
            "label": "1935",
            "method": "animate"
           },
           {
            "args": [
             [
              "1936"
             ],
             {
              "frame": {
               "duration": 0,
               "redraw": false
              },
              "fromcurrent": true,
              "mode": "immediate",
              "transition": {
               "duration": 0,
               "easing": "linear"
              }
             }
            ],
            "label": "1936",
            "method": "animate"
           },
           {
            "args": [
             [
              "1937"
             ],
             {
              "frame": {
               "duration": 0,
               "redraw": false
              },
              "fromcurrent": true,
              "mode": "immediate",
              "transition": {
               "duration": 0,
               "easing": "linear"
              }
             }
            ],
            "label": "1937",
            "method": "animate"
           },
           {
            "args": [
             [
              "1938"
             ],
             {
              "frame": {
               "duration": 0,
               "redraw": false
              },
              "fromcurrent": true,
              "mode": "immediate",
              "transition": {
               "duration": 0,
               "easing": "linear"
              }
             }
            ],
            "label": "1938",
            "method": "animate"
           },
           {
            "args": [
             [
              "1939"
             ],
             {
              "frame": {
               "duration": 0,
               "redraw": false
              },
              "fromcurrent": true,
              "mode": "immediate",
              "transition": {
               "duration": 0,
               "easing": "linear"
              }
             }
            ],
            "label": "1939",
            "method": "animate"
           },
           {
            "args": [
             [
              "1940"
             ],
             {
              "frame": {
               "duration": 0,
               "redraw": false
              },
              "fromcurrent": true,
              "mode": "immediate",
              "transition": {
               "duration": 0,
               "easing": "linear"
              }
             }
            ],
            "label": "1940",
            "method": "animate"
           },
           {
            "args": [
             [
              "1941"
             ],
             {
              "frame": {
               "duration": 0,
               "redraw": false
              },
              "fromcurrent": true,
              "mode": "immediate",
              "transition": {
               "duration": 0,
               "easing": "linear"
              }
             }
            ],
            "label": "1941",
            "method": "animate"
           },
           {
            "args": [
             [
              "1942"
             ],
             {
              "frame": {
               "duration": 0,
               "redraw": false
              },
              "fromcurrent": true,
              "mode": "immediate",
              "transition": {
               "duration": 0,
               "easing": "linear"
              }
             }
            ],
            "label": "1942",
            "method": "animate"
           },
           {
            "args": [
             [
              "1943"
             ],
             {
              "frame": {
               "duration": 0,
               "redraw": false
              },
              "fromcurrent": true,
              "mode": "immediate",
              "transition": {
               "duration": 0,
               "easing": "linear"
              }
             }
            ],
            "label": "1943",
            "method": "animate"
           },
           {
            "args": [
             [
              "1944"
             ],
             {
              "frame": {
               "duration": 0,
               "redraw": false
              },
              "fromcurrent": true,
              "mode": "immediate",
              "transition": {
               "duration": 0,
               "easing": "linear"
              }
             }
            ],
            "label": "1944",
            "method": "animate"
           },
           {
            "args": [
             [
              "1945"
             ],
             {
              "frame": {
               "duration": 0,
               "redraw": false
              },
              "fromcurrent": true,
              "mode": "immediate",
              "transition": {
               "duration": 0,
               "easing": "linear"
              }
             }
            ],
            "label": "1945",
            "method": "animate"
           },
           {
            "args": [
             [
              "1946"
             ],
             {
              "frame": {
               "duration": 0,
               "redraw": false
              },
              "fromcurrent": true,
              "mode": "immediate",
              "transition": {
               "duration": 0,
               "easing": "linear"
              }
             }
            ],
            "label": "1946",
            "method": "animate"
           },
           {
            "args": [
             [
              "1947"
             ],
             {
              "frame": {
               "duration": 0,
               "redraw": false
              },
              "fromcurrent": true,
              "mode": "immediate",
              "transition": {
               "duration": 0,
               "easing": "linear"
              }
             }
            ],
            "label": "1947",
            "method": "animate"
           },
           {
            "args": [
             [
              "1948"
             ],
             {
              "frame": {
               "duration": 0,
               "redraw": false
              },
              "fromcurrent": true,
              "mode": "immediate",
              "transition": {
               "duration": 0,
               "easing": "linear"
              }
             }
            ],
            "label": "1948",
            "method": "animate"
           },
           {
            "args": [
             [
              "1949"
             ],
             {
              "frame": {
               "duration": 0,
               "redraw": false
              },
              "fromcurrent": true,
              "mode": "immediate",
              "transition": {
               "duration": 0,
               "easing": "linear"
              }
             }
            ],
            "label": "1949",
            "method": "animate"
           },
           {
            "args": [
             [
              "1950"
             ],
             {
              "frame": {
               "duration": 0,
               "redraw": false
              },
              "fromcurrent": true,
              "mode": "immediate",
              "transition": {
               "duration": 0,
               "easing": "linear"
              }
             }
            ],
            "label": "1950",
            "method": "animate"
           },
           {
            "args": [
             [
              "1951"
             ],
             {
              "frame": {
               "duration": 0,
               "redraw": false
              },
              "fromcurrent": true,
              "mode": "immediate",
              "transition": {
               "duration": 0,
               "easing": "linear"
              }
             }
            ],
            "label": "1951",
            "method": "animate"
           },
           {
            "args": [
             [
              "1952"
             ],
             {
              "frame": {
               "duration": 0,
               "redraw": false
              },
              "fromcurrent": true,
              "mode": "immediate",
              "transition": {
               "duration": 0,
               "easing": "linear"
              }
             }
            ],
            "label": "1952",
            "method": "animate"
           },
           {
            "args": [
             [
              "1953"
             ],
             {
              "frame": {
               "duration": 0,
               "redraw": false
              },
              "fromcurrent": true,
              "mode": "immediate",
              "transition": {
               "duration": 0,
               "easing": "linear"
              }
             }
            ],
            "label": "1953",
            "method": "animate"
           },
           {
            "args": [
             [
              "1954"
             ],
             {
              "frame": {
               "duration": 0,
               "redraw": false
              },
              "fromcurrent": true,
              "mode": "immediate",
              "transition": {
               "duration": 0,
               "easing": "linear"
              }
             }
            ],
            "label": "1954",
            "method": "animate"
           },
           {
            "args": [
             [
              "1955"
             ],
             {
              "frame": {
               "duration": 0,
               "redraw": false
              },
              "fromcurrent": true,
              "mode": "immediate",
              "transition": {
               "duration": 0,
               "easing": "linear"
              }
             }
            ],
            "label": "1955",
            "method": "animate"
           },
           {
            "args": [
             [
              "1956"
             ],
             {
              "frame": {
               "duration": 0,
               "redraw": false
              },
              "fromcurrent": true,
              "mode": "immediate",
              "transition": {
               "duration": 0,
               "easing": "linear"
              }
             }
            ],
            "label": "1956",
            "method": "animate"
           },
           {
            "args": [
             [
              "1957"
             ],
             {
              "frame": {
               "duration": 0,
               "redraw": false
              },
              "fromcurrent": true,
              "mode": "immediate",
              "transition": {
               "duration": 0,
               "easing": "linear"
              }
             }
            ],
            "label": "1957",
            "method": "animate"
           },
           {
            "args": [
             [
              "1958"
             ],
             {
              "frame": {
               "duration": 0,
               "redraw": false
              },
              "fromcurrent": true,
              "mode": "immediate",
              "transition": {
               "duration": 0,
               "easing": "linear"
              }
             }
            ],
            "label": "1958",
            "method": "animate"
           },
           {
            "args": [
             [
              "1959"
             ],
             {
              "frame": {
               "duration": 0,
               "redraw": false
              },
              "fromcurrent": true,
              "mode": "immediate",
              "transition": {
               "duration": 0,
               "easing": "linear"
              }
             }
            ],
            "label": "1959",
            "method": "animate"
           },
           {
            "args": [
             [
              "1960"
             ],
             {
              "frame": {
               "duration": 0,
               "redraw": false
              },
              "fromcurrent": true,
              "mode": "immediate",
              "transition": {
               "duration": 0,
               "easing": "linear"
              }
             }
            ],
            "label": "1960",
            "method": "animate"
           },
           {
            "args": [
             [
              "1961"
             ],
             {
              "frame": {
               "duration": 0,
               "redraw": false
              },
              "fromcurrent": true,
              "mode": "immediate",
              "transition": {
               "duration": 0,
               "easing": "linear"
              }
             }
            ],
            "label": "1961",
            "method": "animate"
           },
           {
            "args": [
             [
              "1962"
             ],
             {
              "frame": {
               "duration": 0,
               "redraw": false
              },
              "fromcurrent": true,
              "mode": "immediate",
              "transition": {
               "duration": 0,
               "easing": "linear"
              }
             }
            ],
            "label": "1962",
            "method": "animate"
           },
           {
            "args": [
             [
              "1963"
             ],
             {
              "frame": {
               "duration": 0,
               "redraw": false
              },
              "fromcurrent": true,
              "mode": "immediate",
              "transition": {
               "duration": 0,
               "easing": "linear"
              }
             }
            ],
            "label": "1963",
            "method": "animate"
           },
           {
            "args": [
             [
              "1964"
             ],
             {
              "frame": {
               "duration": 0,
               "redraw": false
              },
              "fromcurrent": true,
              "mode": "immediate",
              "transition": {
               "duration": 0,
               "easing": "linear"
              }
             }
            ],
            "label": "1964",
            "method": "animate"
           },
           {
            "args": [
             [
              "1965"
             ],
             {
              "frame": {
               "duration": 0,
               "redraw": false
              },
              "fromcurrent": true,
              "mode": "immediate",
              "transition": {
               "duration": 0,
               "easing": "linear"
              }
             }
            ],
            "label": "1965",
            "method": "animate"
           },
           {
            "args": [
             [
              "1966"
             ],
             {
              "frame": {
               "duration": 0,
               "redraw": false
              },
              "fromcurrent": true,
              "mode": "immediate",
              "transition": {
               "duration": 0,
               "easing": "linear"
              }
             }
            ],
            "label": "1966",
            "method": "animate"
           },
           {
            "args": [
             [
              "1967"
             ],
             {
              "frame": {
               "duration": 0,
               "redraw": false
              },
              "fromcurrent": true,
              "mode": "immediate",
              "transition": {
               "duration": 0,
               "easing": "linear"
              }
             }
            ],
            "label": "1967",
            "method": "animate"
           },
           {
            "args": [
             [
              "1968"
             ],
             {
              "frame": {
               "duration": 0,
               "redraw": false
              },
              "fromcurrent": true,
              "mode": "immediate",
              "transition": {
               "duration": 0,
               "easing": "linear"
              }
             }
            ],
            "label": "1968",
            "method": "animate"
           },
           {
            "args": [
             [
              "1969"
             ],
             {
              "frame": {
               "duration": 0,
               "redraw": false
              },
              "fromcurrent": true,
              "mode": "immediate",
              "transition": {
               "duration": 0,
               "easing": "linear"
              }
             }
            ],
            "label": "1969",
            "method": "animate"
           },
           {
            "args": [
             [
              "1970"
             ],
             {
              "frame": {
               "duration": 0,
               "redraw": false
              },
              "fromcurrent": true,
              "mode": "immediate",
              "transition": {
               "duration": 0,
               "easing": "linear"
              }
             }
            ],
            "label": "1970",
            "method": "animate"
           },
           {
            "args": [
             [
              "1971"
             ],
             {
              "frame": {
               "duration": 0,
               "redraw": false
              },
              "fromcurrent": true,
              "mode": "immediate",
              "transition": {
               "duration": 0,
               "easing": "linear"
              }
             }
            ],
            "label": "1971",
            "method": "animate"
           },
           {
            "args": [
             [
              "1972"
             ],
             {
              "frame": {
               "duration": 0,
               "redraw": false
              },
              "fromcurrent": true,
              "mode": "immediate",
              "transition": {
               "duration": 0,
               "easing": "linear"
              }
             }
            ],
            "label": "1972",
            "method": "animate"
           },
           {
            "args": [
             [
              "1973"
             ],
             {
              "frame": {
               "duration": 0,
               "redraw": false
              },
              "fromcurrent": true,
              "mode": "immediate",
              "transition": {
               "duration": 0,
               "easing": "linear"
              }
             }
            ],
            "label": "1973",
            "method": "animate"
           },
           {
            "args": [
             [
              "1974"
             ],
             {
              "frame": {
               "duration": 0,
               "redraw": false
              },
              "fromcurrent": true,
              "mode": "immediate",
              "transition": {
               "duration": 0,
               "easing": "linear"
              }
             }
            ],
            "label": "1974",
            "method": "animate"
           },
           {
            "args": [
             [
              "1975"
             ],
             {
              "frame": {
               "duration": 0,
               "redraw": false
              },
              "fromcurrent": true,
              "mode": "immediate",
              "transition": {
               "duration": 0,
               "easing": "linear"
              }
             }
            ],
            "label": "1975",
            "method": "animate"
           },
           {
            "args": [
             [
              "1976"
             ],
             {
              "frame": {
               "duration": 0,
               "redraw": false
              },
              "fromcurrent": true,
              "mode": "immediate",
              "transition": {
               "duration": 0,
               "easing": "linear"
              }
             }
            ],
            "label": "1976",
            "method": "animate"
           },
           {
            "args": [
             [
              "1977"
             ],
             {
              "frame": {
               "duration": 0,
               "redraw": false
              },
              "fromcurrent": true,
              "mode": "immediate",
              "transition": {
               "duration": 0,
               "easing": "linear"
              }
             }
            ],
            "label": "1977",
            "method": "animate"
           },
           {
            "args": [
             [
              "1978"
             ],
             {
              "frame": {
               "duration": 0,
               "redraw": false
              },
              "fromcurrent": true,
              "mode": "immediate",
              "transition": {
               "duration": 0,
               "easing": "linear"
              }
             }
            ],
            "label": "1978",
            "method": "animate"
           },
           {
            "args": [
             [
              "1979"
             ],
             {
              "frame": {
               "duration": 0,
               "redraw": false
              },
              "fromcurrent": true,
              "mode": "immediate",
              "transition": {
               "duration": 0,
               "easing": "linear"
              }
             }
            ],
            "label": "1979",
            "method": "animate"
           },
           {
            "args": [
             [
              "1980"
             ],
             {
              "frame": {
               "duration": 0,
               "redraw": false
              },
              "fromcurrent": true,
              "mode": "immediate",
              "transition": {
               "duration": 0,
               "easing": "linear"
              }
             }
            ],
            "label": "1980",
            "method": "animate"
           },
           {
            "args": [
             [
              "1981"
             ],
             {
              "frame": {
               "duration": 0,
               "redraw": false
              },
              "fromcurrent": true,
              "mode": "immediate",
              "transition": {
               "duration": 0,
               "easing": "linear"
              }
             }
            ],
            "label": "1981",
            "method": "animate"
           },
           {
            "args": [
             [
              "1982"
             ],
             {
              "frame": {
               "duration": 0,
               "redraw": false
              },
              "fromcurrent": true,
              "mode": "immediate",
              "transition": {
               "duration": 0,
               "easing": "linear"
              }
             }
            ],
            "label": "1982",
            "method": "animate"
           },
           {
            "args": [
             [
              "1983"
             ],
             {
              "frame": {
               "duration": 0,
               "redraw": false
              },
              "fromcurrent": true,
              "mode": "immediate",
              "transition": {
               "duration": 0,
               "easing": "linear"
              }
             }
            ],
            "label": "1983",
            "method": "animate"
           },
           {
            "args": [
             [
              "1984"
             ],
             {
              "frame": {
               "duration": 0,
               "redraw": false
              },
              "fromcurrent": true,
              "mode": "immediate",
              "transition": {
               "duration": 0,
               "easing": "linear"
              }
             }
            ],
            "label": "1984",
            "method": "animate"
           },
           {
            "args": [
             [
              "1985"
             ],
             {
              "frame": {
               "duration": 0,
               "redraw": false
              },
              "fromcurrent": true,
              "mode": "immediate",
              "transition": {
               "duration": 0,
               "easing": "linear"
              }
             }
            ],
            "label": "1985",
            "method": "animate"
           },
           {
            "args": [
             [
              "1986"
             ],
             {
              "frame": {
               "duration": 0,
               "redraw": false
              },
              "fromcurrent": true,
              "mode": "immediate",
              "transition": {
               "duration": 0,
               "easing": "linear"
              }
             }
            ],
            "label": "1986",
            "method": "animate"
           },
           {
            "args": [
             [
              "1987"
             ],
             {
              "frame": {
               "duration": 0,
               "redraw": false
              },
              "fromcurrent": true,
              "mode": "immediate",
              "transition": {
               "duration": 0,
               "easing": "linear"
              }
             }
            ],
            "label": "1987",
            "method": "animate"
           },
           {
            "args": [
             [
              "1988"
             ],
             {
              "frame": {
               "duration": 0,
               "redraw": false
              },
              "fromcurrent": true,
              "mode": "immediate",
              "transition": {
               "duration": 0,
               "easing": "linear"
              }
             }
            ],
            "label": "1988",
            "method": "animate"
           },
           {
            "args": [
             [
              "1989"
             ],
             {
              "frame": {
               "duration": 0,
               "redraw": false
              },
              "fromcurrent": true,
              "mode": "immediate",
              "transition": {
               "duration": 0,
               "easing": "linear"
              }
             }
            ],
            "label": "1989",
            "method": "animate"
           },
           {
            "args": [
             [
              "1990"
             ],
             {
              "frame": {
               "duration": 0,
               "redraw": false
              },
              "fromcurrent": true,
              "mode": "immediate",
              "transition": {
               "duration": 0,
               "easing": "linear"
              }
             }
            ],
            "label": "1990",
            "method": "animate"
           },
           {
            "args": [
             [
              "1991"
             ],
             {
              "frame": {
               "duration": 0,
               "redraw": false
              },
              "fromcurrent": true,
              "mode": "immediate",
              "transition": {
               "duration": 0,
               "easing": "linear"
              }
             }
            ],
            "label": "1991",
            "method": "animate"
           },
           {
            "args": [
             [
              "1992"
             ],
             {
              "frame": {
               "duration": 0,
               "redraw": false
              },
              "fromcurrent": true,
              "mode": "immediate",
              "transition": {
               "duration": 0,
               "easing": "linear"
              }
             }
            ],
            "label": "1992",
            "method": "animate"
           },
           {
            "args": [
             [
              "1993"
             ],
             {
              "frame": {
               "duration": 0,
               "redraw": false
              },
              "fromcurrent": true,
              "mode": "immediate",
              "transition": {
               "duration": 0,
               "easing": "linear"
              }
             }
            ],
            "label": "1993",
            "method": "animate"
           },
           {
            "args": [
             [
              "1994"
             ],
             {
              "frame": {
               "duration": 0,
               "redraw": false
              },
              "fromcurrent": true,
              "mode": "immediate",
              "transition": {
               "duration": 0,
               "easing": "linear"
              }
             }
            ],
            "label": "1994",
            "method": "animate"
           },
           {
            "args": [
             [
              "1995"
             ],
             {
              "frame": {
               "duration": 0,
               "redraw": false
              },
              "fromcurrent": true,
              "mode": "immediate",
              "transition": {
               "duration": 0,
               "easing": "linear"
              }
             }
            ],
            "label": "1995",
            "method": "animate"
           },
           {
            "args": [
             [
              "1996"
             ],
             {
              "frame": {
               "duration": 0,
               "redraw": false
              },
              "fromcurrent": true,
              "mode": "immediate",
              "transition": {
               "duration": 0,
               "easing": "linear"
              }
             }
            ],
            "label": "1996",
            "method": "animate"
           },
           {
            "args": [
             [
              "1997"
             ],
             {
              "frame": {
               "duration": 0,
               "redraw": false
              },
              "fromcurrent": true,
              "mode": "immediate",
              "transition": {
               "duration": 0,
               "easing": "linear"
              }
             }
            ],
            "label": "1997",
            "method": "animate"
           },
           {
            "args": [
             [
              "1998"
             ],
             {
              "frame": {
               "duration": 0,
               "redraw": false
              },
              "fromcurrent": true,
              "mode": "immediate",
              "transition": {
               "duration": 0,
               "easing": "linear"
              }
             }
            ],
            "label": "1998",
            "method": "animate"
           },
           {
            "args": [
             [
              "1999"
             ],
             {
              "frame": {
               "duration": 0,
               "redraw": false
              },
              "fromcurrent": true,
              "mode": "immediate",
              "transition": {
               "duration": 0,
               "easing": "linear"
              }
             }
            ],
            "label": "1999",
            "method": "animate"
           },
           {
            "args": [
             [
              "2000"
             ],
             {
              "frame": {
               "duration": 0,
               "redraw": false
              },
              "fromcurrent": true,
              "mode": "immediate",
              "transition": {
               "duration": 0,
               "easing": "linear"
              }
             }
            ],
            "label": "2000",
            "method": "animate"
           },
           {
            "args": [
             [
              "2001"
             ],
             {
              "frame": {
               "duration": 0,
               "redraw": false
              },
              "fromcurrent": true,
              "mode": "immediate",
              "transition": {
               "duration": 0,
               "easing": "linear"
              }
             }
            ],
            "label": "2001",
            "method": "animate"
           },
           {
            "args": [
             [
              "2002"
             ],
             {
              "frame": {
               "duration": 0,
               "redraw": false
              },
              "fromcurrent": true,
              "mode": "immediate",
              "transition": {
               "duration": 0,
               "easing": "linear"
              }
             }
            ],
            "label": "2002",
            "method": "animate"
           },
           {
            "args": [
             [
              "2003"
             ],
             {
              "frame": {
               "duration": 0,
               "redraw": false
              },
              "fromcurrent": true,
              "mode": "immediate",
              "transition": {
               "duration": 0,
               "easing": "linear"
              }
             }
            ],
            "label": "2003",
            "method": "animate"
           },
           {
            "args": [
             [
              "2004"
             ],
             {
              "frame": {
               "duration": 0,
               "redraw": false
              },
              "fromcurrent": true,
              "mode": "immediate",
              "transition": {
               "duration": 0,
               "easing": "linear"
              }
             }
            ],
            "label": "2004",
            "method": "animate"
           },
           {
            "args": [
             [
              "2005"
             ],
             {
              "frame": {
               "duration": 0,
               "redraw": false
              },
              "fromcurrent": true,
              "mode": "immediate",
              "transition": {
               "duration": 0,
               "easing": "linear"
              }
             }
            ],
            "label": "2005",
            "method": "animate"
           },
           {
            "args": [
             [
              "2006"
             ],
             {
              "frame": {
               "duration": 0,
               "redraw": false
              },
              "fromcurrent": true,
              "mode": "immediate",
              "transition": {
               "duration": 0,
               "easing": "linear"
              }
             }
            ],
            "label": "2006",
            "method": "animate"
           },
           {
            "args": [
             [
              "2007"
             ],
             {
              "frame": {
               "duration": 0,
               "redraw": false
              },
              "fromcurrent": true,
              "mode": "immediate",
              "transition": {
               "duration": 0,
               "easing": "linear"
              }
             }
            ],
            "label": "2007",
            "method": "animate"
           },
           {
            "args": [
             [
              "2008"
             ],
             {
              "frame": {
               "duration": 0,
               "redraw": false
              },
              "fromcurrent": true,
              "mode": "immediate",
              "transition": {
               "duration": 0,
               "easing": "linear"
              }
             }
            ],
            "label": "2008",
            "method": "animate"
           },
           {
            "args": [
             [
              "2009"
             ],
             {
              "frame": {
               "duration": 0,
               "redraw": false
              },
              "fromcurrent": true,
              "mode": "immediate",
              "transition": {
               "duration": 0,
               "easing": "linear"
              }
             }
            ],
            "label": "2009",
            "method": "animate"
           },
           {
            "args": [
             [
              "2010"
             ],
             {
              "frame": {
               "duration": 0,
               "redraw": false
              },
              "fromcurrent": true,
              "mode": "immediate",
              "transition": {
               "duration": 0,
               "easing": "linear"
              }
             }
            ],
            "label": "2010",
            "method": "animate"
           },
           {
            "args": [
             [
              "2011"
             ],
             {
              "frame": {
               "duration": 0,
               "redraw": false
              },
              "fromcurrent": true,
              "mode": "immediate",
              "transition": {
               "duration": 0,
               "easing": "linear"
              }
             }
            ],
            "label": "2011",
            "method": "animate"
           },
           {
            "args": [
             [
              "2012"
             ],
             {
              "frame": {
               "duration": 0,
               "redraw": false
              },
              "fromcurrent": true,
              "mode": "immediate",
              "transition": {
               "duration": 0,
               "easing": "linear"
              }
             }
            ],
            "label": "2012",
            "method": "animate"
           },
           {
            "args": [
             [
              "2013"
             ],
             {
              "frame": {
               "duration": 0,
               "redraw": false
              },
              "fromcurrent": true,
              "mode": "immediate",
              "transition": {
               "duration": 0,
               "easing": "linear"
              }
             }
            ],
            "label": "2013",
            "method": "animate"
           },
           {
            "args": [
             [
              "2014"
             ],
             {
              "frame": {
               "duration": 0,
               "redraw": false
              },
              "fromcurrent": true,
              "mode": "immediate",
              "transition": {
               "duration": 0,
               "easing": "linear"
              }
             }
            ],
            "label": "2014",
            "method": "animate"
           },
           {
            "args": [
             [
              "2015"
             ],
             {
              "frame": {
               "duration": 0,
               "redraw": false
              },
              "fromcurrent": true,
              "mode": "immediate",
              "transition": {
               "duration": 0,
               "easing": "linear"
              }
             }
            ],
            "label": "2015",
            "method": "animate"
           },
           {
            "args": [
             [
              "2016"
             ],
             {
              "frame": {
               "duration": 0,
               "redraw": false
              },
              "fromcurrent": true,
              "mode": "immediate",
              "transition": {
               "duration": 0,
               "easing": "linear"
              }
             }
            ],
            "label": "2016",
            "method": "animate"
           },
           {
            "args": [
             [
              "2017"
             ],
             {
              "frame": {
               "duration": 0,
               "redraw": false
              },
              "fromcurrent": true,
              "mode": "immediate",
              "transition": {
               "duration": 0,
               "easing": "linear"
              }
             }
            ],
            "label": "2017",
            "method": "animate"
           }
          ],
          "x": 0.1,
          "xanchor": "left",
          "y": 0,
          "yanchor": "top"
         }
        ],
        "template": {
         "data": {
          "bar": [
           {
            "error_x": {
             "color": "#2a3f5f"
            },
            "error_y": {
             "color": "#2a3f5f"
            },
            "marker": {
             "line": {
              "color": "#E5ECF6",
              "width": 0.5
             },
             "pattern": {
              "fillmode": "overlay",
              "size": 10,
              "solidity": 0.2
             }
            },
            "type": "bar"
           }
          ],
          "barpolar": [
           {
            "marker": {
             "line": {
              "color": "#E5ECF6",
              "width": 0.5
             },
             "pattern": {
              "fillmode": "overlay",
              "size": 10,
              "solidity": 0.2
             }
            },
            "type": "barpolar"
           }
          ],
          "carpet": [
           {
            "aaxis": {
             "endlinecolor": "#2a3f5f",
             "gridcolor": "white",
             "linecolor": "white",
             "minorgridcolor": "white",
             "startlinecolor": "#2a3f5f"
            },
            "baxis": {
             "endlinecolor": "#2a3f5f",
             "gridcolor": "white",
             "linecolor": "white",
             "minorgridcolor": "white",
             "startlinecolor": "#2a3f5f"
            },
            "type": "carpet"
           }
          ],
          "choropleth": [
           {
            "colorbar": {
             "outlinewidth": 0,
             "ticks": ""
            },
            "type": "choropleth"
           }
          ],
          "contour": [
           {
            "colorbar": {
             "outlinewidth": 0,
             "ticks": ""
            },
            "colorscale": [
             [
              0,
              "#0d0887"
             ],
             [
              0.1111111111111111,
              "#46039f"
             ],
             [
              0.2222222222222222,
              "#7201a8"
             ],
             [
              0.3333333333333333,
              "#9c179e"
             ],
             [
              0.4444444444444444,
              "#bd3786"
             ],
             [
              0.5555555555555556,
              "#d8576b"
             ],
             [
              0.6666666666666666,
              "#ed7953"
             ],
             [
              0.7777777777777778,
              "#fb9f3a"
             ],
             [
              0.8888888888888888,
              "#fdca26"
             ],
             [
              1,
              "#f0f921"
             ]
            ],
            "type": "contour"
           }
          ],
          "contourcarpet": [
           {
            "colorbar": {
             "outlinewidth": 0,
             "ticks": ""
            },
            "type": "contourcarpet"
           }
          ],
          "heatmap": [
           {
            "colorbar": {
             "outlinewidth": 0,
             "ticks": ""
            },
            "colorscale": [
             [
              0,
              "#0d0887"
             ],
             [
              0.1111111111111111,
              "#46039f"
             ],
             [
              0.2222222222222222,
              "#7201a8"
             ],
             [
              0.3333333333333333,
              "#9c179e"
             ],
             [
              0.4444444444444444,
              "#bd3786"
             ],
             [
              0.5555555555555556,
              "#d8576b"
             ],
             [
              0.6666666666666666,
              "#ed7953"
             ],
             [
              0.7777777777777778,
              "#fb9f3a"
             ],
             [
              0.8888888888888888,
              "#fdca26"
             ],
             [
              1,
              "#f0f921"
             ]
            ],
            "type": "heatmap"
           }
          ],
          "heatmapgl": [
           {
            "colorbar": {
             "outlinewidth": 0,
             "ticks": ""
            },
            "colorscale": [
             [
              0,
              "#0d0887"
             ],
             [
              0.1111111111111111,
              "#46039f"
             ],
             [
              0.2222222222222222,
              "#7201a8"
             ],
             [
              0.3333333333333333,
              "#9c179e"
             ],
             [
              0.4444444444444444,
              "#bd3786"
             ],
             [
              0.5555555555555556,
              "#d8576b"
             ],
             [
              0.6666666666666666,
              "#ed7953"
             ],
             [
              0.7777777777777778,
              "#fb9f3a"
             ],
             [
              0.8888888888888888,
              "#fdca26"
             ],
             [
              1,
              "#f0f921"
             ]
            ],
            "type": "heatmapgl"
           }
          ],
          "histogram": [
           {
            "marker": {
             "pattern": {
              "fillmode": "overlay",
              "size": 10,
              "solidity": 0.2
             }
            },
            "type": "histogram"
           }
          ],
          "histogram2d": [
           {
            "colorbar": {
             "outlinewidth": 0,
             "ticks": ""
            },
            "colorscale": [
             [
              0,
              "#0d0887"
             ],
             [
              0.1111111111111111,
              "#46039f"
             ],
             [
              0.2222222222222222,
              "#7201a8"
             ],
             [
              0.3333333333333333,
              "#9c179e"
             ],
             [
              0.4444444444444444,
              "#bd3786"
             ],
             [
              0.5555555555555556,
              "#d8576b"
             ],
             [
              0.6666666666666666,
              "#ed7953"
             ],
             [
              0.7777777777777778,
              "#fb9f3a"
             ],
             [
              0.8888888888888888,
              "#fdca26"
             ],
             [
              1,
              "#f0f921"
             ]
            ],
            "type": "histogram2d"
           }
          ],
          "histogram2dcontour": [
           {
            "colorbar": {
             "outlinewidth": 0,
             "ticks": ""
            },
            "colorscale": [
             [
              0,
              "#0d0887"
             ],
             [
              0.1111111111111111,
              "#46039f"
             ],
             [
              0.2222222222222222,
              "#7201a8"
             ],
             [
              0.3333333333333333,
              "#9c179e"
             ],
             [
              0.4444444444444444,
              "#bd3786"
             ],
             [
              0.5555555555555556,
              "#d8576b"
             ],
             [
              0.6666666666666666,
              "#ed7953"
             ],
             [
              0.7777777777777778,
              "#fb9f3a"
             ],
             [
              0.8888888888888888,
              "#fdca26"
             ],
             [
              1,
              "#f0f921"
             ]
            ],
            "type": "histogram2dcontour"
           }
          ],
          "mesh3d": [
           {
            "colorbar": {
             "outlinewidth": 0,
             "ticks": ""
            },
            "type": "mesh3d"
           }
          ],
          "parcoords": [
           {
            "line": {
             "colorbar": {
              "outlinewidth": 0,
              "ticks": ""
             }
            },
            "type": "parcoords"
           }
          ],
          "pie": [
           {
            "automargin": true,
            "type": "pie"
           }
          ],
          "scatter": [
           {
            "fillpattern": {
             "fillmode": "overlay",
             "size": 10,
             "solidity": 0.2
            },
            "type": "scatter"
           }
          ],
          "scatter3d": [
           {
            "line": {
             "colorbar": {
              "outlinewidth": 0,
              "ticks": ""
             }
            },
            "marker": {
             "colorbar": {
              "outlinewidth": 0,
              "ticks": ""
             }
            },
            "type": "scatter3d"
           }
          ],
          "scattercarpet": [
           {
            "marker": {
             "colorbar": {
              "outlinewidth": 0,
              "ticks": ""
             }
            },
            "type": "scattercarpet"
           }
          ],
          "scattergeo": [
           {
            "marker": {
             "colorbar": {
              "outlinewidth": 0,
              "ticks": ""
             }
            },
            "type": "scattergeo"
           }
          ],
          "scattergl": [
           {
            "marker": {
             "colorbar": {
              "outlinewidth": 0,
              "ticks": ""
             }
            },
            "type": "scattergl"
           }
          ],
          "scattermapbox": [
           {
            "marker": {
             "colorbar": {
              "outlinewidth": 0,
              "ticks": ""
             }
            },
            "type": "scattermapbox"
           }
          ],
          "scatterpolar": [
           {
            "marker": {
             "colorbar": {
              "outlinewidth": 0,
              "ticks": ""
             }
            },
            "type": "scatterpolar"
           }
          ],
          "scatterpolargl": [
           {
            "marker": {
             "colorbar": {
              "outlinewidth": 0,
              "ticks": ""
             }
            },
            "type": "scatterpolargl"
           }
          ],
          "scatterternary": [
           {
            "marker": {
             "colorbar": {
              "outlinewidth": 0,
              "ticks": ""
             }
            },
            "type": "scatterternary"
           }
          ],
          "surface": [
           {
            "colorbar": {
             "outlinewidth": 0,
             "ticks": ""
            },
            "colorscale": [
             [
              0,
              "#0d0887"
             ],
             [
              0.1111111111111111,
              "#46039f"
             ],
             [
              0.2222222222222222,
              "#7201a8"
             ],
             [
              0.3333333333333333,
              "#9c179e"
             ],
             [
              0.4444444444444444,
              "#bd3786"
             ],
             [
              0.5555555555555556,
              "#d8576b"
             ],
             [
              0.6666666666666666,
              "#ed7953"
             ],
             [
              0.7777777777777778,
              "#fb9f3a"
             ],
             [
              0.8888888888888888,
              "#fdca26"
             ],
             [
              1,
              "#f0f921"
             ]
            ],
            "type": "surface"
           }
          ],
          "table": [
           {
            "cells": {
             "fill": {
              "color": "#EBF0F8"
             },
             "line": {
              "color": "white"
             }
            },
            "header": {
             "fill": {
              "color": "#C8D4E3"
             },
             "line": {
              "color": "white"
             }
            },
            "type": "table"
           }
          ]
         },
         "layout": {
          "annotationdefaults": {
           "arrowcolor": "#2a3f5f",
           "arrowhead": 0,
           "arrowwidth": 1
          },
          "autotypenumbers": "strict",
          "coloraxis": {
           "colorbar": {
            "outlinewidth": 0,
            "ticks": ""
           }
          },
          "colorscale": {
           "diverging": [
            [
             0,
             "#8e0152"
            ],
            [
             0.1,
             "#c51b7d"
            ],
            [
             0.2,
             "#de77ae"
            ],
            [
             0.3,
             "#f1b6da"
            ],
            [
             0.4,
             "#fde0ef"
            ],
            [
             0.5,
             "#f7f7f7"
            ],
            [
             0.6,
             "#e6f5d0"
            ],
            [
             0.7,
             "#b8e186"
            ],
            [
             0.8,
             "#7fbc41"
            ],
            [
             0.9,
             "#4d9221"
            ],
            [
             1,
             "#276419"
            ]
           ],
           "sequential": [
            [
             0,
             "#0d0887"
            ],
            [
             0.1111111111111111,
             "#46039f"
            ],
            [
             0.2222222222222222,
             "#7201a8"
            ],
            [
             0.3333333333333333,
             "#9c179e"
            ],
            [
             0.4444444444444444,
             "#bd3786"
            ],
            [
             0.5555555555555556,
             "#d8576b"
            ],
            [
             0.6666666666666666,
             "#ed7953"
            ],
            [
             0.7777777777777778,
             "#fb9f3a"
            ],
            [
             0.8888888888888888,
             "#fdca26"
            ],
            [
             1,
             "#f0f921"
            ]
           ],
           "sequentialminus": [
            [
             0,
             "#0d0887"
            ],
            [
             0.1111111111111111,
             "#46039f"
            ],
            [
             0.2222222222222222,
             "#7201a8"
            ],
            [
             0.3333333333333333,
             "#9c179e"
            ],
            [
             0.4444444444444444,
             "#bd3786"
            ],
            [
             0.5555555555555556,
             "#d8576b"
            ],
            [
             0.6666666666666666,
             "#ed7953"
            ],
            [
             0.7777777777777778,
             "#fb9f3a"
            ],
            [
             0.8888888888888888,
             "#fdca26"
            ],
            [
             1,
             "#f0f921"
            ]
           ]
          },
          "colorway": [
           "#636efa",
           "#EF553B",
           "#00cc96",
           "#ab63fa",
           "#FFA15A",
           "#19d3f3",
           "#FF6692",
           "#B6E880",
           "#FF97FF",
           "#FECB52"
          ],
          "font": {
           "color": "#2a3f5f"
          },
          "geo": {
           "bgcolor": "white",
           "lakecolor": "white",
           "landcolor": "#E5ECF6",
           "showlakes": true,
           "showland": true,
           "subunitcolor": "white"
          },
          "hoverlabel": {
           "align": "left"
          },
          "hovermode": "closest",
          "mapbox": {
           "style": "light"
          },
          "paper_bgcolor": "white",
          "plot_bgcolor": "#E5ECF6",
          "polar": {
           "angularaxis": {
            "gridcolor": "white",
            "linecolor": "white",
            "ticks": ""
           },
           "bgcolor": "#E5ECF6",
           "radialaxis": {
            "gridcolor": "white",
            "linecolor": "white",
            "ticks": ""
           }
          },
          "scene": {
           "xaxis": {
            "backgroundcolor": "#E5ECF6",
            "gridcolor": "white",
            "gridwidth": 2,
            "linecolor": "white",
            "showbackground": true,
            "ticks": "",
            "zerolinecolor": "white"
           },
           "yaxis": {
            "backgroundcolor": "#E5ECF6",
            "gridcolor": "white",
            "gridwidth": 2,
            "linecolor": "white",
            "showbackground": true,
            "ticks": "",
            "zerolinecolor": "white"
           },
           "zaxis": {
            "backgroundcolor": "#E5ECF6",
            "gridcolor": "white",
            "gridwidth": 2,
            "linecolor": "white",
            "showbackground": true,
            "ticks": "",
            "zerolinecolor": "white"
           }
          },
          "shapedefaults": {
           "line": {
            "color": "#2a3f5f"
           }
          },
          "ternary": {
           "aaxis": {
            "gridcolor": "white",
            "linecolor": "white",
            "ticks": ""
           },
           "baxis": {
            "gridcolor": "white",
            "linecolor": "white",
            "ticks": ""
           },
           "bgcolor": "#E5ECF6",
           "caxis": {
            "gridcolor": "white",
            "linecolor": "white",
            "ticks": ""
           }
          },
          "title": {
           "x": 0.05
          },
          "xaxis": {
           "automargin": true,
           "gridcolor": "white",
           "linecolor": "white",
           "ticks": "",
           "title": {
            "standoff": 15
           },
           "zerolinecolor": "white",
           "zerolinewidth": 2
          },
          "yaxis": {
           "automargin": true,
           "gridcolor": "white",
           "linecolor": "white",
           "ticks": "",
           "title": {
            "standoff": 15
           },
           "zerolinecolor": "white",
           "zerolinewidth": 2
          }
         }
        },
        "updatemenus": [
         {
          "buttons": [
           {
            "args": [
             null,
             {
              "frame": {
               "duration": 500,
               "redraw": false
              },
              "fromcurrent": true,
              "mode": "immediate",
              "transition": {
               "duration": 500,
               "easing": "linear"
              }
             }
            ],
            "label": "&#9654;",
            "method": "animate"
           },
           {
            "args": [
             [
              null
             ],
             {
              "frame": {
               "duration": 0,
               "redraw": false
              },
              "fromcurrent": true,
              "mode": "immediate",
              "transition": {
               "duration": 0,
               "easing": "linear"
              }
             }
            ],
            "label": "&#9724;",
            "method": "animate"
           }
          ],
          "direction": "left",
          "pad": {
           "r": 10,
           "t": 70
          },
          "showactive": false,
          "type": "buttons",
          "x": 0.1,
          "xanchor": "right",
          "y": 0,
          "yanchor": "top"
         }
        ],
        "xaxis": {
         "anchor": "y",
         "domain": [
          0,
          1
         ],
         "title": {
          "text": "Month"
         }
        },
        "yaxis": {
         "anchor": "x",
         "domain": [
          0,
          1
         ],
         "title": {
          "text": "Temprature"
         }
        }
       }
      }
     },
     "metadata": {},
     "output_type": "display_data"
    }
   ],
   "source": [
    "px.scatter(df1, 'Month', 'Temprature', size='Temprature', animation_frame='Year')"
   ]
  },
  {
   "cell_type": "markdown",
   "metadata": {
    "vscode": {
     "languageId": "html"
    }
   },
   "source": [
    "<img src=\"images/1.png\">"
   ]
  },
  {
   "cell_type": "code",
   "execution_count": 24,
   "metadata": {},
   "outputs": [
    {
     "data": {
      "text/plain": [
       "0.9608460712201237"
      ]
     },
     "execution_count": 24,
     "metadata": {},
     "output_type": "execute_result"
    }
   ],
   "source": [
    "# I am using decision tree regressor for prediction as the data does not actually have a linear trend.\n",
    "from sklearn.tree import DecisionTreeRegressor\n",
    "from sklearn.model_selection import train_test_split \n",
    "from sklearn.metrics import r2_score \n",
    "\n",
    "df2 = df1[['Year', 'Month', 'Temprature']].copy()\n",
    "df2 = pd.get_dummies(df2)\n",
    "y = df2[['Temprature']]\n",
    "x = df2.drop(columns='Temprature')\n",
    "\n",
    "dtr = DecisionTreeRegressor()\n",
    "train_x, test_x, train_y, test_y = train_test_split(x,y,test_size=0.3)\n",
    "dtr.fit(train_x, train_y)\n",
    "pred = dtr.predict(test_x)\n",
    "r2_score(test_y, pred)"
   ]
  },
  {
   "cell_type": "code",
   "execution_count": 27,
   "metadata": {},
   "outputs": [
    {
     "data": {
      "text/html": [
       "<div>\n",
       "<style scoped>\n",
       "    .dataframe tbody tr th:only-of-type {\n",
       "        vertical-align: middle;\n",
       "    }\n",
       "\n",
       "    .dataframe tbody tr th {\n",
       "        vertical-align: top;\n",
       "    }\n",
       "\n",
       "    .dataframe thead th {\n",
       "        text-align: right;\n",
       "    }\n",
       "</style>\n",
       "<table border=\"1\" class=\"dataframe\">\n",
       "  <thead>\n",
       "    <tr style=\"text-align: right;\">\n",
       "      <th></th>\n",
       "      <th>Month</th>\n",
       "      <th>Temprature</th>\n",
       "      <th>Year</th>\n",
       "    </tr>\n",
       "  </thead>\n",
       "  <tbody>\n",
       "    <tr>\n",
       "      <th>0</th>\n",
       "      <td>JAN</td>\n",
       "      <td>20.59</td>\n",
       "      <td>2018</td>\n",
       "    </tr>\n",
       "    <tr>\n",
       "      <th>1</th>\n",
       "      <td>FEB</td>\n",
       "      <td>23.08</td>\n",
       "      <td>2018</td>\n",
       "    </tr>\n",
       "    <tr>\n",
       "      <th>2</th>\n",
       "      <td>MAR</td>\n",
       "      <td>25.58</td>\n",
       "      <td>2018</td>\n",
       "    </tr>\n",
       "    <tr>\n",
       "      <th>3</th>\n",
       "      <td>APR</td>\n",
       "      <td>29.17</td>\n",
       "      <td>2018</td>\n",
       "    </tr>\n",
       "    <tr>\n",
       "      <th>4</th>\n",
       "      <td>MAY</td>\n",
       "      <td>30.47</td>\n",
       "      <td>2018</td>\n",
       "    </tr>\n",
       "    <tr>\n",
       "      <th>5</th>\n",
       "      <td>JUN</td>\n",
       "      <td>29.44</td>\n",
       "      <td>2018</td>\n",
       "    </tr>\n",
       "    <tr>\n",
       "      <th>6</th>\n",
       "      <td>JUL</td>\n",
       "      <td>28.31</td>\n",
       "      <td>2018</td>\n",
       "    </tr>\n",
       "    <tr>\n",
       "      <th>7</th>\n",
       "      <td>AUG</td>\n",
       "      <td>28.12</td>\n",
       "      <td>2018</td>\n",
       "    </tr>\n",
       "    <tr>\n",
       "      <th>8</th>\n",
       "      <td>SEP</td>\n",
       "      <td>27.72</td>\n",
       "      <td>2018</td>\n",
       "    </tr>\n",
       "    <tr>\n",
       "      <th>9</th>\n",
       "      <td>OCT</td>\n",
       "      <td>27.24</td>\n",
       "      <td>2018</td>\n",
       "    </tr>\n",
       "    <tr>\n",
       "      <th>10</th>\n",
       "      <td>NOV</td>\n",
       "      <td>23.92</td>\n",
       "      <td>2018</td>\n",
       "    </tr>\n",
       "    <tr>\n",
       "      <th>11</th>\n",
       "      <td>DEC</td>\n",
       "      <td>21.47</td>\n",
       "      <td>2018</td>\n",
       "    </tr>\n",
       "  </tbody>\n",
       "</table>\n",
       "</div>"
      ],
      "text/plain": [
       "   Month  Temprature  Year\n",
       "0    JAN       20.59  2018\n",
       "1    FEB       23.08  2018\n",
       "2    MAR       25.58  2018\n",
       "3    APR       29.17  2018\n",
       "4    MAY       30.47  2018\n",
       "5    JUN       29.44  2018\n",
       "6    JUL       28.31  2018\n",
       "7    AUG       28.12  2018\n",
       "8    SEP       27.72  2018\n",
       "9    OCT       27.24  2018\n",
       "10   NOV       23.92  2018\n",
       "11   DEC       21.47  2018"
      ]
     },
     "execution_count": 27,
     "metadata": {},
     "output_type": "execute_result"
    }
   ],
   "source": [
    "next_Year = df1[df1['Year']==2017][['Year', 'Month']]\n",
    "next_Year.Year.replace(2017,2018, inplace=True)\n",
    "next_Year= pd.get_dummies(next_Year)\n",
    "temp_2018 = dtr.predict(next_Year)\n",
    "\n",
    "temp_2018 = {'Month':df1['Month'].unique(), 'Temprature':temp_2018}\n",
    "temp_2018=pd.DataFrame(temp_2018)\n",
    "temp_2018['Year'] = 2018\n",
    "temp_2018"
   ]
  },
  {
   "cell_type": "code",
   "execution_count": 29,
   "metadata": {},
   "outputs": [
    {
     "data": {
      "application/vnd.plotly.v1+json": {
       "config": {
        "plotlyServerURL": "https://plot.ly"
       },
       "data": [
        {
         "mode": "lines",
         "name": "Yearly Mean Temprature",
         "type": "scatter",
         "x": [
          1901,
          1902,
          1903,
          1904,
          1905,
          1906,
          1907,
          1908,
          1909,
          1910,
          1911,
          1912,
          1913,
          1914,
          1915,
          1916,
          1917,
          1918,
          1919,
          1920,
          1921,
          1922,
          1923,
          1924,
          1925,
          1926,
          1927,
          1928,
          1929,
          1930,
          1931,
          1932,
          1933,
          1934,
          1935,
          1936,
          1937,
          1938,
          1939,
          1940,
          1941,
          1942,
          1943,
          1944,
          1945,
          1946,
          1947,
          1948,
          1949,
          1950,
          1951,
          1952,
          1953,
          1954,
          1955,
          1956,
          1957,
          1958,
          1959,
          1960,
          1961,
          1962,
          1963,
          1964,
          1965,
          1966,
          1967,
          1968,
          1969,
          1970,
          1971,
          1972,
          1973,
          1974,
          1975,
          1976,
          1977,
          1978,
          1979,
          1980,
          1981,
          1982,
          1983,
          1984,
          1985,
          1986,
          1987,
          1988,
          1989,
          1990,
          1991,
          1992,
          1993,
          1994,
          1995,
          1996,
          1997,
          1998,
          1999,
          2000,
          2001,
          2002,
          2003,
          2004,
          2005,
          2006,
          2007,
          2008,
          2009,
          2010,
          2011,
          2012,
          2013,
          2014,
          2015,
          2016,
          2017,
          2018
         ],
         "y": [
          24.224166666666665,
          24.326666666666668,
          23.980833333333333,
          23.849999999999998,
          23.9325,
          24.099999999999998,
          24.007500000000004,
          23.95,
          23.778333333333332,
          23.760833333333334,
          23.954166666666666,
          24.105833333333333,
          23.882499999999997,
          24.034166666666664,
          24.28833333333333,
          24.075,
          23.570833333333336,
          23.825833333333332,
          24.0125,
          23.90833333333333,
          24.584166666666665,
          24.224166666666665,
          24.0475,
          24.140833333333333,
          23.95,
          24.054999999999996,
          23.939999999999998,
          24.290000000000003,
          24.080833333333334,
          23.930833333333336,
          24.435833333333335,
          24.2075,
          23.915833333333335,
          24.131666666666664,
          24.0625,
          24.124166666666667,
          23.980833333333333,
          23.983333333333334,
          24.010833333333334,
          24.045833333333334,
          24.659166666666664,
          24.2925,
          23.949166666666667,
          24.040833333333335,
          23.915833333333335,
          24.418333333333333,
          24.358333333333334,
          24.103333333333335,
          24.08583333333333,
          23.735,
          24.246666666666666,
          24.344166666666666,
          24.58,
          24.126666666666665,
          23.9675,
          23.950833333333335,
          23.9675,
          24.621666666666666,
          24.294166666666666,
          24.285833333333333,
          24.002499999999998,
          24.044166666666666,
          24.14833333333333,
          24.094166666666666,
          24.064999999999998,
          24.355,
          24.110833333333332,
          23.940833333333334,
          24.4575,
          24.265,
          23.909166666666668,
          24.10166666666667,
          24.405833333333334,
          24.000833333333333,
          23.74416666666667,
          24.0675,
          24.349999999999998,
          24.238333333333333,
          24.566666666666666,
          24.5475,
          24.265833333333333,
          24.153333333333332,
          24.11916666666667,
          24.254166666666666,
          24.444166666666664,
          24.205833333333334,
          24.570833333333336,
          24.421666666666667,
          24.03333333333333,
          24.218333333333334,
          24.280833333333334,
          24.147499999999997,
          24.429166666666664,
          24.464166666666667,
          25.28,
          24.6575,
          24.254166666666666,
          24.695000000000004,
          24.660833333333333,
          24.576666666666668,
          24.814166666666665,
          25.031666666666666,
          24.700000000000003,
          24.799166666666668,
          24.576666666666668,
          25.0125,
          24.7675,
          24.6125,
          25.1125,
          25.189166666666665,
          24.710833333333337,
          24.67833333333333,
          24.819999999999997,
          24.7325,
          24.912499999999998,
          26.454166666666666,
          26.291666666666668,
          26.25916666666667
         ]
        },
        {
         "mode": "markers",
         "name": "Yearly Mean Temprature",
         "type": "scatter",
         "x": [
          1901,
          1902,
          1903,
          1904,
          1905,
          1906,
          1907,
          1908,
          1909,
          1910,
          1911,
          1912,
          1913,
          1914,
          1915,
          1916,
          1917,
          1918,
          1919,
          1920,
          1921,
          1922,
          1923,
          1924,
          1925,
          1926,
          1927,
          1928,
          1929,
          1930,
          1931,
          1932,
          1933,
          1934,
          1935,
          1936,
          1937,
          1938,
          1939,
          1940,
          1941,
          1942,
          1943,
          1944,
          1945,
          1946,
          1947,
          1948,
          1949,
          1950,
          1951,
          1952,
          1953,
          1954,
          1955,
          1956,
          1957,
          1958,
          1959,
          1960,
          1961,
          1962,
          1963,
          1964,
          1965,
          1966,
          1967,
          1968,
          1969,
          1970,
          1971,
          1972,
          1973,
          1974,
          1975,
          1976,
          1977,
          1978,
          1979,
          1980,
          1981,
          1982,
          1983,
          1984,
          1985,
          1986,
          1987,
          1988,
          1989,
          1990,
          1991,
          1992,
          1993,
          1994,
          1995,
          1996,
          1997,
          1998,
          1999,
          2000,
          2001,
          2002,
          2003,
          2004,
          2005,
          2006,
          2007,
          2008,
          2009,
          2010,
          2011,
          2012,
          2013,
          2014,
          2015,
          2016,
          2017,
          2018
         ],
         "y": [
          24.224166666666665,
          24.326666666666668,
          23.980833333333333,
          23.849999999999998,
          23.9325,
          24.099999999999998,
          24.007500000000004,
          23.95,
          23.778333333333332,
          23.760833333333334,
          23.954166666666666,
          24.105833333333333,
          23.882499999999997,
          24.034166666666664,
          24.28833333333333,
          24.075,
          23.570833333333336,
          23.825833333333332,
          24.0125,
          23.90833333333333,
          24.584166666666665,
          24.224166666666665,
          24.0475,
          24.140833333333333,
          23.95,
          24.054999999999996,
          23.939999999999998,
          24.290000000000003,
          24.080833333333334,
          23.930833333333336,
          24.435833333333335,
          24.2075,
          23.915833333333335,
          24.131666666666664,
          24.0625,
          24.124166666666667,
          23.980833333333333,
          23.983333333333334,
          24.010833333333334,
          24.045833333333334,
          24.659166666666664,
          24.2925,
          23.949166666666667,
          24.040833333333335,
          23.915833333333335,
          24.418333333333333,
          24.358333333333334,
          24.103333333333335,
          24.08583333333333,
          23.735,
          24.246666666666666,
          24.344166666666666,
          24.58,
          24.126666666666665,
          23.9675,
          23.950833333333335,
          23.9675,
          24.621666666666666,
          24.294166666666666,
          24.285833333333333,
          24.002499999999998,
          24.044166666666666,
          24.14833333333333,
          24.094166666666666,
          24.064999999999998,
          24.355,
          24.110833333333332,
          23.940833333333334,
          24.4575,
          24.265,
          23.909166666666668,
          24.10166666666667,
          24.405833333333334,
          24.000833333333333,
          23.74416666666667,
          24.0675,
          24.349999999999998,
          24.238333333333333,
          24.566666666666666,
          24.5475,
          24.265833333333333,
          24.153333333333332,
          24.11916666666667,
          24.254166666666666,
          24.444166666666664,
          24.205833333333334,
          24.570833333333336,
          24.421666666666667,
          24.03333333333333,
          24.218333333333334,
          24.280833333333334,
          24.147499999999997,
          24.429166666666664,
          24.464166666666667,
          25.28,
          24.6575,
          24.254166666666666,
          24.695000000000004,
          24.660833333333333,
          24.576666666666668,
          24.814166666666665,
          25.031666666666666,
          24.700000000000003,
          24.799166666666668,
          24.576666666666668,
          25.0125,
          24.7675,
          24.6125,
          25.1125,
          25.189166666666665,
          24.710833333333337,
          24.67833333333333,
          24.819999999999997,
          24.7325,
          24.912499999999998,
          26.454166666666666,
          26.291666666666668,
          26.25916666666667
         ]
        }
       ],
       "layout": {
        "template": {
         "data": {
          "bar": [
           {
            "error_x": {
             "color": "#2a3f5f"
            },
            "error_y": {
             "color": "#2a3f5f"
            },
            "marker": {
             "line": {
              "color": "#E5ECF6",
              "width": 0.5
             },
             "pattern": {
              "fillmode": "overlay",
              "size": 10,
              "solidity": 0.2
             }
            },
            "type": "bar"
           }
          ],
          "barpolar": [
           {
            "marker": {
             "line": {
              "color": "#E5ECF6",
              "width": 0.5
             },
             "pattern": {
              "fillmode": "overlay",
              "size": 10,
              "solidity": 0.2
             }
            },
            "type": "barpolar"
           }
          ],
          "carpet": [
           {
            "aaxis": {
             "endlinecolor": "#2a3f5f",
             "gridcolor": "white",
             "linecolor": "white",
             "minorgridcolor": "white",
             "startlinecolor": "#2a3f5f"
            },
            "baxis": {
             "endlinecolor": "#2a3f5f",
             "gridcolor": "white",
             "linecolor": "white",
             "minorgridcolor": "white",
             "startlinecolor": "#2a3f5f"
            },
            "type": "carpet"
           }
          ],
          "choropleth": [
           {
            "colorbar": {
             "outlinewidth": 0,
             "ticks": ""
            },
            "type": "choropleth"
           }
          ],
          "contour": [
           {
            "colorbar": {
             "outlinewidth": 0,
             "ticks": ""
            },
            "colorscale": [
             [
              0,
              "#0d0887"
             ],
             [
              0.1111111111111111,
              "#46039f"
             ],
             [
              0.2222222222222222,
              "#7201a8"
             ],
             [
              0.3333333333333333,
              "#9c179e"
             ],
             [
              0.4444444444444444,
              "#bd3786"
             ],
             [
              0.5555555555555556,
              "#d8576b"
             ],
             [
              0.6666666666666666,
              "#ed7953"
             ],
             [
              0.7777777777777778,
              "#fb9f3a"
             ],
             [
              0.8888888888888888,
              "#fdca26"
             ],
             [
              1,
              "#f0f921"
             ]
            ],
            "type": "contour"
           }
          ],
          "contourcarpet": [
           {
            "colorbar": {
             "outlinewidth": 0,
             "ticks": ""
            },
            "type": "contourcarpet"
           }
          ],
          "heatmap": [
           {
            "colorbar": {
             "outlinewidth": 0,
             "ticks": ""
            },
            "colorscale": [
             [
              0,
              "#0d0887"
             ],
             [
              0.1111111111111111,
              "#46039f"
             ],
             [
              0.2222222222222222,
              "#7201a8"
             ],
             [
              0.3333333333333333,
              "#9c179e"
             ],
             [
              0.4444444444444444,
              "#bd3786"
             ],
             [
              0.5555555555555556,
              "#d8576b"
             ],
             [
              0.6666666666666666,
              "#ed7953"
             ],
             [
              0.7777777777777778,
              "#fb9f3a"
             ],
             [
              0.8888888888888888,
              "#fdca26"
             ],
             [
              1,
              "#f0f921"
             ]
            ],
            "type": "heatmap"
           }
          ],
          "heatmapgl": [
           {
            "colorbar": {
             "outlinewidth": 0,
             "ticks": ""
            },
            "colorscale": [
             [
              0,
              "#0d0887"
             ],
             [
              0.1111111111111111,
              "#46039f"
             ],
             [
              0.2222222222222222,
              "#7201a8"
             ],
             [
              0.3333333333333333,
              "#9c179e"
             ],
             [
              0.4444444444444444,
              "#bd3786"
             ],
             [
              0.5555555555555556,
              "#d8576b"
             ],
             [
              0.6666666666666666,
              "#ed7953"
             ],
             [
              0.7777777777777778,
              "#fb9f3a"
             ],
             [
              0.8888888888888888,
              "#fdca26"
             ],
             [
              1,
              "#f0f921"
             ]
            ],
            "type": "heatmapgl"
           }
          ],
          "histogram": [
           {
            "marker": {
             "pattern": {
              "fillmode": "overlay",
              "size": 10,
              "solidity": 0.2
             }
            },
            "type": "histogram"
           }
          ],
          "histogram2d": [
           {
            "colorbar": {
             "outlinewidth": 0,
             "ticks": ""
            },
            "colorscale": [
             [
              0,
              "#0d0887"
             ],
             [
              0.1111111111111111,
              "#46039f"
             ],
             [
              0.2222222222222222,
              "#7201a8"
             ],
             [
              0.3333333333333333,
              "#9c179e"
             ],
             [
              0.4444444444444444,
              "#bd3786"
             ],
             [
              0.5555555555555556,
              "#d8576b"
             ],
             [
              0.6666666666666666,
              "#ed7953"
             ],
             [
              0.7777777777777778,
              "#fb9f3a"
             ],
             [
              0.8888888888888888,
              "#fdca26"
             ],
             [
              1,
              "#f0f921"
             ]
            ],
            "type": "histogram2d"
           }
          ],
          "histogram2dcontour": [
           {
            "colorbar": {
             "outlinewidth": 0,
             "ticks": ""
            },
            "colorscale": [
             [
              0,
              "#0d0887"
             ],
             [
              0.1111111111111111,
              "#46039f"
             ],
             [
              0.2222222222222222,
              "#7201a8"
             ],
             [
              0.3333333333333333,
              "#9c179e"
             ],
             [
              0.4444444444444444,
              "#bd3786"
             ],
             [
              0.5555555555555556,
              "#d8576b"
             ],
             [
              0.6666666666666666,
              "#ed7953"
             ],
             [
              0.7777777777777778,
              "#fb9f3a"
             ],
             [
              0.8888888888888888,
              "#fdca26"
             ],
             [
              1,
              "#f0f921"
             ]
            ],
            "type": "histogram2dcontour"
           }
          ],
          "mesh3d": [
           {
            "colorbar": {
             "outlinewidth": 0,
             "ticks": ""
            },
            "type": "mesh3d"
           }
          ],
          "parcoords": [
           {
            "line": {
             "colorbar": {
              "outlinewidth": 0,
              "ticks": ""
             }
            },
            "type": "parcoords"
           }
          ],
          "pie": [
           {
            "automargin": true,
            "type": "pie"
           }
          ],
          "scatter": [
           {
            "fillpattern": {
             "fillmode": "overlay",
             "size": 10,
             "solidity": 0.2
            },
            "type": "scatter"
           }
          ],
          "scatter3d": [
           {
            "line": {
             "colorbar": {
              "outlinewidth": 0,
              "ticks": ""
             }
            },
            "marker": {
             "colorbar": {
              "outlinewidth": 0,
              "ticks": ""
             }
            },
            "type": "scatter3d"
           }
          ],
          "scattercarpet": [
           {
            "marker": {
             "colorbar": {
              "outlinewidth": 0,
              "ticks": ""
             }
            },
            "type": "scattercarpet"
           }
          ],
          "scattergeo": [
           {
            "marker": {
             "colorbar": {
              "outlinewidth": 0,
              "ticks": ""
             }
            },
            "type": "scattergeo"
           }
          ],
          "scattergl": [
           {
            "marker": {
             "colorbar": {
              "outlinewidth": 0,
              "ticks": ""
             }
            },
            "type": "scattergl"
           }
          ],
          "scattermapbox": [
           {
            "marker": {
             "colorbar": {
              "outlinewidth": 0,
              "ticks": ""
             }
            },
            "type": "scattermapbox"
           }
          ],
          "scatterpolar": [
           {
            "marker": {
             "colorbar": {
              "outlinewidth": 0,
              "ticks": ""
             }
            },
            "type": "scatterpolar"
           }
          ],
          "scatterpolargl": [
           {
            "marker": {
             "colorbar": {
              "outlinewidth": 0,
              "ticks": ""
             }
            },
            "type": "scatterpolargl"
           }
          ],
          "scatterternary": [
           {
            "marker": {
             "colorbar": {
              "outlinewidth": 0,
              "ticks": ""
             }
            },
            "type": "scatterternary"
           }
          ],
          "surface": [
           {
            "colorbar": {
             "outlinewidth": 0,
             "ticks": ""
            },
            "colorscale": [
             [
              0,
              "#0d0887"
             ],
             [
              0.1111111111111111,
              "#46039f"
             ],
             [
              0.2222222222222222,
              "#7201a8"
             ],
             [
              0.3333333333333333,
              "#9c179e"
             ],
             [
              0.4444444444444444,
              "#bd3786"
             ],
             [
              0.5555555555555556,
              "#d8576b"
             ],
             [
              0.6666666666666666,
              "#ed7953"
             ],
             [
              0.7777777777777778,
              "#fb9f3a"
             ],
             [
              0.8888888888888888,
              "#fdca26"
             ],
             [
              1,
              "#f0f921"
             ]
            ],
            "type": "surface"
           }
          ],
          "table": [
           {
            "cells": {
             "fill": {
              "color": "#EBF0F8"
             },
             "line": {
              "color": "white"
             }
            },
            "header": {
             "fill": {
              "color": "#C8D4E3"
             },
             "line": {
              "color": "white"
             }
            },
            "type": "table"
           }
          ]
         },
         "layout": {
          "annotationdefaults": {
           "arrowcolor": "#2a3f5f",
           "arrowhead": 0,
           "arrowwidth": 1
          },
          "autotypenumbers": "strict",
          "coloraxis": {
           "colorbar": {
            "outlinewidth": 0,
            "ticks": ""
           }
          },
          "colorscale": {
           "diverging": [
            [
             0,
             "#8e0152"
            ],
            [
             0.1,
             "#c51b7d"
            ],
            [
             0.2,
             "#de77ae"
            ],
            [
             0.3,
             "#f1b6da"
            ],
            [
             0.4,
             "#fde0ef"
            ],
            [
             0.5,
             "#f7f7f7"
            ],
            [
             0.6,
             "#e6f5d0"
            ],
            [
             0.7,
             "#b8e186"
            ],
            [
             0.8,
             "#7fbc41"
            ],
            [
             0.9,
             "#4d9221"
            ],
            [
             1,
             "#276419"
            ]
           ],
           "sequential": [
            [
             0,
             "#0d0887"
            ],
            [
             0.1111111111111111,
             "#46039f"
            ],
            [
             0.2222222222222222,
             "#7201a8"
            ],
            [
             0.3333333333333333,
             "#9c179e"
            ],
            [
             0.4444444444444444,
             "#bd3786"
            ],
            [
             0.5555555555555556,
             "#d8576b"
            ],
            [
             0.6666666666666666,
             "#ed7953"
            ],
            [
             0.7777777777777778,
             "#fb9f3a"
            ],
            [
             0.8888888888888888,
             "#fdca26"
            ],
            [
             1,
             "#f0f921"
            ]
           ],
           "sequentialminus": [
            [
             0,
             "#0d0887"
            ],
            [
             0.1111111111111111,
             "#46039f"
            ],
            [
             0.2222222222222222,
             "#7201a8"
            ],
            [
             0.3333333333333333,
             "#9c179e"
            ],
            [
             0.4444444444444444,
             "#bd3786"
            ],
            [
             0.5555555555555556,
             "#d8576b"
            ],
            [
             0.6666666666666666,
             "#ed7953"
            ],
            [
             0.7777777777777778,
             "#fb9f3a"
            ],
            [
             0.8888888888888888,
             "#fdca26"
            ],
            [
             1,
             "#f0f921"
            ]
           ]
          },
          "colorway": [
           "#636efa",
           "#EF553B",
           "#00cc96",
           "#ab63fa",
           "#FFA15A",
           "#19d3f3",
           "#FF6692",
           "#B6E880",
           "#FF97FF",
           "#FECB52"
          ],
          "font": {
           "color": "#2a3f5f"
          },
          "geo": {
           "bgcolor": "white",
           "lakecolor": "white",
           "landcolor": "#E5ECF6",
           "showlakes": true,
           "showland": true,
           "subunitcolor": "white"
          },
          "hoverlabel": {
           "align": "left"
          },
          "hovermode": "closest",
          "mapbox": {
           "style": "light"
          },
          "paper_bgcolor": "white",
          "plot_bgcolor": "#E5ECF6",
          "polar": {
           "angularaxis": {
            "gridcolor": "white",
            "linecolor": "white",
            "ticks": ""
           },
           "bgcolor": "#E5ECF6",
           "radialaxis": {
            "gridcolor": "white",
            "linecolor": "white",
            "ticks": ""
           }
          },
          "scene": {
           "xaxis": {
            "backgroundcolor": "#E5ECF6",
            "gridcolor": "white",
            "gridwidth": 2,
            "linecolor": "white",
            "showbackground": true,
            "ticks": "",
            "zerolinecolor": "white"
           },
           "yaxis": {
            "backgroundcolor": "#E5ECF6",
            "gridcolor": "white",
            "gridwidth": 2,
            "linecolor": "white",
            "showbackground": true,
            "ticks": "",
            "zerolinecolor": "white"
           },
           "zaxis": {
            "backgroundcolor": "#E5ECF6",
            "gridcolor": "white",
            "gridwidth": 2,
            "linecolor": "white",
            "showbackground": true,
            "ticks": "",
            "zerolinecolor": "white"
           }
          },
          "shapedefaults": {
           "line": {
            "color": "#2a3f5f"
           }
          },
          "ternary": {
           "aaxis": {
            "gridcolor": "white",
            "linecolor": "white",
            "ticks": ""
           },
           "baxis": {
            "gridcolor": "white",
            "linecolor": "white",
            "ticks": ""
           },
           "bgcolor": "#E5ECF6",
           "caxis": {
            "gridcolor": "white",
            "linecolor": "white",
            "ticks": ""
           }
          },
          "title": {
           "x": 0.05
          },
          "xaxis": {
           "automargin": true,
           "gridcolor": "white",
           "linecolor": "white",
           "ticks": "",
           "title": {
            "standoff": 15
           },
           "zerolinecolor": "white",
           "zerolinewidth": 2
          },
          "yaxis": {
           "automargin": true,
           "gridcolor": "white",
           "linecolor": "white",
           "ticks": "",
           "title": {
            "standoff": 15
           },
           "zerolinecolor": "white",
           "zerolinewidth": 2
          }
         }
        },
        "title": {
         "text": "Forecasted Temprature:"
        },
        "xaxis": {
         "title": {
          "text": "Time"
         }
        },
        "yaxis": {
         "title": {
          "text": "Temprature in Degrees"
         }
        }
       }
      }
     },
     "metadata": {},
     "output_type": "display_data"
    }
   ],
   "source": [
    "forecasted_temp = pd.concat([df1,temp_2018], sort=False).groupby(by='Year')['Temprature'].mean().reset_index()\n",
    "fig = go.Figure(data=[\n",
    "    go.Scatter(name='Yearly Mean Temprature', x=forecasted_temp['Year'], y=forecasted_temp['Temprature'], mode='lines'),\n",
    "    go.Scatter(name='Yearly Mean Temprature', x=forecasted_temp ['Year'], y=forecasted_temp['Temprature'], mode='markers')\n",
    "])\n",
    "fig.update_layout(title='Forecasted Temprature:',\n",
    "                 xaxis_title='Time', yaxis_title='Temprature in Degrees')\n",
    "fig.show()"
   ]
  },
  {
   "cell_type": "markdown",
   "metadata": {},
   "source": [
    "<img src=\"images/2.png\">"
   ]
  }
 ],
 "metadata": {
  "kernelspec": {
   "display_name": "base",
   "language": "python",
   "name": "python3"
  },
  "language_info": {
   "codemirror_mode": {
    "name": "ipython",
    "version": 3
   },
   "file_extension": ".py",
   "mimetype": "text/x-python",
   "name": "python",
   "nbconvert_exporter": "python",
   "pygments_lexer": "ipython3",
   "version": "3.11.7"
  }
 },
 "nbformat": 4,
 "nbformat_minor": 2
}
